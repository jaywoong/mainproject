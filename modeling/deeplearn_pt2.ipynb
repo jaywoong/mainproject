{
  "nbformat": 4,
  "nbformat_minor": 0,
  "metadata": {
    "colab": {
      "name": "deeplearn.ipynb",
      "provenance": [],
      "collapsed_sections": []
    },
    "kernelspec": {
      "name": "python3",
      "display_name": "Python 3"
    },
    "language_info": {
      "name": "python"
    }
  },
  "cells": [
    {
      "cell_type": "code",
      "metadata": {
        "colab": {
          "base_uri": "https://localhost:8080/"
        },
        "id": "dzhATTc3qK69",
        "outputId": "d45be3f2-f7b7-44f0-a2b8-071826c5a06a"
      },
      "source": [
        "!python -m pip install finance-datareader\n",
        "\n",
        "import os\n",
        "import numpy as np\n",
        "import pandas as pd\n",
        "import tensorflow as tf\n",
        "import FinanceDataReader as fdr\n",
        "from sklearn.preprocessing import MinMaxScaler\n",
        "from sklearn.model_selection import train_test_split"
      ],
      "execution_count": null,
      "outputs": [
        {
          "output_type": "stream",
          "name": "stdout",
          "text": [
            "Collecting finance-datareader\n",
            "  Downloading finance_datareader-0.9.31-py3-none-any.whl (17 kB)\n",
            "Requirement already satisfied: pandas>=0.19.2 in /usr/local/lib/python3.7/dist-packages (from finance-datareader) (1.1.5)\n",
            "Collecting requests-file\n",
            "  Downloading requests_file-1.5.1-py2.py3-none-any.whl (3.7 kB)\n",
            "Requirement already satisfied: lxml in /usr/local/lib/python3.7/dist-packages (from finance-datareader) (4.2.6)\n",
            "Requirement already satisfied: tqdm in /usr/local/lib/python3.7/dist-packages (from finance-datareader) (4.62.0)\n",
            "Requirement already satisfied: requests>=2.3.0 in /usr/local/lib/python3.7/dist-packages (from finance-datareader) (2.23.0)\n",
            "Requirement already satisfied: numpy>=1.15.4 in /usr/local/lib/python3.7/dist-packages (from pandas>=0.19.2->finance-datareader) (1.19.5)\n",
            "Requirement already satisfied: pytz>=2017.2 in /usr/local/lib/python3.7/dist-packages (from pandas>=0.19.2->finance-datareader) (2018.9)\n",
            "Requirement already satisfied: python-dateutil>=2.7.3 in /usr/local/lib/python3.7/dist-packages (from pandas>=0.19.2->finance-datareader) (2.8.2)\n",
            "Requirement already satisfied: six>=1.5 in /usr/local/lib/python3.7/dist-packages (from python-dateutil>=2.7.3->pandas>=0.19.2->finance-datareader) (1.15.0)\n",
            "Requirement already satisfied: urllib3!=1.25.0,!=1.25.1,<1.26,>=1.21.1 in /usr/local/lib/python3.7/dist-packages (from requests>=2.3.0->finance-datareader) (1.24.3)\n",
            "Requirement already satisfied: chardet<4,>=3.0.2 in /usr/local/lib/python3.7/dist-packages (from requests>=2.3.0->finance-datareader) (3.0.4)\n",
            "Requirement already satisfied: idna<3,>=2.5 in /usr/local/lib/python3.7/dist-packages (from requests>=2.3.0->finance-datareader) (2.10)\n",
            "Requirement already satisfied: certifi>=2017.4.17 in /usr/local/lib/python3.7/dist-packages (from requests>=2.3.0->finance-datareader) (2021.5.30)\n",
            "Installing collected packages: requests-file, finance-datareader\n",
            "Successfully installed finance-datareader-0.9.31 requests-file-1.5.1\n"
          ]
        }
      ]
    },
    {
      "cell_type": "code",
      "metadata": {
        "colab": {
          "base_uri": "https://localhost:8080/",
          "height": 419
        },
        "id": "M0EmgRKDqTYI",
        "outputId": "02562d9e-e427-450a-b8a2-3f4bfcebfc05"
      },
      "source": [
        "list_name = './Stock_List.csv'\n",
        "stock_list = pd.read_csv(os.path.join(list_name))\n",
        "stock_list['종목코드'] = stock_list['종목코드'].apply(lambda x : str(x).zfill(6))\n",
        "stock_list"
      ],
      "execution_count": null,
      "outputs": [
        {
          "output_type": "execute_result",
          "data": {
            "text/html": [
              "<div>\n",
              "<style scoped>\n",
              "    .dataframe tbody tr th:only-of-type {\n",
              "        vertical-align: middle;\n",
              "    }\n",
              "\n",
              "    .dataframe tbody tr th {\n",
              "        vertical-align: top;\n",
              "    }\n",
              "\n",
              "    .dataframe thead th {\n",
              "        text-align: right;\n",
              "    }\n",
              "</style>\n",
              "<table border=\"1\" class=\"dataframe\">\n",
              "  <thead>\n",
              "    <tr style=\"text-align: right;\">\n",
              "      <th></th>\n",
              "      <th>종목명</th>\n",
              "      <th>종목코드</th>\n",
              "      <th>상장시장</th>\n",
              "    </tr>\n",
              "  </thead>\n",
              "  <tbody>\n",
              "    <tr>\n",
              "      <th>0</th>\n",
              "      <td>삼성전자</td>\n",
              "      <td>005930</td>\n",
              "      <td>KOSPI</td>\n",
              "    </tr>\n",
              "    <tr>\n",
              "      <th>1</th>\n",
              "      <td>SK하이닉스</td>\n",
              "      <td>000660</td>\n",
              "      <td>KOSPI</td>\n",
              "    </tr>\n",
              "    <tr>\n",
              "      <th>2</th>\n",
              "      <td>NAVER</td>\n",
              "      <td>035420</td>\n",
              "      <td>KOSPI</td>\n",
              "    </tr>\n",
              "    <tr>\n",
              "      <th>3</th>\n",
              "      <td>카카오</td>\n",
              "      <td>035720</td>\n",
              "      <td>KOSPI</td>\n",
              "    </tr>\n",
              "    <tr>\n",
              "      <th>4</th>\n",
              "      <td>삼성바이오로직스</td>\n",
              "      <td>207940</td>\n",
              "      <td>KOSPI</td>\n",
              "    </tr>\n",
              "    <tr>\n",
              "      <th>...</th>\n",
              "      <td>...</td>\n",
              "      <td>...</td>\n",
              "      <td>...</td>\n",
              "    </tr>\n",
              "    <tr>\n",
              "      <th>371</th>\n",
              "      <td>더네이쳐홀딩스</td>\n",
              "      <td>298540</td>\n",
              "      <td>KOSDAQ</td>\n",
              "    </tr>\n",
              "    <tr>\n",
              "      <th>372</th>\n",
              "      <td>코엔텍</td>\n",
              "      <td>029960</td>\n",
              "      <td>KOSDAQ</td>\n",
              "    </tr>\n",
              "    <tr>\n",
              "      <th>373</th>\n",
              "      <td>원익홀딩스</td>\n",
              "      <td>030530</td>\n",
              "      <td>KOSDAQ</td>\n",
              "    </tr>\n",
              "    <tr>\n",
              "      <th>374</th>\n",
              "      <td>웹케시</td>\n",
              "      <td>053580</td>\n",
              "      <td>KOSDAQ</td>\n",
              "    </tr>\n",
              "    <tr>\n",
              "      <th>375</th>\n",
              "      <td>신흥에스이씨</td>\n",
              "      <td>243840</td>\n",
              "      <td>KOSDAQ</td>\n",
              "    </tr>\n",
              "  </tbody>\n",
              "</table>\n",
              "<p>376 rows × 3 columns</p>\n",
              "</div>"
            ],
            "text/plain": [
              "          종목명    종목코드    상장시장\n",
              "0        삼성전자  005930   KOSPI\n",
              "1      SK하이닉스  000660   KOSPI\n",
              "2       NAVER  035420   KOSPI\n",
              "3         카카오  035720   KOSPI\n",
              "4    삼성바이오로직스  207940   KOSPI\n",
              "..        ...     ...     ...\n",
              "371   더네이쳐홀딩스  298540  KOSDAQ\n",
              "372       코엔텍  029960  KOSDAQ\n",
              "373     원익홀딩스  030530  KOSDAQ\n",
              "374       웹케시  053580  KOSDAQ\n",
              "375    신흥에스이씨  243840  KOSDAQ\n",
              "\n",
              "[376 rows x 3 columns]"
            ]
          },
          "metadata": {},
          "execution_count": 2
        }
      ]
    },
    {
      "cell_type": "code",
      "metadata": {
        "colab": {
          "base_uri": "https://localhost:8080/",
          "height": 450
        },
        "id": "fJ4Oz7-cqVZ6",
        "outputId": "cda979d8-c325-47b6-ffe0-2915a5869001"
      },
      "source": [
        "start_date = '20100101'\n",
        "end_date = '20201231'\n",
        "sample_code = '005930'\n",
        "stock = fdr.DataReader(sample_code, start = start_date, end = end_date)\n",
        "stock"
      ],
      "execution_count": null,
      "outputs": [
        {
          "output_type": "execute_result",
          "data": {
            "text/html": [
              "<div>\n",
              "<style scoped>\n",
              "    .dataframe tbody tr th:only-of-type {\n",
              "        vertical-align: middle;\n",
              "    }\n",
              "\n",
              "    .dataframe tbody tr th {\n",
              "        vertical-align: top;\n",
              "    }\n",
              "\n",
              "    .dataframe thead th {\n",
              "        text-align: right;\n",
              "    }\n",
              "</style>\n",
              "<table border=\"1\" class=\"dataframe\">\n",
              "  <thead>\n",
              "    <tr style=\"text-align: right;\">\n",
              "      <th></th>\n",
              "      <th>Open</th>\n",
              "      <th>High</th>\n",
              "      <th>Low</th>\n",
              "      <th>Close</th>\n",
              "      <th>Volume</th>\n",
              "      <th>Change</th>\n",
              "    </tr>\n",
              "    <tr>\n",
              "      <th>Date</th>\n",
              "      <th></th>\n",
              "      <th></th>\n",
              "      <th></th>\n",
              "      <th></th>\n",
              "      <th></th>\n",
              "      <th></th>\n",
              "    </tr>\n",
              "  </thead>\n",
              "  <tbody>\n",
              "    <tr>\n",
              "      <th>2010-01-04</th>\n",
              "      <td>16060</td>\n",
              "      <td>16180</td>\n",
              "      <td>16000</td>\n",
              "      <td>16180</td>\n",
              "      <td>239271</td>\n",
              "      <td>0.012516</td>\n",
              "    </tr>\n",
              "    <tr>\n",
              "      <th>2010-01-05</th>\n",
              "      <td>16520</td>\n",
              "      <td>16580</td>\n",
              "      <td>16300</td>\n",
              "      <td>16440</td>\n",
              "      <td>559219</td>\n",
              "      <td>0.016069</td>\n",
              "    </tr>\n",
              "    <tr>\n",
              "      <th>2010-01-06</th>\n",
              "      <td>16580</td>\n",
              "      <td>16820</td>\n",
              "      <td>16520</td>\n",
              "      <td>16820</td>\n",
              "      <td>459755</td>\n",
              "      <td>0.023114</td>\n",
              "    </tr>\n",
              "    <tr>\n",
              "      <th>2010-01-07</th>\n",
              "      <td>16820</td>\n",
              "      <td>16820</td>\n",
              "      <td>16260</td>\n",
              "      <td>16260</td>\n",
              "      <td>443237</td>\n",
              "      <td>-0.033294</td>\n",
              "    </tr>\n",
              "    <tr>\n",
              "      <th>2010-01-08</th>\n",
              "      <td>16400</td>\n",
              "      <td>16420</td>\n",
              "      <td>16120</td>\n",
              "      <td>16420</td>\n",
              "      <td>295798</td>\n",
              "      <td>0.009840</td>\n",
              "    </tr>\n",
              "    <tr>\n",
              "      <th>...</th>\n",
              "      <td>...</td>\n",
              "      <td>...</td>\n",
              "      <td>...</td>\n",
              "      <td>...</td>\n",
              "      <td>...</td>\n",
              "      <td>...</td>\n",
              "    </tr>\n",
              "    <tr>\n",
              "      <th>2020-12-23</th>\n",
              "      <td>72400</td>\n",
              "      <td>74000</td>\n",
              "      <td>72300</td>\n",
              "      <td>73900</td>\n",
              "      <td>19411326</td>\n",
              "      <td>0.022130</td>\n",
              "    </tr>\n",
              "    <tr>\n",
              "      <th>2020-12-24</th>\n",
              "      <td>74100</td>\n",
              "      <td>78800</td>\n",
              "      <td>74000</td>\n",
              "      <td>77800</td>\n",
              "      <td>32502870</td>\n",
              "      <td>0.052774</td>\n",
              "    </tr>\n",
              "    <tr>\n",
              "      <th>2020-12-28</th>\n",
              "      <td>79000</td>\n",
              "      <td>80100</td>\n",
              "      <td>78200</td>\n",
              "      <td>78700</td>\n",
              "      <td>40085044</td>\n",
              "      <td>0.011568</td>\n",
              "    </tr>\n",
              "    <tr>\n",
              "      <th>2020-12-29</th>\n",
              "      <td>78800</td>\n",
              "      <td>78900</td>\n",
              "      <td>77300</td>\n",
              "      <td>78300</td>\n",
              "      <td>30339449</td>\n",
              "      <td>-0.005083</td>\n",
              "    </tr>\n",
              "    <tr>\n",
              "      <th>2020-12-30</th>\n",
              "      <td>77400</td>\n",
              "      <td>81300</td>\n",
              "      <td>77300</td>\n",
              "      <td>81000</td>\n",
              "      <td>29417421</td>\n",
              "      <td>0.034483</td>\n",
              "    </tr>\n",
              "  </tbody>\n",
              "</table>\n",
              "<p>2714 rows × 6 columns</p>\n",
              "</div>"
            ],
            "text/plain": [
              "             Open   High    Low  Close    Volume    Change\n",
              "Date                                                      \n",
              "2010-01-04  16060  16180  16000  16180    239271  0.012516\n",
              "2010-01-05  16520  16580  16300  16440    559219  0.016069\n",
              "2010-01-06  16580  16820  16520  16820    459755  0.023114\n",
              "2010-01-07  16820  16820  16260  16260    443237 -0.033294\n",
              "2010-01-08  16400  16420  16120  16420    295798  0.009840\n",
              "...           ...    ...    ...    ...       ...       ...\n",
              "2020-12-23  72400  74000  72300  73900  19411326  0.022130\n",
              "2020-12-24  74100  78800  74000  77800  32502870  0.052774\n",
              "2020-12-28  79000  80100  78200  78700  40085044  0.011568\n",
              "2020-12-29  78800  78900  77300  78300  30339449 -0.005083\n",
              "2020-12-30  77400  81300  77300  81000  29417421  0.034483\n",
              "\n",
              "[2714 rows x 6 columns]"
            ]
          },
          "metadata": {},
          "execution_count": 3
        }
      ]
    },
    {
      "cell_type": "code",
      "metadata": {
        "id": "nBvTi7ssqy81"
      },
      "source": [
        "scaler = MinMaxScaler()"
      ],
      "execution_count": null,
      "outputs": []
    },
    {
      "cell_type": "code",
      "metadata": {
        "id": "ck-S2XCeggaZ"
      },
      "source": [
        "scale_cols = ['Open', 'High', 'Low', 'Close', 'Volume']"
      ],
      "execution_count": null,
      "outputs": []
    },
    {
      "cell_type": "code",
      "metadata": {
        "colab": {
          "base_uri": "https://localhost:8080/"
        },
        "id": "i34mT3_tgkew",
        "outputId": "6b82d879-b7f8-4a1c-a902-e634c262d9ab"
      },
      "source": [
        "scaled = scaler.fit_transform(stock[scale_cols])\n",
        "scaled"
      ],
      "execution_count": null,
      "outputs": [
        {
          "output_type": "execute_result",
          "data": {
            "text/plain": [
              "array([[0.20329114, 0.19901599, 0.20460358, 0.03827893, 0.00376857],\n",
              "       [0.20911392, 0.20393604, 0.2084399 , 0.0421365 , 0.00880783],\n",
              "       [0.20987342, 0.20688807, 0.2112532 , 0.04777448, 0.00724125],\n",
              "       ...,\n",
              "       [1.        , 0.98523985, 1.        , 0.96587537, 0.63134893],\n",
              "       [0.99746835, 0.9704797 , 0.98849105, 0.95994065, 0.47785351],\n",
              "       [0.97974684, 1.        , 0.98849105, 1.        , 0.46333135]])"
            ]
          },
          "metadata": {},
          "execution_count": 6
        }
      ]
    },
    {
      "cell_type": "code",
      "metadata": {
        "id": "nR3fGo6tg0CA"
      },
      "source": [
        "df = pd.DataFrame(scaled, columns=scale_cols)"
      ],
      "execution_count": null,
      "outputs": []
    },
    {
      "cell_type": "code",
      "metadata": {
        "id": "uqic_mnxg8PZ"
      },
      "source": [
        "x_train, x_test, y_train, y_test = train_test_split(df.drop('Close', 1), df['Close'], test_size=0.2, random_state=0, shuffle=False)"
      ],
      "execution_count": null,
      "outputs": []
    },
    {
      "cell_type": "code",
      "metadata": {
        "colab": {
          "base_uri": "https://localhost:8080/"
        },
        "id": "nz2QRQogp0lG",
        "outputId": "5bbd6581-efe3-423d-9de2-3c33e9aa5eb2"
      },
      "source": [
        "x_train.shape, y_train.shape, x_test.shape, y_test.shape"
      ],
      "execution_count": null,
      "outputs": [
        {
          "output_type": "execute_result",
          "data": {
            "text/plain": [
              "((2171, 4), (2171,), (543, 4), (543,))"
            ]
          },
          "metadata": {},
          "execution_count": 9
        }
      ]
    },
    {
      "cell_type": "code",
      "metadata": {
        "id": "n0BppmEfqY9l"
      },
      "source": [
        "def windowed_dataset(series, window_size, batch_size, shuffle):\n",
        "    series = tf.expand_dims(series, axis=-1)\n",
        "    ds = tf.data.Dataset.from_tensor_slices(series)\n",
        "    ds = ds.window(window_size + 1, shift=1, drop_remainder=True)\n",
        "    ds = ds.flat_map(lambda w: w.batch(window_size + 1))\n",
        "    if shuffle:\n",
        "        ds = ds.shuffle(1000)\n",
        "    ds = ds.map(lambda w: (w[:-1], w[-1]))\n",
        "    return ds.batch(batch_size).prefetch(1)"
      ],
      "execution_count": null,
      "outputs": []
    },
    {
      "cell_type": "code",
      "metadata": {
        "id": "fJiIEjgXreit"
      },
      "source": [
        "WINDOW_SIZE=20\n",
        "BATCH_SIZE=32"
      ],
      "execution_count": null,
      "outputs": []
    },
    {
      "cell_type": "code",
      "metadata": {
        "id": "oUPPxsgHBO4x"
      },
      "source": [
        "train_data = windowed_dataset(y_train, WINDOW_SIZE, BATCH_SIZE, True)\n",
        "test_data = windowed_dataset(y_test, WINDOW_SIZE, BATCH_SIZE, False)"
      ],
      "execution_count": null,
      "outputs": []
    },
    {
      "cell_type": "code",
      "metadata": {
        "colab": {
          "base_uri": "https://localhost:8080/"
        },
        "id": "THkrX8mbBQWZ",
        "outputId": "cee02083-0dc9-4573-b36e-0e71356717cf"
      },
      "source": [
        "for data in train_data.take(1):\n",
        "    print(f'데이터셋(X) 구성(batch_size, window_size, feature갯수): {data[0].shape}')\n",
        "    print(f'데이터셋(Y) 구성(batch_size, window_size, feature갯수): {data[1].shape}')"
      ],
      "execution_count": null,
      "outputs": [
        {
          "output_type": "stream",
          "name": "stdout",
          "text": [
            "데이터셋(X) 구성(batch_size, window_size, feature갯수): (32, 20, 1)\n",
            "데이터셋(Y) 구성(batch_size, window_size, feature갯수): (32, 1)\n"
          ]
        }
      ]
    },
    {
      "cell_type": "code",
      "metadata": {
        "id": "QWEX5ha6BR8J"
      },
      "source": [
        "from tensorflow.keras.models import Sequential\n",
        "from tensorflow.keras.layers import Dense, LSTM, Conv1D, Lambda\n",
        "from tensorflow.keras.losses import Huber\n",
        "from tensorflow.keras.optimizers import Adam\n",
        "from tensorflow.keras.callbacks import EarlyStopping, ModelCheckpoint\n",
        "\n",
        "\n",
        "model = Sequential([\n",
        "    # 1차원 feature map 생성\n",
        "    Conv1D(filters=32, kernel_size=5,\n",
        "           padding=\"causal\",\n",
        "           activation=\"relu\",\n",
        "           input_shape=[WINDOW_SIZE, 1]),\n",
        "    # LSTM\n",
        "    LSTM(16, activation='tanh'),\n",
        "    Dense(16, activation=\"relu\"),\n",
        "    Dense(1),\n",
        "])"
      ],
      "execution_count": null,
      "outputs": []
    },
    {
      "cell_type": "code",
      "metadata": {
        "id": "pnhtGKdWBUyR"
      },
      "source": [
        "loss = Huber()\n",
        "optimizer = Adam(0.0005)\n",
        "model.compile(loss=Huber(), optimizer=optimizer, metrics=['mse'])"
      ],
      "execution_count": null,
      "outputs": []
    },
    {
      "cell_type": "code",
      "metadata": {
        "id": "QAmDqI80BWNp"
      },
      "source": [
        "earlystopping = EarlyStopping(monitor='val_loss', patience=10)\n",
        "filename = os.path.join('tmp', 'ckeckpointer.ckpt')\n",
        "checkpoint = ModelCheckpoint(filename, \n",
        "                             save_weights_only=True, \n",
        "                             save_best_only=True, \n",
        "                             monitor='val_loss', \n",
        "                             verbose=1)"
      ],
      "execution_count": null,
      "outputs": []
    },
    {
      "cell_type": "code",
      "metadata": {
        "colab": {
          "base_uri": "https://localhost:8080/"
        },
        "id": "Os6VBGuIBXx5",
        "outputId": "48c3c381-87bc-410b-8f08-4590b8bbe0ec"
      },
      "source": [
        "history = model.fit(train_data, \n",
        "                    validation_data=(test_data), \n",
        "                    epochs=30, \n",
        "                    callbacks=[checkpoint, earlystopping])"
      ],
      "execution_count": null,
      "outputs": [
        {
          "output_type": "stream",
          "name": "stdout",
          "text": [
            "Epoch 1/30\n",
            "68/68 [==============================] - 4s 19ms/step - loss: 0.0082 - mse: 0.0165 - val_loss: 0.0049 - val_mse: 0.0098\n",
            "\n",
            "Epoch 00001: val_loss improved from inf to 0.00488, saving model to tmp/ckeckpointer.ckpt\n",
            "Epoch 2/30\n",
            "68/68 [==============================] - 1s 11ms/step - loss: 4.7359e-04 - mse: 9.4718e-04 - val_loss: 7.1330e-04 - val_mse: 0.0014\n",
            "\n",
            "Epoch 00002: val_loss improved from 0.00488 to 0.00071, saving model to tmp/ckeckpointer.ckpt\n",
            "Epoch 3/30\n",
            "68/68 [==============================] - 1s 12ms/step - loss: 1.1397e-04 - mse: 2.2794e-04 - val_loss: 8.5658e-04 - val_mse: 0.0017\n",
            "\n",
            "Epoch 00003: val_loss did not improve from 0.00071\n",
            "Epoch 4/30\n",
            "68/68 [==============================] - 1s 13ms/step - loss: 1.0270e-04 - mse: 2.0540e-04 - val_loss: 7.2426e-04 - val_mse: 0.0014\n",
            "\n",
            "Epoch 00004: val_loss did not improve from 0.00071\n",
            "Epoch 5/30\n",
            "68/68 [==============================] - 1s 12ms/step - loss: 9.7458e-05 - mse: 1.9492e-04 - val_loss: 8.2735e-04 - val_mse: 0.0017\n",
            "\n",
            "Epoch 00005: val_loss did not improve from 0.00071\n",
            "Epoch 6/30\n",
            "68/68 [==============================] - 1s 12ms/step - loss: 1.0152e-04 - mse: 2.0305e-04 - val_loss: 7.3240e-04 - val_mse: 0.0015\n",
            "\n",
            "Epoch 00006: val_loss did not improve from 0.00071\n",
            "Epoch 7/30\n",
            "68/68 [==============================] - 1s 12ms/step - loss: 9.6880e-05 - mse: 1.9376e-04 - val_loss: 8.1125e-04 - val_mse: 0.0016\n",
            "\n",
            "Epoch 00007: val_loss did not improve from 0.00071\n",
            "Epoch 8/30\n",
            "68/68 [==============================] - 1s 12ms/step - loss: 9.7261e-05 - mse: 1.9452e-04 - val_loss: 6.3148e-04 - val_mse: 0.0013\n",
            "\n",
            "Epoch 00008: val_loss improved from 0.00071 to 0.00063, saving model to tmp/ckeckpointer.ckpt\n",
            "Epoch 9/30\n",
            "68/68 [==============================] - 1s 11ms/step - loss: 9.4778e-05 - mse: 1.8956e-04 - val_loss: 6.5929e-04 - val_mse: 0.0013\n",
            "\n",
            "Epoch 00009: val_loss did not improve from 0.00063\n",
            "Epoch 10/30\n",
            "68/68 [==============================] - 1s 12ms/step - loss: 9.4064e-05 - mse: 1.8813e-04 - val_loss: 6.8591e-04 - val_mse: 0.0014\n",
            "\n",
            "Epoch 00010: val_loss did not improve from 0.00063\n",
            "Epoch 11/30\n",
            "68/68 [==============================] - 1s 11ms/step - loss: 9.3176e-05 - mse: 1.8635e-04 - val_loss: 6.6999e-04 - val_mse: 0.0013\n",
            "\n",
            "Epoch 00011: val_loss did not improve from 0.00063\n",
            "Epoch 12/30\n",
            "68/68 [==============================] - 1s 12ms/step - loss: 9.2210e-05 - mse: 1.8442e-04 - val_loss: 6.2010e-04 - val_mse: 0.0012\n",
            "\n",
            "Epoch 00012: val_loss improved from 0.00063 to 0.00062, saving model to tmp/ckeckpointer.ckpt\n",
            "Epoch 13/30\n",
            "68/68 [==============================] - 1s 12ms/step - loss: 9.2767e-05 - mse: 1.8553e-04 - val_loss: 6.2513e-04 - val_mse: 0.0013\n",
            "\n",
            "Epoch 00013: val_loss did not improve from 0.00062\n",
            "Epoch 14/30\n",
            "68/68 [==============================] - 1s 12ms/step - loss: 9.1320e-05 - mse: 1.8264e-04 - val_loss: 6.4496e-04 - val_mse: 0.0013\n",
            "\n",
            "Epoch 00014: val_loss did not improve from 0.00062\n",
            "Epoch 15/30\n",
            "68/68 [==============================] - 1s 12ms/step - loss: 8.6984e-05 - mse: 1.7397e-04 - val_loss: 5.6749e-04 - val_mse: 0.0011\n",
            "\n",
            "Epoch 00015: val_loss improved from 0.00062 to 0.00057, saving model to tmp/ckeckpointer.ckpt\n",
            "Epoch 16/30\n",
            "68/68 [==============================] - 1s 12ms/step - loss: 8.6732e-05 - mse: 1.7346e-04 - val_loss: 5.5298e-04 - val_mse: 0.0011\n",
            "\n",
            "Epoch 00016: val_loss improved from 0.00057 to 0.00055, saving model to tmp/ckeckpointer.ckpt\n",
            "Epoch 17/30\n",
            "68/68 [==============================] - 1s 12ms/step - loss: 9.1604e-05 - mse: 1.8321e-04 - val_loss: 5.2897e-04 - val_mse: 0.0011\n",
            "\n",
            "Epoch 00017: val_loss improved from 0.00055 to 0.00053, saving model to tmp/ckeckpointer.ckpt\n",
            "Epoch 18/30\n",
            "68/68 [==============================] - 1s 12ms/step - loss: 8.2772e-05 - mse: 1.6554e-04 - val_loss: 5.0466e-04 - val_mse: 0.0010\n",
            "\n",
            "Epoch 00018: val_loss improved from 0.00053 to 0.00050, saving model to tmp/ckeckpointer.ckpt\n",
            "Epoch 19/30\n",
            "68/68 [==============================] - 1s 12ms/step - loss: 8.2921e-05 - mse: 1.6584e-04 - val_loss: 5.9295e-04 - val_mse: 0.0012\n",
            "\n",
            "Epoch 00019: val_loss did not improve from 0.00050\n",
            "Epoch 20/30\n",
            "68/68 [==============================] - 1s 12ms/step - loss: 7.9697e-05 - mse: 1.5939e-04 - val_loss: 5.9434e-04 - val_mse: 0.0012\n",
            "\n",
            "Epoch 00020: val_loss did not improve from 0.00050\n",
            "Epoch 21/30\n",
            "68/68 [==============================] - 1s 12ms/step - loss: 7.7584e-05 - mse: 1.5517e-04 - val_loss: 5.3026e-04 - val_mse: 0.0011\n",
            "\n",
            "Epoch 00021: val_loss did not improve from 0.00050\n",
            "Epoch 22/30\n",
            "68/68 [==============================] - 1s 11ms/step - loss: 7.8439e-05 - mse: 1.5688e-04 - val_loss: 5.8406e-04 - val_mse: 0.0012\n",
            "\n",
            "Epoch 00022: val_loss did not improve from 0.00050\n",
            "Epoch 23/30\n",
            "68/68 [==============================] - 1s 12ms/step - loss: 7.6048e-05 - mse: 1.5210e-04 - val_loss: 4.6091e-04 - val_mse: 9.2181e-04\n",
            "\n",
            "Epoch 00023: val_loss improved from 0.00050 to 0.00046, saving model to tmp/ckeckpointer.ckpt\n",
            "Epoch 24/30\n",
            "68/68 [==============================] - 1s 12ms/step - loss: 7.6278e-05 - mse: 1.5256e-04 - val_loss: 4.3537e-04 - val_mse: 8.7074e-04\n",
            "\n",
            "Epoch 00024: val_loss improved from 0.00046 to 0.00044, saving model to tmp/ckeckpointer.ckpt\n",
            "Epoch 25/30\n",
            "68/68 [==============================] - 1s 12ms/step - loss: 7.5938e-05 - mse: 1.5188e-04 - val_loss: 4.6709e-04 - val_mse: 9.3417e-04\n",
            "\n",
            "Epoch 00025: val_loss did not improve from 0.00044\n",
            "Epoch 26/30\n",
            "68/68 [==============================] - 1s 12ms/step - loss: 6.9882e-05 - mse: 1.3976e-04 - val_loss: 4.8209e-04 - val_mse: 9.6419e-04\n",
            "\n",
            "Epoch 00026: val_loss did not improve from 0.00044\n",
            "Epoch 27/30\n",
            "68/68 [==============================] - 1s 12ms/step - loss: 7.0573e-05 - mse: 1.4115e-04 - val_loss: 4.0207e-04 - val_mse: 8.0414e-04\n",
            "\n",
            "Epoch 00027: val_loss improved from 0.00044 to 0.00040, saving model to tmp/ckeckpointer.ckpt\n",
            "Epoch 28/30\n",
            "68/68 [==============================] - 1s 12ms/step - loss: 7.3253e-05 - mse: 1.4651e-04 - val_loss: 3.8892e-04 - val_mse: 7.7784e-04\n",
            "\n",
            "Epoch 00028: val_loss improved from 0.00040 to 0.00039, saving model to tmp/ckeckpointer.ckpt\n",
            "Epoch 29/30\n",
            "68/68 [==============================] - 1s 11ms/step - loss: 6.9016e-05 - mse: 1.3803e-04 - val_loss: 4.3648e-04 - val_mse: 8.7295e-04\n",
            "\n",
            "Epoch 00029: val_loss did not improve from 0.00039\n",
            "Epoch 30/30\n",
            "68/68 [==============================] - 1s 12ms/step - loss: 6.8795e-05 - mse: 1.3759e-04 - val_loss: 4.2955e-04 - val_mse: 8.5911e-04\n",
            "\n",
            "Epoch 00030: val_loss did not improve from 0.00039\n"
          ]
        }
      ]
    },
    {
      "cell_type": "code",
      "metadata": {
        "colab": {
          "base_uri": "https://localhost:8080/"
        },
        "id": "QeMk91dRBZEh",
        "outputId": "43782986-cb4a-49fe-9437-b6a7f77b0a94"
      },
      "source": [
        "model.load_weights(filename)"
      ],
      "execution_count": null,
      "outputs": [
        {
          "output_type": "execute_result",
          "data": {
            "text/plain": [
              "<tensorflow.python.training.tracking.util.CheckpointLoadStatus at 0x7f201c459150>"
            ]
          },
          "metadata": {},
          "execution_count": 18
        }
      ]
    },
    {
      "cell_type": "code",
      "metadata": {
        "id": "KG1u4GL2BeGJ"
      },
      "source": [
        "pred = model.predict(test_data)"
      ],
      "execution_count": null,
      "outputs": []
    },
    {
      "cell_type": "code",
      "metadata": {
        "colab": {
          "base_uri": "https://localhost:8080/"
        },
        "id": "ZwB-DmuSBfia",
        "outputId": "c8155c13-751e-4d34-d693-cb095ddb6a1c"
      },
      "source": [
        "pred.shape"
      ],
      "execution_count": null,
      "outputs": [
        {
          "output_type": "execute_result",
          "data": {
            "text/plain": [
              "(523, 1)"
            ]
          },
          "metadata": {},
          "execution_count": 20
        }
      ]
    },
    {
      "cell_type": "code",
      "metadata": {
        "colab": {
          "base_uri": "https://localhost:8080/",
          "height": 537
        },
        "id": "YQJy7ajOBgzh",
        "outputId": "02dbbc31-f22d-4a5a-cd8c-6407014fdb84"
      },
      "source": [
        "import matplotlib.pyplot as plt\n",
        "plt.figure(figsize=(12, 9))\n",
        "plt.plot(np.asarray(y_test)[20:], label='actual')\n",
        "plt.plot(pred, label='prediction')\n",
        "plt.legend()\n",
        "plt.show()"
      ],
      "execution_count": null,
      "outputs": [
        {
          "output_type": "display_data",
          "data": {
            "image/png": "[encoded data removed]",
            "text/plain": [
              "<Figure size 864x648 with 1 Axes>"
            ]
          },
          "metadata": {
            "needs_background": "light"
          }
        }
      ]
    },
    {
      "cell_type": "markdown",
      "metadata": {
        "id": "ZnJBSxJXT6sT"
      },
      "source": [
        "# 수집한 데이터"
      ]
    },
    {
      "cell_type": "code",
      "metadata": {
        "id": "d-ww6k5PBiVB",
        "colab": {
          "base_uri": "https://localhost:8080/",
          "height": 626
        },
        "outputId": "22eb0595-cf98-46e5-ac3d-a737b9b5b8d9"
      },
      "source": [
        "data = pd.read_excel('./samsung3.xlsx')\n",
        "data"
      ],
      "execution_count": null,
      "outputs": [
        {
          "output_type": "execute_result",
          "data": {
            "text/html": [
              "<div>\n",
              "<style scoped>\n",
              "    .dataframe tbody tr th:only-of-type {\n",
              "        vertical-align: middle;\n",
              "    }\n",
              "\n",
              "    .dataframe tbody tr th {\n",
              "        vertical-align: top;\n",
              "    }\n",
              "\n",
              "    .dataframe thead th {\n",
              "        text-align: right;\n",
              "    }\n",
              "</style>\n",
              "<table border=\"1\" class=\"dataframe\">\n",
              "  <thead>\n",
              "    <tr style=\"text-align: right;\">\n",
              "      <th></th>\n",
              "      <th>DATE</th>\n",
              "      <th>거래량</th>\n",
              "      <th>PER</th>\n",
              "      <th>PBR</th>\n",
              "      <th>기관 합계</th>\n",
              "      <th>기타법인</th>\n",
              "      <th>개인</th>\n",
              "      <th>외국인 합계</th>\n",
              "      <th>ATR</th>\n",
              "      <th>NASDAQ</th>\n",
              "      <th>S&amp;P</th>\n",
              "      <th>CBOE</th>\n",
              "      <th>Exchange rate</th>\n",
              "      <th>futures2y</th>\n",
              "      <th>futures10y</th>\n",
              "      <th>y</th>\n",
              "    </tr>\n",
              "  </thead>\n",
              "  <tbody>\n",
              "    <tr>\n",
              "      <th>0</th>\n",
              "      <td>2011-09-01</td>\n",
              "      <td>35870550</td>\n",
              "      <td>7.27</td>\n",
              "      <td>1.24</td>\n",
              "      <td>-83833734000</td>\n",
              "      <td>-8749641000</td>\n",
              "      <td>-177822918000</td>\n",
              "      <td>270406293000</td>\n",
              "      <td>880</td>\n",
              "      <td>2546.0</td>\n",
              "      <td>1204.42</td>\n",
              "      <td>31.82</td>\n",
              "      <td>1064.40</td>\n",
              "      <td>110.28</td>\n",
              "      <td>130.61</td>\n",
              "      <td>15420</td>\n",
              "    </tr>\n",
              "    <tr>\n",
              "      <th>1</th>\n",
              "      <td>2011-09-02</td>\n",
              "      <td>12934100</td>\n",
              "      <td>7.26</td>\n",
              "      <td>1.23</td>\n",
              "      <td>-7185878000</td>\n",
              "      <td>2125969000</td>\n",
              "      <td>-11377060000</td>\n",
              "      <td>16436969000</td>\n",
              "      <td>1000</td>\n",
              "      <td>2480.3</td>\n",
              "      <td>1173.97</td>\n",
              "      <td>33.92</td>\n",
              "      <td>1065.60</td>\n",
              "      <td>110.25</td>\n",
              "      <td>131.30</td>\n",
              "      <td>15380</td>\n",
              "    </tr>\n",
              "    <tr>\n",
              "      <th>2</th>\n",
              "      <td>2011-09-05</td>\n",
              "      <td>13874400</td>\n",
              "      <td>6.90</td>\n",
              "      <td>1.17</td>\n",
              "      <td>-975699000</td>\n",
              "      <td>-215641000</td>\n",
              "      <td>29370756000</td>\n",
              "      <td>-28179416000</td>\n",
              "      <td>580</td>\n",
              "      <td>2480.3</td>\n",
              "      <td>1173.97</td>\n",
              "      <td>33.92</td>\n",
              "      <td>1065.60</td>\n",
              "      <td>110.25</td>\n",
              "      <td>131.30</td>\n",
              "      <td>14620</td>\n",
              "    </tr>\n",
              "    <tr>\n",
              "      <th>3</th>\n",
              "      <td>2011-09-06</td>\n",
              "      <td>13225250</td>\n",
              "      <td>6.86</td>\n",
              "      <td>1.17</td>\n",
              "      <td>2349662000</td>\n",
              "      <td>-1299409000</td>\n",
              "      <td>13839817000</td>\n",
              "      <td>-14890070000</td>\n",
              "      <td>1260</td>\n",
              "      <td>2473.8</td>\n",
              "      <td>1165.24</td>\n",
              "      <td>37.00</td>\n",
              "      <td>1074.65</td>\n",
              "      <td>110.27</td>\n",
              "      <td>131.22</td>\n",
              "      <td>14540</td>\n",
              "    </tr>\n",
              "    <tr>\n",
              "      <th>4</th>\n",
              "      <td>2011-09-07</td>\n",
              "      <td>17575200</td>\n",
              "      <td>7.29</td>\n",
              "      <td>1.24</td>\n",
              "      <td>113232351000</td>\n",
              "      <td>1123519000</td>\n",
              "      <td>-77907268000</td>\n",
              "      <td>-36448602000</td>\n",
              "      <td>1300</td>\n",
              "      <td>2548.9</td>\n",
              "      <td>1198.62</td>\n",
              "      <td>33.38</td>\n",
              "      <td>1069.65</td>\n",
              "      <td>110.27</td>\n",
              "      <td>130.89</td>\n",
              "      <td>15460</td>\n",
              "    </tr>\n",
              "    <tr>\n",
              "      <th>...</th>\n",
              "      <td>...</td>\n",
              "      <td>...</td>\n",
              "      <td>...</td>\n",
              "      <td>...</td>\n",
              "      <td>...</td>\n",
              "      <td>...</td>\n",
              "      <td>...</td>\n",
              "      <td>...</td>\n",
              "      <td>...</td>\n",
              "      <td>...</td>\n",
              "      <td>...</td>\n",
              "      <td>...</td>\n",
              "      <td>...</td>\n",
              "      <td>...</td>\n",
              "      <td>...</td>\n",
              "      <td>...</td>\n",
              "    </tr>\n",
              "    <tr>\n",
              "      <th>2456</th>\n",
              "      <td>2021-08-25</td>\n",
              "      <td>22319664</td>\n",
              "      <td>19.71</td>\n",
              "      <td>1.92</td>\n",
              "      <td>-76990474100</td>\n",
              "      <td>-8894667500</td>\n",
              "      <td>82373232300</td>\n",
              "      <td>3511909300</td>\n",
              "      <td>2000</td>\n",
              "      <td>15041.9</td>\n",
              "      <td>4496.19</td>\n",
              "      <td>16.79</td>\n",
              "      <td>1163.87</td>\n",
              "      <td>110.25</td>\n",
              "      <td>133.63</td>\n",
              "      <td>75700</td>\n",
              "    </tr>\n",
              "    <tr>\n",
              "      <th>2457</th>\n",
              "      <td>2021-08-26</td>\n",
              "      <td>16671494</td>\n",
              "      <td>19.42</td>\n",
              "      <td>1.89</td>\n",
              "      <td>-55566537800</td>\n",
              "      <td>9344981600</td>\n",
              "      <td>142574757300</td>\n",
              "      <td>-96353201100</td>\n",
              "      <td>1900</td>\n",
              "      <td>14945.8</td>\n",
              "      <td>4469.91</td>\n",
              "      <td>18.84</td>\n",
              "      <td>1170.53</td>\n",
              "      <td>110.25</td>\n",
              "      <td>133.59</td>\n",
              "      <td>74600</td>\n",
              "    </tr>\n",
              "    <tr>\n",
              "      <th>2458</th>\n",
              "      <td>2021-08-27</td>\n",
              "      <td>15172748</td>\n",
              "      <td>19.34</td>\n",
              "      <td>1.89</td>\n",
              "      <td>173118394100</td>\n",
              "      <td>10372274300</td>\n",
              "      <td>1510887500</td>\n",
              "      <td>-185001555900</td>\n",
              "      <td>1200</td>\n",
              "      <td>15129.5</td>\n",
              "      <td>4509.37</td>\n",
              "      <td>16.39</td>\n",
              "      <td>1161.23</td>\n",
              "      <td>110.30</td>\n",
              "      <td>133.89</td>\n",
              "      <td>74300</td>\n",
              "    </tr>\n",
              "    <tr>\n",
              "      <th>2459</th>\n",
              "      <td>2021-08-30</td>\n",
              "      <td>12686999</td>\n",
              "      <td>19.42</td>\n",
              "      <td>1.89</td>\n",
              "      <td>24586418600</td>\n",
              "      <td>-2401179400</td>\n",
              "      <td>54715193800</td>\n",
              "      <td>-76900433000</td>\n",
              "      <td>2500</td>\n",
              "      <td>15265.9</td>\n",
              "      <td>4528.79</td>\n",
              "      <td>16.19</td>\n",
              "      <td>1164.34</td>\n",
              "      <td>110.32</td>\n",
              "      <td>134.13</td>\n",
              "      <td>74600</td>\n",
              "    </tr>\n",
              "    <tr>\n",
              "      <th>2460</th>\n",
              "      <td>2021-08-31</td>\n",
              "      <td>24630370</td>\n",
              "      <td>19.97</td>\n",
              "      <td>1.95</td>\n",
              "      <td>-153079724000</td>\n",
              "      <td>7948320600</td>\n",
              "      <td>-214935849500</td>\n",
              "      <td>360067252900</td>\n",
              "      <td>2500</td>\n",
              "      <td>15259.2</td>\n",
              "      <td>4522.68</td>\n",
              "      <td>16.48</td>\n",
              "      <td>1158.73</td>\n",
              "      <td>110.32</td>\n",
              "      <td>134.05</td>\n",
              "      <td>76700</td>\n",
              "    </tr>\n",
              "  </tbody>\n",
              "</table>\n",
              "<p>2461 rows × 16 columns</p>\n",
              "</div>"
            ],
            "text/plain": [
              "           DATE       거래량    PER  ...  futures2y  futures10y      y\n",
              "0    2011-09-01  35870550   7.27  ...     110.28      130.61  15420\n",
              "1    2011-09-02  12934100   7.26  ...     110.25      131.30  15380\n",
              "2    2011-09-05  13874400   6.90  ...     110.25      131.30  14620\n",
              "3    2011-09-06  13225250   6.86  ...     110.27      131.22  14540\n",
              "4    2011-09-07  17575200   7.29  ...     110.27      130.89  15460\n",
              "...         ...       ...    ...  ...        ...         ...    ...\n",
              "2456 2021-08-25  22319664  19.71  ...     110.25      133.63  75700\n",
              "2457 2021-08-26  16671494  19.42  ...     110.25      133.59  74600\n",
              "2458 2021-08-27  15172748  19.34  ...     110.30      133.89  74300\n",
              "2459 2021-08-30  12686999  19.42  ...     110.32      134.13  74600\n",
              "2460 2021-08-31  24630370  19.97  ...     110.32      134.05  76700\n",
              "\n",
              "[2461 rows x 16 columns]"
            ]
          },
          "metadata": {},
          "execution_count": 47
        }
      ]
    },
    {
      "cell_type": "code",
      "metadata": {
        "id": "7INm1u1sTtQH"
      },
      "source": [
        "scaler = MinMaxScaler()"
      ],
      "execution_count": null,
      "outputs": []
    },
    {
      "cell_type": "code",
      "metadata": {
        "id": "LlyJbMMvT5Wv"
      },
      "source": [
        "scale_cols = ['거래량', 'PER', 'PBR', '기관 합계', '기타법인', '개인', '외국인 합계', 'ATR', 'NASDAQ', 'S&P', 'CBOE', 'Exchange rate', 'futures2y', 'futures10y', 'y']"
      ],
      "execution_count": null,
      "outputs": []
    },
    {
      "cell_type": "code",
      "metadata": {
        "colab": {
          "base_uri": "https://localhost:8080/"
        },
        "id": "QufpuJmUUfW2",
        "outputId": "b8b563fe-135d-4beb-9a20-cccc14dd880a"
      },
      "source": [
        "scaled = scaler.fit_transform(data[scale_cols])\n",
        "scaled"
      ],
      "execution_count": null,
      "outputs": [
        {
          "output_type": "execute_result",
          "data": {
            "text/plain": [
              "array([[0.37435295, 0.07735281, 0.07361963, ..., 0.95700935, 0.57105031,\n",
              "        0.01150929],\n",
              "       [0.11073659, 0.07692308, 0.06748466, ..., 0.95140187, 0.60150044,\n",
              "        0.01098614],\n",
              "       [0.12154377, 0.06145251, 0.03067485, ..., 0.95140187, 0.60150044,\n",
              "        0.0010463 ],\n",
              "       ...,\n",
              "       [0.13646612, 0.59604641, 0.47239264, ..., 0.96074766, 0.71579876,\n",
              "        0.78158514],\n",
              "       [0.10789657, 0.59948431, 0.47239264, ..., 0.96448598, 0.72639011,\n",
              "        0.78550876],\n",
              "       [0.24516577, 0.6231199 , 0.50920245, ..., 0.96448598, 0.72285966,\n",
              "        0.8129741 ]])"
            ]
          },
          "metadata": {},
          "execution_count": 50
        }
      ]
    },
    {
      "cell_type": "code",
      "metadata": {
        "id": "4sdnuwYIUh8u"
      },
      "source": [
        "df = pd.DataFrame(scaled, columns=scale_cols)"
      ],
      "execution_count": null,
      "outputs": []
    },
    {
      "cell_type": "code",
      "metadata": {
        "id": "Qed_t_AeV9ZH"
      },
      "source": [
        "x_train, x_test, y_train, y_test = train_test_split(df.drop('y', 1), df['y'], test_size=0.2, random_state=0, shuffle=False)"
      ],
      "execution_count": null,
      "outputs": []
    },
    {
      "cell_type": "code",
      "metadata": {
        "colab": {
          "base_uri": "https://localhost:8080/"
        },
        "id": "oNv0hRddWAP_",
        "outputId": "ac42ef5a-fcdb-483c-c680-13ccfe32bff4"
      },
      "source": [
        "x_train.shape, y_train.shape, x_test.shape, y_test.shape"
      ],
      "execution_count": null,
      "outputs": [
        {
          "output_type": "execute_result",
          "data": {
            "text/plain": [
              "((1968, 14), (1968,), (493, 14), (493,))"
            ]
          },
          "metadata": {},
          "execution_count": 53
        }
      ]
    },
    {
      "cell_type": "code",
      "metadata": {
        "id": "lpJ1UjDqWFbn"
      },
      "source": [
        "def windowed_dataset(series, window_size, batch_size, shuffle):\n",
        "    series = tf.expand_dims(series, axis=-1)\n",
        "    ds = tf.data.Dataset.from_tensor_slices(series)\n",
        "    ds = ds.window(window_size + 1, shift=1, drop_remainder=True)\n",
        "    ds = ds.flat_map(lambda w: w.batch(window_size + 1))\n",
        "    if shuffle:\n",
        "        ds = ds.shuffle(1000)\n",
        "    ds = ds.map(lambda w: (w[:-1], w[-1]))\n",
        "    return ds.batch(batch_size).prefetch(1)"
      ],
      "execution_count": null,
      "outputs": []
    },
    {
      "cell_type": "code",
      "metadata": {
        "id": "U55izni6WI9_"
      },
      "source": [
        "WINDOW_SIZE=20\n",
        "BATCH_SIZE=32"
      ],
      "execution_count": null,
      "outputs": []
    },
    {
      "cell_type": "code",
      "metadata": {
        "id": "tPb1RIjeWLLH"
      },
      "source": [
        "train_data = windowed_dataset(y_train, WINDOW_SIZE, BATCH_SIZE, True)\n",
        "test_data = windowed_dataset(y_test, WINDOW_SIZE, BATCH_SIZE, False)"
      ],
      "execution_count": null,
      "outputs": []
    },
    {
      "cell_type": "code",
      "metadata": {
        "colab": {
          "base_uri": "https://localhost:8080/"
        },
        "id": "wgQW-BaiWNMP",
        "outputId": "b55f0185-9eaf-449e-f410-ec9757f8158a"
      },
      "source": [
        "for data in train_data.take(1):\n",
        "    print(f'데이터셋(X) 구성(batch_size, window_size, feature갯수): {data[0].shape}')\n",
        "    print(f'데이터셋(Y) 구성(batch_size, window_size, feature갯수): {data[1].shape}')"
      ],
      "execution_count": null,
      "outputs": [
        {
          "output_type": "stream",
          "name": "stdout",
          "text": [
            "데이터셋(X) 구성(batch_size, window_size, feature갯수): (32, 20, 1)\n",
            "데이터셋(Y) 구성(batch_size, window_size, feature갯수): (32, 1)\n"
          ]
        }
      ]
    },
    {
      "cell_type": "code",
      "metadata": {
        "id": "N0KzBMj5WPin"
      },
      "source": [
        "from tensorflow.keras.models import Sequential\n",
        "from tensorflow.keras.layers import Dense, LSTM, Conv1D, Lambda\n",
        "from tensorflow.keras.losses import Huber\n",
        "from tensorflow.keras.optimizers import Adam\n",
        "from tensorflow.keras.callbacks import EarlyStopping, ModelCheckpoint\n",
        "\n",
        "model = Sequential([\n",
        "    # 1차원 feature map 생성\n",
        "    Conv1D(filters=32, kernel_size=5,\n",
        "           padding=\"causal\",\n",
        "           activation=\"relu\",\n",
        "           input_shape=[WINDOW_SIZE, 1]),\n",
        "    # LSTM\n",
        "    LSTM(16, activation='tanh'),\n",
        "    Dense(16, activation=\"relu\"),\n",
        "    Dense(1),\n",
        "])"
      ],
      "execution_count": null,
      "outputs": []
    },
    {
      "cell_type": "code",
      "metadata": {
        "id": "Za90FsTRWSP_"
      },
      "source": [
        "loss = Huber()\n",
        "optimizer = Adam(0.0005)\n",
        "model.compile(loss=Huber(), optimizer=optimizer, metrics=['mse'])"
      ],
      "execution_count": null,
      "outputs": []
    },
    {
      "cell_type": "code",
      "metadata": {
        "id": "T5Sru53qWU5v"
      },
      "source": [
        "earlystopping = EarlyStopping(monitor='val_loss', patience=10)\n",
        "filename = os.path.join('tmp', 'ckeckpointer.ckpt')\n",
        "checkpoint = ModelCheckpoint(filename, \n",
        "                             save_weights_only=True, \n",
        "                             save_best_only=True, \n",
        "                             monitor='val_loss', \n",
        "                             verbose=1)"
      ],
      "execution_count": null,
      "outputs": []
    },
    {
      "cell_type": "code",
      "metadata": {
        "colab": {
          "base_uri": "https://localhost:8080/"
        },
        "id": "2srj41YlWXBf",
        "outputId": "f32823f9-7864-4b68-a488-02487a3b851e"
      },
      "source": [
        "history = model.fit(train_data, \n",
        "                    validation_data=(test_data), \n",
        "                    epochs=50, \n",
        "                    callbacks=[checkpoint, earlystopping])"
      ],
      "execution_count": null,
      "outputs": [
        {
          "output_type": "stream",
          "name": "stdout",
          "text": [
            "Epoch 1/50\n",
            "61/61 [==============================] - 4s 24ms/step - loss: 0.0016 - mse: 0.0032 - val_loss: 0.0046 - val_mse: 0.0092\n",
            "\n",
            "Epoch 00001: val_loss improved from inf to 0.00461, saving model to tmp/ckeckpointer.ckpt\n",
            "Epoch 2/50\n",
            "61/61 [==============================] - 1s 16ms/step - loss: 1.3451e-04 - mse: 2.6901e-04 - val_loss: 0.0023 - val_mse: 0.0046\n",
            "\n",
            "Epoch 00002: val_loss improved from 0.00461 to 0.00229, saving model to tmp/ckeckpointer.ckpt\n",
            "Epoch 3/50\n",
            "61/61 [==============================] - 1s 16ms/step - loss: 1.1745e-04 - mse: 2.3491e-04 - val_loss: 0.0022 - val_mse: 0.0044\n",
            "\n",
            "Epoch 00003: val_loss improved from 0.00229 to 0.00219, saving model to tmp/ckeckpointer.ckpt\n",
            "Epoch 4/50\n",
            "61/61 [==============================] - 1s 16ms/step - loss: 1.1672e-04 - mse: 2.3344e-04 - val_loss: 0.0022 - val_mse: 0.0043\n",
            "\n",
            "Epoch 00004: val_loss improved from 0.00219 to 0.00217, saving model to tmp/ckeckpointer.ckpt\n",
            "Epoch 5/50\n",
            "61/61 [==============================] - 1s 17ms/step - loss: 1.1648e-04 - mse: 2.3296e-04 - val_loss: 0.0017 - val_mse: 0.0035\n",
            "\n",
            "Epoch 00005: val_loss improved from 0.00217 to 0.00173, saving model to tmp/ckeckpointer.ckpt\n",
            "Epoch 6/50\n",
            "61/61 [==============================] - 1s 16ms/step - loss: 1.1806e-04 - mse: 2.3611e-04 - val_loss: 0.0024 - val_mse: 0.0047\n",
            "\n",
            "Epoch 00006: val_loss did not improve from 0.00173\n",
            "Epoch 7/50\n",
            "61/61 [==============================] - 1s 17ms/step - loss: 1.1417e-04 - mse: 2.2834e-04 - val_loss: 0.0017 - val_mse: 0.0034\n",
            "\n",
            "Epoch 00007: val_loss improved from 0.00173 to 0.00172, saving model to tmp/ckeckpointer.ckpt\n",
            "Epoch 8/50\n",
            "61/61 [==============================] - 1s 16ms/step - loss: 1.0905e-04 - mse: 2.1810e-04 - val_loss: 0.0017 - val_mse: 0.0034\n",
            "\n",
            "Epoch 00008: val_loss improved from 0.00172 to 0.00169, saving model to tmp/ckeckpointer.ckpt\n",
            "Epoch 9/50\n",
            "61/61 [==============================] - 1s 16ms/step - loss: 1.1218e-04 - mse: 2.2437e-04 - val_loss: 0.0019 - val_mse: 0.0038\n",
            "\n",
            "Epoch 00009: val_loss did not improve from 0.00169\n",
            "Epoch 10/50\n",
            "61/61 [==============================] - 1s 16ms/step - loss: 1.0825e-04 - mse: 2.1649e-04 - val_loss: 0.0015 - val_mse: 0.0030\n",
            "\n",
            "Epoch 00010: val_loss improved from 0.00169 to 0.00151, saving model to tmp/ckeckpointer.ckpt\n",
            "Epoch 11/50\n",
            "61/61 [==============================] - 1s 16ms/step - loss: 1.0330e-04 - mse: 2.0659e-04 - val_loss: 0.0017 - val_mse: 0.0033\n",
            "\n",
            "Epoch 00011: val_loss did not improve from 0.00151\n",
            "Epoch 12/50\n",
            "61/61 [==============================] - 1s 15ms/step - loss: 1.0042e-04 - mse: 2.0084e-04 - val_loss: 0.0014 - val_mse: 0.0029\n",
            "\n",
            "Epoch 00012: val_loss improved from 0.00151 to 0.00143, saving model to tmp/ckeckpointer.ckpt\n",
            "Epoch 13/50\n",
            "61/61 [==============================] - 1s 16ms/step - loss: 1.0144e-04 - mse: 2.0288e-04 - val_loss: 0.0012 - val_mse: 0.0024\n",
            "\n",
            "Epoch 00013: val_loss improved from 0.00143 to 0.00122, saving model to tmp/ckeckpointer.ckpt\n",
            "Epoch 14/50\n",
            "61/61 [==============================] - 1s 17ms/step - loss: 9.8530e-05 - mse: 1.9706e-04 - val_loss: 0.0017 - val_mse: 0.0033\n",
            "\n",
            "Epoch 00014: val_loss did not improve from 0.00122\n",
            "Epoch 15/50\n",
            "61/61 [==============================] - 1s 16ms/step - loss: 9.5983e-05 - mse: 1.9197e-04 - val_loss: 0.0013 - val_mse: 0.0026\n",
            "\n",
            "Epoch 00015: val_loss did not improve from 0.00122\n",
            "Epoch 16/50\n",
            "61/61 [==============================] - 1s 16ms/step - loss: 9.9585e-05 - mse: 1.9917e-04 - val_loss: 0.0014 - val_mse: 0.0028\n",
            "\n",
            "Epoch 00016: val_loss did not improve from 0.00122\n",
            "Epoch 17/50\n",
            "61/61 [==============================] - 1s 15ms/step - loss: 9.2294e-05 - mse: 1.8459e-04 - val_loss: 0.0017 - val_mse: 0.0033\n",
            "\n",
            "Epoch 00017: val_loss did not improve from 0.00122\n",
            "Epoch 18/50\n",
            "61/61 [==============================] - 1s 16ms/step - loss: 9.3517e-05 - mse: 1.8703e-04 - val_loss: 0.0015 - val_mse: 0.0030\n",
            "\n",
            "Epoch 00018: val_loss did not improve from 0.00122\n",
            "Epoch 19/50\n",
            "61/61 [==============================] - 1s 16ms/step - loss: 9.0161e-05 - mse: 1.8032e-04 - val_loss: 0.0014 - val_mse: 0.0028\n",
            "\n",
            "Epoch 00019: val_loss did not improve from 0.00122\n",
            "Epoch 20/50\n",
            "61/61 [==============================] - 1s 16ms/step - loss: 8.5548e-05 - mse: 1.7110e-04 - val_loss: 0.0012 - val_mse: 0.0023\n",
            "\n",
            "Epoch 00020: val_loss improved from 0.00122 to 0.00117, saving model to tmp/ckeckpointer.ckpt\n",
            "Epoch 21/50\n",
            "61/61 [==============================] - 1s 16ms/step - loss: 8.5666e-05 - mse: 1.7133e-04 - val_loss: 0.0010 - val_mse: 0.0020\n",
            "\n",
            "Epoch 00021: val_loss improved from 0.00117 to 0.00102, saving model to tmp/ckeckpointer.ckpt\n",
            "Epoch 22/50\n",
            "61/61 [==============================] - 1s 17ms/step - loss: 8.3699e-05 - mse: 1.6740e-04 - val_loss: 0.0011 - val_mse: 0.0022\n",
            "\n",
            "Epoch 00022: val_loss did not improve from 0.00102\n",
            "Epoch 23/50\n",
            "61/61 [==============================] - 1s 16ms/step - loss: 8.0729e-05 - mse: 1.6146e-04 - val_loss: 0.0011 - val_mse: 0.0022\n",
            "\n",
            "Epoch 00023: val_loss did not improve from 0.00102\n",
            "Epoch 24/50\n",
            "61/61 [==============================] - 1s 16ms/step - loss: 8.2330e-05 - mse: 1.6466e-04 - val_loss: 0.0013 - val_mse: 0.0026\n",
            "\n",
            "Epoch 00024: val_loss did not improve from 0.00102\n",
            "Epoch 25/50\n",
            "61/61 [==============================] - 1s 16ms/step - loss: 7.8784e-05 - mse: 1.5757e-04 - val_loss: 0.0014 - val_mse: 0.0028\n",
            "\n",
            "Epoch 00025: val_loss did not improve from 0.00102\n",
            "Epoch 26/50\n",
            "61/61 [==============================] - 1s 15ms/step - loss: 7.5952e-05 - mse: 1.5190e-04 - val_loss: 0.0013 - val_mse: 0.0026\n",
            "\n",
            "Epoch 00026: val_loss did not improve from 0.00102\n",
            "Epoch 27/50\n",
            "61/61 [==============================] - 1s 16ms/step - loss: 7.8189e-05 - mse: 1.5638e-04 - val_loss: 0.0011 - val_mse: 0.0022\n",
            "\n",
            "Epoch 00027: val_loss did not improve from 0.00102\n",
            "Epoch 28/50\n",
            "61/61 [==============================] - 1s 17ms/step - loss: 7.0912e-05 - mse: 1.4182e-04 - val_loss: 0.0010 - val_mse: 0.0021\n",
            "\n",
            "Epoch 00028: val_loss did not improve from 0.00102\n",
            "Epoch 29/50\n",
            "61/61 [==============================] - 1s 17ms/step - loss: 7.2896e-05 - mse: 1.4579e-04 - val_loss: 9.2223e-04 - val_mse: 0.0018\n",
            "\n",
            "Epoch 00029: val_loss improved from 0.00102 to 0.00092, saving model to tmp/ckeckpointer.ckpt\n",
            "Epoch 30/50\n",
            "61/61 [==============================] - 1s 17ms/step - loss: 7.0509e-05 - mse: 1.4102e-04 - val_loss: 0.0018 - val_mse: 0.0035\n",
            "\n",
            "Epoch 00030: val_loss did not improve from 0.00092\n",
            "Epoch 31/50\n",
            "61/61 [==============================] - 1s 17ms/step - loss: 7.2992e-05 - mse: 1.4598e-04 - val_loss: 0.0015 - val_mse: 0.0029\n",
            "\n",
            "Epoch 00031: val_loss did not improve from 0.00092\n",
            "Epoch 32/50\n",
            "61/61 [==============================] - 1s 17ms/step - loss: 7.3997e-05 - mse: 1.4799e-04 - val_loss: 9.3399e-04 - val_mse: 0.0019\n",
            "\n",
            "Epoch 00032: val_loss did not improve from 0.00092\n",
            "Epoch 33/50\n",
            "61/61 [==============================] - 1s 16ms/step - loss: 6.8234e-05 - mse: 1.3647e-04 - val_loss: 0.0019 - val_mse: 0.0038\n",
            "\n",
            "Epoch 00033: val_loss did not improve from 0.00092\n",
            "Epoch 34/50\n",
            "61/61 [==============================] - 1s 16ms/step - loss: 6.6805e-05 - mse: 1.3361e-04 - val_loss: 0.0017 - val_mse: 0.0034\n",
            "\n",
            "Epoch 00034: val_loss did not improve from 0.00092\n",
            "Epoch 35/50\n",
            "61/61 [==============================] - 1s 16ms/step - loss: 6.6960e-05 - mse: 1.3392e-04 - val_loss: 0.0012 - val_mse: 0.0024\n",
            "\n",
            "Epoch 00035: val_loss did not improve from 0.00092\n",
            "Epoch 36/50\n",
            "61/61 [==============================] - 1s 16ms/step - loss: 7.0769e-05 - mse: 1.4154e-04 - val_loss: 0.0011 - val_mse: 0.0022\n",
            "\n",
            "Epoch 00036: val_loss did not improve from 0.00092\n",
            "Epoch 37/50\n",
            "61/61 [==============================] - 1s 16ms/step - loss: 6.2423e-05 - mse: 1.2485e-04 - val_loss: 0.0011 - val_mse: 0.0021\n",
            "\n",
            "Epoch 00037: val_loss did not improve from 0.00092\n",
            "Epoch 38/50\n",
            "61/61 [==============================] - 1s 16ms/step - loss: 7.1629e-05 - mse: 1.4326e-04 - val_loss: 0.0026 - val_mse: 0.0052\n",
            "\n",
            "Epoch 00038: val_loss did not improve from 0.00092\n",
            "Epoch 39/50\n",
            "61/61 [==============================] - 1s 17ms/step - loss: 6.5861e-05 - mse: 1.3172e-04 - val_loss: 0.0013 - val_mse: 0.0026\n",
            "\n",
            "Epoch 00039: val_loss did not improve from 0.00092\n"
          ]
        }
      ]
    },
    {
      "cell_type": "code",
      "metadata": {
        "colab": {
          "base_uri": "https://localhost:8080/"
        },
        "id": "rF7O8hNLWZx3",
        "outputId": "01cb10cf-ac64-49dc-cbf1-5af695c7d2c7"
      },
      "source": [
        "model.load_weights(filename)"
      ],
      "execution_count": null,
      "outputs": [
        {
          "output_type": "execute_result",
          "data": {
            "text/plain": [
              "<tensorflow.python.training.tracking.util.CheckpointLoadStatus at 0x7f4c69cdd650>"
            ]
          },
          "metadata": {},
          "execution_count": 62
        }
      ]
    },
    {
      "cell_type": "code",
      "metadata": {
        "id": "Bo6efgfSXHtI"
      },
      "source": [
        "pred = model.predict(test_data)"
      ],
      "execution_count": null,
      "outputs": []
    },
    {
      "cell_type": "code",
      "metadata": {
        "colab": {
          "base_uri": "https://localhost:8080/"
        },
        "id": "dzVhSz7ZXJpI",
        "outputId": "572236b9-15e6-4baf-8470-66b0a20e4ef1"
      },
      "source": [
        "pred.shape"
      ],
      "execution_count": null,
      "outputs": [
        {
          "output_type": "execute_result",
          "data": {
            "text/plain": [
              "(473, 1)"
            ]
          },
          "metadata": {},
          "execution_count": 64
        }
      ]
    },
    {
      "cell_type": "code",
      "metadata": {
        "colab": {
          "base_uri": "https://localhost:8080/",
          "height": 54
        },
        "id": "CsZEi_1GXL9t",
        "outputId": "f8e91b31-3b8c-472c-fc24-93c0d489a1f4"
      },
      "source": [
        "import matplotlib.pyplot as plt\n",
        "plt.figure(figsize=(12, 9))\n",
        "plt.plot(np.asarray(y_test)[20:], label='actual')\n",
        "plt.plot(pred, label='prediction')\n",
        "plt.legend()\n",
        "plt.show()"
      ],
      "execution_count": null,
      "outputs": [
        {
          "output_type": "display_data",
          "data": {
            "image/png": "[encoded data removed]",
            "text/plain": [
              "<Figure size 864x648 with 1 Axes>"
            ]
          },
          "metadata": {
            "needs_background": "light"
          }
        }
      ]
    },
    {
      "cell_type": "code",
      "metadata": {
        "id": "YG06FgnYcpKs"
      },
      "source": [
        ""
      ],
      "execution_count": null,
      "outputs": []
    }
  ]
}