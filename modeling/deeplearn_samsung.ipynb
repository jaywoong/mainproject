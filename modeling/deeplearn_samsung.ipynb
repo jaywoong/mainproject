{
 "cells": [
  {
   "cell_type": "code",
   "execution_count": 113,
   "metadata": {
    "colab": {
     "base_uri": "https://localhost:8080/"
    },
    "id": "dzhATTc3qK69",
    "outputId": "d45be3f2-f7b7-44f0-a2b8-071826c5a06a"
   },
   "outputs": [],
   "source": [
    "import os\n",
    "import numpy as np\n",
    "import pandas as pd\n",
    "import tensorflow as tf\n",
    "import FinanceDataReader as fdr\n",
    "import matplotlib.pyplot as plt\n",
    "from sklearn.preprocessing import MinMaxScaler\n",
    "from sklearn.model_selection import train_test_split\n",
    "from tensorflow.keras.models import Sequential\n",
    "from tensorflow.keras.layers import Dense, LSTM, Conv1D, Lambda\n",
    "from tensorflow.keras.losses import Huber\n",
    "from tensorflow.keras.optimizers import Adam\n",
    "from tensorflow.keras.callbacks import EarlyStopping, ModelCheckpoint\n",
    "from sklearn.metrics import mean_squared_error\n",
    "from sklearn.metrics import r2_score"
   ]
  },
  {
   "cell_type": "markdown",
   "metadata": {
    "id": "ZnJBSxJXT6sT"
   },
   "source": [
    "# 수집한 데이터"
   ]
  },
  {
   "cell_type": "code",
   "execution_count": 114,
   "metadata": {
    "colab": {
     "base_uri": "https://localhost:8080/",
     "height": 626
    },
    "id": "d-ww6k5PBiVB",
    "outputId": "22eb0595-cf98-46e5-ac3d-a737b9b5b8d9",
    "scrolled": true
   },
   "outputs": [
    {
     "data": {
      "text/html": [
       "<div>\n",
       "<style scoped>\n",
       "    .dataframe tbody tr th:only-of-type {\n",
       "        vertical-align: middle;\n",
       "    }\n",
       "\n",
       "    .dataframe tbody tr th {\n",
       "        vertical-align: top;\n",
       "    }\n",
       "\n",
       "    .dataframe thead th {\n",
       "        text-align: right;\n",
       "    }\n",
       "</style>\n",
       "<table border=\"1\" class=\"dataframe\">\n",
       "  <thead>\n",
       "    <tr style=\"text-align: right;\">\n",
       "      <th></th>\n",
       "      <th>DATE</th>\n",
       "      <th>거래량</th>\n",
       "      <th>PER</th>\n",
       "      <th>PBR</th>\n",
       "      <th>기관 합계</th>\n",
       "      <th>기타법인</th>\n",
       "      <th>개인</th>\n",
       "      <th>외국인 합계</th>\n",
       "      <th>ATR</th>\n",
       "      <th>NASDAQ</th>\n",
       "      <th>S&amp;P</th>\n",
       "      <th>CBOE</th>\n",
       "      <th>Exchange rate</th>\n",
       "      <th>futures2y</th>\n",
       "      <th>futures10y</th>\n",
       "      <th>y</th>\n",
       "    </tr>\n",
       "  </thead>\n",
       "  <tbody>\n",
       "    <tr>\n",
       "      <th>0</th>\n",
       "      <td>2011-09-01</td>\n",
       "      <td>35870550</td>\n",
       "      <td>7.27</td>\n",
       "      <td>1.24</td>\n",
       "      <td>-83833734000</td>\n",
       "      <td>-8749641000</td>\n",
       "      <td>-177822918000</td>\n",
       "      <td>270406293000</td>\n",
       "      <td>880</td>\n",
       "      <td>2,546.00</td>\n",
       "      <td>1,204.42</td>\n",
       "      <td>31.82</td>\n",
       "      <td>1,064.40</td>\n",
       "      <td>110.28</td>\n",
       "      <td>130.61</td>\n",
       "      <td>15420</td>\n",
       "    </tr>\n",
       "    <tr>\n",
       "      <th>1</th>\n",
       "      <td>2011-09-02</td>\n",
       "      <td>12934100</td>\n",
       "      <td>7.26</td>\n",
       "      <td>1.23</td>\n",
       "      <td>-7185878000</td>\n",
       "      <td>2125969000</td>\n",
       "      <td>-11377060000</td>\n",
       "      <td>16436969000</td>\n",
       "      <td>1000</td>\n",
       "      <td>2,480.30</td>\n",
       "      <td>1,173.97</td>\n",
       "      <td>33.92</td>\n",
       "      <td>1,065.60</td>\n",
       "      <td>110.25</td>\n",
       "      <td>131.30</td>\n",
       "      <td>15380</td>\n",
       "    </tr>\n",
       "    <tr>\n",
       "      <th>2</th>\n",
       "      <td>2011-09-05</td>\n",
       "      <td>13874400</td>\n",
       "      <td>6.90</td>\n",
       "      <td>1.17</td>\n",
       "      <td>-975699000</td>\n",
       "      <td>-215641000</td>\n",
       "      <td>29370756000</td>\n",
       "      <td>-28179416000</td>\n",
       "      <td>580</td>\n",
       "      <td>2,480.30</td>\n",
       "      <td>1,173.97</td>\n",
       "      <td>33.92</td>\n",
       "      <td>1,065.60</td>\n",
       "      <td>110.25</td>\n",
       "      <td>131.30</td>\n",
       "      <td>14620</td>\n",
       "    </tr>\n",
       "    <tr>\n",
       "      <th>3</th>\n",
       "      <td>2011-09-06</td>\n",
       "      <td>13225250</td>\n",
       "      <td>6.86</td>\n",
       "      <td>1.17</td>\n",
       "      <td>2349662000</td>\n",
       "      <td>-1299409000</td>\n",
       "      <td>13839817000</td>\n",
       "      <td>-14890070000</td>\n",
       "      <td>1260</td>\n",
       "      <td>2,473.80</td>\n",
       "      <td>1,165.24</td>\n",
       "      <td>37.00</td>\n",
       "      <td>1,074.65</td>\n",
       "      <td>110.27</td>\n",
       "      <td>131.22</td>\n",
       "      <td>14540</td>\n",
       "    </tr>\n",
       "    <tr>\n",
       "      <th>4</th>\n",
       "      <td>2011-09-07</td>\n",
       "      <td>17575200</td>\n",
       "      <td>7.29</td>\n",
       "      <td>1.24</td>\n",
       "      <td>113232351000</td>\n",
       "      <td>1123519000</td>\n",
       "      <td>-77907268000</td>\n",
       "      <td>-36448602000</td>\n",
       "      <td>1300</td>\n",
       "      <td>2,548.90</td>\n",
       "      <td>1,198.62</td>\n",
       "      <td>33.38</td>\n",
       "      <td>1,069.65</td>\n",
       "      <td>110.27</td>\n",
       "      <td>130.89</td>\n",
       "      <td>15460</td>\n",
       "    </tr>\n",
       "    <tr>\n",
       "      <th>...</th>\n",
       "      <td>...</td>\n",
       "      <td>...</td>\n",
       "      <td>...</td>\n",
       "      <td>...</td>\n",
       "      <td>...</td>\n",
       "      <td>...</td>\n",
       "      <td>...</td>\n",
       "      <td>...</td>\n",
       "      <td>...</td>\n",
       "      <td>...</td>\n",
       "      <td>...</td>\n",
       "      <td>...</td>\n",
       "      <td>...</td>\n",
       "      <td>...</td>\n",
       "      <td>...</td>\n",
       "      <td>...</td>\n",
       "    </tr>\n",
       "    <tr>\n",
       "      <th>2456</th>\n",
       "      <td>2021-08-25</td>\n",
       "      <td>22319664</td>\n",
       "      <td>19.71</td>\n",
       "      <td>1.92</td>\n",
       "      <td>-76990474100</td>\n",
       "      <td>-8894667500</td>\n",
       "      <td>82373232300</td>\n",
       "      <td>3511909300</td>\n",
       "      <td>2000</td>\n",
       "      <td>15,041.90</td>\n",
       "      <td>4,496.19</td>\n",
       "      <td>16.79</td>\n",
       "      <td>1,163.87</td>\n",
       "      <td>110.25</td>\n",
       "      <td>133.63</td>\n",
       "      <td>75700</td>\n",
       "    </tr>\n",
       "    <tr>\n",
       "      <th>2457</th>\n",
       "      <td>2021-08-26</td>\n",
       "      <td>16671494</td>\n",
       "      <td>19.42</td>\n",
       "      <td>1.89</td>\n",
       "      <td>-55566537800</td>\n",
       "      <td>9344981600</td>\n",
       "      <td>142574757300</td>\n",
       "      <td>-96353201100</td>\n",
       "      <td>1900</td>\n",
       "      <td>14,945.80</td>\n",
       "      <td>4,469.91</td>\n",
       "      <td>18.84</td>\n",
       "      <td>1,170.53</td>\n",
       "      <td>110.25</td>\n",
       "      <td>133.59</td>\n",
       "      <td>74600</td>\n",
       "    </tr>\n",
       "    <tr>\n",
       "      <th>2458</th>\n",
       "      <td>2021-08-27</td>\n",
       "      <td>15172748</td>\n",
       "      <td>19.34</td>\n",
       "      <td>1.89</td>\n",
       "      <td>173118394100</td>\n",
       "      <td>10372274300</td>\n",
       "      <td>1510887500</td>\n",
       "      <td>-185001555900</td>\n",
       "      <td>1200</td>\n",
       "      <td>15,129.50</td>\n",
       "      <td>4,509.37</td>\n",
       "      <td>16.39</td>\n",
       "      <td>1,161.23</td>\n",
       "      <td>110.30</td>\n",
       "      <td>133.89</td>\n",
       "      <td>74300</td>\n",
       "    </tr>\n",
       "    <tr>\n",
       "      <th>2459</th>\n",
       "      <td>2021-08-30</td>\n",
       "      <td>12686999</td>\n",
       "      <td>19.42</td>\n",
       "      <td>1.89</td>\n",
       "      <td>24586418600</td>\n",
       "      <td>-2401179400</td>\n",
       "      <td>54715193800</td>\n",
       "      <td>-76900433000</td>\n",
       "      <td>2500</td>\n",
       "      <td>15,265.90</td>\n",
       "      <td>4,528.79</td>\n",
       "      <td>16.19</td>\n",
       "      <td>1,164.34</td>\n",
       "      <td>110.32</td>\n",
       "      <td>134.13</td>\n",
       "      <td>74600</td>\n",
       "    </tr>\n",
       "    <tr>\n",
       "      <th>2460</th>\n",
       "      <td>2021-08-31</td>\n",
       "      <td>24630370</td>\n",
       "      <td>19.97</td>\n",
       "      <td>1.95</td>\n",
       "      <td>-153079724000</td>\n",
       "      <td>7948320600</td>\n",
       "      <td>-214935849500</td>\n",
       "      <td>360067252900</td>\n",
       "      <td>2500</td>\n",
       "      <td>15,259.20</td>\n",
       "      <td>4,522.68</td>\n",
       "      <td>16.48</td>\n",
       "      <td>1,158.73</td>\n",
       "      <td>110.32</td>\n",
       "      <td>134.05</td>\n",
       "      <td>76700</td>\n",
       "    </tr>\n",
       "  </tbody>\n",
       "</table>\n",
       "<p>2461 rows × 16 columns</p>\n",
       "</div>"
      ],
      "text/plain": [
       "           DATE       거래량    PER   PBR         기관 합계         기타법인  \\\n",
       "0    2011-09-01  35870550   7.27  1.24  -83833734000  -8749641000   \n",
       "1    2011-09-02  12934100   7.26  1.23   -7185878000   2125969000   \n",
       "2    2011-09-05  13874400   6.90  1.17    -975699000   -215641000   \n",
       "3    2011-09-06  13225250   6.86  1.17    2349662000  -1299409000   \n",
       "4    2011-09-07  17575200   7.29  1.24  113232351000   1123519000   \n",
       "...         ...       ...    ...   ...           ...          ...   \n",
       "2456 2021-08-25  22319664  19.71  1.92  -76990474100  -8894667500   \n",
       "2457 2021-08-26  16671494  19.42  1.89  -55566537800   9344981600   \n",
       "2458 2021-08-27  15172748  19.34  1.89  173118394100  10372274300   \n",
       "2459 2021-08-30  12686999  19.42  1.89   24586418600  -2401179400   \n",
       "2460 2021-08-31  24630370  19.97  1.95 -153079724000   7948320600   \n",
       "\n",
       "                개인        외국인 합계   ATR     NASDAQ       S&P   CBOE  \\\n",
       "0    -177822918000  270406293000   880   2,546.00  1,204.42  31.82   \n",
       "1     -11377060000   16436969000  1000   2,480.30  1,173.97  33.92   \n",
       "2      29370756000  -28179416000   580   2,480.30  1,173.97  33.92   \n",
       "3      13839817000  -14890070000  1260   2,473.80  1,165.24  37.00   \n",
       "4     -77907268000  -36448602000  1300   2,548.90  1,198.62  33.38   \n",
       "...            ...           ...   ...        ...       ...    ...   \n",
       "2456   82373232300    3511909300  2000  15,041.90  4,496.19  16.79   \n",
       "2457  142574757300  -96353201100  1900  14,945.80  4,469.91  18.84   \n",
       "2458    1510887500 -185001555900  1200  15,129.50  4,509.37  16.39   \n",
       "2459   54715193800  -76900433000  2500  15,265.90  4,528.79  16.19   \n",
       "2460 -214935849500  360067252900  2500  15,259.20  4,522.68  16.48   \n",
       "\n",
       "     Exchange rate  futures2y  futures10y      y  \n",
       "0         1,064.40     110.28      130.61  15420  \n",
       "1         1,065.60     110.25      131.30  15380  \n",
       "2         1,065.60     110.25      131.30  14620  \n",
       "3         1,074.65     110.27      131.22  14540  \n",
       "4         1,069.65     110.27      130.89  15460  \n",
       "...            ...        ...         ...    ...  \n",
       "2456      1,163.87     110.25      133.63  75700  \n",
       "2457      1,170.53     110.25      133.59  74600  \n",
       "2458      1,161.23     110.30      133.89  74300  \n",
       "2459      1,164.34     110.32      134.13  74600  \n",
       "2460      1,158.73     110.32      134.05  76700  \n",
       "\n",
       "[2461 rows x 16 columns]"
      ]
     },
     "execution_count": 114,
     "metadata": {},
     "output_type": "execute_result"
    }
   ],
   "source": [
    "data = pd.read_excel('./data/samsung.xlsx')\n",
    "data"
   ]
  },
  {
   "cell_type": "code",
   "execution_count": 115,
   "metadata": {},
   "outputs": [
    {
     "name": "stdout",
     "output_type": "stream",
     "text": [
      "<class 'pandas.core.frame.DataFrame'>\n",
      "RangeIndex: 2461 entries, 0 to 2460\n",
      "Data columns (total 16 columns):\n",
      " #   Column         Non-Null Count  Dtype         \n",
      "---  ------         --------------  -----         \n",
      " 0   DATE           2461 non-null   datetime64[ns]\n",
      " 1   거래량            2461 non-null   int64         \n",
      " 2   PER            2461 non-null   float64       \n",
      " 3   PBR            2461 non-null   float64       \n",
      " 4   기관 합계          2461 non-null   int64         \n",
      " 5   기타법인           2461 non-null   int64         \n",
      " 6   개인             2461 non-null   int64         \n",
      " 7   외국인 합계         2461 non-null   int64         \n",
      " 8   ATR            2461 non-null   int64         \n",
      " 9   NASDAQ         2461 non-null   object        \n",
      " 10  S&P            2461 non-null   object        \n",
      " 11  CBOE           2461 non-null   float64       \n",
      " 12  Exchange rate  2461 non-null   object        \n",
      " 13  futures2y      2461 non-null   float64       \n",
      " 14  futures10y     2461 non-null   float64       \n",
      " 15  y              2461 non-null   int64         \n",
      "dtypes: datetime64[ns](1), float64(5), int64(7), object(3)\n",
      "memory usage: 307.8+ KB\n"
     ]
    }
   ],
   "source": [
    "data.info()"
   ]
  },
  {
   "cell_type": "code",
   "execution_count": 116,
   "metadata": {
    "scrolled": true
   },
   "outputs": [],
   "source": [
    "# 실수형으로 변환\n",
    "\n",
    "data['CBOE'] = data['CBOE'].astype('float')\n",
    "data['futures2y'] = data['futures2y'].astype('float')\n",
    "data['futures10y'] = data['futures10y'].astype('float')"
   ]
  },
  {
   "cell_type": "code",
   "execution_count": 117,
   "metadata": {
    "scrolled": true
   },
   "outputs": [],
   "source": [
    "# 실수형으로 변환(값에 ','가 포함된 경우)\n",
    "\n",
    "data['NASDAQ'] = data['NASDAQ'].str.replace(',', '').astype(float)\n",
    "data['S&P'] = data['S&P'].str.replace(',', '').astype(float)\n",
    "data['Exchange rate'] = data['Exchange rate'].str.replace(',', '').astype(float)"
   ]
  },
  {
   "cell_type": "code",
   "execution_count": 118,
   "metadata": {
    "id": "7INm1u1sTtQH"
   },
   "outputs": [],
   "source": [
    "scaler = MinMaxScaler()"
   ]
  },
  {
   "cell_type": "code",
   "execution_count": 119,
   "metadata": {
    "id": "LlyJbMMvT5Wv"
   },
   "outputs": [],
   "source": [
    "scale_cols = ['거래량', 'PER', 'PBR', '기관 합계', '기타법인', '개인', '외국인 합계', 'ATR', 'NASDAQ', 'S&P', 'CBOE', 'Exchange rate', 'futures2y', 'futures10y', 'y']"
   ]
  },
  {
   "cell_type": "code",
   "execution_count": 120,
   "metadata": {
    "colab": {
     "base_uri": "https://localhost:8080/"
    },
    "id": "QufpuJmUUfW2",
    "outputId": "b8b563fe-135d-4beb-9a20-cccc14dd880a",
    "scrolled": true
   },
   "outputs": [
    {
     "data": {
      "text/plain": [
       "array([[0.37435295, 0.07735281, 0.07361963, ..., 0.95700935, 0.57105031,\n",
       "        0.01150929],\n",
       "       [0.11073659, 0.07692308, 0.06748466, ..., 0.95140187, 0.60150044,\n",
       "        0.01098614],\n",
       "       [0.12154377, 0.06145251, 0.03067485, ..., 0.95140187, 0.60150044,\n",
       "        0.0010463 ],\n",
       "       ...,\n",
       "       [0.13646612, 0.59604641, 0.47239264, ..., 0.96074766, 0.71579876,\n",
       "        0.78158514],\n",
       "       [0.10789657, 0.59948431, 0.47239264, ..., 0.96448598, 0.72639011,\n",
       "        0.78550876],\n",
       "       [0.24516577, 0.6231199 , 0.50920245, ..., 0.96448598, 0.72285966,\n",
       "        0.8129741 ]])"
      ]
     },
     "execution_count": 120,
     "metadata": {},
     "output_type": "execute_result"
    }
   ],
   "source": [
    "scaled = scaler.fit_transform(data[scale_cols])\n",
    "scaled"
   ]
  },
  {
   "cell_type": "code",
   "execution_count": 121,
   "metadata": {
    "id": "4sdnuwYIUh8u"
   },
   "outputs": [],
   "source": [
    "df = pd.DataFrame(scaled, columns=scale_cols)"
   ]
  },
  {
   "cell_type": "code",
   "execution_count": 122,
   "metadata": {
    "id": "Qed_t_AeV9ZH"
   },
   "outputs": [],
   "source": [
    "x_train, x_test, y_train, y_test = train_test_split(df.drop('y', 1), df['y'], test_size=0.2, random_state=0, shuffle=False)"
   ]
  },
  {
   "cell_type": "code",
   "execution_count": 123,
   "metadata": {
    "colab": {
     "base_uri": "https://localhost:8080/"
    },
    "id": "oNv0hRddWAP_",
    "outputId": "ac42ef5a-fcdb-483c-c680-13ccfe32bff4"
   },
   "outputs": [
    {
     "data": {
      "text/plain": [
       "((1968, 14), (1968,), (493, 14), (493,))"
      ]
     },
     "execution_count": 123,
     "metadata": {},
     "output_type": "execute_result"
    }
   ],
   "source": [
    "x_train.shape, y_train.shape, x_test.shape, y_test.shape"
   ]
  },
  {
   "cell_type": "code",
   "execution_count": 124,
   "metadata": {
    "id": "lpJ1UjDqWFbn"
   },
   "outputs": [],
   "source": [
    "def windowed_dataset(series, window_size, batch_size, shuffle):\n",
    "    series = tf.expand_dims(series, axis=-1)\n",
    "    ds = tf.data.Dataset.from_tensor_slices(series)\n",
    "    ds = ds.window(window_size + 1, shift=1, drop_remainder=True)\n",
    "    ds = ds.flat_map(lambda w: w.batch(window_size + 1))\n",
    "    if shuffle:\n",
    "        ds = ds.shuffle(1000)\n",
    "    ds = ds.map(lambda w: (w[:-1], w[-1]))\n",
    "    return ds.batch(batch_size).prefetch(1)"
   ]
  },
  {
   "cell_type": "code",
   "execution_count": 125,
   "metadata": {
    "id": "U55izni6WI9_"
   },
   "outputs": [],
   "source": [
    "WINDOW_SIZE=20\n",
    "BATCH_SIZE=32"
   ]
  },
  {
   "cell_type": "code",
   "execution_count": 126,
   "metadata": {
    "id": "tPb1RIjeWLLH"
   },
   "outputs": [],
   "source": [
    "train_data = windowed_dataset(y_train, WINDOW_SIZE, BATCH_SIZE, True)\n",
    "test_data = windowed_dataset(y_test, WINDOW_SIZE, BATCH_SIZE, False)"
   ]
  },
  {
   "cell_type": "code",
   "execution_count": 127,
   "metadata": {
    "colab": {
     "base_uri": "https://localhost:8080/"
    },
    "id": "wgQW-BaiWNMP",
    "outputId": "b55f0185-9eaf-449e-f410-ec9757f8158a"
   },
   "outputs": [
    {
     "name": "stdout",
     "output_type": "stream",
     "text": [
      "데이터셋(X) 구성(batch_size, window_size, feature갯수): (32, 20, 1)\n",
      "데이터셋(Y) 구성(batch_size, window_size, feature갯수): (32, 1)\n"
     ]
    }
   ],
   "source": [
    "for data in train_data.take(1):\n",
    "    print(f'데이터셋(X) 구성(batch_size, window_size, feature갯수): {data[0].shape}')\n",
    "    print(f'데이터셋(Y) 구성(batch_size, window_size, feature갯수): {data[1].shape}')"
   ]
  },
  {
   "cell_type": "code",
   "execution_count": 128,
   "metadata": {
    "id": "N0KzBMj5WPin"
   },
   "outputs": [],
   "source": [
    "model = Sequential([\n",
    "    # 1차원 feature map 생성\n",
    "    Conv1D(filters=32, kernel_size=5,\n",
    "           padding=\"causal\",\n",
    "           activation=\"relu\",\n",
    "           input_shape=[WINDOW_SIZE, 1]),\n",
    "    # LSTM\n",
    "    LSTM(16, activation='tanh'),\n",
    "    Dense(16, activation=\"relu\"),\n",
    "    Dense(1),\n",
    "])"
   ]
  },
  {
   "cell_type": "code",
   "execution_count": 129,
   "metadata": {
    "id": "Za90FsTRWSP_"
   },
   "outputs": [],
   "source": [
    "loss = Huber()\n",
    "optimizer = Adam(0.0005)\n",
    "model.compile(loss=Huber(), optimizer=optimizer, metrics=['mse'])"
   ]
  },
  {
   "cell_type": "code",
   "execution_count": 130,
   "metadata": {
    "id": "T5Sru53qWU5v"
   },
   "outputs": [],
   "source": [
    "earlystopping = EarlyStopping(monitor='val_loss', patience=10)\n",
    "filename = os.path.join('tmp', 'ckeckpointer.ckpt')\n",
    "checkpoint = ModelCheckpoint(filename, \n",
    "                             save_weights_only=True, \n",
    "                             save_best_only=True, \n",
    "                             monitor='val_loss', \n",
    "                             verbose=1)"
   ]
  },
  {
   "cell_type": "code",
   "execution_count": 131,
   "metadata": {
    "colab": {
     "base_uri": "https://localhost:8080/"
    },
    "id": "2srj41YlWXBf",
    "outputId": "f32823f9-7864-4b68-a488-02487a3b851e"
   },
   "outputs": [
    {
     "name": "stdout",
     "output_type": "stream",
     "text": [
      "Epoch 1/50\n",
      "61/61 [==============================] - 4s 17ms/step - loss: 0.0012 - mse: 0.0024 - val_loss: 5.7822e-04 - val_mse: 0.0012\n",
      "\n",
      "Epoch 00001: val_loss improved from inf to 0.00058, saving model to tmp\\ckeckpointer.ckpt\n",
      "Epoch 2/50\n",
      "61/61 [==============================] - 1s 10ms/step - loss: 1.1982e-04 - mse: 2.3965e-04 - val_loss: 6.0446e-04 - val_mse: 0.0012\n",
      "\n",
      "Epoch 00002: val_loss did not improve from 0.00058\n",
      "Epoch 3/50\n",
      "61/61 [==============================] - 1s 13ms/step - loss: 1.0371e-04 - mse: 2.0742e-04 - val_loss: 5.4488e-04 - val_mse: 0.0011\n",
      "\n",
      "Epoch 00003: val_loss improved from 0.00058 to 0.00054, saving model to tmp\\ckeckpointer.ckpt\n",
      "Epoch 4/50\n",
      "61/61 [==============================] - 1s 13ms/step - loss: 1.0555e-04 - mse: 2.1111e-04 - val_loss: 4.6247e-04 - val_mse: 9.2494e-04\n",
      "\n",
      "Epoch 00004: val_loss improved from 0.00054 to 0.00046, saving model to tmp\\ckeckpointer.ckpt\n",
      "Epoch 5/50\n",
      "61/61 [==============================] - 1s 10ms/step - loss: 1.0439e-04 - mse: 2.0878e-04 - val_loss: 4.9492e-04 - val_mse: 9.8984e-04\n",
      "\n",
      "Epoch 00005: val_loss did not improve from 0.00046\n",
      "Epoch 6/50\n",
      "61/61 [==============================] - 1s 14ms/step - loss: 9.8287e-05 - mse: 1.9657e-04 - val_loss: 4.4652e-04 - val_mse: 8.9304e-04\n",
      "\n",
      "Epoch 00006: val_loss improved from 0.00046 to 0.00045, saving model to tmp\\ckeckpointer.ckpt\n",
      "Epoch 7/50\n",
      "61/61 [==============================] - 1s 12ms/step - loss: 9.7972e-05 - mse: 1.9594e-04 - val_loss: 6.0991e-04 - val_mse: 0.0012\n",
      "\n",
      "Epoch 00007: val_loss did not improve from 0.00045\n",
      "Epoch 8/50\n",
      "61/61 [==============================] - 1s 11ms/step - loss: 9.5650e-05 - mse: 1.9130e-04 - val_loss: 4.6596e-04 - val_mse: 9.3192e-04\n",
      "\n",
      "Epoch 00008: val_loss did not improve from 0.00045\n",
      "Epoch 9/50\n",
      "61/61 [==============================] - 1s 11ms/step - loss: 9.2535e-05 - mse: 1.8507e-04 - val_loss: 5.3637e-04 - val_mse: 0.0011\n",
      "\n",
      "Epoch 00009: val_loss did not improve from 0.00045\n",
      "Epoch 10/50\n",
      "61/61 [==============================] - 1s 12ms/step - loss: 9.1688e-05 - mse: 1.8338e-04 - val_loss: 4.4314e-04 - val_mse: 8.8628e-04\n",
      "\n",
      "Epoch 00010: val_loss improved from 0.00045 to 0.00044, saving model to tmp\\ckeckpointer.ckpt\n",
      "Epoch 11/50\n",
      "61/61 [==============================] - 1s 14ms/step - loss: 9.4617e-05 - mse: 1.8923e-04 - val_loss: 4.6838e-04 - val_mse: 9.3676e-04\n",
      "\n",
      "Epoch 00011: val_loss did not improve from 0.00044\n",
      "Epoch 12/50\n",
      "61/61 [==============================] - 1s 13ms/step - loss: 9.1814e-05 - mse: 1.8363e-04 - val_loss: 4.3936e-04 - val_mse: 8.7872e-04\n",
      "\n",
      "Epoch 00012: val_loss improved from 0.00044 to 0.00044, saving model to tmp\\ckeckpointer.ckpt\n",
      "Epoch 13/50\n",
      "61/61 [==============================] - 1s 15ms/step - loss: 8.6807e-05 - mse: 1.7361e-04 - val_loss: 4.7227e-04 - val_mse: 9.4454e-04\n",
      "\n",
      "Epoch 00013: val_loss did not improve from 0.00044\n",
      "Epoch 14/50\n",
      "61/61 [==============================] - 1s 12ms/step - loss: 8.8684e-05 - mse: 1.7737e-04 - val_loss: 6.6570e-04 - val_mse: 0.0013\n",
      "\n",
      "Epoch 00014: val_loss did not improve from 0.00044\n",
      "Epoch 15/50\n",
      "61/61 [==============================] - 1s 13ms/step - loss: 9.2920e-05 - mse: 1.8584e-04 - val_loss: 4.7942e-04 - val_mse: 9.5884e-04\n",
      "\n",
      "Epoch 00015: val_loss did not improve from 0.00044\n",
      "Epoch 16/50\n",
      "61/61 [==============================] - 1s 11ms/step - loss: 8.3670e-05 - mse: 1.6734e-04 - val_loss: 5.2049e-04 - val_mse: 0.0010\n",
      "\n",
      "Epoch 00016: val_loss did not improve from 0.00044\n",
      "Epoch 17/50\n",
      "61/61 [==============================] - 1s 16ms/step - loss: 8.1577e-05 - mse: 1.6315e-04 - val_loss: 5.1405e-04 - val_mse: 0.0010\n",
      "\n",
      "Epoch 00017: val_loss did not improve from 0.00044\n",
      "Epoch 18/50\n",
      "61/61 [==============================] - 1s 12ms/step - loss: 7.9331e-05 - mse: 1.5866e-04 - val_loss: 4.5175e-04 - val_mse: 9.0350e-04\n",
      "\n",
      "Epoch 00018: val_loss did not improve from 0.00044\n",
      "Epoch 19/50\n",
      "61/61 [==============================] - 1s 11ms/step - loss: 7.7960e-05 - mse: 1.5592e-04 - val_loss: 4.8549e-04 - val_mse: 9.7098e-04\n",
      "\n",
      "Epoch 00019: val_loss did not improve from 0.00044\n",
      "Epoch 20/50\n",
      "61/61 [==============================] - 1s 14ms/step - loss: 7.5986e-05 - mse: 1.5197e-04 - val_loss: 4.0971e-04 - val_mse: 8.1942e-04\n",
      "\n",
      "Epoch 00020: val_loss improved from 0.00044 to 0.00041, saving model to tmp\\ckeckpointer.ckpt\n",
      "Epoch 21/50\n",
      "61/61 [==============================] - 1s 13ms/step - loss: 7.5245e-05 - mse: 1.5049e-04 - val_loss: 3.6990e-04 - val_mse: 7.3980e-04\n",
      "\n",
      "Epoch 00021: val_loss improved from 0.00041 to 0.00037, saving model to tmp\\ckeckpointer.ckpt\n",
      "Epoch 22/50\n",
      "61/61 [==============================] - 1s 14ms/step - loss: 7.4713e-05 - mse: 1.4943e-04 - val_loss: 3.9601e-04 - val_mse: 7.9202e-04\n",
      "\n",
      "Epoch 00022: val_loss did not improve from 0.00037\n",
      "Epoch 23/50\n",
      "61/61 [==============================] - 1s 10ms/step - loss: 7.1029e-05 - mse: 1.4206e-04 - val_loss: 5.4261e-04 - val_mse: 0.0011\n",
      "\n",
      "Epoch 00023: val_loss did not improve from 0.00037\n",
      "Epoch 24/50\n",
      "61/61 [==============================] - 1s 11ms/step - loss: 6.9206e-05 - mse: 1.3841e-04 - val_loss: 5.2818e-04 - val_mse: 0.0011\n",
      "\n",
      "Epoch 00024: val_loss did not improve from 0.00037\n",
      "Epoch 25/50\n",
      "61/61 [==============================] - 1s 12ms/step - loss: 6.2960e-05 - mse: 1.2592e-04 - val_loss: 6.3463e-04 - val_mse: 0.0013\n",
      "\n",
      "Epoch 00025: val_loss did not improve from 0.00037\n",
      "Epoch 26/50\n",
      "61/61 [==============================] - 1s 11ms/step - loss: 6.4935e-05 - mse: 1.2987e-04 - val_loss: 4.3125e-04 - val_mse: 8.6251e-04\n",
      "\n",
      "Epoch 00026: val_loss did not improve from 0.00037\n",
      "Epoch 27/50\n",
      "61/61 [==============================] - 1s 13ms/step - loss: 6.0395e-05 - mse: 1.2079e-04 - val_loss: 6.2375e-04 - val_mse: 0.0012\n",
      "\n",
      "Epoch 00027: val_loss did not improve from 0.00037\n",
      "Epoch 28/50\n",
      "61/61 [==============================] - 1s 12ms/step - loss: 5.8694e-05 - mse: 1.1739e-04 - val_loss: 5.5166e-04 - val_mse: 0.0011\n",
      "\n",
      "Epoch 00028: val_loss did not improve from 0.00037\n",
      "Epoch 29/50\n",
      "61/61 [==============================] - 1s 11ms/step - loss: 5.6796e-05 - mse: 1.1359e-04 - val_loss: 7.3452e-04 - val_mse: 0.0015\n",
      "\n",
      "Epoch 00029: val_loss did not improve from 0.00037\n",
      "Epoch 30/50\n",
      "61/61 [==============================] - 1s 12ms/step - loss: 5.7826e-05 - mse: 1.1565e-04 - val_loss: 6.8737e-04 - val_mse: 0.0014\n",
      "\n",
      "Epoch 00030: val_loss did not improve from 0.00037\n",
      "Epoch 31/50\n",
      "61/61 [==============================] - 1s 12ms/step - loss: 5.3039e-05 - mse: 1.0608e-04 - val_loss: 8.5301e-04 - val_mse: 0.0017\n",
      "\n",
      "Epoch 00031: val_loss did not improve from 0.00037\n"
     ]
    }
   ],
   "source": [
    "history = model.fit(train_data, \n",
    "                    validation_data=(test_data), \n",
    "                    epochs=50, \n",
    "                    callbacks=[checkpoint, earlystopping])"
   ]
  },
  {
   "cell_type": "code",
   "execution_count": 132,
   "metadata": {
    "colab": {
     "base_uri": "https://localhost:8080/"
    },
    "id": "rF7O8hNLWZx3",
    "outputId": "01cb10cf-ac64-49dc-cbf1-5af695c7d2c7"
   },
   "outputs": [
    {
     "data": {
      "text/plain": [
       "<tensorflow.python.training.tracking.util.CheckpointLoadStatus at 0x2755aa34520>"
      ]
     },
     "execution_count": 132,
     "metadata": {},
     "output_type": "execute_result"
    }
   ],
   "source": [
    "model.load_weights(filename)"
   ]
  },
  {
   "cell_type": "code",
   "execution_count": 133,
   "metadata": {
    "id": "Bo6efgfSXHtI"
   },
   "outputs": [],
   "source": [
    "pred = model.predict(test_data)"
   ]
  },
  {
   "cell_type": "code",
   "execution_count": 134,
   "metadata": {
    "colab": {
     "base_uri": "https://localhost:8080/"
    },
    "id": "dzVhSz7ZXJpI",
    "outputId": "572236b9-15e6-4baf-8470-66b0a20e4ef1"
   },
   "outputs": [
    {
     "data": {
      "text/plain": [
       "(473, 1)"
      ]
     },
     "execution_count": 134,
     "metadata": {},
     "output_type": "execute_result"
    }
   ],
   "source": [
    "pred.shape"
   ]
  },
  {
   "cell_type": "code",
   "execution_count": 135,
   "metadata": {
    "colab": {
     "base_uri": "https://localhost:8080/",
     "height": 54
    },
    "id": "CsZEi_1GXL9t",
    "outputId": "f8e91b31-3b8c-472c-fc24-93c0d489a1f4"
   },
   "outputs": [
    {
     "data": {
      "image/png": "[encoded data removed]",
      "text/plain": [
       "<Figure size 864x648 with 1 Axes>"
      ]
     },
     "metadata": {
      "needs_background": "light"
     },
     "output_type": "display_data"
    }
   ],
   "source": [
    "plt.figure(figsize=(12, 9))\n",
    "plt.plot(np.asarray(y_test)[20:], label='actual')\n",
    "plt.plot(pred, label='prediction')\n",
    "plt.legend()\n",
    "plt.show()"
   ]
  },
  {
   "cell_type": "code",
   "execution_count": 140,
   "metadata": {},
   "outputs": [
    {
     "name": "stdout",
     "output_type": "stream",
     "text": [
      "RMSE :  0.027199324644609894\n"
     ]
    }
   ],
   "source": [
    "def RMSE(y_test, pred):\n",
    "    return np.sqrt(mean_squared_error(y_test[20:], pred))\n",
    "\n",
    "print('RMSE : ', RMSE(y_test, pred)) "
   ]
  },
  {
   "cell_type": "code",
   "execution_count": 139,
   "metadata": {},
   "outputs": [
    {
     "name": "stdout",
     "output_type": "stream",
     "text": [
      "R2 :  0.9760756188645198\n"
     ]
    }
   ],
   "source": [
    "r2_y_predict = r2_score(y_test[20:], pred)\n",
    "\n",
    "print('R2 : ', r2_y_predict)"
   ]
  },
  {
   "cell_type": "code",
   "execution_count": null,
   "metadata": {},
   "outputs": [],
   "source": []
  }
 ],
 "metadata": {
  "colab": {
   "collapsed_sections": [],
   "name": "deeplearn.ipynb",
   "provenance": []
  },
  "kernelspec": {
   "display_name": "Python 3",
   "language": "python",
   "name": "python3"
  },
  "language_info": {
   "codemirror_mode": {
    "name": "ipython",
    "version": 3
   },
   "file_extension": ".py",
   "mimetype": "text/x-python",
   "name": "python",
   "nbconvert_exporter": "python",
   "pygments_lexer": "ipython3",
   "version": "3.8.8"
  }
 },
 "nbformat": 4,
 "nbformat_minor": 1
}
