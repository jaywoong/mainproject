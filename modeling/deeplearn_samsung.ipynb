{
 "cells": [
  {
   "cell_type": "code",
   "execution_count": 3,
   "metadata": {
    "colab": {
     "base_uri": "https://localhost:8080/"
    },
    "id": "dzhATTc3qK69",
    "outputId": "d45be3f2-f7b7-44f0-a2b8-071826c5a06a"
   },
   "outputs": [],
   "source": [
    "# !python -m pip install finance-datareader\n",
    "\n",
    "import os\n",
    "import numpy as np\n",
    "import pandas as pd\n",
    "import tensorflow as tf\n",
    "import FinanceDataReader as fdr\n",
    "from sklearn.preprocessing import MinMaxScaler\n",
    "from sklearn.model_selection import train_test_split"
   ]
  },
  {
   "cell_type": "code",
   "execution_count": 4,
   "metadata": {
    "colab": {
     "base_uri": "https://localhost:8080/",
     "height": 419
    },
    "id": "M0EmgRKDqTYI",
    "outputId": "02562d9e-e427-450a-b8a2-3f4bfcebfc05"
   },
   "outputs": [],
   "source": [
    "# list_name = './Stock_List.csv'\n",
    "# stock_list = pd.read_csv(os.path.join(list_name))\n",
    "# stock_list['종목코드'] = stock_list['종목코드'].apply(lambda x : str(x).zfill(6))\n",
    "# stock_list"
   ]
  },
  {
   "cell_type": "code",
   "execution_count": 5,
   "metadata": {
    "colab": {
     "base_uri": "https://localhost:8080/",
     "height": 450
    },
    "id": "fJ4Oz7-cqVZ6",
    "outputId": "cda979d8-c325-47b6-ffe0-2915a5869001"
   },
   "outputs": [
    {
     "data": {
      "text/html": [
       "<div>\n",
       "<style scoped>\n",
       "    .dataframe tbody tr th:only-of-type {\n",
       "        vertical-align: middle;\n",
       "    }\n",
       "\n",
       "    .dataframe tbody tr th {\n",
       "        vertical-align: top;\n",
       "    }\n",
       "\n",
       "    .dataframe thead th {\n",
       "        text-align: right;\n",
       "    }\n",
       "</style>\n",
       "<table border=\"1\" class=\"dataframe\">\n",
       "  <thead>\n",
       "    <tr style=\"text-align: right;\">\n",
       "      <th></th>\n",
       "      <th>Open</th>\n",
       "      <th>High</th>\n",
       "      <th>Low</th>\n",
       "      <th>Close</th>\n",
       "      <th>Volume</th>\n",
       "      <th>Change</th>\n",
       "    </tr>\n",
       "    <tr>\n",
       "      <th>Date</th>\n",
       "      <th></th>\n",
       "      <th></th>\n",
       "      <th></th>\n",
       "      <th></th>\n",
       "      <th></th>\n",
       "      <th></th>\n",
       "    </tr>\n",
       "  </thead>\n",
       "  <tbody>\n",
       "    <tr>\n",
       "      <th>2010-01-04</th>\n",
       "      <td>16060</td>\n",
       "      <td>16180</td>\n",
       "      <td>16000</td>\n",
       "      <td>16180</td>\n",
       "      <td>239271</td>\n",
       "      <td>0.012516</td>\n",
       "    </tr>\n",
       "    <tr>\n",
       "      <th>2010-01-05</th>\n",
       "      <td>16520</td>\n",
       "      <td>16580</td>\n",
       "      <td>16300</td>\n",
       "      <td>16440</td>\n",
       "      <td>559219</td>\n",
       "      <td>0.016069</td>\n",
       "    </tr>\n",
       "    <tr>\n",
       "      <th>2010-01-06</th>\n",
       "      <td>16580</td>\n",
       "      <td>16820</td>\n",
       "      <td>16520</td>\n",
       "      <td>16820</td>\n",
       "      <td>459755</td>\n",
       "      <td>0.023114</td>\n",
       "    </tr>\n",
       "    <tr>\n",
       "      <th>2010-01-07</th>\n",
       "      <td>16820</td>\n",
       "      <td>16820</td>\n",
       "      <td>16260</td>\n",
       "      <td>16260</td>\n",
       "      <td>443237</td>\n",
       "      <td>-0.033294</td>\n",
       "    </tr>\n",
       "    <tr>\n",
       "      <th>2010-01-08</th>\n",
       "      <td>16400</td>\n",
       "      <td>16420</td>\n",
       "      <td>16120</td>\n",
       "      <td>16420</td>\n",
       "      <td>295798</td>\n",
       "      <td>0.009840</td>\n",
       "    </tr>\n",
       "    <tr>\n",
       "      <th>...</th>\n",
       "      <td>...</td>\n",
       "      <td>...</td>\n",
       "      <td>...</td>\n",
       "      <td>...</td>\n",
       "      <td>...</td>\n",
       "      <td>...</td>\n",
       "    </tr>\n",
       "    <tr>\n",
       "      <th>2020-12-23</th>\n",
       "      <td>72400</td>\n",
       "      <td>74000</td>\n",
       "      <td>72300</td>\n",
       "      <td>73900</td>\n",
       "      <td>19411326</td>\n",
       "      <td>0.022130</td>\n",
       "    </tr>\n",
       "    <tr>\n",
       "      <th>2020-12-24</th>\n",
       "      <td>74100</td>\n",
       "      <td>78800</td>\n",
       "      <td>74000</td>\n",
       "      <td>77800</td>\n",
       "      <td>32502870</td>\n",
       "      <td>0.052774</td>\n",
       "    </tr>\n",
       "    <tr>\n",
       "      <th>2020-12-28</th>\n",
       "      <td>79000</td>\n",
       "      <td>80100</td>\n",
       "      <td>78200</td>\n",
       "      <td>78700</td>\n",
       "      <td>40085044</td>\n",
       "      <td>0.011568</td>\n",
       "    </tr>\n",
       "    <tr>\n",
       "      <th>2020-12-29</th>\n",
       "      <td>78800</td>\n",
       "      <td>78900</td>\n",
       "      <td>77300</td>\n",
       "      <td>78300</td>\n",
       "      <td>30339449</td>\n",
       "      <td>-0.005083</td>\n",
       "    </tr>\n",
       "    <tr>\n",
       "      <th>2020-12-30</th>\n",
       "      <td>77400</td>\n",
       "      <td>81300</td>\n",
       "      <td>77300</td>\n",
       "      <td>81000</td>\n",
       "      <td>29417421</td>\n",
       "      <td>0.034483</td>\n",
       "    </tr>\n",
       "  </tbody>\n",
       "</table>\n",
       "<p>2714 rows × 6 columns</p>\n",
       "</div>"
      ],
      "text/plain": [
       "             Open   High    Low  Close    Volume    Change\n",
       "Date                                                      \n",
       "2010-01-04  16060  16180  16000  16180    239271  0.012516\n",
       "2010-01-05  16520  16580  16300  16440    559219  0.016069\n",
       "2010-01-06  16580  16820  16520  16820    459755  0.023114\n",
       "2010-01-07  16820  16820  16260  16260    443237 -0.033294\n",
       "2010-01-08  16400  16420  16120  16420    295798  0.009840\n",
       "...           ...    ...    ...    ...       ...       ...\n",
       "2020-12-23  72400  74000  72300  73900  19411326  0.022130\n",
       "2020-12-24  74100  78800  74000  77800  32502870  0.052774\n",
       "2020-12-28  79000  80100  78200  78700  40085044  0.011568\n",
       "2020-12-29  78800  78900  77300  78300  30339449 -0.005083\n",
       "2020-12-30  77400  81300  77300  81000  29417421  0.034483\n",
       "\n",
       "[2714 rows x 6 columns]"
      ]
     },
     "execution_count": 5,
     "metadata": {},
     "output_type": "execute_result"
    }
   ],
   "source": [
    "start_date = '20100101'\n",
    "end_date = '20201231'\n",
    "sample_code = '005930'\n",
    "stock = fdr.DataReader(sample_code, start = start_date, end = end_date)\n",
    "stock"
   ]
  },
  {
   "cell_type": "code",
   "execution_count": 6,
   "metadata": {
    "id": "nBvTi7ssqy81"
   },
   "outputs": [],
   "source": [
    "scaler = MinMaxScaler()"
   ]
  },
  {
   "cell_type": "code",
   "execution_count": 7,
   "metadata": {
    "id": "ck-S2XCeggaZ"
   },
   "outputs": [],
   "source": [
    "scale_cols = ['Open', 'High', 'Low', 'Close', 'Volume']"
   ]
  },
  {
   "cell_type": "code",
   "execution_count": 8,
   "metadata": {
    "colab": {
     "base_uri": "https://localhost:8080/"
    },
    "id": "i34mT3_tgkew",
    "outputId": "6b82d879-b7f8-4a1c-a902-e634c262d9ab"
   },
   "outputs": [
    {
     "data": {
      "text/plain": [
       "array([[0.20329114, 0.19901599, 0.20460358, 0.03827893, 0.00376857],\n",
       "       [0.20911392, 0.20393604, 0.2084399 , 0.0421365 , 0.00880783],\n",
       "       [0.20987342, 0.20688807, 0.2112532 , 0.04777448, 0.00724125],\n",
       "       ...,\n",
       "       [1.        , 0.98523985, 1.        , 0.96587537, 0.63134893],\n",
       "       [0.99746835, 0.9704797 , 0.98849105, 0.95994065, 0.47785351],\n",
       "       [0.97974684, 1.        , 0.98849105, 1.        , 0.46333135]])"
      ]
     },
     "execution_count": 8,
     "metadata": {},
     "output_type": "execute_result"
    }
   ],
   "source": [
    "scaled = scaler.fit_transform(stock[scale_cols])\n",
    "scaled"
   ]
  },
  {
   "cell_type": "code",
   "execution_count": 9,
   "metadata": {
    "id": "nR3fGo6tg0CA"
   },
   "outputs": [],
   "source": [
    "df = pd.DataFrame(scaled, columns=scale_cols)"
   ]
  },
  {
   "cell_type": "code",
   "execution_count": 10,
   "metadata": {
    "id": "uqic_mnxg8PZ"
   },
   "outputs": [],
   "source": [
    "x_train, x_test, y_train, y_test = train_test_split(df.drop('Close', 1), df['Close'], test_size=0.2, random_state=0, shuffle=False)"
   ]
  },
  {
   "cell_type": "code",
   "execution_count": 11,
   "metadata": {
    "colab": {
     "base_uri": "https://localhost:8080/"
    },
    "id": "nz2QRQogp0lG",
    "outputId": "5bbd6581-efe3-423d-9de2-3c33e9aa5eb2"
   },
   "outputs": [
    {
     "data": {
      "text/plain": [
       "((2171, 4), (2171,), (543, 4), (543,))"
      ]
     },
     "execution_count": 11,
     "metadata": {},
     "output_type": "execute_result"
    }
   ],
   "source": [
    "x_train.shape, y_train.shape, x_test.shape, y_test.shape"
   ]
  },
  {
   "cell_type": "code",
   "execution_count": 12,
   "metadata": {
    "id": "n0BppmEfqY9l"
   },
   "outputs": [],
   "source": [
    "def windowed_dataset(series, window_size, batch_size, shuffle):\n",
    "    series = tf.expand_dims(series, axis=-1)\n",
    "    ds = tf.data.Dataset.from_tensor_slices(series)\n",
    "    ds = ds.window(window_size + 1, shift=1, drop_remainder=True)\n",
    "    ds = ds.flat_map(lambda w: w.batch(window_size + 1))\n",
    "    if shuffle:\n",
    "        ds = ds.shuffle(1000)\n",
    "    ds = ds.map(lambda w: (w[:-1], w[-1]))\n",
    "    return ds.batch(batch_size).prefetch(1)"
   ]
  },
  {
   "cell_type": "code",
   "execution_count": 13,
   "metadata": {
    "id": "fJiIEjgXreit"
   },
   "outputs": [],
   "source": [
    "WINDOW_SIZE=20\n",
    "BATCH_SIZE=32"
   ]
  },
  {
   "cell_type": "code",
   "execution_count": 14,
   "metadata": {
    "id": "oUPPxsgHBO4x"
   },
   "outputs": [],
   "source": [
    "train_data = windowed_dataset(y_train, WINDOW_SIZE, BATCH_SIZE, True)\n",
    "test_data = windowed_dataset(y_test, WINDOW_SIZE, BATCH_SIZE, False)"
   ]
  },
  {
   "cell_type": "code",
   "execution_count": 15,
   "metadata": {
    "colab": {
     "base_uri": "https://localhost:8080/"
    },
    "id": "THkrX8mbBQWZ",
    "outputId": "cee02083-0dc9-4573-b36e-0e71356717cf"
   },
   "outputs": [
    {
     "name": "stdout",
     "output_type": "stream",
     "text": [
      "데이터셋(X) 구성(batch_size, window_size, feature갯수): (32, 20, 1)\n",
      "데이터셋(Y) 구성(batch_size, window_size, feature갯수): (32, 1)\n"
     ]
    }
   ],
   "source": [
    "for data in train_data.take(1):\n",
    "    print(f'데이터셋(X) 구성(batch_size, window_size, feature갯수): {data[0].shape}')\n",
    "    print(f'데이터셋(Y) 구성(batch_size, window_size, feature갯수): {data[1].shape}')"
   ]
  },
  {
   "cell_type": "code",
   "execution_count": 16,
   "metadata": {
    "id": "QWEX5ha6BR8J"
   },
   "outputs": [],
   "source": [
    "from tensorflow.keras.models import Sequential\n",
    "from tensorflow.keras.layers import Dense, LSTM, Conv1D, Lambda\n",
    "from tensorflow.keras.losses import Huber\n",
    "from tensorflow.keras.optimizers import Adam\n",
    "from tensorflow.keras.callbacks import EarlyStopping, ModelCheckpoint\n",
    "\n",
    "\n",
    "model = Sequential([\n",
    "    # 1차원 feature map 생성\n",
    "    Conv1D(filters=32, kernel_size=5,\n",
    "           padding=\"causal\",\n",
    "           activation=\"relu\",\n",
    "           input_shape=[WINDOW_SIZE, 1]),\n",
    "    # LSTM\n",
    "    LSTM(16, activation='tanh'),\n",
    "    Dense(16, activation=\"relu\"),\n",
    "    Dense(1),\n",
    "])"
   ]
  },
  {
   "cell_type": "code",
   "execution_count": 17,
   "metadata": {
    "id": "pnhtGKdWBUyR"
   },
   "outputs": [],
   "source": [
    "loss = Huber()\n",
    "optimizer = Adam(0.0005)\n",
    "model.compile(loss=Huber(), optimizer=optimizer, metrics=['mse'])"
   ]
  },
  {
   "cell_type": "code",
   "execution_count": 18,
   "metadata": {
    "id": "QAmDqI80BWNp"
   },
   "outputs": [],
   "source": [
    "earlystopping = EarlyStopping(monitor='val_loss', patience=10)\n",
    "filename = os.path.join('tmp', 'ckeckpointer.ckpt')\n",
    "checkpoint = ModelCheckpoint(filename, \n",
    "                             save_weights_only=True, \n",
    "                             save_best_only=True, \n",
    "                             monitor='val_loss', \n",
    "                             verbose=1)"
   ]
  },
  {
   "cell_type": "code",
   "execution_count": 19,
   "metadata": {
    "colab": {
     "base_uri": "https://localhost:8080/"
    },
    "id": "Os6VBGuIBXx5",
    "outputId": "48c3c381-87bc-410b-8f08-4590b8bbe0ec"
   },
   "outputs": [
    {
     "name": "stdout",
     "output_type": "stream",
     "text": [
      "Epoch 1/30\n",
      "68/68 [==============================] - 4s 21ms/step - loss: 0.0010 - mse: 0.0021 - val_loss: 7.8348e-04 - val_mse: 0.0016\n",
      "\n",
      "Epoch 00001: val_loss improved from inf to 0.00078, saving model to tmp\\ckeckpointer.ckpt\n",
      "Epoch 2/30\n",
      "68/68 [==============================] - 1s 12ms/step - loss: 1.2394e-04 - mse: 2.4788e-04 - val_loss: 8.8625e-04 - val_mse: 0.0018\n",
      "\n",
      "Epoch 00002: val_loss did not improve from 0.00078\n",
      "Epoch 3/30\n",
      "68/68 [==============================] - 1s 11ms/step - loss: 1.2174e-04 - mse: 2.4348e-04 - val_loss: 9.1871e-04 - val_mse: 0.0018\n",
      "\n",
      "Epoch 00003: val_loss did not improve from 0.00078\n",
      "Epoch 4/30\n",
      "68/68 [==============================] - 1s 12ms/step - loss: 1.1975e-04 - mse: 2.3950e-04 - val_loss: 0.0010 - val_mse: 0.0020\n",
      "\n",
      "Epoch 00004: val_loss did not improve from 0.00078\n",
      "Epoch 5/30\n",
      "68/68 [==============================] - 1s 12ms/step - loss: 1.1878e-04 - mse: 2.3757e-04 - val_loss: 7.2464e-04 - val_mse: 0.0014\n",
      "\n",
      "Epoch 00005: val_loss improved from 0.00078 to 0.00072, saving model to tmp\\ckeckpointer.ckpt\n",
      "Epoch 6/30\n",
      "68/68 [==============================] - 1s 11ms/step - loss: 1.1708e-04 - mse: 2.3416e-04 - val_loss: 9.5159e-04 - val_mse: 0.0019\n",
      "\n",
      "Epoch 00006: val_loss did not improve from 0.00072\n",
      "Epoch 7/30\n",
      "68/68 [==============================] - 1s 10ms/step - loss: 1.1248e-04 - mse: 2.2497e-04 - val_loss: 6.5756e-04 - val_mse: 0.0013\n",
      "\n",
      "Epoch 00007: val_loss improved from 0.00072 to 0.00066, saving model to tmp\\ckeckpointer.ckpt\n",
      "Epoch 8/30\n",
      "68/68 [==============================] - 1s 10ms/step - loss: 1.1017e-04 - mse: 2.2035e-04 - val_loss: 7.3265e-04 - val_mse: 0.0015\n",
      "\n",
      "Epoch 00008: val_loss did not improve from 0.00066\n",
      "Epoch 9/30\n",
      "68/68 [==============================] - 1s 16ms/step - loss: 1.0486e-04 - mse: 2.0971e-04 - val_loss: 6.6963e-04 - val_mse: 0.0013\n",
      "\n",
      "Epoch 00009: val_loss did not improve from 0.00066\n",
      "Epoch 10/30\n",
      "68/68 [==============================] - 1s 12ms/step - loss: 1.0389e-04 - mse: 2.0779e-04 - val_loss: 5.9727e-04 - val_mse: 0.0012\n",
      "\n",
      "Epoch 00010: val_loss improved from 0.00066 to 0.00060, saving model to tmp\\ckeckpointer.ckpt\n",
      "Epoch 11/30\n",
      "68/68 [==============================] - 1s 11ms/step - loss: 1.0951e-04 - mse: 2.1902e-04 - val_loss: 6.7665e-04 - val_mse: 0.0014\n",
      "\n",
      "Epoch 00011: val_loss did not improve from 0.00060\n",
      "Epoch 12/30\n",
      "68/68 [==============================] - 1s 11ms/step - loss: 1.0054e-04 - mse: 2.0108e-04 - val_loss: 7.3415e-04 - val_mse: 0.0015\n",
      "\n",
      "Epoch 00012: val_loss did not improve from 0.00060\n",
      "Epoch 13/30\n",
      "68/68 [==============================] - 1s 10ms/step - loss: 9.6493e-05 - mse: 1.9299e-04 - val_loss: 5.6949e-04 - val_mse: 0.0011\n",
      "\n",
      "Epoch 00013: val_loss improved from 0.00060 to 0.00057, saving model to tmp\\ckeckpointer.ckpt\n",
      "Epoch 14/30\n",
      "68/68 [==============================] - 1s 11ms/step - loss: 1.0037e-04 - mse: 2.0074e-04 - val_loss: 5.7669e-04 - val_mse: 0.0012\n",
      "\n",
      "Epoch 00014: val_loss did not improve from 0.00057\n",
      "Epoch 15/30\n",
      "68/68 [==============================] - 1s 11ms/step - loss: 9.1849e-05 - mse: 1.8370e-04 - val_loss: 4.8248e-04 - val_mse: 9.6495e-04\n",
      "\n",
      "Epoch 00015: val_loss improved from 0.00057 to 0.00048, saving model to tmp\\ckeckpointer.ckpt\n",
      "Epoch 16/30\n",
      "68/68 [==============================] - 1s 12ms/step - loss: 9.1737e-05 - mse: 1.8347e-04 - val_loss: 4.7491e-04 - val_mse: 9.4982e-04\n",
      "\n",
      "Epoch 00016: val_loss improved from 0.00048 to 0.00047, saving model to tmp\\ckeckpointer.ckpt\n",
      "Epoch 17/30\n",
      "68/68 [==============================] - 1s 10ms/step - loss: 8.6979e-05 - mse: 1.7396e-04 - val_loss: 5.5293e-04 - val_mse: 0.0011\n",
      "\n",
      "Epoch 00017: val_loss did not improve from 0.00047\n",
      "Epoch 18/30\n",
      "68/68 [==============================] - 1s 11ms/step - loss: 8.7794e-05 - mse: 1.7559e-04 - val_loss: 5.8352e-04 - val_mse: 0.0012\n",
      "\n",
      "Epoch 00018: val_loss did not improve from 0.00047\n",
      "Epoch 19/30\n",
      "68/68 [==============================] - 1s 11ms/step - loss: 8.5167e-05 - mse: 1.7033e-04 - val_loss: 8.5541e-04 - val_mse: 0.0017\n",
      "\n",
      "Epoch 00019: val_loss did not improve from 0.00047\n",
      "Epoch 20/30\n",
      "68/68 [==============================] - 1s 11ms/step - loss: 9.1169e-05 - mse: 1.8234e-04 - val_loss: 4.0724e-04 - val_mse: 8.1448e-04\n",
      "\n",
      "Epoch 00020: val_loss improved from 0.00047 to 0.00041, saving model to tmp\\ckeckpointer.ckpt\n",
      "Epoch 21/30\n",
      "68/68 [==============================] - 1s 11ms/step - loss: 8.8314e-05 - mse: 1.7663e-04 - val_loss: 4.6819e-04 - val_mse: 9.3638e-04\n",
      "\n",
      "Epoch 00021: val_loss did not improve from 0.00041\n",
      "Epoch 22/30\n",
      "68/68 [==============================] - 1s 11ms/step - loss: 8.3335e-05 - mse: 1.6667e-04 - val_loss: 4.5720e-04 - val_mse: 9.1440e-04\n",
      "\n",
      "Epoch 00022: val_loss did not improve from 0.00041\n",
      "Epoch 23/30\n",
      "68/68 [==============================] - 1s 10ms/step - loss: 7.8546e-05 - mse: 1.5709e-04 - val_loss: 4.0461e-04 - val_mse: 8.0923e-04\n",
      "\n",
      "Epoch 00023: val_loss improved from 0.00041 to 0.00040, saving model to tmp\\ckeckpointer.ckpt\n",
      "Epoch 24/30\n",
      "68/68 [==============================] - 1s 11ms/step - loss: 7.9300e-05 - mse: 1.5860e-04 - val_loss: 6.8470e-04 - val_mse: 0.0014\n",
      "\n",
      "Epoch 00024: val_loss did not improve from 0.00040\n",
      "Epoch 25/30\n",
      "68/68 [==============================] - 1s 13ms/step - loss: 9.3139e-05 - mse: 1.8628e-04 - val_loss: 3.6527e-04 - val_mse: 7.3054e-04\n",
      "\n",
      "Epoch 00025: val_loss improved from 0.00040 to 0.00037, saving model to tmp\\ckeckpointer.ckpt\n",
      "Epoch 26/30\n",
      "68/68 [==============================] - 1s 14ms/step - loss: 7.5552e-05 - mse: 1.5110e-04 - val_loss: 3.6245e-04 - val_mse: 7.2491e-04\n",
      "\n",
      "Epoch 00026: val_loss improved from 0.00037 to 0.00036, saving model to tmp\\ckeckpointer.ckpt\n",
      "Epoch 27/30\n",
      "68/68 [==============================] - 1s 14ms/step - loss: 7.3380e-05 - mse: 1.4676e-04 - val_loss: 4.3716e-04 - val_mse: 8.7432e-04\n",
      "\n",
      "Epoch 00027: val_loss did not improve from 0.00036\n",
      "Epoch 28/30\n",
      "68/68 [==============================] - 1s 12ms/step - loss: 8.4554e-05 - mse: 1.6911e-04 - val_loss: 4.1979e-04 - val_mse: 8.3959e-04\n",
      "\n",
      "Epoch 00028: val_loss did not improve from 0.00036\n",
      "Epoch 29/30\n",
      "68/68 [==============================] - 1s 10ms/step - loss: 7.6012e-05 - mse: 1.5202e-04 - val_loss: 3.5065e-04 - val_mse: 7.0131e-04\n",
      "\n",
      "Epoch 00029: val_loss improved from 0.00036 to 0.00035, saving model to tmp\\ckeckpointer.ckpt\n",
      "Epoch 30/30\n",
      "68/68 [==============================] - 1s 13ms/step - loss: 7.1540e-05 - mse: 1.4308e-04 - val_loss: 3.8394e-04 - val_mse: 7.6788e-04\n",
      "\n",
      "Epoch 00030: val_loss did not improve from 0.00035\n"
     ]
    }
   ],
   "source": [
    "history = model.fit(train_data, \n",
    "                    validation_data=(test_data), \n",
    "                    epochs=30, \n",
    "                    callbacks=[checkpoint, earlystopping])"
   ]
  },
  {
   "cell_type": "code",
   "execution_count": 20,
   "metadata": {
    "colab": {
     "base_uri": "https://localhost:8080/"
    },
    "id": "QeMk91dRBZEh",
    "outputId": "43782986-cb4a-49fe-9437-b6a7f77b0a94"
   },
   "outputs": [
    {
     "data": {
      "text/plain": [
       "<tensorflow.python.training.tracking.util.CheckpointLoadStatus at 0x275536c1d90>"
      ]
     },
     "execution_count": 20,
     "metadata": {},
     "output_type": "execute_result"
    }
   ],
   "source": [
    "model.load_weights(filename)"
   ]
  },
  {
   "cell_type": "code",
   "execution_count": 21,
   "metadata": {
    "id": "KG1u4GL2BeGJ"
   },
   "outputs": [],
   "source": [
    "pred = model.predict(test_data)"
   ]
  },
  {
   "cell_type": "code",
   "execution_count": 22,
   "metadata": {
    "colab": {
     "base_uri": "https://localhost:8080/"
    },
    "id": "ZwB-DmuSBfia",
    "outputId": "c8155c13-751e-4d34-d693-cb095ddb6a1c"
   },
   "outputs": [
    {
     "data": {
      "text/plain": [
       "(523, 1)"
      ]
     },
     "execution_count": 22,
     "metadata": {},
     "output_type": "execute_result"
    }
   ],
   "source": [
    "pred.shape"
   ]
  },
  {
   "cell_type": "code",
   "execution_count": 23,
   "metadata": {
    "colab": {
     "base_uri": "https://localhost:8080/",
     "height": 537
    },
    "id": "YQJy7ajOBgzh",
    "outputId": "02dbbc31-f22d-4a5a-cd8c-6407014fdb84",
    "scrolled": true
   },
   "outputs": [
    {
     "data": {
      "image/png": "[encoded data removed]",
      "text/plain": [
       "<Figure size 864x648 with 1 Axes>"
      ]
     },
     "metadata": {
      "needs_background": "light"
     },
     "output_type": "display_data"
    }
   ],
   "source": [
    "import matplotlib.pyplot as plt\n",
    "plt.figure(figsize=(12, 9))\n",
    "plt.plot(np.asarray(y_test)[20:], label='actual')\n",
    "plt.plot(pred, label='prediction')\n",
    "plt.legend()\n",
    "plt.show()"
   ]
  },
  {
   "cell_type": "markdown",
   "metadata": {
    "id": "ZnJBSxJXT6sT"
   },
   "source": [
    "# 수집한 데이터"
   ]
  },
  {
   "cell_type": "code",
   "execution_count": 71,
   "metadata": {
    "colab": {
     "base_uri": "https://localhost:8080/",
     "height": 626
    },
    "id": "d-ww6k5PBiVB",
    "outputId": "22eb0595-cf98-46e5-ac3d-a737b9b5b8d9",
    "scrolled": true
   },
   "outputs": [
    {
     "data": {
      "text/html": [
       "<div>\n",
       "<style scoped>\n",
       "    .dataframe tbody tr th:only-of-type {\n",
       "        vertical-align: middle;\n",
       "    }\n",
       "\n",
       "    .dataframe tbody tr th {\n",
       "        vertical-align: top;\n",
       "    }\n",
       "\n",
       "    .dataframe thead th {\n",
       "        text-align: right;\n",
       "    }\n",
       "</style>\n",
       "<table border=\"1\" class=\"dataframe\">\n",
       "  <thead>\n",
       "    <tr style=\"text-align: right;\">\n",
       "      <th></th>\n",
       "      <th>DATE</th>\n",
       "      <th>거래량</th>\n",
       "      <th>PER</th>\n",
       "      <th>PBR</th>\n",
       "      <th>기관 합계</th>\n",
       "      <th>기타법인</th>\n",
       "      <th>개인</th>\n",
       "      <th>외국인 합계</th>\n",
       "      <th>ATR</th>\n",
       "      <th>NASDAQ</th>\n",
       "      <th>S&amp;P</th>\n",
       "      <th>CBOE</th>\n",
       "      <th>Exchange rate</th>\n",
       "      <th>futures2y</th>\n",
       "      <th>futures10y</th>\n",
       "      <th>y</th>\n",
       "    </tr>\n",
       "  </thead>\n",
       "  <tbody>\n",
       "    <tr>\n",
       "      <th>0</th>\n",
       "      <td>2011-09-01</td>\n",
       "      <td>35870550</td>\n",
       "      <td>7.27</td>\n",
       "      <td>1.24</td>\n",
       "      <td>-83833734000</td>\n",
       "      <td>-8749641000</td>\n",
       "      <td>-177822918000</td>\n",
       "      <td>270406293000</td>\n",
       "      <td>880</td>\n",
       "      <td>2,546.00</td>\n",
       "      <td>1,204.42</td>\n",
       "      <td>31.82</td>\n",
       "      <td>1,064.40</td>\n",
       "      <td>110.28</td>\n",
       "      <td>130.61</td>\n",
       "      <td>15420</td>\n",
       "    </tr>\n",
       "    <tr>\n",
       "      <th>1</th>\n",
       "      <td>2011-09-02</td>\n",
       "      <td>12934100</td>\n",
       "      <td>7.26</td>\n",
       "      <td>1.23</td>\n",
       "      <td>-7185878000</td>\n",
       "      <td>2125969000</td>\n",
       "      <td>-11377060000</td>\n",
       "      <td>16436969000</td>\n",
       "      <td>1000</td>\n",
       "      <td>2,480.30</td>\n",
       "      <td>1,173.97</td>\n",
       "      <td>33.92</td>\n",
       "      <td>1,065.60</td>\n",
       "      <td>110.25</td>\n",
       "      <td>131.30</td>\n",
       "      <td>15380</td>\n",
       "    </tr>\n",
       "    <tr>\n",
       "      <th>2</th>\n",
       "      <td>2011-09-05</td>\n",
       "      <td>13874400</td>\n",
       "      <td>6.90</td>\n",
       "      <td>1.17</td>\n",
       "      <td>-975699000</td>\n",
       "      <td>-215641000</td>\n",
       "      <td>29370756000</td>\n",
       "      <td>-28179416000</td>\n",
       "      <td>580</td>\n",
       "      <td>2,480.30</td>\n",
       "      <td>1,173.97</td>\n",
       "      <td>33.92</td>\n",
       "      <td>1,065.60</td>\n",
       "      <td>110.25</td>\n",
       "      <td>131.30</td>\n",
       "      <td>14620</td>\n",
       "    </tr>\n",
       "    <tr>\n",
       "      <th>3</th>\n",
       "      <td>2011-09-06</td>\n",
       "      <td>13225250</td>\n",
       "      <td>6.86</td>\n",
       "      <td>1.17</td>\n",
       "      <td>2349662000</td>\n",
       "      <td>-1299409000</td>\n",
       "      <td>13839817000</td>\n",
       "      <td>-14890070000</td>\n",
       "      <td>1260</td>\n",
       "      <td>2,473.80</td>\n",
       "      <td>1,165.24</td>\n",
       "      <td>37.00</td>\n",
       "      <td>1,074.65</td>\n",
       "      <td>110.27</td>\n",
       "      <td>131.22</td>\n",
       "      <td>14540</td>\n",
       "    </tr>\n",
       "    <tr>\n",
       "      <th>4</th>\n",
       "      <td>2011-09-07</td>\n",
       "      <td>17575200</td>\n",
       "      <td>7.29</td>\n",
       "      <td>1.24</td>\n",
       "      <td>113232351000</td>\n",
       "      <td>1123519000</td>\n",
       "      <td>-77907268000</td>\n",
       "      <td>-36448602000</td>\n",
       "      <td>1300</td>\n",
       "      <td>2,548.90</td>\n",
       "      <td>1,198.62</td>\n",
       "      <td>33.38</td>\n",
       "      <td>1,069.65</td>\n",
       "      <td>110.27</td>\n",
       "      <td>130.89</td>\n",
       "      <td>15460</td>\n",
       "    </tr>\n",
       "    <tr>\n",
       "      <th>...</th>\n",
       "      <td>...</td>\n",
       "      <td>...</td>\n",
       "      <td>...</td>\n",
       "      <td>...</td>\n",
       "      <td>...</td>\n",
       "      <td>...</td>\n",
       "      <td>...</td>\n",
       "      <td>...</td>\n",
       "      <td>...</td>\n",
       "      <td>...</td>\n",
       "      <td>...</td>\n",
       "      <td>...</td>\n",
       "      <td>...</td>\n",
       "      <td>...</td>\n",
       "      <td>...</td>\n",
       "      <td>...</td>\n",
       "    </tr>\n",
       "    <tr>\n",
       "      <th>2456</th>\n",
       "      <td>2021-08-25</td>\n",
       "      <td>22319664</td>\n",
       "      <td>19.71</td>\n",
       "      <td>1.92</td>\n",
       "      <td>-76990474100</td>\n",
       "      <td>-8894667500</td>\n",
       "      <td>82373232300</td>\n",
       "      <td>3511909300</td>\n",
       "      <td>2000</td>\n",
       "      <td>15,041.90</td>\n",
       "      <td>4,496.19</td>\n",
       "      <td>16.79</td>\n",
       "      <td>1,163.87</td>\n",
       "      <td>110.25</td>\n",
       "      <td>133.63</td>\n",
       "      <td>75700</td>\n",
       "    </tr>\n",
       "    <tr>\n",
       "      <th>2457</th>\n",
       "      <td>2021-08-26</td>\n",
       "      <td>16671494</td>\n",
       "      <td>19.42</td>\n",
       "      <td>1.89</td>\n",
       "      <td>-55566537800</td>\n",
       "      <td>9344981600</td>\n",
       "      <td>142574757300</td>\n",
       "      <td>-96353201100</td>\n",
       "      <td>1900</td>\n",
       "      <td>14,945.80</td>\n",
       "      <td>4,469.91</td>\n",
       "      <td>18.84</td>\n",
       "      <td>1,170.53</td>\n",
       "      <td>110.25</td>\n",
       "      <td>133.59</td>\n",
       "      <td>74600</td>\n",
       "    </tr>\n",
       "    <tr>\n",
       "      <th>2458</th>\n",
       "      <td>2021-08-27</td>\n",
       "      <td>15172748</td>\n",
       "      <td>19.34</td>\n",
       "      <td>1.89</td>\n",
       "      <td>173118394100</td>\n",
       "      <td>10372274300</td>\n",
       "      <td>1510887500</td>\n",
       "      <td>-185001555900</td>\n",
       "      <td>1200</td>\n",
       "      <td>15,129.50</td>\n",
       "      <td>4,509.37</td>\n",
       "      <td>16.39</td>\n",
       "      <td>1,161.23</td>\n",
       "      <td>110.30</td>\n",
       "      <td>133.89</td>\n",
       "      <td>74300</td>\n",
       "    </tr>\n",
       "    <tr>\n",
       "      <th>2459</th>\n",
       "      <td>2021-08-30</td>\n",
       "      <td>12686999</td>\n",
       "      <td>19.42</td>\n",
       "      <td>1.89</td>\n",
       "      <td>24586418600</td>\n",
       "      <td>-2401179400</td>\n",
       "      <td>54715193800</td>\n",
       "      <td>-76900433000</td>\n",
       "      <td>2500</td>\n",
       "      <td>15,265.90</td>\n",
       "      <td>4,528.79</td>\n",
       "      <td>16.19</td>\n",
       "      <td>1,164.34</td>\n",
       "      <td>110.32</td>\n",
       "      <td>134.13</td>\n",
       "      <td>74600</td>\n",
       "    </tr>\n",
       "    <tr>\n",
       "      <th>2460</th>\n",
       "      <td>2021-08-31</td>\n",
       "      <td>24630370</td>\n",
       "      <td>19.97</td>\n",
       "      <td>1.95</td>\n",
       "      <td>-153079724000</td>\n",
       "      <td>7948320600</td>\n",
       "      <td>-214935849500</td>\n",
       "      <td>360067252900</td>\n",
       "      <td>2500</td>\n",
       "      <td>15,259.20</td>\n",
       "      <td>4,522.68</td>\n",
       "      <td>16.48</td>\n",
       "      <td>1,158.73</td>\n",
       "      <td>110.32</td>\n",
       "      <td>134.05</td>\n",
       "      <td>76700</td>\n",
       "    </tr>\n",
       "  </tbody>\n",
       "</table>\n",
       "<p>2461 rows × 16 columns</p>\n",
       "</div>"
      ],
      "text/plain": [
       "           DATE       거래량    PER   PBR         기관 합계         기타법인  \\\n",
       "0    2011-09-01  35870550   7.27  1.24  -83833734000  -8749641000   \n",
       "1    2011-09-02  12934100   7.26  1.23   -7185878000   2125969000   \n",
       "2    2011-09-05  13874400   6.90  1.17    -975699000   -215641000   \n",
       "3    2011-09-06  13225250   6.86  1.17    2349662000  -1299409000   \n",
       "4    2011-09-07  17575200   7.29  1.24  113232351000   1123519000   \n",
       "...         ...       ...    ...   ...           ...          ...   \n",
       "2456 2021-08-25  22319664  19.71  1.92  -76990474100  -8894667500   \n",
       "2457 2021-08-26  16671494  19.42  1.89  -55566537800   9344981600   \n",
       "2458 2021-08-27  15172748  19.34  1.89  173118394100  10372274300   \n",
       "2459 2021-08-30  12686999  19.42  1.89   24586418600  -2401179400   \n",
       "2460 2021-08-31  24630370  19.97  1.95 -153079724000   7948320600   \n",
       "\n",
       "                개인        외국인 합계   ATR     NASDAQ       S&P   CBOE  \\\n",
       "0    -177822918000  270406293000   880   2,546.00  1,204.42  31.82   \n",
       "1     -11377060000   16436969000  1000   2,480.30  1,173.97  33.92   \n",
       "2      29370756000  -28179416000   580   2,480.30  1,173.97  33.92   \n",
       "3      13839817000  -14890070000  1260   2,473.80  1,165.24  37.00   \n",
       "4     -77907268000  -36448602000  1300   2,548.90  1,198.62  33.38   \n",
       "...            ...           ...   ...        ...       ...    ...   \n",
       "2456   82373232300    3511909300  2000  15,041.90  4,496.19  16.79   \n",
       "2457  142574757300  -96353201100  1900  14,945.80  4,469.91  18.84   \n",
       "2458    1510887500 -185001555900  1200  15,129.50  4,509.37  16.39   \n",
       "2459   54715193800  -76900433000  2500  15,265.90  4,528.79  16.19   \n",
       "2460 -214935849500  360067252900  2500  15,259.20  4,522.68  16.48   \n",
       "\n",
       "     Exchange rate  futures2y  futures10y      y  \n",
       "0         1,064.40     110.28      130.61  15420  \n",
       "1         1,065.60     110.25      131.30  15380  \n",
       "2         1,065.60     110.25      131.30  14620  \n",
       "3         1,074.65     110.27      131.22  14540  \n",
       "4         1,069.65     110.27      130.89  15460  \n",
       "...            ...        ...         ...    ...  \n",
       "2456      1,163.87     110.25      133.63  75700  \n",
       "2457      1,170.53     110.25      133.59  74600  \n",
       "2458      1,161.23     110.30      133.89  74300  \n",
       "2459      1,164.34     110.32      134.13  74600  \n",
       "2460      1,158.73     110.32      134.05  76700  \n",
       "\n",
       "[2461 rows x 16 columns]"
      ]
     },
     "execution_count": 71,
     "metadata": {},
     "output_type": "execute_result"
    }
   ],
   "source": [
    "data = pd.read_excel('./data/samsung.xlsx')\n",
    "data"
   ]
  },
  {
   "cell_type": "code",
   "execution_count": 73,
   "metadata": {},
   "outputs": [
    {
     "name": "stdout",
     "output_type": "stream",
     "text": [
      "<class 'pandas.core.frame.DataFrame'>\n",
      "RangeIndex: 2461 entries, 0 to 2460\n",
      "Data columns (total 16 columns):\n",
      " #   Column         Non-Null Count  Dtype         \n",
      "---  ------         --------------  -----         \n",
      " 0   DATE           2461 non-null   datetime64[ns]\n",
      " 1   거래량            2461 non-null   int64         \n",
      " 2   PER            2461 non-null   float64       \n",
      " 3   PBR            2461 non-null   float64       \n",
      " 4   기관 합계          2461 non-null   int64         \n",
      " 5   기타법인           2461 non-null   int64         \n",
      " 6   개인             2461 non-null   int64         \n",
      " 7   외국인 합계         2461 non-null   int64         \n",
      " 8   ATR            2461 non-null   int64         \n",
      " 9   NASDAQ         2461 non-null   object        \n",
      " 10  S&P            2461 non-null   object        \n",
      " 11  CBOE           2461 non-null   float64       \n",
      " 12  Exchange rate  2461 non-null   object        \n",
      " 13  futures2y      2461 non-null   float64       \n",
      " 14  futures10y     2461 non-null   float64       \n",
      " 15  y              2461 non-null   int64         \n",
      "dtypes: datetime64[ns](1), float64(5), int64(7), object(3)\n",
      "memory usage: 307.8+ KB\n"
     ]
    }
   ],
   "source": [
    "data.info()"
   ]
  },
  {
   "cell_type": "code",
   "execution_count": 74,
   "metadata": {
    "scrolled": true
   },
   "outputs": [],
   "source": [
    "# 실수형으로 변환\n",
    "\n",
    "data['CBOE'] = data['CBOE'].astype('float')\n",
    "data['futures2y'] = data['futures2y'].astype('float')\n",
    "data['futures10y'] = data['futures10y'].astype('float')"
   ]
  },
  {
   "cell_type": "code",
   "execution_count": 75,
   "metadata": {
    "scrolled": true
   },
   "outputs": [],
   "source": [
    "# 실수형으로 변환(값에 ','가 포함된 경우)\n",
    "\n",
    "data['NASDAQ'] = data['NASDAQ'].str.replace(',', '').astype(float)\n",
    "data['S&P'] = data['S&P'].str.replace(',', '').astype(float)\n",
    "data['Exchange rate'] = data['Exchange rate'].str.replace(',', '').astype(float)"
   ]
  },
  {
   "cell_type": "code",
   "execution_count": 76,
   "metadata": {
    "id": "7INm1u1sTtQH"
   },
   "outputs": [],
   "source": [
    "scaler = MinMaxScaler()"
   ]
  },
  {
   "cell_type": "code",
   "execution_count": 77,
   "metadata": {
    "id": "LlyJbMMvT5Wv"
   },
   "outputs": [],
   "source": [
    "scale_cols = ['거래량', 'PER', 'PBR', '기관 합계', '기타법인', '개인', '외국인 합계', 'ATR', 'NASDAQ', 'S&P', 'CBOE', 'Exchange rate', 'futures2y', 'futures10y', 'y']"
   ]
  },
  {
   "cell_type": "code",
   "execution_count": 78,
   "metadata": {
    "colab": {
     "base_uri": "https://localhost:8080/"
    },
    "id": "QufpuJmUUfW2",
    "outputId": "b8b563fe-135d-4beb-9a20-cccc14dd880a",
    "scrolled": true
   },
   "outputs": [
    {
     "data": {
      "text/plain": [
       "array([[0.37435295, 0.07735281, 0.07361963, ..., 0.95700935, 0.57105031,\n",
       "        0.01150929],\n",
       "       [0.11073659, 0.07692308, 0.06748466, ..., 0.95140187, 0.60150044,\n",
       "        0.01098614],\n",
       "       [0.12154377, 0.06145251, 0.03067485, ..., 0.95140187, 0.60150044,\n",
       "        0.0010463 ],\n",
       "       ...,\n",
       "       [0.13646612, 0.59604641, 0.47239264, ..., 0.96074766, 0.71579876,\n",
       "        0.78158514],\n",
       "       [0.10789657, 0.59948431, 0.47239264, ..., 0.96448598, 0.72639011,\n",
       "        0.78550876],\n",
       "       [0.24516577, 0.6231199 , 0.50920245, ..., 0.96448598, 0.72285966,\n",
       "        0.8129741 ]])"
      ]
     },
     "execution_count": 78,
     "metadata": {},
     "output_type": "execute_result"
    }
   ],
   "source": [
    "scaled = scaler.fit_transform(data[scale_cols])\n",
    "scaled"
   ]
  },
  {
   "cell_type": "code",
   "execution_count": 79,
   "metadata": {
    "id": "4sdnuwYIUh8u"
   },
   "outputs": [],
   "source": [
    "df = pd.DataFrame(scaled, columns=scale_cols)"
   ]
  },
  {
   "cell_type": "code",
   "execution_count": 80,
   "metadata": {
    "id": "Qed_t_AeV9ZH"
   },
   "outputs": [],
   "source": [
    "x_train, x_test, y_train, y_test = train_test_split(df.drop('y', 1), df['y'], test_size=0.2, random_state=0, shuffle=False)"
   ]
  },
  {
   "cell_type": "code",
   "execution_count": 81,
   "metadata": {
    "colab": {
     "base_uri": "https://localhost:8080/"
    },
    "id": "oNv0hRddWAP_",
    "outputId": "ac42ef5a-fcdb-483c-c680-13ccfe32bff4"
   },
   "outputs": [
    {
     "data": {
      "text/plain": [
       "((1968, 14), (1968,), (493, 14), (493,))"
      ]
     },
     "execution_count": 81,
     "metadata": {},
     "output_type": "execute_result"
    }
   ],
   "source": [
    "x_train.shape, y_train.shape, x_test.shape, y_test.shape"
   ]
  },
  {
   "cell_type": "code",
   "execution_count": 82,
   "metadata": {
    "id": "lpJ1UjDqWFbn"
   },
   "outputs": [],
   "source": [
    "def windowed_dataset(series, window_size, batch_size, shuffle):\n",
    "    series = tf.expand_dims(series, axis=-1)\n",
    "    ds = tf.data.Dataset.from_tensor_slices(series)\n",
    "    ds = ds.window(window_size + 1, shift=1, drop_remainder=True)\n",
    "    ds = ds.flat_map(lambda w: w.batch(window_size + 1))\n",
    "    if shuffle:\n",
    "        ds = ds.shuffle(1000)\n",
    "    ds = ds.map(lambda w: (w[:-1], w[-1]))\n",
    "    return ds.batch(batch_size).prefetch(1)"
   ]
  },
  {
   "cell_type": "code",
   "execution_count": 83,
   "metadata": {
    "id": "U55izni6WI9_"
   },
   "outputs": [],
   "source": [
    "WINDOW_SIZE=20\n",
    "BATCH_SIZE=32"
   ]
  },
  {
   "cell_type": "code",
   "execution_count": 84,
   "metadata": {
    "id": "tPb1RIjeWLLH"
   },
   "outputs": [],
   "source": [
    "train_data = windowed_dataset(y_train, WINDOW_SIZE, BATCH_SIZE, True)\n",
    "test_data = windowed_dataset(y_test, WINDOW_SIZE, BATCH_SIZE, False)"
   ]
  },
  {
   "cell_type": "code",
   "execution_count": 85,
   "metadata": {
    "colab": {
     "base_uri": "https://localhost:8080/"
    },
    "id": "wgQW-BaiWNMP",
    "outputId": "b55f0185-9eaf-449e-f410-ec9757f8158a"
   },
   "outputs": [
    {
     "name": "stdout",
     "output_type": "stream",
     "text": [
      "데이터셋(X) 구성(batch_size, window_size, feature갯수): (32, 20, 1)\n",
      "데이터셋(Y) 구성(batch_size, window_size, feature갯수): (32, 1)\n"
     ]
    }
   ],
   "source": [
    "for data in train_data.take(1):\n",
    "    print(f'데이터셋(X) 구성(batch_size, window_size, feature갯수): {data[0].shape}')\n",
    "    print(f'데이터셋(Y) 구성(batch_size, window_size, feature갯수): {data[1].shape}')"
   ]
  },
  {
   "cell_type": "code",
   "execution_count": 86,
   "metadata": {
    "id": "N0KzBMj5WPin"
   },
   "outputs": [],
   "source": [
    "from tensorflow.keras.models import Sequential\n",
    "from tensorflow.keras.layers import Dense, LSTM, Conv1D, Lambda\n",
    "from tensorflow.keras.losses import Huber\n",
    "from tensorflow.keras.optimizers import Adam\n",
    "from tensorflow.keras.callbacks import EarlyStopping, ModelCheckpoint\n",
    "\n",
    "model = Sequential([\n",
    "    # 1차원 feature map 생성\n",
    "    Conv1D(filters=32, kernel_size=5,\n",
    "           padding=\"causal\",\n",
    "           activation=\"relu\",\n",
    "           input_shape=[WINDOW_SIZE, 1]),\n",
    "    # LSTM\n",
    "    LSTM(16, activation='tanh'),\n",
    "    Dense(16, activation=\"relu\"),\n",
    "    Dense(1),\n",
    "])"
   ]
  },
  {
   "cell_type": "code",
   "execution_count": 87,
   "metadata": {
    "id": "Za90FsTRWSP_"
   },
   "outputs": [],
   "source": [
    "loss = Huber()\n",
    "optimizer = Adam(0.0005)\n",
    "model.compile(loss=Huber(), optimizer=optimizer, metrics=['mse'])"
   ]
  },
  {
   "cell_type": "code",
   "execution_count": 88,
   "metadata": {
    "id": "T5Sru53qWU5v"
   },
   "outputs": [],
   "source": [
    "earlystopping = EarlyStopping(monitor='val_loss', patience=10)\n",
    "filename = os.path.join('tmp', 'ckeckpointer.ckpt')\n",
    "checkpoint = ModelCheckpoint(filename, \n",
    "                             save_weights_only=True, \n",
    "                             save_best_only=True, \n",
    "                             monitor='val_loss', \n",
    "                             verbose=1)"
   ]
  },
  {
   "cell_type": "code",
   "execution_count": 89,
   "metadata": {
    "colab": {
     "base_uri": "https://localhost:8080/"
    },
    "id": "2srj41YlWXBf",
    "outputId": "f32823f9-7864-4b68-a488-02487a3b851e"
   },
   "outputs": [
    {
     "name": "stdout",
     "output_type": "stream",
     "text": [
      "Epoch 1/50\n",
      "61/61 [==============================] - 7s 28ms/step - loss: 0.0046 - mse: 0.0092 - val_loss: 0.0171 - val_mse: 0.0341\n",
      "\n",
      "Epoch 00001: val_loss improved from inf to 0.01706, saving model to tmp\\ckeckpointer.ckpt\n",
      "Epoch 2/50\n",
      "61/61 [==============================] - 1s 12ms/step - loss: 4.2830e-04 - mse: 8.5660e-04 - val_loss: 0.0050 - val_mse: 0.0100\n",
      "\n",
      "Epoch 00002: val_loss improved from 0.01706 to 0.00498, saving model to tmp\\ckeckpointer.ckpt\n",
      "Epoch 3/50\n",
      "61/61 [==============================] - 1s 11ms/step - loss: 1.3090e-04 - mse: 2.6179e-04 - val_loss: 0.0049 - val_mse: 0.0098\n",
      "\n",
      "Epoch 00003: val_loss improved from 0.00498 to 0.00492, saving model to tmp\\ckeckpointer.ckpt\n",
      "Epoch 4/50\n",
      "61/61 [==============================] - 1s 11ms/step - loss: 1.2627e-04 - mse: 2.5254e-04 - val_loss: 0.0043 - val_mse: 0.0085\n",
      "\n",
      "Epoch 00004: val_loss improved from 0.00492 to 0.00425, saving model to tmp\\ckeckpointer.ckpt\n",
      "Epoch 5/50\n",
      "61/61 [==============================] - 1s 10ms/step - loss: 1.2596e-04 - mse: 2.5191e-04 - val_loss: 0.0045 - val_mse: 0.0090\n",
      "\n",
      "Epoch 00005: val_loss did not improve from 0.00425\n",
      "Epoch 6/50\n",
      "61/61 [==============================] - 1s 13ms/step - loss: 1.2326e-04 - mse: 2.4653e-04 - val_loss: 0.0041 - val_mse: 0.0082\n",
      "\n",
      "Epoch 00006: val_loss improved from 0.00425 to 0.00409, saving model to tmp\\ckeckpointer.ckpt\n",
      "Epoch 7/50\n",
      "61/61 [==============================] - 1s 12ms/step - loss: 1.2299e-04 - mse: 2.4597e-04 - val_loss: 0.0042 - val_mse: 0.0083\n",
      "\n",
      "Epoch 00007: val_loss did not improve from 0.00409\n",
      "Epoch 8/50\n",
      "61/61 [==============================] - 1s 11ms/step - loss: 1.2045e-04 - mse: 2.4090e-04 - val_loss: 0.0046 - val_mse: 0.0091\n",
      "\n",
      "Epoch 00008: val_loss did not improve from 0.00409\n",
      "Epoch 9/50\n",
      "61/61 [==============================] - 1s 11ms/step - loss: 1.2007e-04 - mse: 2.4015e-04 - val_loss: 0.0042 - val_mse: 0.0085\n",
      "\n",
      "Epoch 00009: val_loss did not improve from 0.00409\n",
      "Epoch 10/50\n",
      "61/61 [==============================] - 1s 12ms/step - loss: 1.1550e-04 - mse: 2.3101e-04 - val_loss: 0.0041 - val_mse: 0.0083\n",
      "\n",
      "Epoch 00010: val_loss did not improve from 0.00409\n",
      "Epoch 11/50\n",
      "61/61 [==============================] - 1s 10ms/step - loss: 1.1657e-04 - mse: 2.3313e-04 - val_loss: 0.0041 - val_mse: 0.0081\n",
      "\n",
      "Epoch 00011: val_loss improved from 0.00409 to 0.00407, saving model to tmp\\ckeckpointer.ckpt\n",
      "Epoch 12/50\n",
      "61/61 [==============================] - 1s 12ms/step - loss: 1.1395e-04 - mse: 2.2790e-04 - val_loss: 0.0032 - val_mse: 0.0064\n",
      "\n",
      "Epoch 00012: val_loss improved from 0.00407 to 0.00320, saving model to tmp\\ckeckpointer.ckpt\n",
      "Epoch 13/50\n",
      "61/61 [==============================] - 1s 11ms/step - loss: 1.1219e-04 - mse: 2.2438e-04 - val_loss: 0.0032 - val_mse: 0.0065\n",
      "\n",
      "Epoch 00013: val_loss did not improve from 0.00320\n",
      "Epoch 14/50\n",
      "61/61 [==============================] - 1s 11ms/step - loss: 1.1028e-04 - mse: 2.2055e-04 - val_loss: 0.0032 - val_mse: 0.0065\n",
      "\n",
      "Epoch 00014: val_loss did not improve from 0.00320\n",
      "Epoch 15/50\n",
      "61/61 [==============================] - 1s 13ms/step - loss: 1.1026e-04 - mse: 2.2052e-04 - val_loss: 0.0033 - val_mse: 0.0067\n",
      "\n",
      "Epoch 00015: val_loss did not improve from 0.00320\n",
      "Epoch 16/50\n",
      "61/61 [==============================] - 1s 13ms/step - loss: 1.0700e-04 - mse: 2.1400e-04 - val_loss: 0.0029 - val_mse: 0.0059\n",
      "\n",
      "Epoch 00016: val_loss improved from 0.00320 to 0.00294, saving model to tmp\\ckeckpointer.ckpt\n",
      "Epoch 17/50\n",
      "61/61 [==============================] - 1s 11ms/step - loss: 1.0980e-04 - mse: 2.1960e-04 - val_loss: 0.0028 - val_mse: 0.0056\n",
      "\n",
      "Epoch 00017: val_loss improved from 0.00294 to 0.00281, saving model to tmp\\ckeckpointer.ckpt\n",
      "Epoch 18/50\n",
      "61/61 [==============================] - 1s 11ms/step - loss: 1.0696e-04 - mse: 2.1392e-04 - val_loss: 0.0024 - val_mse: 0.0048\n",
      "\n",
      "Epoch 00018: val_loss improved from 0.00281 to 0.00242, saving model to tmp\\ckeckpointer.ckpt\n",
      "Epoch 19/50\n",
      "61/61 [==============================] - 1s 13ms/step - loss: 1.0261e-04 - mse: 2.0522e-04 - val_loss: 0.0029 - val_mse: 0.0058\n",
      "\n",
      "Epoch 00019: val_loss did not improve from 0.00242\n",
      "Epoch 20/50\n",
      "61/61 [==============================] - 1s 17ms/step - loss: 1.0406e-04 - mse: 2.0812e-04 - val_loss: 0.0024 - val_mse: 0.0049\n",
      "\n",
      "Epoch 00020: val_loss did not improve from 0.00242\n",
      "Epoch 21/50\n",
      "61/61 [==============================] - 1s 16ms/step - loss: 1.0459e-04 - mse: 2.0919e-04 - val_loss: 0.0021 - val_mse: 0.0043\n",
      "\n",
      "Epoch 00021: val_loss improved from 0.00242 to 0.00215, saving model to tmp\\ckeckpointer.ckpt\n",
      "Epoch 22/50\n",
      "61/61 [==============================] - 1s 11ms/step - loss: 1.1030e-04 - mse: 2.2059e-04 - val_loss: 0.0024 - val_mse: 0.0048\n",
      "\n",
      "Epoch 00022: val_loss did not improve from 0.00215\n",
      "Epoch 23/50\n",
      "61/61 [==============================] - 1s 11ms/step - loss: 1.0241e-04 - mse: 2.0482e-04 - val_loss: 0.0028 - val_mse: 0.0056\n",
      "\n",
      "Epoch 00023: val_loss did not improve from 0.00215\n",
      "Epoch 24/50\n",
      "61/61 [==============================] - 1s 12ms/step - loss: 9.7695e-05 - mse: 1.9539e-04 - val_loss: 0.0025 - val_mse: 0.0050\n",
      "\n",
      "Epoch 00024: val_loss did not improve from 0.00215\n",
      "Epoch 25/50\n",
      "61/61 [==============================] - 1s 10ms/step - loss: 9.6527e-05 - mse: 1.9305e-04 - val_loss: 0.0023 - val_mse: 0.0047\n",
      "\n",
      "Epoch 00025: val_loss did not improve from 0.00215\n",
      "Epoch 26/50\n",
      "61/61 [==============================] - 1s 14ms/step - loss: 9.4520e-05 - mse: 1.8904e-04 - val_loss: 0.0025 - val_mse: 0.0049\n",
      "\n",
      "Epoch 00026: val_loss did not improve from 0.00215\n",
      "Epoch 27/50\n",
      "61/61 [==============================] - 1s 15ms/step - loss: 8.9390e-05 - mse: 1.7878e-04 - val_loss: 0.0023 - val_mse: 0.0045\n",
      "\n",
      "Epoch 00027: val_loss did not improve from 0.00215\n",
      "Epoch 28/50\n",
      "61/61 [==============================] - 1s 10ms/step - loss: 8.8978e-05 - mse: 1.7796e-04 - val_loss: 0.0023 - val_mse: 0.0046\n",
      "\n",
      "Epoch 00028: val_loss did not improve from 0.00215\n",
      "Epoch 29/50\n",
      "61/61 [==============================] - 1s 16ms/step - loss: 8.6981e-05 - mse: 1.7396e-04 - val_loss: 0.0027 - val_mse: 0.0055\n",
      "\n",
      "Epoch 00029: val_loss did not improve from 0.00215\n",
      "Epoch 30/50\n",
      "61/61 [==============================] - 1s 12ms/step - loss: 8.5719e-05 - mse: 1.7144e-04 - val_loss: 0.0020 - val_mse: 0.0040\n",
      "\n",
      "Epoch 00030: val_loss improved from 0.00215 to 0.00202, saving model to tmp\\ckeckpointer.ckpt\n",
      "Epoch 31/50\n",
      "61/61 [==============================] - 1s 12ms/step - loss: 8.4758e-05 - mse: 1.6952e-04 - val_loss: 0.0016 - val_mse: 0.0033\n",
      "\n",
      "Epoch 00031: val_loss improved from 0.00202 to 0.00164, saving model to tmp\\ckeckpointer.ckpt\n",
      "Epoch 32/50\n",
      "61/61 [==============================] - 1s 16ms/step - loss: 8.3603e-05 - mse: 1.6721e-04 - val_loss: 0.0016 - val_mse: 0.0033\n",
      "\n",
      "Epoch 00032: val_loss improved from 0.00164 to 0.00163, saving model to tmp\\ckeckpointer.ckpt\n",
      "Epoch 33/50\n",
      "61/61 [==============================] - 1s 15ms/step - loss: 8.3867e-05 - mse: 1.6773e-04 - val_loss: 0.0022 - val_mse: 0.0044\n",
      "\n",
      "Epoch 00033: val_loss did not improve from 0.00163\n",
      "Epoch 34/50\n",
      "61/61 [==============================] - 1s 12ms/step - loss: 8.0458e-05 - mse: 1.6092e-04 - val_loss: 0.0015 - val_mse: 0.0031\n",
      "\n",
      "Epoch 00034: val_loss improved from 0.00163 to 0.00155, saving model to tmp\\ckeckpointer.ckpt\n",
      "Epoch 35/50\n",
      "61/61 [==============================] - 1s 11ms/step - loss: 7.6965e-05 - mse: 1.5393e-04 - val_loss: 0.0015 - val_mse: 0.0031\n",
      "\n",
      "Epoch 00035: val_loss improved from 0.00155 to 0.00154, saving model to tmp\\ckeckpointer.ckpt\n",
      "Epoch 36/50\n",
      "61/61 [==============================] - 1s 14ms/step - loss: 7.5922e-05 - mse: 1.5184e-04 - val_loss: 0.0013 - val_mse: 0.0026\n",
      "\n",
      "Epoch 00036: val_loss improved from 0.00154 to 0.00131, saving model to tmp\\ckeckpointer.ckpt\n",
      "Epoch 37/50\n",
      "61/61 [==============================] - ETA: 0s - loss: 7.3329e-05 - mse: 1.4666e-0 - 1s 13ms/step - loss: 7.6354e-05 - mse: 1.5271e-04 - val_loss: 0.0016 - val_mse: 0.0031\n",
      "\n",
      "Epoch 00037: val_loss did not improve from 0.00131\n",
      "Epoch 38/50\n",
      "61/61 [==============================] - 1s 12ms/step - loss: 7.5657e-05 - mse: 1.5131e-04 - val_loss: 0.0015 - val_mse: 0.0029\n",
      "\n",
      "Epoch 00038: val_loss did not improve from 0.00131\n",
      "Epoch 39/50\n",
      "61/61 [==============================] - 1s 13ms/step - loss: 7.2946e-05 - mse: 1.4589e-04 - val_loss: 0.0013 - val_mse: 0.0026\n",
      "\n",
      "Epoch 00039: val_loss improved from 0.00131 to 0.00130, saving model to tmp\\ckeckpointer.ckpt\n"
     ]
    },
    {
     "name": "stdout",
     "output_type": "stream",
     "text": [
      "Epoch 40/50\n",
      "61/61 [==============================] - 1s 13ms/step - loss: 6.9953e-05 - mse: 1.3991e-04 - val_loss: 0.0010 - val_mse: 0.0021\n",
      "\n",
      "Epoch 00040: val_loss improved from 0.00130 to 0.00104, saving model to tmp\\ckeckpointer.ckpt\n",
      "Epoch 41/50\n",
      "61/61 [==============================] - 1s 11ms/step - loss: 7.3014e-05 - mse: 1.4603e-04 - val_loss: 0.0012 - val_mse: 0.0024\n",
      "\n",
      "Epoch 00041: val_loss did not improve from 0.00104\n",
      "Epoch 42/50\n",
      "61/61 [==============================] - 1s 11ms/step - loss: 7.0661e-05 - mse: 1.4132e-04 - val_loss: 0.0015 - val_mse: 0.0030\n",
      "\n",
      "Epoch 00042: val_loss did not improve from 0.00104\n",
      "Epoch 43/50\n",
      "61/61 [==============================] - 1s 12ms/step - loss: 6.8894e-05 - mse: 1.3779e-04 - val_loss: 9.9319e-04 - val_mse: 0.0020\n",
      "\n",
      "Epoch 00043: val_loss improved from 0.00104 to 0.00099, saving model to tmp\\ckeckpointer.ckpt\n",
      "Epoch 44/50\n",
      "61/61 [==============================] - 1s 13ms/step - loss: 6.9961e-05 - mse: 1.3992e-04 - val_loss: 0.0011 - val_mse: 0.0022\n",
      "\n",
      "Epoch 00044: val_loss did not improve from 0.00099\n",
      "Epoch 45/50\n",
      "61/61 [==============================] - 1s 10ms/step - loss: 6.6981e-05 - mse: 1.3396e-04 - val_loss: 0.0013 - val_mse: 0.0026\n",
      "\n",
      "Epoch 00045: val_loss did not improve from 0.00099\n",
      "Epoch 46/50\n",
      "61/61 [==============================] - 1s 11ms/step - loss: 6.7228e-05 - mse: 1.3446e-04 - val_loss: 0.0013 - val_mse: 0.0026\n",
      "\n",
      "Epoch 00046: val_loss did not improve from 0.00099\n",
      "Epoch 47/50\n",
      "61/61 [==============================] - 1s 11ms/step - loss: 6.8736e-05 - mse: 1.3747e-04 - val_loss: 0.0011 - val_mse: 0.0023\n",
      "\n",
      "Epoch 00047: val_loss did not improve from 0.00099\n",
      "Epoch 48/50\n",
      "61/61 [==============================] - 1s 13ms/step - loss: 6.4604e-05 - mse: 1.2921e-04 - val_loss: 0.0013 - val_mse: 0.0027\n",
      "\n",
      "Epoch 00048: val_loss did not improve from 0.00099\n",
      "Epoch 49/50\n",
      "61/61 [==============================] - 1s 14ms/step - loss: 7.6766e-05 - mse: 1.5353e-04 - val_loss: 7.4970e-04 - val_mse: 0.0015\n",
      "\n",
      "Epoch 00049: val_loss improved from 0.00099 to 0.00075, saving model to tmp\\ckeckpointer.ckpt\n",
      "Epoch 50/50\n",
      "61/61 [==============================] - 1s 14ms/step - loss: 6.5677e-05 - mse: 1.3135e-04 - val_loss: 7.8142e-04 - val_mse: 0.0016\n",
      "\n",
      "Epoch 00050: val_loss did not improve from 0.00075\n"
     ]
    }
   ],
   "source": [
    "history = model.fit(train_data, \n",
    "                    validation_data=(test_data), \n",
    "                    epochs=50, \n",
    "                    callbacks=[checkpoint, earlystopping])"
   ]
  },
  {
   "cell_type": "code",
   "execution_count": 90,
   "metadata": {
    "colab": {
     "base_uri": "https://localhost:8080/"
    },
    "id": "rF7O8hNLWZx3",
    "outputId": "01cb10cf-ac64-49dc-cbf1-5af695c7d2c7"
   },
   "outputs": [
    {
     "data": {
      "text/plain": [
       "<tensorflow.python.training.tracking.util.CheckpointLoadStatus at 0x27558beabb0>"
      ]
     },
     "execution_count": 90,
     "metadata": {},
     "output_type": "execute_result"
    }
   ],
   "source": [
    "model.load_weights(filename)"
   ]
  },
  {
   "cell_type": "code",
   "execution_count": 91,
   "metadata": {
    "id": "Bo6efgfSXHtI"
   },
   "outputs": [],
   "source": [
    "pred = model.predict(test_data)"
   ]
  },
  {
   "cell_type": "code",
   "execution_count": 92,
   "metadata": {
    "colab": {
     "base_uri": "https://localhost:8080/"
    },
    "id": "dzVhSz7ZXJpI",
    "outputId": "572236b9-15e6-4baf-8470-66b0a20e4ef1"
   },
   "outputs": [
    {
     "data": {
      "text/plain": [
       "(473, 1)"
      ]
     },
     "execution_count": 92,
     "metadata": {},
     "output_type": "execute_result"
    }
   ],
   "source": [
    "pred.shape"
   ]
  },
  {
   "cell_type": "code",
   "execution_count": 93,
   "metadata": {
    "colab": {
     "base_uri": "https://localhost:8080/",
     "height": 54
    },
    "id": "CsZEi_1GXL9t",
    "outputId": "f8e91b31-3b8c-472c-fc24-93c0d489a1f4"
   },
   "outputs": [
    {
     "data": {
      "image/png": "[encoded data removed]",
      "text/plain": [
       "<Figure size 864x648 with 1 Axes>"
      ]
     },
     "metadata": {
      "needs_background": "light"
     },
     "output_type": "display_data"
    }
   ],
   "source": [
    "import matplotlib.pyplot as plt\n",
    "plt.figure(figsize=(12, 9))\n",
    "plt.plot(np.asarray(y_test)[20:], label='actual')\n",
    "plt.plot(pred, label='prediction')\n",
    "plt.legend()\n",
    "plt.show()"
   ]
  },
  {
   "cell_type": "code",
   "execution_count": null,
   "metadata": {},
   "outputs": [],
   "source": []
  }
 ],
 "metadata": {
  "colab": {
   "collapsed_sections": [],
   "name": "deeplearn.ipynb",
   "provenance": []
  },
  "kernelspec": {
   "display_name": "Python 3",
   "language": "python",
   "name": "python3"
  },
  "language_info": {
   "codemirror_mode": {
    "name": "ipython",
    "version": 3
   },
   "file_extension": ".py",
   "mimetype": "text/x-python",
   "name": "python",
   "nbconvert_exporter": "python",
   "pygments_lexer": "ipython3",
   "version": "3.8.8"
  }
 },
 "nbformat": 4,
 "nbformat_minor": 1
}
