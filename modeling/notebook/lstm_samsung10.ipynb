{
 "cells": [
  {
   "cell_type": "code",
   "execution_count": 32,
   "metadata": {
    "colab": {
     "base_uri": "https://localhost:8080/"
    },
    "id": "dzhATTc3qK69",
    "outputId": "d45be3f2-f7b7-44f0-a2b8-071826c5a06a"
   },
   "outputs": [],
   "source": [
    "import os\n",
    "import numpy as np\n",
    "import pandas as pd\n",
    "import tensorflow as tf\n",
    "import FinanceDataReader as fdr\n",
    "import matplotlib.pyplot as plt\n",
    "from sklearn.preprocessing import MinMaxScaler\n",
    "from sklearn.model_selection import train_test_split\n",
    "from tensorflow.keras.models import Sequential\n",
    "from tensorflow.keras.layers import Dense, LSTM, Conv1D, Lambda\n",
    "from tensorflow.keras.losses import Huber\n",
    "from tensorflow.keras.optimizers import Adam\n",
    "from tensorflow.keras.callbacks import EarlyStopping, ModelCheckpoint\n",
    "from sklearn.metrics import mean_squared_error\n",
    "from sklearn.metrics import r2_score"
   ]
  },
  {
   "cell_type": "markdown",
   "metadata": {
    "id": "ZnJBSxJXT6sT"
   },
   "source": [
    "# 수집한 데이터"
   ]
  },
  {
   "cell_type": "code",
   "execution_count": 70,
   "metadata": {
    "colab": {
     "base_uri": "https://localhost:8080/",
     "height": 626
    },
    "id": "d-ww6k5PBiVB",
    "outputId": "22eb0595-cf98-46e5-ac3d-a737b9b5b8d9",
    "scrolled": false
   },
   "outputs": [],
   "source": [
    "df = pd.read_excel('./data/samsung10.xlsx')\n",
    "data = df.copy()"
   ]
  },
  {
   "cell_type": "code",
   "execution_count": 34,
   "metadata": {},
   "outputs": [],
   "source": [
    "data = data.drop(index = [2451,2452,2453,2454,2455,2456,2457,2458,2459,2460], axis=0)"
   ]
  },
  {
   "cell_type": "code",
   "execution_count": 35,
   "metadata": {
    "scrolled": true
   },
   "outputs": [
    {
     "name": "stdout",
     "output_type": "stream",
     "text": [
      "<class 'pandas.core.frame.DataFrame'>\n",
      "Int64Index: 2451 entries, 0 to 2450\n",
      "Data columns (total 16 columns):\n",
      " #   Column         Non-Null Count  Dtype         \n",
      "---  ------         --------------  -----         \n",
      " 0   DATE           2451 non-null   datetime64[ns]\n",
      " 1   거래량            2451 non-null   int64         \n",
      " 2   PER            2451 non-null   float64       \n",
      " 3   PBR            2451 non-null   float64       \n",
      " 4   기관 합계          2451 non-null   int64         \n",
      " 5   기타법인           2451 non-null   int64         \n",
      " 6   개인             2451 non-null   int64         \n",
      " 7   외국인 합계         2451 non-null   int64         \n",
      " 8   ATR            2451 non-null   int64         \n",
      " 9   NASDAQ         2451 non-null   object        \n",
      " 10  S&P            2451 non-null   object        \n",
      " 11  CBOE           2451 non-null   float64       \n",
      " 12  Exchange rate  2451 non-null   object        \n",
      " 13  futures2y      2451 non-null   float64       \n",
      " 14  futures10y     2451 non-null   float64       \n",
      " 15  y              2451 non-null   int64         \n",
      "dtypes: datetime64[ns](1), float64(5), int64(7), object(3)\n",
      "memory usage: 325.5+ KB\n"
     ]
    }
   ],
   "source": [
    "data.info()"
   ]
  },
  {
   "cell_type": "code",
   "execution_count": 36,
   "metadata": {
    "scrolled": true
   },
   "outputs": [],
   "source": [
    "# 실수형으로 변환\n",
    "\n",
    "data['CBOE'] = data['CBOE'].astype('float')\n",
    "data['futures2y'] = data['futures2y'].astype('float')\n",
    "data['futures10y'] = data['futures10y'].astype('float')"
   ]
  },
  {
   "cell_type": "code",
   "execution_count": 37,
   "metadata": {
    "scrolled": true
   },
   "outputs": [],
   "source": [
    "# 실수형으로 변환(값에 ','가 포함된 경우)\n",
    "\n",
    "data['NASDAQ'] = data['NASDAQ'].str.replace(',', '').astype(float)\n",
    "data['S&P'] = data['S&P'].str.replace(',', '').astype(float)\n",
    "data['Exchange rate'] = data['Exchange rate'].str.replace(',', '').astype(float)"
   ]
  },
  {
   "cell_type": "code",
   "execution_count": 38,
   "metadata": {
    "id": "7INm1u1sTtQH"
   },
   "outputs": [],
   "source": [
    "scaler = MinMaxScaler()"
   ]
  },
  {
   "cell_type": "code",
   "execution_count": 39,
   "metadata": {
    "id": "LlyJbMMvT5Wv"
   },
   "outputs": [],
   "source": [
    "scale_cols = ['거래량', 'PER', 'PBR', '기관 합계', '기타법인', '개인', '외국인 합계', 'ATR', 'NASDAQ', 'S&P', 'CBOE', 'Exchange rate', 'futures2y', 'futures10y', 'y']"
   ]
  },
  {
   "cell_type": "code",
   "execution_count": 40,
   "metadata": {
    "colab": {
     "base_uri": "https://localhost:8080/"
    },
    "id": "QufpuJmUUfW2",
    "outputId": "b8b563fe-135d-4beb-9a20-cccc14dd880a",
    "scrolled": true
   },
   "outputs": [
    {
     "data": {
      "text/plain": [
       "array([[0.37435295, 0.07735281, 0.07361963, ..., 0.95700935, 0.57105031,\n",
       "        0.01318565],\n",
       "       [0.11073659, 0.07692308, 0.06748466, ..., 0.95140187, 0.60150044,\n",
       "        0.01397679],\n",
       "       [0.12154377, 0.06145251, 0.03067485, ..., 0.95140187, 0.60150044,\n",
       "        0.01450422],\n",
       "       ...,\n",
       "       [0.44899842, 0.6265578 , 0.50920245, ..., 0.94766355, 0.69638129,\n",
       "        0.77979958],\n",
       "       [0.6662848 , 0.59733563, 0.47239264, ..., 0.95327103, 0.7184466 ,\n",
       "        0.78375527],\n",
       "       [0.31774018, 0.59518694, 0.46625767, ..., 0.95327103, 0.7325684 ,\n",
       "        0.81144515]])"
      ]
     },
     "execution_count": 40,
     "metadata": {},
     "output_type": "execute_result"
    }
   ],
   "source": [
    "scaled = scaler.fit_transform(data[scale_cols])\n",
    "scaled"
   ]
  },
  {
   "cell_type": "code",
   "execution_count": 41,
   "metadata": {
    "id": "4sdnuwYIUh8u"
   },
   "outputs": [],
   "source": [
    "df = pd.DataFrame(scaled, columns=scale_cols)"
   ]
  },
  {
   "cell_type": "code",
   "execution_count": 42,
   "metadata": {
    "id": "Qed_t_AeV9ZH"
   },
   "outputs": [],
   "source": [
    "x_train, x_test, y_train, y_test = train_test_split(df.drop('y', 1), df['y'], test_size=0.2, random_state=0, shuffle=False)"
   ]
  },
  {
   "cell_type": "code",
   "execution_count": 43,
   "metadata": {
    "colab": {
     "base_uri": "https://localhost:8080/"
    },
    "id": "oNv0hRddWAP_",
    "outputId": "ac42ef5a-fcdb-483c-c680-13ccfe32bff4"
   },
   "outputs": [
    {
     "data": {
      "text/plain": [
       "((1960, 14), (1960,), (491, 14), (491,))"
      ]
     },
     "execution_count": 43,
     "metadata": {},
     "output_type": "execute_result"
    }
   ],
   "source": [
    "x_train.shape, y_train.shape, x_test.shape, y_test.shape"
   ]
  },
  {
   "cell_type": "code",
   "execution_count": 44,
   "metadata": {
    "id": "lpJ1UjDqWFbn"
   },
   "outputs": [],
   "source": [
    "def windowed_dataset(series, window_size, batch_size, shuffle):\n",
    "    series = tf.expand_dims(series, axis=-1)\n",
    "    ds = tf.data.Dataset.from_tensor_slices(series)\n",
    "    ds = ds.window(window_size + 1, shift=1, drop_remainder=True)\n",
    "    ds = ds.flat_map(lambda w: w.batch(window_size + 1))\n",
    "    if shuffle:\n",
    "        ds = ds.shuffle(1000)\n",
    "    ds = ds.map(lambda w: (w[:-1], w[-1]))\n",
    "    return ds.batch(batch_size).prefetch(1)"
   ]
  },
  {
   "cell_type": "code",
   "execution_count": 45,
   "metadata": {
    "id": "U55izni6WI9_"
   },
   "outputs": [],
   "source": [
    "WINDOW_SIZE=120\n",
    "BATCH_SIZE=32"
   ]
  },
  {
   "cell_type": "code",
   "execution_count": 46,
   "metadata": {
    "id": "tPb1RIjeWLLH"
   },
   "outputs": [],
   "source": [
    "train_data = windowed_dataset(y_train, WINDOW_SIZE, BATCH_SIZE, True)\n",
    "test_data = windowed_dataset(y_test, WINDOW_SIZE, BATCH_SIZE, False)"
   ]
  },
  {
   "cell_type": "code",
   "execution_count": 47,
   "metadata": {
    "colab": {
     "base_uri": "https://localhost:8080/"
    },
    "id": "wgQW-BaiWNMP",
    "outputId": "b55f0185-9eaf-449e-f410-ec9757f8158a"
   },
   "outputs": [
    {
     "name": "stdout",
     "output_type": "stream",
     "text": [
      "데이터셋(X) 구성(batch_size, window_size, feature갯수): (32, 120, 1)\n",
      "데이터셋(Y) 구성(batch_size, window_size, feature갯수): (32, 1)\n"
     ]
    }
   ],
   "source": [
    "for data in train_data.take(1):\n",
    "    print(f'데이터셋(X) 구성(batch_size, window_size, feature갯수): {data[0].shape}')\n",
    "    print(f'데이터셋(Y) 구성(batch_size, window_size, feature갯수): {data[1].shape}')"
   ]
  },
  {
   "cell_type": "code",
   "execution_count": 48,
   "metadata": {
    "id": "N0KzBMj5WPin"
   },
   "outputs": [],
   "source": [
    "model = Sequential([\n",
    "    # 1차원 feature map 생성\n",
    "    Conv1D(filters=32, kernel_size=5,\n",
    "           padding=\"causal\",\n",
    "           activation=\"relu\",\n",
    "           input_shape=[WINDOW_SIZE, 1]),\n",
    "    # LSTM\n",
    "    LSTM(16, activation='tanh'),\n",
    "    Dense(16, activation=\"relu\"),\n",
    "    Dense(1),\n",
    "])"
   ]
  },
  {
   "cell_type": "code",
   "execution_count": 49,
   "metadata": {
    "id": "Za90FsTRWSP_"
   },
   "outputs": [],
   "source": [
    "loss = Huber()\n",
    "optimizer = Adam(0.0005)\n",
    "model.compile(loss=Huber(), optimizer=optimizer, metrics=['mse'])"
   ]
  },
  {
   "cell_type": "code",
   "execution_count": 52,
   "metadata": {
    "id": "T5Sru53qWU5v"
   },
   "outputs": [],
   "source": [
    "earlystopping = EarlyStopping(monitor='val_loss', patience=100, mode='min')\n",
    "filename = os.path.join('tmp', 'ckeckpointer.ckpt')\n",
    "checkpoint = ModelCheckpoint(filename, \n",
    "                             save_weights_only=True, \n",
    "                             save_best_only=True, \n",
    "                             monitor='val_loss', \n",
    "                             verbose=1)"
   ]
  },
  {
   "cell_type": "code",
   "execution_count": 53,
   "metadata": {
    "colab": {
     "base_uri": "https://localhost:8080/"
    },
    "id": "2srj41YlWXBf",
    "outputId": "f32823f9-7864-4b68-a488-02487a3b851e",
    "scrolled": true
   },
   "outputs": [
    {
     "name": "stdout",
     "output_type": "stream",
     "text": [
      "Epoch 1/200\n",
      "58/58 [==============================] - 5s 84ms/step - loss: 1.8846e-04 - mse: 3.7692e-04 - val_loss: 0.0016 - val_mse: 0.0033\n",
      "\n",
      "Epoch 00001: val_loss improved from inf to 0.00164, saving model to tmp\\ckeckpointer.ckpt\n",
      "Epoch 2/200\n",
      "58/58 [==============================] - 3s 52ms/step - loss: 1.2026e-04 - mse: 2.4051e-04 - val_loss: 0.0016 - val_mse: 0.0032\n",
      "\n",
      "Epoch 00002: val_loss improved from 0.00164 to 0.00162, saving model to tmp\\ckeckpointer.ckpt\n",
      "Epoch 3/200\n",
      "58/58 [==============================] - 3s 47ms/step - loss: 1.1838e-04 - mse: 2.3676e-04 - val_loss: 0.0020 - val_mse: 0.0040\n",
      "\n",
      "Epoch 00003: val_loss did not improve from 0.00162\n",
      "Epoch 4/200\n",
      "58/58 [==============================] - 3s 54ms/step - loss: 1.1568e-04 - mse: 2.3136e-04 - val_loss: 0.0015 - val_mse: 0.0031\n",
      "\n",
      "Epoch 00004: val_loss improved from 0.00162 to 0.00154, saving model to tmp\\ckeckpointer.ckpt\n",
      "Epoch 5/200\n",
      "58/58 [==============================] - 3s 47ms/step - loss: 1.1351e-04 - mse: 2.2703e-04 - val_loss: 0.0022 - val_mse: 0.0044\n",
      "\n",
      "Epoch 00005: val_loss did not improve from 0.00154\n",
      "Epoch 6/200\n",
      "58/58 [==============================] - 3s 52ms/step - loss: 1.1248e-04 - mse: 2.2497e-04 - val_loss: 0.0012 - val_mse: 0.0025e-0 - ETA: 1s - loss: 9.8095e-\n",
      "\n",
      "Epoch 00006: val_loss improved from 0.00154 to 0.00125, saving model to tmp\\ckeckpointer.ckpt\n",
      "Epoch 7/200\n",
      "58/58 [==============================] - 4s 59ms/step - loss: 1.0827e-04 - mse: 2.1654e-04 - val_loss: 0.0017 - val_mse: 0.00334 - mse: 2.1724e-\n",
      "\n",
      "Epoch 00007: val_loss did not improve from 0.00125\n",
      "Epoch 8/200\n",
      "58/58 [==============================] - 3s 53ms/step - loss: 1.0704e-04 - mse: 2.1409e-04 - val_loss: 0.0013 - val_mse: 0.0026\n",
      "\n",
      "Epoch 00008: val_loss did not improve from 0.00125\n",
      "Epoch 9/200\n",
      "58/58 [==============================] - 3s 55ms/step - loss: 1.1234e-04 - mse: 2.2467e-04 - val_loss: 0.0014 - val_mse: 0.0028\n",
      "\n",
      "Epoch 00009: val_loss did not improve from 0.00125\n",
      "Epoch 10/200\n",
      "58/58 [==============================] - 3s 49ms/step - loss: 1.0446e-04 - mse: 2.0892e-04 - val_loss: 0.0017 - val_mse: 0.0034\n",
      "\n",
      "Epoch 00010: val_loss did not improve from 0.00125\n",
      "Epoch 11/200\n",
      "58/58 [==============================] - 4s 59ms/step - loss: 9.8476e-05 - mse: 1.9695e-04 - val_loss: 0.0015 - val_mse: 0.0029\n",
      "\n",
      "Epoch 00011: val_loss did not improve from 0.00125\n",
      "Epoch 12/200\n",
      "58/58 [==============================] - 3s 50ms/step - loss: 9.9348e-05 - mse: 1.9870e-04 - val_loss: 0.0014 - val_mse: 0.0028\n",
      "\n",
      "Epoch 00012: val_loss did not improve from 0.00125\n",
      "Epoch 13/200\n",
      "58/58 [==============================] - 3s 48ms/step - loss: 9.4486e-05 - mse: 1.8897e-04 - val_loss: 0.0013 - val_mse: 0.0025\n",
      "\n",
      "Epoch 00013: val_loss did not improve from 0.00125\n",
      "Epoch 14/200\n",
      "58/58 [==============================] - 3s 46ms/step - loss: 9.4204e-05 - mse: 1.8841e-04 - val_loss: 0.0013 - val_mse: 0.0025\n",
      "\n",
      "Epoch 00014: val_loss did not improve from 0.00125\n",
      "Epoch 15/200\n",
      "58/58 [==============================] - 3s 46ms/step - loss: 9.0958e-05 - mse: 1.8192e-04 - val_loss: 0.0012 - val_mse: 0.0024\n",
      "\n",
      "Epoch 00015: val_loss improved from 0.00125 to 0.00119, saving model to tmp\\ckeckpointer.ckpt\n",
      "Epoch 16/200\n",
      "58/58 [==============================] - 3s 46ms/step - loss: 8.7703e-05 - mse: 1.7541e-04 - val_loss: 0.0013 - val_mse: 0.0027\n",
      "\n",
      "Epoch 00016: val_loss did not improve from 0.00119\n",
      "Epoch 17/200\n",
      "58/58 [==============================] - 3s 47ms/step - loss: 8.8970e-05 - mse: 1.7794e-04 - val_loss: 0.0014 - val_mse: 0.0027\n",
      "\n",
      "Epoch 00017: val_loss did not improve from 0.00119\n",
      "Epoch 18/200\n",
      "58/58 [==============================] - 3s 48ms/step - loss: 8.3640e-05 - mse: 1.6728e-04 - val_loss: 0.0013 - val_mse: 0.0027\n",
      "\n",
      "Epoch 00018: val_loss did not improve from 0.00119\n",
      "Epoch 19/200\n",
      "58/58 [==============================] - 3s 52ms/step - loss: 8.0765e-05 - mse: 1.6153e-04 - val_loss: 0.0012 - val_mse: 0.0023\n",
      "\n",
      "Epoch 00019: val_loss improved from 0.00119 to 0.00117, saving model to tmp\\ckeckpointer.ckpt\n",
      "Epoch 20/200\n",
      "58/58 [==============================] - 3s 48ms/step - loss: 8.1618e-05 - mse: 1.6324e-04 - val_loss: 0.0011 - val_mse: 0.0022\n",
      "\n",
      "Epoch 00020: val_loss improved from 0.00117 to 0.00112, saving model to tmp\\ckeckpointer.ckpt\n",
      "Epoch 21/200\n",
      "58/58 [==============================] - 3s 48ms/step - loss: 8.2834e-05 - mse: 1.6567e-04 - val_loss: 0.0010 - val_mse: 0.0020\n",
      "\n",
      "Epoch 00021: val_loss improved from 0.00112 to 0.00101, saving model to tmp\\ckeckpointer.ckpt\n",
      "Epoch 22/200\n",
      "58/58 [==============================] - 3s 48ms/step - loss: 7.5595e-05 - mse: 1.5119e-04 - val_loss: 0.0012 - val_mse: 0.0025\n",
      "\n",
      "Epoch 00022: val_loss did not improve from 0.00101\n",
      "Epoch 23/200\n",
      "58/58 [==============================] - 3s 46ms/step - loss: 7.6483e-05 - mse: 1.5297e-04 - val_loss: 0.0012 - val_mse: 0.0024\n",
      "\n",
      "Epoch 00023: val_loss did not improve from 0.00101\n",
      "Epoch 24/200\n",
      "58/58 [==============================] - 3s 48ms/step - loss: 7.6375e-05 - mse: 1.5275e-04 - val_loss: 8.2275e-04 - val_mse: 0.0016\n",
      "\n",
      "Epoch 00024: val_loss improved from 0.00101 to 0.00082, saving model to tmp\\ckeckpointer.ckpt\n",
      "Epoch 25/200\n",
      "58/58 [==============================] - 3s 50ms/step - loss: 7.1218e-05 - mse: 1.4244e-04 - val_loss: 9.3838e-04 - val_mse: 0.0019\n",
      "\n",
      "Epoch 00025: val_loss did not improve from 0.00082\n",
      "Epoch 26/200\n",
      "58/58 [==============================] - 3s 54ms/step - loss: 7.1464e-05 - mse: 1.4293e-04 - val_loss: 6.7211e-04 - val_mse: 0.0013\n",
      "\n",
      "Epoch 00026: val_loss improved from 0.00082 to 0.00067, saving model to tmp\\ckeckpointer.ckpt\n",
      "Epoch 27/200\n",
      "58/58 [==============================] - 3s 52ms/step - loss: 7.1163e-05 - mse: 1.4233e-04 - val_loss: 7.0410e-04 - val_mse: 0.0014\n",
      "\n",
      "Epoch 00027: val_loss did not improve from 0.00067\n",
      "Epoch 28/200\n",
      "58/58 [==============================] - 3s 49ms/step - loss: 7.4897e-05 - mse: 1.4979e-04 - val_loss: 0.0010 - val_mse: 0.0021\n",
      "\n",
      "Epoch 00028: val_loss did not improve from 0.00067\n",
      "Epoch 29/200\n",
      "58/58 [==============================] - 3s 48ms/step - loss: 7.4302e-05 - mse: 1.4860e-04 - val_loss: 0.0010 - val_mse: 0.0020\n",
      "\n",
      "Epoch 00029: val_loss did not improve from 0.00067\n",
      "Epoch 30/200\n",
      "58/58 [==============================] - 3s 48ms/step - loss: 6.7753e-05 - mse: 1.3551e-04 - val_loss: 8.3576e-04 - val_mse: 0.0017\n",
      "\n",
      "Epoch 00030: val_loss did not improve from 0.00067\n",
      "Epoch 31/200\n",
      "58/58 [==============================] - 4s 62ms/step - loss: 6.4811e-05 - mse: 1.2962e-04 - val_loss: 0.0013 - val_mse: 0.0025\n",
      "\n",
      "Epoch 00031: val_loss did not improve from 0.00067\n",
      "Epoch 32/200\n",
      "58/58 [==============================] - 4s 64ms/step - loss: 6.5230e-05 - mse: 1.3046e-04 - val_loss: 7.5932e-04 - val_mse: 0.0015\n",
      "\n",
      "Epoch 00032: val_loss did not improve from 0.00067\n",
      "Epoch 33/200\n",
      "58/58 [==============================] - 3s 56ms/step - loss: 6.4444e-05 - mse: 1.2889e-04 - val_loss: 0.0010 - val_mse: 0.0020\n",
      "\n",
      "Epoch 00033: val_loss did not improve from 0.00067\n",
      "Epoch 34/200\n",
      "58/58 [==============================] - 3s 49ms/step - loss: 6.4230e-05 - mse: 1.2846e-04 - val_loss: 8.4369e-04 - val_mse: 0.0017\n",
      "\n",
      "Epoch 00034: val_loss did not improve from 0.00067\n",
      "Epoch 35/200\n",
      "58/58 [==============================] - 3s 51ms/step - loss: 6.6454e-05 - mse: 1.3291e-04 - val_loss: 6.3607e-04 - val_mse: 0.0013\n",
      "\n",
      "Epoch 00035: val_loss improved from 0.00067 to 0.00064, saving model to tmp\\ckeckpointer.ckpt\n",
      "Epoch 36/200\n",
      "58/58 [==============================] - 3s 49ms/step - loss: 6.1659e-05 - mse: 1.2332e-04 - val_loss: 6.6358e-04 - val_mse: 0.0013\n",
      "\n",
      "Epoch 00036: val_loss did not improve from 0.00064\n",
      "Epoch 37/200\n",
      "58/58 [==============================] - 3s 48ms/step - loss: 6.4845e-05 - mse: 1.2969e-04 - val_loss: 6.6956e-04 - val_mse: 0.0013\n",
      "\n",
      "Epoch 00037: val_loss did not improve from 0.00064\n",
      "Epoch 38/200\n",
      "58/58 [==============================] - 3s 50ms/step - loss: 6.4956e-05 - mse: 1.2991e-04 - val_loss: 7.4339e-04 - val_mse: 0.0015\n",
      "\n",
      "Epoch 00038: val_loss did not improve from 0.00064\n",
      "Epoch 39/200\n",
      "58/58 [==============================] - 3s 49ms/step - loss: 5.9543e-05 - mse: 1.1909e-04 - val_loss: 9.2829e-04 - val_mse: 0.0019\n",
      "\n",
      "Epoch 00039: val_loss did not improve from 0.00064\n",
      "Epoch 40/200\n"
     ]
    },
    {
     "name": "stdout",
     "output_type": "stream",
     "text": [
      "58/58 [==============================] - 3s 54ms/step - loss: 5.9668e-05 - mse: 1.1934e-04 - val_loss: 7.0485e-04 - val_mse: 0.0014\n",
      "\n",
      "Epoch 00040: val_loss did not improve from 0.00064\n",
      "Epoch 41/200\n",
      "58/58 [==============================] - 3s 52ms/step - loss: 5.8109e-05 - mse: 1.1622e-04 - val_loss: 5.1650e-04 - val_mse: 0.0010\n",
      "\n",
      "Epoch 00041: val_loss improved from 0.00064 to 0.00052, saving model to tmp\\ckeckpointer.ckpt\n",
      "Epoch 42/200\n",
      "58/58 [==============================] - 3s 45ms/step - loss: 6.1503e-05 - mse: 1.2301e-04 - val_loss: 4.7344e-04 - val_mse: 9.4688e-04\n",
      "\n",
      "Epoch 00042: val_loss improved from 0.00052 to 0.00047, saving model to tmp\\ckeckpointer.ckpt\n",
      "Epoch 43/200\n",
      "58/58 [==============================] - 4s 58ms/step - loss: 5.8375e-05 - mse: 1.1675e-04 - val_loss: 4.4105e-04 - val_mse: 8.8210e-04\n",
      "\n",
      "Epoch 00043: val_loss improved from 0.00047 to 0.00044, saving model to tmp\\ckeckpointer.ckpt\n",
      "Epoch 44/200\n",
      "58/58 [==============================] - 5s 76ms/step - loss: 5.7143e-05 - mse: 1.1429e-04 - val_loss: 8.4625e-04 - val_mse: 0.0017\n",
      "\n",
      "Epoch 00044: val_loss did not improve from 0.00044\n",
      "Epoch 45/200\n",
      "58/58 [==============================] - 4s 57ms/step - loss: 5.9261e-05 - mse: 1.1852e-04 - val_loss: 8.0044e-04 - val_mse: 0.0016\n",
      "\n",
      "Epoch 00045: val_loss did not improve from 0.00044\n",
      "Epoch 46/200\n",
      "58/58 [==============================] - 3s 52ms/step - loss: 5.8271e-05 - mse: 1.1654e-04 - val_loss: 5.2256e-04 - val_mse: 0.0010\n",
      "\n",
      "Epoch 00046: val_loss did not improve from 0.00044\n",
      "Epoch 47/200\n",
      "58/58 [==============================] - 3s 51ms/step - loss: 5.5520e-05 - mse: 1.1104e-04 - val_loss: 4.7635e-04 - val_mse: 9.5270e-04\n",
      "\n",
      "Epoch 00047: val_loss did not improve from 0.00044\n",
      "Epoch 48/200\n",
      "58/58 [==============================] - 3s 51ms/step - loss: 5.4579e-05 - mse: 1.0916e-04 - val_loss: 5.9615e-04 - val_mse: 0.0012\n",
      "\n",
      "Epoch 00048: val_loss did not improve from 0.00044\n",
      "Epoch 49/200\n",
      "58/58 [==============================] - 3s 49ms/step - loss: 5.5451e-05 - mse: 1.1090e-04 - val_loss: 9.7873e-04 - val_mse: 0.0020\n",
      "\n",
      "Epoch 00049: val_loss did not improve from 0.00044\n",
      "Epoch 50/200\n",
      "58/58 [==============================] - 3s 47ms/step - loss: 5.5942e-05 - mse: 1.1188e-04 - val_loss: 5.9080e-04 - val_mse: 0.0012\n",
      "\n",
      "Epoch 00050: val_loss did not improve from 0.00044\n",
      "Epoch 51/200\n",
      "58/58 [==============================] - 3s 48ms/step - loss: 5.3220e-05 - mse: 1.0644e-04 - val_loss: 6.4824e-04 - val_mse: 0.0013\n",
      "\n",
      "Epoch 00051: val_loss did not improve from 0.00044\n",
      "Epoch 52/200\n",
      "58/58 [==============================] - 3s 46ms/step - loss: 5.5447e-05 - mse: 1.1089e-04 - val_loss: 3.5503e-04 - val_mse: 7.1006e-04\n",
      "\n",
      "Epoch 00052: val_loss improved from 0.00044 to 0.00036, saving model to tmp\\ckeckpointer.ckpt\n",
      "Epoch 53/200\n",
      "58/58 [==============================] - 3s 48ms/step - loss: 6.0167e-05 - mse: 1.2033e-04 - val_loss: 6.7389e-04 - val_mse: 0.0013\n",
      "\n",
      "Epoch 00053: val_loss did not improve from 0.00036\n",
      "Epoch 54/200\n",
      "58/58 [==============================] - 3s 46ms/step - loss: 5.5151e-05 - mse: 1.1030e-04 - val_loss: 7.4065e-04 - val_mse: 0.0015\n",
      "\n",
      "Epoch 00054: val_loss did not improve from 0.00036\n",
      "Epoch 55/200\n",
      "58/58 [==============================] - 3s 48ms/step - loss: 5.2783e-05 - mse: 1.0557e-04 - val_loss: 5.8727e-04 - val_mse: 0.0012\n",
      "\n",
      "Epoch 00055: val_loss did not improve from 0.00036\n",
      "Epoch 56/200\n",
      "58/58 [==============================] - 3s 50ms/step - loss: 5.6960e-05 - mse: 1.1392e-04 - val_loss: 6.1613e-04 - val_mse: 0.0012\n",
      "\n",
      "Epoch 00056: val_loss did not improve from 0.00036\n",
      "Epoch 57/200\n",
      "58/58 [==============================] - 4s 62ms/step - loss: 5.2735e-05 - mse: 1.0547e-04 - val_loss: 8.0796e-04 - val_mse: 0.0016\n",
      "\n",
      "Epoch 00057: val_loss did not improve from 0.00036\n",
      "Epoch 58/200\n",
      "58/58 [==============================] - 3s 56ms/step - loss: 5.1179e-05 - mse: 1.0236e-04 - val_loss: 6.5287e-04 - val_mse: 0.0013\n",
      "\n",
      "Epoch 00058: val_loss did not improve from 0.00036\n",
      "Epoch 59/200\n",
      "58/58 [==============================] - 4s 58ms/step - loss: 5.1488e-05 - mse: 1.0298e-04 - val_loss: 6.0617e-04 - val_mse: 0.0012\n",
      "\n",
      "Epoch 00059: val_loss did not improve from 0.00036\n",
      "Epoch 60/200\n",
      "58/58 [==============================] - 3s 55ms/step - loss: 5.1819e-05 - mse: 1.0364e-04 - val_loss: 0.0010 - val_mse: 0.0021\n",
      "\n",
      "Epoch 00060: val_loss did not improve from 0.00036\n",
      "Epoch 61/200\n",
      "58/58 [==============================] - 3s 55ms/step - loss: 5.0438e-05 - mse: 1.0088e-04 - val_loss: 4.9776e-04 - val_mse: 9.9551e-04\n",
      "\n",
      "Epoch 00061: val_loss did not improve from 0.00036\n",
      "Epoch 62/200\n",
      "58/58 [==============================] - 3s 51ms/step - loss: 5.2495e-05 - mse: 1.0499e-04 - val_loss: 6.4787e-04 - val_mse: 0.0013\n",
      "\n",
      "Epoch 00062: val_loss did not improve from 0.00036\n"
     ]
    }
   ],
   "source": [
    "history = model.fit(train_data, \n",
    "                    validation_data=(test_data), \n",
    "                    epochs=1000, \n",
    "                    callbacks=[checkpoint, earlystopping])"
   ]
  },
  {
   "cell_type": "code",
   "execution_count": 54,
   "metadata": {
    "colab": {
     "base_uri": "https://localhost:8080/"
    },
    "id": "rF7O8hNLWZx3",
    "outputId": "01cb10cf-ac64-49dc-cbf1-5af695c7d2c7",
    "scrolled": true
   },
   "outputs": [
    {
     "data": {
      "text/plain": [
       "<tensorflow.python.training.tracking.util.CheckpointLoadStatus at 0x169cd3cbac0>"
      ]
     },
     "execution_count": 54,
     "metadata": {},
     "output_type": "execute_result"
    }
   ],
   "source": [
    "model.load_weights(filename)"
   ]
  },
  {
   "cell_type": "code",
   "execution_count": 55,
   "metadata": {
    "id": "Bo6efgfSXHtI"
   },
   "outputs": [],
   "source": [
    "pred = model.predict(test_data)"
   ]
  },
  {
   "cell_type": "code",
   "execution_count": 56,
   "metadata": {
    "colab": {
     "base_uri": "https://localhost:8080/"
    },
    "id": "dzVhSz7ZXJpI",
    "outputId": "572236b9-15e6-4baf-8470-66b0a20e4ef1"
   },
   "outputs": [
    {
     "data": {
      "text/plain": [
       "(371, 1)"
      ]
     },
     "execution_count": 56,
     "metadata": {},
     "output_type": "execute_result"
    }
   ],
   "source": [
    "pred.shape"
   ]
  },
  {
   "cell_type": "code",
   "execution_count": 57,
   "metadata": {
    "colab": {
     "base_uri": "https://localhost:8080/",
     "height": 54
    },
    "id": "CsZEi_1GXL9t",
    "outputId": "f8e91b31-3b8c-472c-fc24-93c0d489a1f4",
    "scrolled": false
   },
   "outputs": [
    {
     "data": {
      "image/png": "[encoded data removed]",
      "text/plain": [
       "<Figure size 864x648 with 1 Axes>"
      ]
     },
     "metadata": {
      "needs_background": "light"
     },
     "output_type": "display_data"
    }
   ],
   "source": [
    "plt.figure(figsize=(12, 9))\n",
    "plt.plot(np.asarray(y_test)[120:], label='actual')\n",
    "plt.plot(pred, label='prediction')\n",
    "plt.legend()\n",
    "plt.show()"
   ]
  },
  {
   "cell_type": "code",
   "execution_count": 58,
   "metadata": {},
   "outputs": [
    {
     "name": "stdout",
     "output_type": "stream",
     "text": [
      "RMSE :  0.026646879327988537\n"
     ]
    }
   ],
   "source": [
    "def RMSE(y_test, pred):\n",
    "    return np.sqrt(mean_squared_error(y_test[120:], pred))\n",
    "\n",
    "print('RMSE : ', RMSE(y_test, pred)) "
   ]
  },
  {
   "cell_type": "code",
   "execution_count": 59,
   "metadata": {},
   "outputs": [
    {
     "name": "stdout",
     "output_type": "stream",
     "text": [
      "R2 :  0.9784257648651188\n"
     ]
    }
   ],
   "source": [
    "r2_y_predict = r2_score(y_test[120:], pred)\n",
    "\n",
    "print('R2 : ', r2_y_predict)"
   ]
  },
  {
   "cell_type": "code",
   "execution_count": 60,
   "metadata": {
    "scrolled": true
   },
   "outputs": [],
   "source": [
    "# val_lose 0.00013\n",
    "# RMSE : 0.01586393814653742\n",
    "# R2 : 0.9922155763036076"
   ]
  },
  {
   "cell_type": "markdown",
   "metadata": {},
   "source": [
    "# 예측"
   ]
  },
  {
   "cell_type": "code",
   "execution_count": 72,
   "metadata": {},
   "outputs": [],
   "source": [
    "df = df.drop(index = [2451,2452,2453,2454,2455,2456,2457,2458,2459,2460], axis=0)"
   ]
  },
  {
   "cell_type": "code",
   "execution_count": 73,
   "metadata": {
    "scrolled": false
   },
   "outputs": [],
   "source": [
    "data_y = np.array(df['y'])\n",
    "data_y = data_y.reshape(-1,1)"
   ]
  },
  {
   "cell_type": "code",
   "execution_count": 74,
   "metadata": {},
   "outputs": [],
   "source": [
    "scaler_y = MinMaxScaler()\n",
    "scaled_y = scaler_y.fit_transform(data_y)"
   ]
  },
  {
   "cell_type": "code",
   "execution_count": 75,
   "metadata": {},
   "outputs": [],
   "source": [
    "pred_data = windowed_dataset(scaled_y, WINDOW_SIZE, BATCH_SIZE, False)"
   ]
  },
  {
   "cell_type": "code",
   "execution_count": 76,
   "metadata": {},
   "outputs": [
    {
     "data": {
      "text/plain": [
       "<PrefetchDataset shapes: ((None, None, 1, 1), (None, 1, 1)), types: (tf.float64, tf.float64)>"
      ]
     },
     "execution_count": 76,
     "metadata": {},
     "output_type": "execute_result"
    }
   ],
   "source": [
    "pred_data"
   ]
  },
  {
   "cell_type": "code",
   "execution_count": 77,
   "metadata": {
    "scrolled": false
   },
   "outputs": [],
   "source": [
    "prediction = model.predict(pred_data)"
   ]
  },
  {
   "cell_type": "code",
   "execution_count": 78,
   "metadata": {
    "scrolled": true
   },
   "outputs": [
    {
     "data": {
      "text/plain": [
       "array([[0.11969366],\n",
       "       [0.12229881],\n",
       "       [0.12512085],\n",
       "       ...,\n",
       "       [0.77366364],\n",
       "       [0.770196  ],\n",
       "       [0.7675177 ]], dtype=float32)"
      ]
     },
     "execution_count": 78,
     "metadata": {},
     "output_type": "execute_result"
    }
   ],
   "source": [
    "prediction"
   ]
  },
  {
   "cell_type": "code",
   "execution_count": 79,
   "metadata": {},
   "outputs": [
    {
     "name": "stdout",
     "output_type": "stream",
     "text": [
      "predicted 10 days later final price [73368.54]\n"
     ]
    }
   ],
   "source": [
    "prediction = scaler_y.inverse_transform(prediction)  # 0~1의 값으로 정규화된 값을 원래의 크기로 되돌린다.  \n",
    "print(\"predicted 10 days later final price\", prediction[-1])  # 예측한 값을 출력한다. "
   ]
  },
  {
   "cell_type": "code",
   "execution_count": 80,
   "metadata": {},
   "outputs": [
    {
     "data": {
      "image/png": "[encoded data removed]",
      "text/plain": [
       "<Figure size 864x648 with 1 Axes>"
      ]
     },
     "metadata": {
      "needs_background": "light"
     },
     "output_type": "display_data"
    }
   ],
   "source": [
    "plt.figure(figsize=(12, 9))\n",
    "plt.plot(data_y[120:], label='actual')\n",
    "plt.plot(prediction, label='prediction')\n",
    "plt.legend()\n",
    "plt.show()"
   ]
  },
  {
   "cell_type": "code",
   "execution_count": null,
   "metadata": {},
   "outputs": [],
   "source": []
  },
  {
   "cell_type": "code",
   "execution_count": null,
   "metadata": {},
   "outputs": [],
   "source": []
  }
 ],
 "metadata": {
  "colab": {
   "collapsed_sections": [],
   "name": "deeplearn.ipynb",
   "provenance": []
  },
  "kernelspec": {
   "display_name": "Python 3",
   "language": "python",
   "name": "python3"
  },
  "language_info": {
   "codemirror_mode": {
    "name": "ipython",
    "version": 3
   },
   "file_extension": ".py",
   "mimetype": "text/x-python",
   "name": "python",
   "nbconvert_exporter": "python",
   "pygments_lexer": "ipython3",
   "version": "3.8.8"
  }
 },
 "nbformat": 4,
 "nbformat_minor": 1
}
