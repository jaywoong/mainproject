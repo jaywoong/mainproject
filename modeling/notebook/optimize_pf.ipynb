{
 "cells": [
  {
   "cell_type": "code",
   "execution_count": 252,
   "id": "2de39fdd",
   "metadata": {},
   "outputs": [],
   "source": [
    "import pandas as pd    \n",
    "import numpy as np      \n",
    "import matplotlib.pyplot as plt\n",
    "import math"
   ]
  },
  {
   "cell_type": "code",
   "execution_count": 261,
   "id": "78d6d7de",
   "metadata": {},
   "outputs": [],
   "source": [
    "data = pd.DataFrame({'samsung1':[1,1,1,2,3,4],'lg1':[1,5,6,6,7,7], 'sk1': [1,2,8,12,10,11], 'ls1': [1,13,18,16,20,15],\n",
    "                     'samsung2':[1,1,1,2,3,4],'lg2':[1,5,6,6,7,17], 'sk2': [1,2,8,12,13,11], 'ls2': [1,13,18,8,12,10],\n",
    "                     'samsung3':[1,1,1,2,3,4],'lg3':[1,5,6,16,7,7], 'sk3': [1,2,8,12,16,11], 'ls3': [1,13,18,12,10,20],\n",
    "                     'samsung4':[1,1,1,2,3,4],'lg4':[1,5,6,6,17,7], 'sk4': [1,2,8,12,10,11], 'ls4': [1,13,18,11,20,23],\n",
    "                     'samsung5':[1,1,1,2,3,4],'lg5':[1,5,6,6,7,20], 'sk5': [1,2,8,12,12,11], 'ls5': [1,18,12,10,20,25],\n",
    "                     'samsung6':[1,1,1,2,3,4],'lg6':[1,5,3,6,7,7], 'sk6': [1,2,8,12,17,11], 'ls6': [1,13,1,6,20,18],\n",
    "                     'samsung7':[1,1,1,2,3,4],'lg7':[1,5,6,6,7,8], 'sk7': [1,2,8,12,18,11], 'ls7': [1,1,8,16,20,15],\n",
    "                     'samsung8':[1,1,1,2,3,4],'lg8':[1,5,3,6,7,7]}) \n"
   ]
  },
  {
   "cell_type": "code",
   "execution_count": 212,
   "id": "521af94a",
   "metadata": {},
   "outputs": [
    {
     "data": {
      "text/html": [
       "<div>\n",
       "<style scoped>\n",
       "    .dataframe tbody tr th:only-of-type {\n",
       "        vertical-align: middle;\n",
       "    }\n",
       "\n",
       "    .dataframe tbody tr th {\n",
       "        vertical-align: top;\n",
       "    }\n",
       "\n",
       "    .dataframe thead th {\n",
       "        text-align: right;\n",
       "    }\n",
       "</style>\n",
       "<table border=\"1\" class=\"dataframe\">\n",
       "  <thead>\n",
       "    <tr style=\"text-align: right;\">\n",
       "      <th></th>\n",
       "      <th>samsung1</th>\n",
       "      <th>lg1</th>\n",
       "      <th>sk1</th>\n",
       "      <th>ls1</th>\n",
       "      <th>samsung2</th>\n",
       "      <th>lg2</th>\n",
       "      <th>sk2</th>\n",
       "      <th>ls2</th>\n",
       "      <th>samsung3</th>\n",
       "      <th>lg3</th>\n",
       "      <th>...</th>\n",
       "      <th>samsung6</th>\n",
       "      <th>lg6</th>\n",
       "      <th>sk6</th>\n",
       "      <th>ls6</th>\n",
       "      <th>samsung7</th>\n",
       "      <th>lg7</th>\n",
       "      <th>sk7</th>\n",
       "      <th>ls7</th>\n",
       "      <th>samsung8</th>\n",
       "      <th>lg8</th>\n",
       "    </tr>\n",
       "  </thead>\n",
       "  <tbody>\n",
       "    <tr>\n",
       "      <th>1</th>\n",
       "      <td>0.000000</td>\n",
       "      <td>1.609438</td>\n",
       "      <td>0.693147</td>\n",
       "      <td>2.564949</td>\n",
       "      <td>0.000000</td>\n",
       "      <td>1.609438</td>\n",
       "      <td>0.693147</td>\n",
       "      <td>2.564949</td>\n",
       "      <td>0.000000</td>\n",
       "      <td>1.609438</td>\n",
       "      <td>...</td>\n",
       "      <td>0.000000</td>\n",
       "      <td>1.609438</td>\n",
       "      <td>0.693147</td>\n",
       "      <td>2.564949</td>\n",
       "      <td>0.000000</td>\n",
       "      <td>1.609438</td>\n",
       "      <td>0.693147</td>\n",
       "      <td>0.000000</td>\n",
       "      <td>0.000000</td>\n",
       "      <td>1.609438</td>\n",
       "    </tr>\n",
       "    <tr>\n",
       "      <th>2</th>\n",
       "      <td>0.000000</td>\n",
       "      <td>0.182322</td>\n",
       "      <td>1.386294</td>\n",
       "      <td>0.325422</td>\n",
       "      <td>0.000000</td>\n",
       "      <td>0.182322</td>\n",
       "      <td>1.386294</td>\n",
       "      <td>0.325422</td>\n",
       "      <td>0.000000</td>\n",
       "      <td>0.182322</td>\n",
       "      <td>...</td>\n",
       "      <td>0.000000</td>\n",
       "      <td>-0.510826</td>\n",
       "      <td>1.386294</td>\n",
       "      <td>-2.564949</td>\n",
       "      <td>0.000000</td>\n",
       "      <td>0.182322</td>\n",
       "      <td>1.386294</td>\n",
       "      <td>2.079442</td>\n",
       "      <td>0.000000</td>\n",
       "      <td>-0.510826</td>\n",
       "    </tr>\n",
       "    <tr>\n",
       "      <th>3</th>\n",
       "      <td>0.693147</td>\n",
       "      <td>0.000000</td>\n",
       "      <td>0.405465</td>\n",
       "      <td>-0.117783</td>\n",
       "      <td>0.693147</td>\n",
       "      <td>0.000000</td>\n",
       "      <td>0.405465</td>\n",
       "      <td>-0.810930</td>\n",
       "      <td>0.693147</td>\n",
       "      <td>0.980829</td>\n",
       "      <td>...</td>\n",
       "      <td>0.693147</td>\n",
       "      <td>0.693147</td>\n",
       "      <td>0.405465</td>\n",
       "      <td>1.791759</td>\n",
       "      <td>0.693147</td>\n",
       "      <td>0.000000</td>\n",
       "      <td>0.405465</td>\n",
       "      <td>0.693147</td>\n",
       "      <td>0.693147</td>\n",
       "      <td>0.693147</td>\n",
       "    </tr>\n",
       "    <tr>\n",
       "      <th>4</th>\n",
       "      <td>0.405465</td>\n",
       "      <td>0.154151</td>\n",
       "      <td>-0.182322</td>\n",
       "      <td>0.223144</td>\n",
       "      <td>0.405465</td>\n",
       "      <td>0.154151</td>\n",
       "      <td>0.080043</td>\n",
       "      <td>0.405465</td>\n",
       "      <td>0.405465</td>\n",
       "      <td>-0.826679</td>\n",
       "      <td>...</td>\n",
       "      <td>0.405465</td>\n",
       "      <td>0.154151</td>\n",
       "      <td>0.348307</td>\n",
       "      <td>1.203973</td>\n",
       "      <td>0.405465</td>\n",
       "      <td>0.154151</td>\n",
       "      <td>0.405465</td>\n",
       "      <td>0.223144</td>\n",
       "      <td>0.405465</td>\n",
       "      <td>0.154151</td>\n",
       "    </tr>\n",
       "    <tr>\n",
       "      <th>5</th>\n",
       "      <td>0.287682</td>\n",
       "      <td>0.000000</td>\n",
       "      <td>0.095310</td>\n",
       "      <td>-0.287682</td>\n",
       "      <td>0.287682</td>\n",
       "      <td>0.887303</td>\n",
       "      <td>-0.167054</td>\n",
       "      <td>-0.182322</td>\n",
       "      <td>0.287682</td>\n",
       "      <td>0.000000</td>\n",
       "      <td>...</td>\n",
       "      <td>0.287682</td>\n",
       "      <td>0.000000</td>\n",
       "      <td>-0.435318</td>\n",
       "      <td>-0.105361</td>\n",
       "      <td>0.287682</td>\n",
       "      <td>0.133531</td>\n",
       "      <td>-0.492476</td>\n",
       "      <td>-0.287682</td>\n",
       "      <td>0.287682</td>\n",
       "      <td>0.000000</td>\n",
       "    </tr>\n",
       "  </tbody>\n",
       "</table>\n",
       "<p>5 rows × 30 columns</p>\n",
       "</div>"
      ],
      "text/plain": [
       "   samsung1       lg1       sk1       ls1  samsung2       lg2       sk2  \\\n",
       "1  0.000000  1.609438  0.693147  2.564949  0.000000  1.609438  0.693147   \n",
       "2  0.000000  0.182322  1.386294  0.325422  0.000000  0.182322  1.386294   \n",
       "3  0.693147  0.000000  0.405465 -0.117783  0.693147  0.000000  0.405465   \n",
       "4  0.405465  0.154151 -0.182322  0.223144  0.405465  0.154151  0.080043   \n",
       "5  0.287682  0.000000  0.095310 -0.287682  0.287682  0.887303 -0.167054   \n",
       "\n",
       "        ls2  samsung3       lg3  ...  samsung6       lg6       sk6       ls6  \\\n",
       "1  2.564949  0.000000  1.609438  ...  0.000000  1.609438  0.693147  2.564949   \n",
       "2  0.325422  0.000000  0.182322  ...  0.000000 -0.510826  1.386294 -2.564949   \n",
       "3 -0.810930  0.693147  0.980829  ...  0.693147  0.693147  0.405465  1.791759   \n",
       "4  0.405465  0.405465 -0.826679  ...  0.405465  0.154151  0.348307  1.203973   \n",
       "5 -0.182322  0.287682  0.000000  ...  0.287682  0.000000 -0.435318 -0.105361   \n",
       "\n",
       "   samsung7       lg7       sk7       ls7  samsung8       lg8  \n",
       "1  0.000000  1.609438  0.693147  0.000000  0.000000  1.609438  \n",
       "2  0.000000  0.182322  1.386294  2.079442  0.000000 -0.510826  \n",
       "3  0.693147  0.000000  0.405465  0.693147  0.693147  0.693147  \n",
       "4  0.405465  0.154151  0.405465  0.223144  0.405465  0.154151  \n",
       "5  0.287682  0.133531 -0.492476 -0.287682  0.287682  0.000000  \n",
       "\n",
       "[5 rows x 30 columns]"
      ]
     },
     "execution_count": 212,
     "metadata": {},
     "output_type": "execute_result"
    }
   ],
   "source": [
    "rets = np.log(data / data.shift(1))     # 로그수익률로 표시\n",
    "rets = rets.drop(0)\n",
    "rets"
   ]
  },
  {
   "cell_type": "code",
   "execution_count": 213,
   "id": "d6e74308",
   "metadata": {
    "scrolled": true
   },
   "outputs": [],
   "source": [
    "top10 = rets.mean().sort_values(ascending = False).head(10)\n",
    "rets = rets[top10.index]"
   ]
  },
  {
   "cell_type": "code",
   "execution_count": 231,
   "id": "e9f10008",
   "metadata": {},
   "outputs": [],
   "source": [
    "weights = np.array([0.1,0.1,0.1,0.1,0.1,0.1,0.1,0.1,0.1,0.1])     # 자산비중 행렬\n",
    "# weights = np.array([0,0.15,0,0,0,0.35,0,0.5,0,0]) "
   ]
  },
  {
   "cell_type": "code",
   "execution_count": 232,
   "id": "113e713b",
   "metadata": {},
   "outputs": [],
   "source": [
    "crets = np.sum(rets.mean()*weights)*10\n"
   ]
  },
  {
   "cell_type": "code",
   "execution_count": 233,
   "id": "6a99b34b",
   "metadata": {},
   "outputs": [],
   "source": [
    "covmat = rets.cov()*10\n"
   ]
  },
  {
   "cell_type": "code",
   "execution_count": 236,
   "id": "94368d25",
   "metadata": {},
   "outputs": [],
   "source": [
    "variance = weights.T @ covmat @ weights   "
   ]
  },
  {
   "cell_type": "code",
   "execution_count": 218,
   "id": "0a1f1bac",
   "metadata": {},
   "outputs": [],
   "source": [
    "prets = []     # 리스트 형태로 수익을 쌓을 장소\n",
    "pvols = []     # 리스트 형태로 위험(표준편차)을 쌓을 장소"
   ]
  },
  {
   "cell_type": "code",
   "execution_count": 219,
   "id": "52f06d43",
   "metadata": {},
   "outputs": [],
   "source": [
    "for p in range (1000):     # 1000회 반복\n",
    "    weights = np.random.random(10)   # 랜덤한 10개의 숫자를 생성\n",
    "    weights /= np.sum(weights)     # 10개의 숫자의 합계가 1이 되도록 조정\n",
    "    prets.append(np.sum(rets.mean() * weights) * 10)    # 계산된 포트폴리오 수익을 prets에 저장\n",
    "    covmat = rets.cov() * 10    # cov matrix 만들기\n",
    "    pvols.append(np.sqrt(weights.T @ covmat @ weights)) # 계산된 포트폴리오 위험을 pvols에 저장"
   ]
  },
  {
   "cell_type": "code",
   "execution_count": 220,
   "id": "13ea8f9f",
   "metadata": {},
   "outputs": [],
   "source": [
    "prets = np.array(prets)\n",
    "pvols = np.array(pvols)"
   ]
  },
  {
   "cell_type": "code",
   "execution_count": 221,
   "id": "a29cb6c5",
   "metadata": {},
   "outputs": [
    {
     "data": {
      "image/png": "[encoded data removed]",
      "text/plain": [
       "<Figure size 432x288 with 2 Axes>"
      ]
     },
     "metadata": {
      "needs_background": "light"
     },
     "output_type": "display_data"
    }
   ],
   "source": [
    "plt.scatter(pvols, prets, c=prets/pvols, marker='o')\n",
    "plt.grid(True)\n",
    "plt.xlabel('expected volatility')\n",
    "plt.ylabel('expected return')\n",
    "plt.colorbar(label='Sharpe ratio')\n",
    "plt.show()"
   ]
  },
  {
   "cell_type": "code",
   "execution_count": 222,
   "id": "833e6968",
   "metadata": {},
   "outputs": [],
   "source": [
    "import scipy.optimize as sco"
   ]
  },
  {
   "cell_type": "code",
   "execution_count": 223,
   "id": "13bbb596",
   "metadata": {},
   "outputs": [],
   "source": [
    "def minvar(weights):\n",
    "    return np.sqrt(weights.T @ covmat @ weights)"
   ]
  },
  {
   "cell_type": "code",
   "execution_count": 224,
   "id": "8830b9d0",
   "metadata": {},
   "outputs": [],
   "source": [
    "w = np.array([0.1,0.1,0.1,0.1,0.1,0.1,0.1,0.1,0.1,0.1])\n",
    "cons = ({'type': 'eq', 'fun': lambda x:  np.sum(x) - 1})                     # 합계가 1이 되도록\n",
    "bnds = ((0,1), (0,1), (0,1), (0,1), (0,1), (0,1), (0,1), (0,1), (0,1), (0,1))\n",
    "\n",
    "opt = sco.minimize(minvar, w, method='SLSQP', bounds=bnds, constraints=cons)"
   ]
  },
  {
   "cell_type": "code",
   "execution_count": 225,
   "id": "16a12900",
   "metadata": {},
   "outputs": [],
   "source": [
    "orets = np.sum(rets.mean() * opt['x']) * 10\n",
    "ovol = np.sqrt(opt['x'].T @ covmat @ opt['x'])"
   ]
  },
  {
   "cell_type": "code",
   "execution_count": 226,
   "id": "fed19aed",
   "metadata": {},
   "outputs": [
    {
     "data": {
      "image/png": "[encoded data removed]",
      "text/plain": [
       "<Figure size 432x288 with 2 Axes>"
      ]
     },
     "metadata": {
      "needs_background": "light"
     },
     "output_type": "display_data"
    }
   ],
   "source": [
    "plt.scatter(pvols, prets, c=prets/pvols, marker='o')\n",
    "plt.grid(True)\n",
    "plt.xlabel('expected volatility')\n",
    "plt.ylabel('expected return')\n",
    "plt.colorbar(label='Sharpe ratio')\n",
    "\n",
    "plt.scatter(ovol, orets, marker=\"*\", s=500, alpha=0.5)\n",
    "plt.show()"
   ]
  },
  {
   "cell_type": "code",
   "execution_count": 227,
   "id": "a6435056",
   "metadata": {},
   "outputs": [],
   "source": [
    "buy = opt['x']>0.05"
   ]
  },
  {
   "cell_type": "code",
   "execution_count": 243,
   "id": "2f09fbe3",
   "metadata": {},
   "outputs": [],
   "source": [
    "pf1 = pd.DataFrame({'stock' : top10.index[buy], 'ratio': np.round(opt['x'][buy],1)})"
   ]
  },
  {
   "cell_type": "code",
   "execution_count": 244,
   "id": "ee9c5134",
   "metadata": {},
   "outputs": [
    {
     "data": {
      "text/html": [
       "<div>\n",
       "<style scoped>\n",
       "    .dataframe tbody tr th:only-of-type {\n",
       "        vertical-align: middle;\n",
       "    }\n",
       "\n",
       "    .dataframe tbody tr th {\n",
       "        vertical-align: top;\n",
       "    }\n",
       "\n",
       "    .dataframe thead th {\n",
       "        text-align: right;\n",
       "    }\n",
       "</style>\n",
       "<table border=\"1\" class=\"dataframe\">\n",
       "  <thead>\n",
       "    <tr style=\"text-align: right;\">\n",
       "      <th></th>\n",
       "      <th>stock</th>\n",
       "      <th>ratio</th>\n",
       "    </tr>\n",
       "  </thead>\n",
       "  <tbody>\n",
       "    <tr>\n",
       "      <th>0</th>\n",
       "      <td>lg5</td>\n",
       "      <td>0.4</td>\n",
       "    </tr>\n",
       "    <tr>\n",
       "      <th>1</th>\n",
       "      <td>ls6</td>\n",
       "      <td>0.1</td>\n",
       "    </tr>\n",
       "    <tr>\n",
       "      <th>2</th>\n",
       "      <td>ls7</td>\n",
       "      <td>0.5</td>\n",
       "    </tr>\n",
       "  </tbody>\n",
       "</table>\n",
       "</div>"
      ],
      "text/plain": [
       "  stock  ratio\n",
       "0   lg5    0.4\n",
       "1   ls6    0.1\n",
       "2   ls7    0.5"
      ]
     },
     "execution_count": 244,
     "metadata": {},
     "output_type": "execute_result"
    }
   ],
   "source": [
    "pf1"
   ]
  },
  {
   "cell_type": "code",
   "execution_count": null,
   "id": "351b3832",
   "metadata": {},
   "outputs": [],
   "source": [
    "weights = np.array([0,0.15,0,0,0,0.35,0,0.5,0,0])\n",
    "crets = np.sum(rets.mean()*weights)*10\n",
    "covmat = rets.cov()*10\n",
    "variance = weights.T @ covmat @ weights   "
   ]
  },
  {
   "cell_type": "code",
   "execution_count": 238,
   "id": "7e452b10",
   "metadata": {},
   "outputs": [
    {
     "data": {
      "text/plain": [
       "5.631947806720307"
      ]
     },
     "execution_count": 238,
     "metadata": {},
     "output_type": "execute_result"
    }
   ],
   "source": [
    "crets"
   ]
  },
  {
   "cell_type": "code",
   "execution_count": 251,
   "id": "49e6967d",
   "metadata": {},
   "outputs": [
    {
     "data": {
      "text/plain": [
       "2.0386717973846826"
      ]
     },
     "execution_count": 251,
     "metadata": {},
     "output_type": "execute_result"
    }
   ],
   "source": [
    "variance"
   ]
  },
  {
   "cell_type": "code",
   "execution_count": 284,
   "id": "78fcc32e",
   "metadata": {},
   "outputs": [
    {
     "data": {
      "text/plain": [
       "0.1"
      ]
     },
     "execution_count": 284,
     "metadata": {},
     "output_type": "execute_result"
    }
   ],
   "source": [
    "pf1.iloc[1,1]"
   ]
  },
  {
   "cell_type": "code",
   "execution_count": 269,
   "id": "8e32b529",
   "metadata": {},
   "outputs": [],
   "source": [
    "stock_data = pd.DataFrame({'samsung1':[1,1,1,2,3,4],'lg1':[1,5,6,6,7,7], 'sk1': [1,2,8,12,10,11], 'ls1': [1,13,18,16,20,15],\n",
    "                     'samsung2':[1,1,1,2,3,4],'lg2':[1,5,6,6,7,17], 'sk2': [1,2,8,12,13,11], 'ls2': [1,13,18,8,12,10],\n",
    "                     'samsung3':[1,1,1,2,3,4],'lg3':[1,5,6,16,7,7], 'sk3': [1,2,8,12,16,11], 'ls3': [1,13,18,12,10,20],\n",
    "                     'samsung4':[1,1,1,2,3,4],'lg4':[1,5,6,6,17,7], 'sk4': [1,2,8,12,10,11], 'ls4': [1,13,18,11,20,23],\n",
    "                     'samsung5':[1,1,1,2,3,4],'lg5':[1,5,6,6,7,20], 'sk5': [1,2,8,12,12,11], 'ls5': [1,18,12,10,20,25],\n",
    "                     'samsung6':[1,1,1,2,3,4],'lg6':[1,5,3,6,7,7], 'sk6': [1,2,8,12,17,11], 'ls6': [1,13,1,6,20,18],\n",
    "                     'samsung7':[1,1,1,2,3,4],'lg7':[1,5,6,6,7,8], 'sk7': [1,2,8,12,18,11], 'ls7': [1,1,8,16,20,15],\n",
    "                     'samsung8':[1,1,1,2,3,4],'lg8':[1,5,3,6,7,73500]}) "
   ]
  },
  {
   "cell_type": "code",
   "execution_count": 273,
   "id": "665eef6f",
   "metadata": {},
   "outputs": [],
   "source": [
    "total_asset = 100000000"
   ]
  },
  {
   "cell_type": "code",
   "execution_count": 286,
   "id": "203e870f",
   "metadata": {},
   "outputs": [
    {
     "name": "stdout",
     "output_type": "stream",
     "text": [
      "  stock_name num_of_shares    amount  ratio\n",
      "0        lg5           544  39984000    0.4\n",
      "1        ls6           136   9996000    0.1\n",
      "2        ls7           680  49980000    0.5\n"
     ]
    }
   ],
   "source": [
    "custom_pf = pd.DataFrame(columns=['stock_name', 'num_of_shares', 'amount', 'ratio'])\n",
    "\n",
    "for i in range(0,len(pf1)):\n",
    "    stock_name = pf1.iloc[i,0]\n",
    "    \n",
    "    conn = sqlite3.connect('./' + stock_name + '.db')\n",
    "    c = conn.cursor()\n",
    "    stock_data = pd.read_sql('SELECT * FROM ' + stock_name, con=conn)\n",
    "    c.close()\n",
    "\n",
    "    stock_price = stock_data.iloc[-1,-1]\n",
    "    stock_buy = total_asset * pf1.iloc[i,1]\n",
    "    num_of_shares = int(stock_buy/stock_price)\n",
    "    amount = num_of_shares*stock_price\n",
    "    \n",
    "    custom_pf = custom_pf.append({'stock_name' : stock_name , 'num_of_shares' : num_of_shares, 'amount' : amount, 'ratio' : pf1.iloc[i,1]} , ignore_index=True)\n",
    "\n",
    "print(custom_pf)\n",
    "    \n",
    "    "
   ]
  },
  {
   "cell_type": "code",
   "execution_count": null,
   "id": "734fc067",
   "metadata": {},
   "outputs": [],
   "source": []
  }
 ],
 "metadata": {
  "kernelspec": {
   "display_name": "Python 3",
   "language": "python",
   "name": "python3"
  },
  "language_info": {
   "codemirror_mode": {
    "name": "ipython",
    "version": 3
   },
   "file_extension": ".py",
   "mimetype": "text/x-python",
   "name": "python",
   "nbconvert_exporter": "python",
   "pygments_lexer": "ipython3",
   "version": "3.8.8"
  }
 },
 "nbformat": 4,
 "nbformat_minor": 5
}
