{
 "cells": [
  {
   "cell_type": "code",
   "execution_count": 1,
   "id": "67e5b2b1",
   "metadata": {},
   "outputs": [],
   "source": [
    "import pandas as pd\n",
    "import numpy as np\n",
    "import openpyxl"
   ]
  },
  {
   "cell_type": "code",
   "execution_count": 2,
   "id": "db5c2c6a",
   "metadata": {},
   "outputs": [],
   "source": [
    "#macro\n",
    "\n",
    "nasdaq = pd.read_csv('./data/나스닥종합지수 내역.csv')\n",
    "nasdaq_copy = nasdaq[['날짜', '종가']].copy()\n",
    "nasdaq_copy.columns = ['DATE', 'NASDAQ']\n",
    "\n",
    "sap = pd.read_csv('./data/S&P 500 내역.csv')\n",
    "sap_copy = sap[['날짜', '종가']].copy()\n",
    "sap_copy.columns = ['DATE', 'S&P']\n",
    "\n",
    "merge_data = pd.merge(nasdaq_copy, sap_copy, on='DATE', how='outer')\n",
    "CBOE = pd.read_csv('./data/CBOE Volatility Index 내역.csv')\n",
    "CBOE_copy = CBOE[['날짜', '종가']].copy()\n",
    "CBOE_copy.columns = ['DATE', 'CBOE']\n",
    "\n",
    "merge_data = pd.merge(merge_data, CBOE_copy, on='DATE', how='outer')\n",
    "exchange = pd.read_csv('./data/USD_KRW 내역.csv')\n",
    "exchange_copy = exchange[['날짜', '종가']].copy()\n",
    "exchange_copy.columns = ['DATE', 'Exchange rate']\n",
    "\n",
    "merge_data = pd.merge(merge_data, exchange_copy, on='DATE', how='outer')\n",
    "futures2y = pd.read_csv('./data/2년만기 미국채 선물 역사적 데이터.csv')\n",
    "futures2y_copy = futures2y[['날짜', '종가']].copy()\n",
    "futures2y_copy.columns = ['DATE', 'futures2y']\n",
    "\n",
    "merge_data = pd.merge(merge_data, futures2y_copy, on='DATE', how='outer')\n",
    "futures10y = pd.read_csv('./data/10년만기 미국채 선물 역사적 데이터.csv')\n",
    "futures10y_copy = futures10y[['날짜', '종가']].copy()\n",
    "futures10y_copy.columns = ['DATE', 'futures10y']\n",
    "\n",
    "merge_data = pd.merge(merge_data, futures10y_copy, on='DATE', how='outer')\n",
    "\n",
    "merge_data = merge_data.sort_values(by=['DATE'], axis=0)\n",
    "merge_data.to_csv('./data/merge_data_test.csv', index=False)"
   ]
  },
  {
   "cell_type": "code",
   "execution_count": 3,
   "id": "7340c572",
   "metadata": {},
   "outputs": [
    {
     "name": "stderr",
     "output_type": "stream",
     "text": [
      "C:\\Users\\me\\anaconda3\\lib\\site-packages\\openpyxl\\styles\\stylesheet.py:221: UserWarning: Workbook contains no default style, apply openpyxl's default\n",
      "  warn(\"Workbook contains no default style, apply openpyxl's default\")\n"
     ]
    }
   ],
   "source": [
    "#enp\n",
    "\n",
    "df1 = pd.read_excel('./data/시세추이.xlsx')\n",
    "df_atr = df1.iloc[:,[0,1,5,6]]\n",
    "df_atr.columns = ['date', 'fin', 'high', 'low']\n",
    "\n",
    "lst = []\n",
    "atr = []\n",
    "\n",
    "for i in range(0,len(df_atr)-1):\n",
    "    a = df_atr.iloc[i,2] - df_atr.iloc[i,3]\n",
    "    b = df_atr.iloc[i,2] - df_atr.iloc[i+1,1]\n",
    "    c = df_atr.iloc[i,3] - df_atr.iloc[i+1,1]\n",
    "    lst = [abs(a),abs(b),abs(c)]\n",
    "    atr.append(max(lst))\n",
    "    \n",
    "fin = list(df_atr[0:-1]['fin'])\n",
    "#del fin[820:823] # 거래정지 시점 데이터 행 삭제\n",
    "\n",
    "df1 = df1.drop(len(df1)-1,axis=0)\n",
    "df1 = df1[['일자', '거래량']]\n",
    "df2 = pd.read_excel('./data/PERPBR.xlsx')\n",
    "df2 = df2[['일자', 'PER', 'PBR']]\n",
    "df3 = pd.read_excel('./data/거래실적.xlsx')\n",
    "df3 = df3.drop(columns=['전체'], axis=1)\n",
    "\n",
    "enp = pd.merge(df1, df2, on='일자', how='outer')\n",
    "enp = pd.merge(enp, df3, on='일자', how='outer')\n",
    "enp['ATR'] = atr\n",
    "\n",
    "enp['일자'] = pd.to_datetime(enp['일자'])\n",
    "enp.rename(columns={'일자':'DATE'}, inplace=True)\n",
    "macro_data = pd.read_csv('./data/merge_data.csv')\n",
    "macro_data['DATE'] = pd.to_datetime(macro_data['DATE']) \n",
    "macro_data = macro_data.dropna(axis=0)\n",
    "df_enp = pd.merge(enp, macro_data, how='left', on='DATE')\n",
    "\n",
    "df_enp['y'] = fin\n",
    "df_enp.sort_values('DATE', inplace=True)\n",
    "df_enp.fillna(method='ffill', inplace=True)\n",
    "\n",
    "df_enp.to_excel('./data/samsung_test.xlsx',index=False)"
   ]
  },
  {
   "cell_type": "code",
   "execution_count": 4,
   "id": "04701c6b",
   "metadata": {},
   "outputs": [],
   "source": [
    "#csv파일 -> xlsx파일 변환\n",
    "r_csv = pd.read_csv(\"./data/merge_data.csv\")\n",
    "save_xlsx = pd.ExcelWriter(\"./data/merge_data.xlsx\")\n",
    "r_csv.to_excel(save_xlsx, index = False)\n",
    "\n",
    "save_xlsx.save()"
   ]
  },
  {
   "cell_type": "code",
   "execution_count": 5,
   "id": "2c602cbf",
   "metadata": {},
   "outputs": [],
   "source": [
    "#xlsx파일 합치기\n",
    "excel_names = ['./data/merge_data.xlsx', './data/samsung_test.xlsx']\n",
    "excels = [pd.ExcelFile(name) for name in excel_names]\n",
    "frames = [x.parse(x.sheet_names[0], header = None, index_col = None) for x in excels]\n",
    "\n",
    "frames[1:] = [df[1:] for df in frames[1:]]\n",
    "combined = pd.concat(frames, axis=1)\n",
    "\n",
    "#저장\n",
    "combined.to_excel(\"./data/stock.xlsx\")"
   ]
  },
  {
   "cell_type": "code",
   "execution_count": null,
   "id": "4ee92eba",
   "metadata": {},
   "outputs": [],
   "source": []
  }
 ],
 "metadata": {
  "kernelspec": {
   "display_name": "Python 3",
   "language": "python",
   "name": "python3"
  },
  "language_info": {
   "codemirror_mode": {
    "name": "ipython",
    "version": 3
   },
   "file_extension": ".py",
   "mimetype": "text/x-python",
   "name": "python",
   "nbconvert_exporter": "python",
   "pygments_lexer": "ipython3",
   "version": "3.8.10"
  }
 },
 "nbformat": 4,
 "nbformat_minor": 5
}
