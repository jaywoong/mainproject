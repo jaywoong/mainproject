{
 "cells": [
  {
   "cell_type": "code",
   "execution_count": 2,
   "id": "3ffaa3cd",
   "metadata": {},
   "outputs": [
    {
     "name": "stdout",
     "output_type": "stream",
     "text": [
      "Collecting pykrx\n",
      "  Downloading pykrx-1.0.19-py3-none-any.whl (81 kB)\n",
      "Requirement already satisfied: requests in c:\\users\\user\\anaconda3\\lib\\site-packages (from pykrx) (2.25.1)\n",
      "Collecting datetime\n",
      "  Downloading DateTime-4.3-py2.py3-none-any.whl (60 kB)\n",
      "Requirement already satisfied: xlrd in c:\\users\\user\\anaconda3\\lib\\site-packages (from pykrx) (2.0.1)\n",
      "Collecting deprecated\n",
      "  Downloading Deprecated-1.2.13-py2.py3-none-any.whl (9.6 kB)\n",
      "Requirement already satisfied: numpy in c:\\users\\user\\anaconda3\\lib\\site-packages (from pykrx) (1.19.5)\n",
      "Requirement already satisfied: pandas in c:\\users\\user\\anaconda3\\lib\\site-packages (from pykrx) (1.2.4)\n",
      "Requirement already satisfied: pytz in c:\\users\\user\\anaconda3\\lib\\site-packages (from datetime->pykrx) (2021.1)\n",
      "Requirement already satisfied: zope.interface in c:\\users\\user\\anaconda3\\lib\\site-packages (from datetime->pykrx) (5.3.0)\n",
      "Requirement already satisfied: wrapt<2,>=1.10 in c:\\users\\user\\anaconda3\\lib\\site-packages (from deprecated->pykrx) (1.12.1)\n",
      "Requirement already satisfied: python-dateutil>=2.7.3 in c:\\users\\user\\anaconda3\\lib\\site-packages (from pandas->pykrx) (2.8.1)\n",
      "Requirement already satisfied: six>=1.5 in c:\\users\\user\\anaconda3\\lib\\site-packages (from python-dateutil>=2.7.3->pandas->pykrx) (1.15.0)\n",
      "Requirement already satisfied: urllib3<1.27,>=1.21.1 in c:\\users\\user\\anaconda3\\lib\\site-packages (from requests->pykrx) (1.26.4)\n",
      "Requirement already satisfied: chardet<5,>=3.0.2 in c:\\users\\user\\anaconda3\\lib\\site-packages (from requests->pykrx) (4.0.0)\n",
      "Requirement already satisfied: certifi>=2017.4.17 in c:\\users\\user\\anaconda3\\lib\\site-packages (from requests->pykrx) (2020.12.5)\n",
      "Requirement already satisfied: idna<3,>=2.5 in c:\\users\\user\\anaconda3\\lib\\site-packages (from requests->pykrx) (2.10)\n",
      "Requirement already satisfied: setuptools in c:\\users\\user\\anaconda3\\lib\\site-packages (from zope.interface->datetime->pykrx) (52.0.0.post20210125)\n",
      "Installing collected packages: deprecated, datetime, pykrx\n",
      "Successfully installed datetime-4.3 deprecated-1.2.13 pykrx-1.0.19\n"
     ]
    }
   ],
   "source": [
    "!pip install pykrx"
   ]
  },
  {
   "cell_type": "code",
   "execution_count": 3,
   "id": "76aaf6c6",
   "metadata": {},
   "outputs": [],
   "source": [
    "from pykrx import stock"
   ]
  },
  {
   "cell_type": "code",
   "execution_count": 7,
   "id": "011d2380",
   "metadata": {},
   "outputs": [
    {
     "data": {
      "text/plain": [
       "(['095570', '006840', '027410', '282330', '138930', '001460'], 937)"
      ]
     },
     "execution_count": 7,
     "metadata": {},
     "output_type": "execute_result"
    }
   ],
   "source": [
    "# KOSPI \n",
    "stock_code = stock.get_market_ticker_list(market=\"KOSPI\")\n",
    "(stock_code[:6], len(stock_code))\n",
    "\n",
    "# 937개의 종목 있음"
   ]
  },
  {
   "cell_type": "code",
   "execution_count": 8,
   "id": "46e67f6e",
   "metadata": {},
   "outputs": [
    {
     "data": {
      "text/plain": [
       "'삼성전자'"
      ]
     },
     "execution_count": 8,
     "metadata": {},
     "output_type": "execute_result"
    }
   ],
   "source": [
    "# 종목명 반환\n",
    "stock_name = stock.get_market_ticker_name(\"005930\")\n",
    "stock_name"
   ]
  },
  {
   "cell_type": "code",
   "execution_count": 30,
   "id": "6a412d42",
   "metadata": {},
   "outputs": [],
   "source": [
    "from datetime import date, timedelta\n",
    "\n",
    "today = date.today().strftime('%Y%m%d')\n",
    "yesterday = (date.today() - timedelta(1)).strftime('%Y%m%d')"
   ]
  },
  {
   "cell_type": "markdown",
   "id": "81429c10",
   "metadata": {},
   "source": [
    "# 거래량"
   ]
  },
  {
   "cell_type": "code",
   "execution_count": 54,
   "id": "5519f35d",
   "metadata": {},
   "outputs": [
    {
     "data": {
      "text/html": [
       "<div>\n",
       "<style scoped>\n",
       "    .dataframe tbody tr th:only-of-type {\n",
       "        vertical-align: middle;\n",
       "    }\n",
       "\n",
       "    .dataframe tbody tr th {\n",
       "        vertical-align: top;\n",
       "    }\n",
       "\n",
       "    .dataframe thead th {\n",
       "        text-align: right;\n",
       "    }\n",
       "</style>\n",
       "<table border=\"1\" class=\"dataframe\">\n",
       "  <thead>\n",
       "    <tr style=\"text-align: right;\">\n",
       "      <th></th>\n",
       "      <th>시가</th>\n",
       "      <th>고가</th>\n",
       "      <th>저가</th>\n",
       "      <th>종가</th>\n",
       "      <th>거래량</th>\n",
       "    </tr>\n",
       "    <tr>\n",
       "      <th>날짜</th>\n",
       "      <th></th>\n",
       "      <th></th>\n",
       "      <th></th>\n",
       "      <th></th>\n",
       "      <th></th>\n",
       "    </tr>\n",
       "  </thead>\n",
       "  <tbody>\n",
       "    <tr>\n",
       "      <th>2021-09-17</th>\n",
       "      <td>76300</td>\n",
       "      <td>76700</td>\n",
       "      <td>75900</td>\n",
       "      <td>76700</td>\n",
       "      <td>4147816</td>\n",
       "    </tr>\n",
       "  </tbody>\n",
       "</table>\n",
       "</div>"
      ],
      "text/plain": [
       "               시가     고가     저가     종가      거래량\n",
       "날짜                                             \n",
       "2021-09-17  76300  76700  75900  76700  4147816"
      ]
     },
     "execution_count": 54,
     "metadata": {},
     "output_type": "execute_result"
    }
   ],
   "source": [
    "# 개별종목 시세 추이\n",
    "\n",
    "df_volume = stock.get_market_ohlcv_by_date(fromdate=yesterday, todate=today, ticker=\"005930\")\n",
    "df_volume"
   ]
  },
  {
   "cell_type": "code",
   "execution_count": 55,
   "id": "114d5fc4",
   "metadata": {},
   "outputs": [
    {
     "data": {
      "text/html": [
       "<div>\n",
       "<style scoped>\n",
       "    .dataframe tbody tr th:only-of-type {\n",
       "        vertical-align: middle;\n",
       "    }\n",
       "\n",
       "    .dataframe tbody tr th {\n",
       "        vertical-align: top;\n",
       "    }\n",
       "\n",
       "    .dataframe thead th {\n",
       "        text-align: right;\n",
       "    }\n",
       "</style>\n",
       "<table border=\"1\" class=\"dataframe\">\n",
       "  <thead>\n",
       "    <tr style=\"text-align: right;\">\n",
       "      <th></th>\n",
       "      <th>거래량</th>\n",
       "    </tr>\n",
       "    <tr>\n",
       "      <th>날짜</th>\n",
       "      <th></th>\n",
       "    </tr>\n",
       "  </thead>\n",
       "  <tbody>\n",
       "    <tr>\n",
       "      <th>2021-09-17</th>\n",
       "      <td>4147816</td>\n",
       "    </tr>\n",
       "  </tbody>\n",
       "</table>\n",
       "</div>"
      ],
      "text/plain": [
       "                거래량\n",
       "날짜                 \n",
       "2021-09-17  4147816"
      ]
     },
     "execution_count": 55,
     "metadata": {},
     "output_type": "execute_result"
    }
   ],
   "source": [
    "#df_volume.columns\n",
    "df_volume = df_volume[['거래량']]\n",
    "df_volume"
   ]
  },
  {
   "cell_type": "markdown",
   "id": "945f7c31",
   "metadata": {},
   "source": [
    "# PER, PBR"
   ]
  },
  {
   "cell_type": "code",
   "execution_count": 41,
   "id": "657ca144",
   "metadata": {},
   "outputs": [
    {
     "data": {
      "text/html": [
       "<div>\n",
       "<style scoped>\n",
       "    .dataframe tbody tr th:only-of-type {\n",
       "        vertical-align: middle;\n",
       "    }\n",
       "\n",
       "    .dataframe tbody tr th {\n",
       "        vertical-align: top;\n",
       "    }\n",
       "\n",
       "    .dataframe thead th {\n",
       "        text-align: right;\n",
       "    }\n",
       "</style>\n",
       "<table border=\"1\" class=\"dataframe\">\n",
       "  <thead>\n",
       "    <tr style=\"text-align: right;\">\n",
       "      <th></th>\n",
       "      <th>BPS</th>\n",
       "      <th>PER</th>\n",
       "      <th>PBR</th>\n",
       "      <th>EPS</th>\n",
       "      <th>DIV</th>\n",
       "      <th>DPS</th>\n",
       "    </tr>\n",
       "    <tr>\n",
       "      <th>날짜</th>\n",
       "      <th></th>\n",
       "      <th></th>\n",
       "      <th></th>\n",
       "      <th></th>\n",
       "      <th></th>\n",
       "      <th></th>\n",
       "    </tr>\n",
       "  </thead>\n",
       "  <tbody>\n",
       "    <tr>\n",
       "      <th>2021-09-17</th>\n",
       "      <td>39406</td>\n",
       "      <td>19.79</td>\n",
       "      <td>1.93</td>\n",
       "      <td>3841</td>\n",
       "      <td>3.94</td>\n",
       "      <td>2994</td>\n",
       "    </tr>\n",
       "  </tbody>\n",
       "</table>\n",
       "</div>"
      ],
      "text/plain": [
       "              BPS    PER   PBR   EPS   DIV   DPS\n",
       "날짜                                              \n",
       "2021-09-17  39406  19.79  1.93  3841  3.94  2994"
      ]
     },
     "execution_count": 41,
     "metadata": {},
     "output_type": "execute_result"
    }
   ],
   "source": [
    "# PER, PBR\n",
    "\n",
    "df_per = stock.get_market_fundamental_by_date(today, today, \"005930\")\n",
    "df_per"
   ]
  },
  {
   "cell_type": "code",
   "execution_count": 56,
   "id": "7e923f4e",
   "metadata": {},
   "outputs": [
    {
     "data": {
      "text/html": [
       "<div>\n",
       "<style scoped>\n",
       "    .dataframe tbody tr th:only-of-type {\n",
       "        vertical-align: middle;\n",
       "    }\n",
       "\n",
       "    .dataframe tbody tr th {\n",
       "        vertical-align: top;\n",
       "    }\n",
       "\n",
       "    .dataframe thead th {\n",
       "        text-align: right;\n",
       "    }\n",
       "</style>\n",
       "<table border=\"1\" class=\"dataframe\">\n",
       "  <thead>\n",
       "    <tr style=\"text-align: right;\">\n",
       "      <th></th>\n",
       "      <th>PER</th>\n",
       "      <th>PBR</th>\n",
       "    </tr>\n",
       "    <tr>\n",
       "      <th>날짜</th>\n",
       "      <th></th>\n",
       "      <th></th>\n",
       "    </tr>\n",
       "  </thead>\n",
       "  <tbody>\n",
       "    <tr>\n",
       "      <th>2021-09-17</th>\n",
       "      <td>19.79</td>\n",
       "      <td>1.93</td>\n",
       "    </tr>\n",
       "  </tbody>\n",
       "</table>\n",
       "</div>"
      ],
      "text/plain": [
       "              PER   PBR\n",
       "날짜                     \n",
       "2021-09-17  19.79  1.93"
      ]
     },
     "execution_count": 56,
     "metadata": {},
     "output_type": "execute_result"
    }
   ],
   "source": [
    "df_per = df_per[['PER', 'PBR']]\n",
    "df_per"
   ]
  },
  {
   "cell_type": "markdown",
   "id": "717cc4e4",
   "metadata": {},
   "source": [
    "# 거래실적"
   ]
  },
  {
   "cell_type": "code",
   "execution_count": 73,
   "id": "61d1bcaa",
   "metadata": {},
   "outputs": [
    {
     "data": {
      "text/html": [
       "<div>\n",
       "<style scoped>\n",
       "    .dataframe tbody tr th:only-of-type {\n",
       "        vertical-align: middle;\n",
       "    }\n",
       "\n",
       "    .dataframe tbody tr th {\n",
       "        vertical-align: top;\n",
       "    }\n",
       "\n",
       "    .dataframe thead th {\n",
       "        text-align: right;\n",
       "    }\n",
       "</style>\n",
       "<table border=\"1\" class=\"dataframe\">\n",
       "  <thead>\n",
       "    <tr style=\"text-align: right;\">\n",
       "      <th></th>\n",
       "      <th>기관합계</th>\n",
       "      <th>기타법인</th>\n",
       "      <th>개인</th>\n",
       "      <th>외국인합계</th>\n",
       "      <th>전체</th>\n",
       "    </tr>\n",
       "    <tr>\n",
       "      <th>날짜</th>\n",
       "      <th></th>\n",
       "      <th></th>\n",
       "      <th></th>\n",
       "      <th></th>\n",
       "      <th></th>\n",
       "    </tr>\n",
       "  </thead>\n",
       "  <tbody>\n",
       "    <tr>\n",
       "      <th>2021-09-16</th>\n",
       "      <td>-169972285200</td>\n",
       "      <td>2789255200</td>\n",
       "      <td>131008255500</td>\n",
       "      <td>36174774500</td>\n",
       "      <td>0</td>\n",
       "    </tr>\n",
       "  </tbody>\n",
       "</table>\n",
       "</div>"
      ],
      "text/plain": [
       "                    기관합계        기타법인            개인        외국인합계  전체\n",
       "날짜                                                                 \n",
       "2021-09-16 -169972285200  2789255200  131008255500  36174774500   0"
      ]
     },
     "execution_count": 73,
     "metadata": {},
     "output_type": "execute_result"
    }
   ],
   "source": [
    "# 투자자별 거래실적\n",
    "\n",
    "df_value = stock.get_market_trading_value_by_date(yesterday, yesterday, \"005930\")\n",
    "df_value\n"
   ]
  },
  {
   "cell_type": "code",
   "execution_count": 74,
   "id": "4aea64b7",
   "metadata": {},
   "outputs": [
    {
     "data": {
      "text/html": [
       "<div>\n",
       "<style scoped>\n",
       "    .dataframe tbody tr th:only-of-type {\n",
       "        vertical-align: middle;\n",
       "    }\n",
       "\n",
       "    .dataframe tbody tr th {\n",
       "        vertical-align: top;\n",
       "    }\n",
       "\n",
       "    .dataframe thead th {\n",
       "        text-align: right;\n",
       "    }\n",
       "</style>\n",
       "<table border=\"1\" class=\"dataframe\">\n",
       "  <thead>\n",
       "    <tr style=\"text-align: right;\">\n",
       "      <th></th>\n",
       "      <th>기관합계</th>\n",
       "      <th>기타법인</th>\n",
       "      <th>개인</th>\n",
       "      <th>외국인합계</th>\n",
       "    </tr>\n",
       "    <tr>\n",
       "      <th>날짜</th>\n",
       "      <th></th>\n",
       "      <th></th>\n",
       "      <th></th>\n",
       "      <th></th>\n",
       "    </tr>\n",
       "  </thead>\n",
       "  <tbody>\n",
       "    <tr>\n",
       "      <th>2021-09-16</th>\n",
       "      <td>-169972285200</td>\n",
       "      <td>2789255200</td>\n",
       "      <td>131008255500</td>\n",
       "      <td>36174774500</td>\n",
       "    </tr>\n",
       "  </tbody>\n",
       "</table>\n",
       "</div>"
      ],
      "text/plain": [
       "                    기관합계        기타법인            개인        외국인합계\n",
       "날짜                                                             \n",
       "2021-09-16 -169972285200  2789255200  131008255500  36174774500"
      ]
     },
     "execution_count": 74,
     "metadata": {},
     "output_type": "execute_result"
    }
   ],
   "source": [
    "df_value.drop(['전체'], axis = 1)"
   ]
  },
  {
   "cell_type": "markdown",
   "id": "da72b732",
   "metadata": {},
   "source": [
    "# 합치기"
   ]
  },
  {
   "cell_type": "code",
   "execution_count": 75,
   "id": "ce3da807",
   "metadata": {},
   "outputs": [
    {
     "data": {
      "text/html": [
       "<div>\n",
       "<style scoped>\n",
       "    .dataframe tbody tr th:only-of-type {\n",
       "        vertical-align: middle;\n",
       "    }\n",
       "\n",
       "    .dataframe tbody tr th {\n",
       "        vertical-align: top;\n",
       "    }\n",
       "\n",
       "    .dataframe thead th {\n",
       "        text-align: right;\n",
       "    }\n",
       "</style>\n",
       "<table border=\"1\" class=\"dataframe\">\n",
       "  <thead>\n",
       "    <tr style=\"text-align: right;\">\n",
       "      <th></th>\n",
       "      <th>거래량</th>\n",
       "      <th>PER</th>\n",
       "      <th>PBR</th>\n",
       "      <th>기관합계</th>\n",
       "      <th>기타법인</th>\n",
       "      <th>개인</th>\n",
       "      <th>외국인합계</th>\n",
       "      <th>전체</th>\n",
       "    </tr>\n",
       "    <tr>\n",
       "      <th>날짜</th>\n",
       "      <th></th>\n",
       "      <th></th>\n",
       "      <th></th>\n",
       "      <th></th>\n",
       "      <th></th>\n",
       "      <th></th>\n",
       "      <th></th>\n",
       "      <th></th>\n",
       "    </tr>\n",
       "  </thead>\n",
       "  <tbody>\n",
       "    <tr>\n",
       "      <th>2021-09-16</th>\n",
       "      <td>NaN</td>\n",
       "      <td>NaN</td>\n",
       "      <td>NaN</td>\n",
       "      <td>-1.699723e+11</td>\n",
       "      <td>2.789255e+09</td>\n",
       "      <td>1.310083e+11</td>\n",
       "      <td>3.617477e+10</td>\n",
       "      <td>0.0</td>\n",
       "    </tr>\n",
       "    <tr>\n",
       "      <th>2021-09-17</th>\n",
       "      <td>4147816.0</td>\n",
       "      <td>19.79</td>\n",
       "      <td>1.93</td>\n",
       "      <td>NaN</td>\n",
       "      <td>NaN</td>\n",
       "      <td>NaN</td>\n",
       "      <td>NaN</td>\n",
       "      <td>NaN</td>\n",
       "    </tr>\n",
       "  </tbody>\n",
       "</table>\n",
       "</div>"
      ],
      "text/plain": [
       "                  거래량    PER   PBR          기관합계          기타법인            개인  \\\n",
       "날짜                                                                             \n",
       "2021-09-16        NaN    NaN   NaN -1.699723e+11  2.789255e+09  1.310083e+11   \n",
       "2021-09-17  4147816.0  19.79  1.93           NaN           NaN           NaN   \n",
       "\n",
       "                   외국인합계   전체  \n",
       "날짜                             \n",
       "2021-09-16  3.617477e+10  0.0  \n",
       "2021-09-17           NaN  NaN  "
      ]
     },
     "execution_count": 75,
     "metadata": {},
     "output_type": "execute_result"
    }
   ],
   "source": [
    "import pandas as pd\n",
    "\n",
    "df = pd.concat([df_volume, df_per, df_value],axis=1)\n",
    "df"
   ]
  },
  {
   "cell_type": "markdown",
   "id": "92e821a3",
   "metadata": {},
   "source": [
    "# 함수화"
   ]
  },
  {
   "cell_type": "code",
   "execution_count": 10,
   "id": "5e5ddfd4",
   "metadata": {},
   "outputs": [],
   "source": [
    "# !pip install pykrx\n",
    "from pykrx import stock\n",
    "import pandas as pd\n",
    "from datetime import date, timedelta\n",
    "\n",
    "class KRX:\n",
    "    def getDate(self):\n",
    "        self.today = date.today().strftime('%Y%m%d')\n",
    "        self.yesterday = (date.today() - timedelta(1)).strftime('%Y%m%d')\n",
    "        \n",
    "    def getVolume(self, code):\n",
    "        self.volume = stock.get_market_ohlcv_by_date(self.yesterday, self.today, code)\n",
    "        self.volume = self.volume[['거래량']]\n",
    "    \n",
    "    def getPER(self, code):\n",
    "        self.per = stock.get_market_fundamental_by_date(self.today, self.today, code)\n",
    "        self.per = self.per[['PER', 'PBR']]\n",
    "    \n",
    "    def getValue(self, code):\n",
    "        self.value = stock.get_market_trading_value_by_date(self.today, self.today, code)\n",
    "        self.value.drop(['전체'], axis = 1)\n",
    "    \n",
    "    def saving(self, code):\n",
    "        self.df = pd.concat([self.volume, self.per, self.value], axis=1)\n",
    "        self.stockname = stock.get_market_ticker_name(code)\n",
    "        self.df.to_excel(\"./data/update\" + self.stockname +\".xlsx\")\n",
    "        \n",
    "        \n",
    "if __name__ == \"__main__\":\n",
    "    code = \"005930\" # 종목코드 \n",
    "    krx = KRX()\n",
    "    krx.getDate()\n",
    "    krx.getVolume(code)\n",
    "    krx.getPER(code)\n",
    "    krx.getValue(code)\n",
    "    krx.saving(code)\n",
    "    \n"
   ]
  },
  {
   "cell_type": "code",
   "execution_count": null,
   "id": "6274903f",
   "metadata": {},
   "outputs": [],
   "source": []
  }
 ],
 "metadata": {
  "kernelspec": {
   "display_name": "Python 3",
   "language": "python",
   "name": "python3"
  },
  "language_info": {
   "codemirror_mode": {
    "name": "ipython",
    "version": 3
   },
   "file_extension": ".py",
   "mimetype": "text/x-python",
   "name": "python",
   "nbconvert_exporter": "python",
   "pygments_lexer": "ipython3",
   "version": "3.8.8"
  }
 },
 "nbformat": 4,
 "nbformat_minor": 5
}
