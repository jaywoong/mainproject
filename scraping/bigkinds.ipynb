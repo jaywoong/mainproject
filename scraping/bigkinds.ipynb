{
 "cells": [
  {
   "cell_type": "code",
   "execution_count": null,
   "id": "69a93fc2",
   "metadata": {},
   "outputs": [],
   "source": [
    "!pip install selenium"
   ]
  },
  {
   "cell_type": "code",
   "execution_count": 1,
   "id": "16d26dae",
   "metadata": {},
   "outputs": [],
   "source": [
    "from selenium import webdriver\n",
    "from bs4 import BeautifulSoup\n",
    "import requests\n",
    "import pandas as pd\n",
    "import csv\n",
    "import time"
   ]
  },
  {
   "cell_type": "code",
   "execution_count": 2,
   "id": "38fbc4da",
   "metadata": {},
   "outputs": [],
   "source": [
    "browser = webdriver.Chrome('C:\\chromedriver.exe')\n",
    "browser.get('https://www.bigkinds.or.kr/v2/news/index.do')"
   ]
  },
  {
   "cell_type": "code",
   "execution_count": 5,
   "id": "73a39b7b",
   "metadata": {},
   "outputs": [],
   "source": [
    "# 기간 1주일로 설정\n",
    "\n",
    "browser.find_element_by_xpath('//*[@id=\"collapse-step-1-body\"]/div[3]/div/div[1]/div[1]/a').click()\n",
    "time.sleep(1)\n",
    "browser.find_element_by_xpath('//*[@id=\"srch-tab1\"]/div/div[1]/span[2]').click()"
   ]
  },
  {
   "cell_type": "code",
   "execution_count": 6,
   "id": "3d6ea4b7",
   "metadata": {},
   "outputs": [
    {
     "name": "stdout",
     "output_type": "stream",
     "text": [
      "크롤링할 키워드는 무엇입니까?:넥슨\n"
     ]
    }
   ],
   "source": [
    "# #검색창의 이름을 찾아서 사용자가 검색어 입력\n",
    "\n",
    "query_txt = input('크롤링할 키워드는 무엇입니까?:')\n",
    "element = browser.find_element_by_id(\"total-search-key\")\n",
    "element.send_keys(query_txt)  \n",
    "element.send_keys(\"\\n\")  #엔터효과"
   ]
  },
  {
   "cell_type": "code",
   "execution_count": 7,
   "id": "14ad19fa",
   "metadata": {},
   "outputs": [],
   "source": [
    "# 경제 분류, 기사 100건 씩 보기 선택\n",
    "\n",
    "from selenium.webdriver.common.keys import Keys\n",
    "browser.find_element_by_xpath('//*[@id=\"filterTab03\"]/li[2]/span').send_keys(Keys.ENTER)\n",
    "time.sleep(1)\n",
    "browser.find_element_by_xpath('//*[@id=\"select2\"]/option[4]').send_keys(Keys.ENTER)\n",
    "# .click()"
   ]
  },
  {
   "cell_type": "code",
   "execution_count": null,
   "id": "92c1c6c1",
   "metadata": {},
   "outputs": [],
   "source": []
  },
  {
   "cell_type": "code",
   "execution_count": 8,
   "id": "655d4735",
   "metadata": {},
   "outputs": [],
   "source": [
    "html = browser.page_source\n",
    "soup = BeautifulSoup(html, 'html.parser')"
   ]
  },
  {
   "cell_type": "markdown",
   "id": "44c4a4ad",
   "metadata": {},
   "source": [
    "//*[@id=\"news-results-tab\"]/div[6]/div[1]/div/div/div/div[4]/a\n",
    "\n",
    "#news-results-tab > div.data-result-btm.m-only.paging-v3-wrp > div.btm-pav-wrp > div > div > div > div:nth-child(7) > a"
   ]
  },
  {
   "cell_type": "code",
   "execution_count": 14,
   "id": "02fa0f5e",
   "metadata": {},
   "outputs": [],
   "source": [
    "# 다음 페이지 넘기기\n",
    "\n",
    "nextbtn = browser.find_element_by_css_selector('#news-results-tab > div.data-result-btm.m-only.paging-v3-wrp > div.btm-pav-wrp > div > div > div > div:nth-child(7) > a')\n",
    "nextbtn.send_keys(Keys.ENTER)"
   ]
  },
  {
   "cell_type": "code",
   "execution_count": null,
   "id": "927e0ebf",
   "metadata": {},
   "outputs": [],
   "source": []
  },
  {
   "cell_type": "code",
   "execution_count": 15,
   "id": "eda7a773",
   "metadata": {},
   "outputs": [
    {
     "data": {
      "text/plain": [
       "40"
      ]
     },
     "execution_count": 15,
     "metadata": {},
     "output_type": "execute_result"
    }
   ],
   "source": [
    "wholes = soup.select('div.news-inner')\n",
    "len(wholes)"
   ]
  },
  {
   "cell_type": "code",
   "execution_count": null,
   "id": "c5c16eef",
   "metadata": {},
   "outputs": [],
   "source": [
    "# [제목, 언론사, 분류, 날짜, 기자이름, 기사내용]\n",
    "\n",
    "contents = [] \n",
    "for whole in wholes:\n",
    "    title = whole.select('span.title-elipsis')\n",
    "    press =  whole.select('div.info > div > a')\n",
    "    category = whole.select('div.info > div > span.bullet-keyword')\n",
    "    date = whole.select('div.info > p')\n",
    "    contents.append([title[0].text.strip(), press[0].text.strip(), category[0].text.strip(), date[0].text.strip(), date[1].text.strip()])\n",
    "\n",
    "len(contents)"
   ]
  },
  {
   "cell_type": "code",
   "execution_count": null,
   "id": "df04bb98",
   "metadata": {},
   "outputs": [],
   "source": [
    "contents[1]"
   ]
  },
  {
   "cell_type": "code",
   "execution_count": null,
   "id": "bd1e5a9c",
   "metadata": {},
   "outputs": [],
   "source": [
    "# 기사 전문 \n",
    "\n",
    "# texts = []\n",
    "# for i in range(0, 100):\n",
    "#     browser.find_elements_by_css_selector('span.title-elipsis')[i].click()\n",
    "#     time.sleep(1)\n",
    "#     text = browser.find_elements_by_css_selector('div.news-view-body')[0].text\n",
    "#     texts.append(text.replace('\\n', ''))\n",
    "#     browser.find_element_by_xpath(\"//div[@id='news-detail-modal']/div/div/button\").click()\n",
    "\n",
    "# len(texts)"
   ]
  },
  {
   "cell_type": "code",
   "execution_count": null,
   "id": "abf78ae7",
   "metadata": {},
   "outputs": [],
   "source": [
    "df = pd.DataFrame(data=contents, columns =['title', 'press', 'category', 'date', 'name'])"
   ]
  },
  {
   "cell_type": "code",
   "execution_count": null,
   "id": "0f8a5a51",
   "metadata": {},
   "outputs": [],
   "source": []
  },
  {
   "cell_type": "code",
   "execution_count": null,
   "id": "8b225b1d",
   "metadata": {},
   "outputs": [],
   "source": []
  },
  {
   "cell_type": "code",
   "execution_count": null,
   "id": "f6e4f154",
   "metadata": {},
   "outputs": [],
   "source": []
  }
 ],
 "metadata": {
  "kernelspec": {
   "display_name": "Python 3",
   "language": "python",
   "name": "python3"
  },
  "language_info": {
   "codemirror_mode": {
    "name": "ipython",
    "version": 3
   },
   "file_extension": ".py",
   "mimetype": "text/x-python",
   "name": "python",
   "nbconvert_exporter": "python",
   "pygments_lexer": "ipython3",
   "version": "3.8.8"
  }
 },
 "nbformat": 4,
 "nbformat_minor": 5
}
