{
 "cells": [
  {
   "cell_type": "code",
   "execution_count": null,
   "id": "58fd8512",
   "metadata": {},
   "outputs": [],
   "source": [
    "!pip install selenium"
   ]
  },
  {
   "cell_type": "code",
   "execution_count": 2,
   "id": "16d26dae",
   "metadata": {},
   "outputs": [],
   "source": [
    "from selenium import webdriver\n",
    "from bs4 import BeautifulSoup\n",
    "import requests\n",
    "import pandas as pd\n",
    "import csv\n",
    "import time"
   ]
  },
  {
   "cell_type": "code",
   "execution_count": 47,
   "id": "38fbc4da",
   "metadata": {},
   "outputs": [],
   "source": [
    "# webdirver 설정, 빅카인즈 사이트 이동\n",
    "\n",
    "driver = webdriver.Chrome('C:\\chromedriver.exe')\n",
    "driver.get('https://www.bigkinds.or.kr/v2/news/index.do')"
   ]
  },
  {
   "cell_type": "code",
   "execution_count": 48,
   "id": "6c5add0f",
   "metadata": {},
   "outputs": [],
   "source": [
    "# 검색기간 1주일로 설정\n",
    "\n",
    "driver.find_element_by_xpath('//*[@id=\"collapse-step-1-body\"]/div[3]/div/div[1]/div[1]/a').click()\n",
    "time.sleep(1)\n",
    "driver.find_element_by_xpath('//*[@id=\"srch-tab1\"]/div/div[1]/span[2]').click()"
   ]
  },
  {
   "cell_type": "code",
   "execution_count": 49,
   "id": "3d6ea4b7",
   "metadata": {},
   "outputs": [],
   "source": [
    "# 검색창의 이름을 찾아서 사용자가 검색어 입력\n",
    "\n",
    "# query_txt = input('크롤링할 키워드는 무엇입니까?:')\n",
    "searchbox = driver.find_element_by_id(\"total-search-key\")\n",
    "searchbox.send_keys(\"오리온\")  \n",
    "searchbox.send_keys(\"\\n\")  # 검색버튼 엔터"
   ]
  },
  {
   "cell_type": "code",
   "execution_count": 52,
   "id": "888e5d1c",
   "metadata": {},
   "outputs": [],
   "source": [
    "# 기사 분류 - 경제로 설정\n",
    "# *주의* 화면을 크게해야 함. 경제 분류가 화면에 보여야 셀레니움이 잡을 수 있음\n",
    "\n",
    "time.sleep(1)\n",
    "driver.find_element_by_xpath('//*[@id=\"filterTab03\"]/li[2]/span').click()\n",
    "\n",
    "# from selenium.webdriver.common.keys import Keys\n",
    "# .send_keys(Keys.ENTER)"
   ]
  },
  {
   "cell_type": "code",
   "execution_count": 53,
   "id": "6608d274",
   "metadata": {},
   "outputs": [],
   "source": [
    "# 기사 100건 씩 출력\n",
    "\n",
    "# driver.find_element_by_xpath('//*[@id=\"select2\"]/option[4]').click()"
   ]
  },
  {
   "cell_type": "code",
   "execution_count": 54,
   "id": "90b452ec",
   "metadata": {},
   "outputs": [],
   "source": [
    "# html = driver.page_source\n",
    "# soup = BeautifulSoup(html, 'html.parser')"
   ]
  },
  {
   "cell_type": "code",
   "execution_count": 55,
   "id": "568125f4",
   "metadata": {},
   "outputs": [
    {
     "data": {
      "text/plain": [
       "2"
      ]
     },
     "execution_count": 55,
     "metadata": {},
     "output_type": "execute_result"
    }
   ],
   "source": [
    "# 전체 페이지 개수\n",
    "\n",
    "pageNum = soup.select('div.lastNum')\n",
    "totalPage = int(pageNum[0]['data-page'])\n",
    "totalPage"
   ]
  },
  {
   "cell_type": "code",
   "execution_count": 56,
   "id": "1b91f5a1",
   "metadata": {},
   "outputs": [
    {
     "name": "stdout",
     "output_type": "stream",
     "text": [
      "----- Current Page : 1 ------\n",
      "----- Current Page : 2 ------\n",
      "Crawling succeed!\n"
     ]
    },
    {
     "data": {
      "text/plain": [
       "17"
      ]
     },
     "execution_count": 56,
     "metadata": {},
     "output_type": "execute_result"
    }
   ],
   "source": [
    "contents = []\n",
    "\n",
    "# 현재 페이지\n",
    "curPage = 1\n",
    "\n",
    "while curPage <= totalPage:\n",
    "    # bs4 초기화\n",
    "    soup = BeautifulSoup(driver.page_source, 'html.parser')\n",
    "    # 기사 리스트\n",
    "    articles = soup.select('div.news-inner')\n",
    "    # 페이지 번호 출력\n",
    "    print('----- Current Page : {}'.format(curPage), '------')\n",
    "\n",
    "    # 세부 데이터\n",
    "    for article in articles:\n",
    "        title = article.select_one('span.title-elipsis').text.strip()\n",
    "        press =  article.select('div.info > div > a')\n",
    "        category = article.select('div.info > div > span.bullet-keyword')\n",
    "        date = article.select('div.info > p')\n",
    "        contents.append([title[0].text.strip(), press[0].text.strip(), category[0].text.strip(), date[0].text.strip(), date[1].text.strip()])\n",
    "    \n",
    "    # 페이지 수 증가\n",
    "    curPage += 1\n",
    "    if curPage > totalPage:\n",
    "        print('Crawling succeed')\n",
    "        break\n",
    "        \n",
    "    # 페이지 이동 클릭\n",
    "    driver.implicitly_wait(3)      \n",
    "    nextbtn = driver.find_element_by_xpath('//*[@id=\"news-results-tab\"]/div[6]/div[1]/div/div/div/div[4]/a')\n",
    "    driver.execute_script(\"arguments[0].click();\", nextbtn)\n",
    "    \n",
    "    # bs4 인스턴스 삭제\n",
    "    del soup\n",
    "    time.sleep(1.5)\n",
    " \n",
    "# 브라우저 종료\n",
    "driver.close() \n",
    "\n",
    "len(contents)"
   ]
  },
  {
   "cell_type": "code",
   "execution_count": 57,
   "id": "f377fc6e",
   "metadata": {},
   "outputs": [
    {
     "data": {
      "text/plain": [
       "[\"[신상품라운지]오리온, '오리온 고소한 다과상' 추석 선물세트 출시\",\n",
       " '경남제약 \"레모나, 한-중 소비자가 선택 ‘2021 올해의 브랜드 대상’\"',\n",
       " '오리온, 추석 맞이 한정판 ‘오리온 고소한 다과상’ 선물세트 출시',\n",
       " '본격 환절기…체력 보충 위한 건강 식음료 수요↑',\n",
       " \"식품업계, 가을 환절기 앞두고 간편 영양 식음료 '주목'\",\n",
       " '보릿고개 넘은 식품株…가을엔 볕들까',\n",
       " '삼다수 위탁판매 입찰전 뜨겁다...제3의 후보 등장',\n",
       " '비빔면소스 뿌린 피자 “물건이네”',\n",
       " '\"삼성전자·SK하이닉스, 악재 다 반영…내년 하반기 D램 수요 살아난다\" 박세익 전무 인터뷰',\n",
       " '식품업계, 가을 환절기 앞두고 간편 영양 식음료 인기 ‘쑥’',\n",
       " '충북, 전국품질분임조 경진대회 종합 3위',\n",
       " '박세익 전무 \"재개방 수혜 소비재에서 스타 종목 나올 것\"',\n",
       " '오리온, ‘산업계 전국체전’에서 2년 연속 대통령상',\n",
       " '오리온, 전국품질분임조경진대회 2년 연속 대통령상 금상',\n",
       " \"오리온, '전국품질분임조경진대회' 2년 연속 대통령상 금상 수상\",\n",
       " '인쇄용 동판 제조서 시작… 전자소재 MLCC 인쇄 롤 개발',\n",
       " '초콜릿으로 단백질 섭취 ‘건강한 단맛’ 인기']"
      ]
     },
     "execution_count": 57,
     "metadata": {},
     "output_type": "execute_result"
    }
   ],
   "source": [
    "contents\n"
   ]
  },
  {
   "cell_type": "code",
   "execution_count": null,
   "id": "6acd03e5",
   "metadata": {},
   "outputs": [],
   "source": []
  },
  {
   "cell_type": "code",
   "execution_count": null,
   "id": "904c817a",
   "metadata": {},
   "outputs": [],
   "source": []
  },
  {
   "cell_type": "code",
   "execution_count": null,
   "id": "264eafa2",
   "metadata": {},
   "outputs": [],
   "source": []
  },
  {
   "cell_type": "code",
   "execution_count": null,
   "id": "16eff221",
   "metadata": {},
   "outputs": [],
   "source": []
  },
  {
   "cell_type": "code",
   "execution_count": null,
   "id": "1b575629",
   "metadata": {},
   "outputs": [],
   "source": []
  },
  {
   "cell_type": "code",
   "execution_count": 22,
   "id": "d0a2cc5d",
   "metadata": {},
   "outputs": [
    {
     "ename": "AttributeError",
     "evalue": "'list' object has no attribute 'text'",
     "output_type": "error",
     "traceback": [
      "\u001b[1;31m---------------------------------------------------------------------------\u001b[0m",
      "\u001b[1;31mAttributeError\u001b[0m                            Traceback (most recent call last)",
      "\u001b[1;32m<ipython-input-22-7d8128152444>\u001b[0m in \u001b[0;36m<module>\u001b[1;34m\u001b[0m\n\u001b[0;32m      5\u001b[0m \u001b[1;33m\u001b[0m\u001b[0m\n\u001b[0;32m      6\u001b[0m     \u001b[1;32mfor\u001b[0m \u001b[0marticle\u001b[0m \u001b[1;32min\u001b[0m \u001b[0marticles\u001b[0m\u001b[1;33m:\u001b[0m\u001b[1;33m\u001b[0m\u001b[1;33m\u001b[0m\u001b[0m\n\u001b[1;32m----> 7\u001b[1;33m         \u001b[0mtitle\u001b[0m \u001b[1;33m=\u001b[0m \u001b[0marticle\u001b[0m\u001b[1;33m.\u001b[0m\u001b[0mfind_elements_by_xpath\u001b[0m\u001b[1;33m(\u001b[0m\u001b[1;34m'//*[@id=\"news-results\"]/div[1]/div/div[2]/a/div/strong/span'\u001b[0m\u001b[1;33m)\u001b[0m\u001b[1;33m.\u001b[0m\u001b[0mtext\u001b[0m\u001b[1;33m\u001b[0m\u001b[1;33m\u001b[0m\u001b[0m\n\u001b[0m\u001b[0;32m      8\u001b[0m         \u001b[0mpress\u001b[0m \u001b[1;33m=\u001b[0m  \u001b[0marticle\u001b[0m\u001b[1;33m.\u001b[0m\u001b[0mfind_elements_by_css_selector\u001b[0m\u001b[1;33m(\u001b[0m\u001b[1;34m'div.info > div > a'\u001b[0m\u001b[1;33m)\u001b[0m\u001b[1;33m.\u001b[0m\u001b[0mtext\u001b[0m\u001b[1;33m\u001b[0m\u001b[1;33m\u001b[0m\u001b[0m\n\u001b[0;32m      9\u001b[0m         \u001b[0mcategory\u001b[0m \u001b[1;33m=\u001b[0m \u001b[0marticle\u001b[0m\u001b[1;33m.\u001b[0m\u001b[0mfind_elements_by_css_selector\u001b[0m\u001b[1;33m(\u001b[0m\u001b[1;34m'div.info > div > span.bullet-keyword'\u001b[0m\u001b[1;33m)\u001b[0m\u001b[1;33m.\u001b[0m\u001b[0mtext\u001b[0m\u001b[1;33m\u001b[0m\u001b[1;33m\u001b[0m\u001b[0m\n",
      "\u001b[1;31mAttributeError\u001b[0m: 'list' object has no attribute 'text'"
     ]
    }
   ],
   "source": [
    "contents = [] \n",
    "\n",
    "for i in range(pageNum):\n",
    "    # 전체 기사들\n",
    "    articles = driver.find_elements_by_css_selector('div.news-inner')\n",
    "\n",
    "    for article in articles:\n",
    "        title = article.find_elements_by_xpath('//*[@id=\"news-results\"]/div[1]/div/div[2]/a/div/strong/span').text\n",
    "        press =  article.find_elements_by_css_selector('div.info > div > a').text\n",
    "        category = article.find_elements_by_css_selector('div.info > div > span.bullet-keyword').text\n",
    "        date = article.find_elements_by_css_selector('div.info > p').text\n",
    "        contents.append([title, press, category, date])\n",
    "   \n",
    "    try:\n",
    "        driver.implicitly_wait(3) # seconds\n",
    "        nextbtn = driver.find_element_by_xpath('//*[@id=\"news-results-tab\"]/div[6]/div[1]/div/div/div/div[4]/a')\n",
    "        driver.execute_script(\"arguments[0].click();\", nextbtn)\n",
    "        time.sleep(1.5)\n",
    "    except:\n",
    "        print(\"데이터 수집 완료.\")\n",
    "        break\n",
    "    \n",
    "len(contents)\n"
   ]
  },
  {
   "cell_type": "markdown",
   "id": "1f40c2f2",
   "metadata": {},
   "source": [
    "+ 최근 1주일\n",
    "1. 빅카인즈 경제 기사 키워드당 100개만 기져오기\n",
    "2. 매일경제 + 한국경제 기사 가져오기"
   ]
  },
  {
   "cell_type": "code",
   "execution_count": null,
   "id": "33db7a9b",
   "metadata": {},
   "outputs": [],
   "source": []
  },
  {
   "cell_type": "code",
   "execution_count": null,
   "id": "09791fff",
   "metadata": {},
   "outputs": [],
   "source": []
  },
  {
   "cell_type": "code",
   "execution_count": null,
   "id": "655d4735",
   "metadata": {},
   "outputs": [],
   "source": [
    "html = driver.page_source\n",
    "soup = BeautifulSoup(html, 'html.parser')"
   ]
  },
  {
   "cell_type": "code",
   "execution_count": null,
   "id": "e63fa66c",
   "metadata": {},
   "outputs": [],
   "source": [
    "# 다음 페이지 넘기기\n",
    "\n",
    "nextbtn = driver.find_element_by_xpath('//*[@id=\"news-results-tab\"]/div[6]/div[1]/div/div/div/div[4]/a')\n",
    "browser.execute_script(\"arguments[0].click();\", nextbtn)\n",
    "\n",
    "# browser.find_element_by_css_selector('#news-results-tab > div.data-result-btm.m-only.paging-v3-wrp > div.btm-pav-wrp > div > div > div > div:nth-child(7) > a')\n",
    "# nextbtn.send_keys(Keys.ENTER)"
   ]
  },
  {
   "cell_type": "code",
   "execution_count": null,
   "id": "944a583a",
   "metadata": {},
   "outputs": [],
   "source": [
    "contents = [] \n",
    "\n",
    "for i in range(99):\n",
    "    time.sleep(3)\n",
    "    articles = soup.select('div.news-inner')\n",
    "\n",
    "    for article in articles:\n",
    "        title = article.select('span.title-elipsis')\n",
    "        press =  article.select('div.info > div > a')\n",
    "        category = article.select('div.info > div > span.bullet-keyword')\n",
    "        date = article.select('div.info > p')\n",
    "        contents.append([title[0].text.strip(), press[0].text.strip(), category[0].text.strip(), date[0].text.strip(), date[1].text.strip()])\n",
    "   \n",
    "    try:\n",
    "        nextbtn = driver.find_element_by_xpath('//*[@id=\"news-results-tab\"]/div[6]/div[1]/div/div/div/div[4]/a')\n",
    "        driver.execute_script(\"arguments[0].click();\", nextbtn)\n",
    "    except:\n",
    "        print(\"데이터 수집 완료.\")\n",
    "        break\n",
    "    \n",
    "len(contents)\n"
   ]
  },
  {
   "cell_type": "code",
   "execution_count": null,
   "id": "69ac10e7",
   "metadata": {},
   "outputs": [],
   "source": [
    "print(contents)"
   ]
  },
  {
   "cell_type": "code",
   "execution_count": null,
   "id": "c5c16eef",
   "metadata": {},
   "outputs": [],
   "source": [
    "# [제목, 언론사, 분류, 날짜, 기자이름, 기사내용]\n",
    "\n",
    "contents = [] \n",
    "for article in articles:\n",
    "    title = article.select('span.title-elipsis')\n",
    "    press =  article.select('div.info > div > a')\n",
    "    category = article.select('div.info > div > span.bullet-keyword')\n",
    "    date = article.select('div.info > p')\n",
    "    contents.append([title[0].text.strip(), press[0].text.strip(), category[0].text.strip(), date[0].text.strip(), date[1].text.strip()])\n",
    "\n",
    "len(contents)"
   ]
  },
  {
   "cell_type": "code",
   "execution_count": null,
   "id": "df04bb98",
   "metadata": {},
   "outputs": [],
   "source": [
    "contents[1]"
   ]
  },
  {
   "cell_type": "code",
   "execution_count": null,
   "id": "bd1e5a9c",
   "metadata": {},
   "outputs": [],
   "source": [
    "# 기사 전문 \n",
    "\n",
    "# texts = []\n",
    "# for i in range(0, 100):\n",
    "#     driver.find_elements_by_css_selector('span.title-elipsis')[i].click()\n",
    "#     time.sleep(1)\n",
    "#     text = driver.find_elements_by_css_selector('div.news-view-body')[0].text\n",
    "#     texts.append(text.replace('\\n', ''))\n",
    "#     driver.find_element_by_xpath(\"//div[@id='news-detail-modal']/div/div/button\").click()\n",
    "\n",
    "# len(texts)"
   ]
  },
  {
   "cell_type": "code",
   "execution_count": null,
   "id": "abf78ae7",
   "metadata": {},
   "outputs": [],
   "source": [
    "df = pd.DataFrame(data=contents, columns =['title', 'press', 'category', 'date', 'name'])"
   ]
  },
  {
   "cell_type": "code",
   "execution_count": null,
   "id": "0f8a5a51",
   "metadata": {},
   "outputs": [],
   "source": []
  },
  {
   "cell_type": "code",
   "execution_count": null,
   "id": "8b225b1d",
   "metadata": {},
   "outputs": [],
   "source": []
  },
  {
   "cell_type": "code",
   "execution_count": null,
   "id": "f6e4f154",
   "metadata": {},
   "outputs": [],
   "source": []
  }
 ],
 "metadata": {
  "kernelspec": {
   "display_name": "Python 3",
   "language": "python",
   "name": "python3"
  },
  "language_info": {
   "codemirror_mode": {
    "name": "ipython",
    "version": 3
   },
   "file_extension": ".py",
   "mimetype": "text/x-python",
   "name": "python",
   "nbconvert_exporter": "python",
   "pygments_lexer": "ipython3",
   "version": "3.8.8"
  }
 },
 "nbformat": 4,
 "nbformat_minor": 5
}
