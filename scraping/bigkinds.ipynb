{
 "cells": [
  {
   "cell_type": "code",
   "execution_count": 1,
   "id": "16d26dae",
   "metadata": {},
   "outputs": [],
   "source": [
    "from selenium import webdriver\n",
    "from selenium.webdriver.remote.webelement import WebElement\n",
    "from selenium.webdriver.common.keys import Keys\n",
    "from selenium.webdriver.support.ui import WebDriverWait\n",
    "from selenium.webdriver.common.by import By\n",
    "from selenium.webdriver.support import expected_conditions as EC\n",
    "from bs4 import BeautifulSoup\n",
    "import requests\n",
    "import pandas as pd\n",
    "import csv\n",
    "import time\n",
    "import pyautogui as gui\n",
    "import pyperclip"
   ]
  },
  {
   "cell_type": "code",
   "execution_count": 2,
   "id": "38fbc4da",
   "metadata": {},
   "outputs": [],
   "source": [
    "browser = webdriver.Chrome('C:\\chromedriver.exe')\n",
    "browser.get('https://www.bigkinds.or.kr/v2/news/index.do')"
   ]
  },
  {
   "cell_type": "code",
   "execution_count": 7,
   "id": "3d6ea4b7",
   "metadata": {},
   "outputs": [
    {
     "name": "stdout",
     "output_type": "stream",
     "text": [
      "크롤링할 키워드는 무엇입니까?:삼성전자\n"
     ]
    }
   ],
   "source": [
    "query_txt = input('크롤링할 키워드는 무엇입니까?:')\n",
    "# 사용자에게 검색어 입력\n",
    "\n",
    "element = browser.find_element_by_id(\"total-search-key\")\n",
    "element.send_keys(query_txt)  #검색어입력하게 하는 부분\n",
    "element.send_keys(\"\\n\")  #엔터효과\n",
    "#검색창의 이름을 찾아서 검색어를 입력"
   ]
  },
  {
   "cell_type": "code",
   "execution_count": 9,
   "id": "655d4735",
   "metadata": {},
   "outputs": [],
   "source": [
    "html = browser.page_source\n",
    "soup = BeautifulSoup(html, 'html.parser')"
   ]
  },
  {
   "cell_type": "code",
   "execution_count": 10,
   "id": "eda7a773",
   "metadata": {},
   "outputs": [],
   "source": [
    "wholes = soup.select('div.news-inner')"
   ]
  },
  {
   "cell_type": "code",
   "execution_count": 11,
   "id": "debfe3c2",
   "metadata": {},
   "outputs": [
    {
     "data": {
      "text/plain": [
       "10"
      ]
     },
     "execution_count": 11,
     "metadata": {},
     "output_type": "execute_result"
    }
   ],
   "source": [
    "len(wholes)"
   ]
  },
  {
   "cell_type": "code",
   "execution_count": 12,
   "id": "c5c16eef",
   "metadata": {},
   "outputs": [
    {
     "data": {
      "text/plain": [
       "10"
      ]
     },
     "execution_count": 12,
     "metadata": {},
     "output_type": "execute_result"
    }
   ],
   "source": [
    "contents = [] # [제목, 언론사, 분류, 날짜, 기자이름, 기사내용]\n",
    "for whole in wholes:\n",
    "    title = whole.select('span.title-elipsis')\n",
    "    press =  whole.select('div.info > div > a')\n",
    "    category = whole.select('div.info > div > span.bullet-keyword')\n",
    "    date_name = whole.select('div.info > p')\n",
    "    contents.append([title[0].text.strip(), press[0].text.strip(), category[0].text.strip(), date_name[0].text.strip(), date_name[1].text.strip()])\n",
    "len(contents)"
   ]
  },
  {
   "cell_type": "code",
   "execution_count": 13,
   "id": "bd1e5a9c",
   "metadata": {},
   "outputs": [
    {
     "ename": "IndexError",
     "evalue": "list index out of range",
     "output_type": "error",
     "traceback": [
      "\u001b[1;31m---------------------------------------------------------------------------\u001b[0m",
      "\u001b[1;31mIndexError\u001b[0m                                Traceback (most recent call last)",
      "\u001b[1;32m<ipython-input-13-f1699951b443>\u001b[0m in \u001b[0;36m<module>\u001b[1;34m\u001b[0m\n\u001b[0;32m      1\u001b[0m \u001b[0mtexts\u001b[0m \u001b[1;33m=\u001b[0m \u001b[1;33m[\u001b[0m\u001b[1;33m]\u001b[0m\u001b[1;33m\u001b[0m\u001b[0m\n\u001b[0;32m      2\u001b[0m \u001b[1;32mfor\u001b[0m \u001b[0mi\u001b[0m \u001b[1;32min\u001b[0m \u001b[0mrange\u001b[0m\u001b[1;33m(\u001b[0m\u001b[1;36m0\u001b[0m\u001b[1;33m,\u001b[0m \u001b[1;36m100\u001b[0m\u001b[1;33m)\u001b[0m\u001b[1;33m:\u001b[0m\u001b[1;33m\u001b[0m\u001b[0m\n\u001b[1;32m----> 3\u001b[1;33m     \u001b[0mbrowser\u001b[0m\u001b[1;33m.\u001b[0m\u001b[0mfind_elements_by_css_selector\u001b[0m\u001b[1;33m(\u001b[0m\u001b[1;34m'span.title-elipsis'\u001b[0m\u001b[1;33m)\u001b[0m\u001b[1;33m[\u001b[0m\u001b[0mi\u001b[0m\u001b[1;33m]\u001b[0m\u001b[1;33m.\u001b[0m\u001b[0mclick\u001b[0m\u001b[1;33m(\u001b[0m\u001b[1;33m)\u001b[0m\u001b[1;33m\u001b[0m\u001b[0m\n\u001b[0m\u001b[0;32m      4\u001b[0m     \u001b[0mtime\u001b[0m\u001b[1;33m.\u001b[0m\u001b[0msleep\u001b[0m\u001b[1;33m(\u001b[0m\u001b[1;36m1\u001b[0m\u001b[1;33m)\u001b[0m\u001b[1;33m\u001b[0m\u001b[0m\n\u001b[0;32m      5\u001b[0m     \u001b[0mtext\u001b[0m \u001b[1;33m=\u001b[0m \u001b[0mbrowser\u001b[0m\u001b[1;33m.\u001b[0m\u001b[0mfind_elements_by_css_selector\u001b[0m\u001b[1;33m(\u001b[0m\u001b[1;34m'div.news-view-body'\u001b[0m\u001b[1;33m)\u001b[0m\u001b[1;33m[\u001b[0m\u001b[1;36m0\u001b[0m\u001b[1;33m]\u001b[0m\u001b[1;33m.\u001b[0m\u001b[0mtext\u001b[0m\u001b[1;33m\u001b[0m\u001b[0m\n",
      "\u001b[1;31mIndexError\u001b[0m: list index out of range"
     ]
    }
   ],
   "source": [
    "texts = []\n",
    "for i in range(0, 100):\n",
    "    browser.find_elements_by_css_selector('span.title-elipsis')[i].click()\n",
    "    time.sleep(1)\n",
    "    text = browser.find_elements_by_css_selector('div.news-view-body')[0].text\n",
    "    texts.append(text.replace('\\n', ''))\n",
    "    browser.find_element_by_xpath(\"//div[@id='news-detail-modal']/div/div/button\").click()\n",
    "len(texts)"
   ]
  },
  {
   "cell_type": "code",
   "execution_count": 14,
   "id": "cd8fecf6",
   "metadata": {},
   "outputs": [
    {
     "data": {
      "text/plain": [
       "[['코로나19가 당긴 N잡러의 시대\\xa0[최연진의 IT 프리즘]',\n",
       "  '한국일보',\n",
       "  '경제>반도체 | 경제>취업_창업',\n",
       "  '2021/09/03',\n",
       "  '최연진'],\n",
       " ['에어팟 프로, 2Q 1천만대 팔렸다…\"3Q 기대작, 149$ 버즈2\"',\n",
       "  '머니투데이',\n",
       "  '경제>유통 | IT_과학>모바일 | 경제>자동차',\n",
       "  '2021/09/03',\n",
       "  '변휘|기자|'],\n",
       " ['코스피 장중 3200 돌파', '아시아경제', '경제>증권_증시 | 경제>유통 | 경제>외환', '2021/09/03', '황준호'],\n",
       " ['애플, 2분기 ‘에어팟 프로’ 1000만대 이상 팔았다',\n",
       "  '아시아경제',\n",
       "  '경제>유통 | IT_과학>모바일 | 경제>자동차',\n",
       "  '2021/09/03',\n",
       "  '구은모'],\n",
       " ['[오후 주식시장은]외인 4거래일 연속 순매수...코스피 3,200선 탈환 시도',\n",
       "  '서울경제',\n",
       "  '경제>증권_증시 | 경제>외환 | 경제>부동산',\n",
       "  '2021/09/03',\n",
       "  '신한나 기자'],\n",
       " ['일본 자동차업체, 전기차 특허 경쟁력 세계 최고수준',\n",
       "  '내일신문',\n",
       "  'IT_과학>IT_과학일반 | 경제>자동차 | 국제>일본',\n",
       "  '2021/09/03',\n",
       "  '백만호 기자 hopebaik@naeil.com'],\n",
       " [\"미국 '반도체 제조 부활' 더딘 출발\",\n",
       "  '내일신문',\n",
       "  '국제>미국_북미 | 경제>반도체 | 경제>국제경제',\n",
       "  '2021/09/03',\n",
       "  '김은광 기자 powerttp@naeil.com'],\n",
       " ['‘폴더블’에 맞불… 애플, 14일 ‘아이폰13’ 공개',\n",
       "  '문화일보',\n",
       "  'IT_과학>모바일 | 경제>유통 | 경제>자동차',\n",
       "  '2021/09/03',\n",
       "  '이승주'],\n",
       " ['8월 수출 날아오른 반도체, 3분기도 호실적 이어질 듯',\n",
       "  '문화일보',\n",
       "  '경제>반도체 | 경제>유통 | 경제>증권_증시',\n",
       "  '2021/09/03',\n",
       "  '곽선미'],\n",
       " ['“삼성전자의 새 외부감사인 효과” 안진회계법인 회계감사 매출 ‘쑥’',\n",
       "  '헤럴드경제',\n",
       "  '경제>유통 | 경제>반도체 | 경제>증권_증시',\n",
       "  '2021/09/03',\n",
       "  '이세진 기자']]"
      ]
     },
     "execution_count": 14,
     "metadata": {},
     "output_type": "execute_result"
    }
   ],
   "source": [
    "contents"
   ]
  },
  {
   "cell_type": "code",
   "execution_count": null,
   "id": "296f78bb",
   "metadata": {},
   "outputs": [],
   "source": [
    "len(texts)"
   ]
  },
  {
   "cell_type": "code",
   "execution_count": null,
   "id": "123d0455",
   "metadata": {},
   "outputs": [],
   "source": [
    "wholes = soup.select('div.news-inner')"
   ]
  },
  {
   "cell_type": "code",
   "execution_count": null,
   "id": "e15b7370",
   "metadata": {},
   "outputs": [],
   "source": [
    "len(wholes)"
   ]
  },
  {
   "cell_type": "code",
   "execution_count": null,
   "id": "e0a95933",
   "metadata": {},
   "outputs": [],
   "source": [
    "whole = wholes[0]"
   ]
  },
  {
   "cell_type": "code",
   "execution_count": null,
   "id": "883e3fae",
   "metadata": {},
   "outputs": [],
   "source": [
    "len(contents)"
   ]
  },
  {
   "cell_type": "code",
   "execution_count": null,
   "id": "1b7b5041",
   "metadata": {},
   "outputs": [],
   "source": [
    "len(texts)"
   ]
  },
  {
   "cell_type": "code",
   "execution_count": null,
   "id": "80c163a7",
   "metadata": {},
   "outputs": [],
   "source": [
    "sample = []\n",
    "for t in texts:\n",
    "    for content in contents:\n",
    "        print(content.append(t))"
   ]
  },
  {
   "cell_type": "code",
   "execution_count": 16,
   "id": "abf78ae7",
   "metadata": {},
   "outputs": [
    {
     "data": {
      "text/html": [
       "<div>\n",
       "<style scoped>\n",
       "    .dataframe tbody tr th:only-of-type {\n",
       "        vertical-align: middle;\n",
       "    }\n",
       "\n",
       "    .dataframe tbody tr th {\n",
       "        vertical-align: top;\n",
       "    }\n",
       "\n",
       "    .dataframe thead th {\n",
       "        text-align: right;\n",
       "    }\n",
       "</style>\n",
       "<table border=\"1\" class=\"dataframe\">\n",
       "  <thead>\n",
       "    <tr style=\"text-align: right;\">\n",
       "      <th></th>\n",
       "      <th>title</th>\n",
       "      <th>press</th>\n",
       "      <th>category</th>\n",
       "      <th>date</th>\n",
       "      <th>name</th>\n",
       "    </tr>\n",
       "  </thead>\n",
       "  <tbody>\n",
       "    <tr>\n",
       "      <th>0</th>\n",
       "      <td>코로나19가 당긴 N잡러의 시대 [최연진의 IT 프리즘]</td>\n",
       "      <td>한국일보</td>\n",
       "      <td>경제&gt;반도체 | 경제&gt;취업_창업</td>\n",
       "      <td>2021/09/03</td>\n",
       "      <td>최연진</td>\n",
       "    </tr>\n",
       "    <tr>\n",
       "      <th>1</th>\n",
       "      <td>에어팟 프로, 2Q 1천만대 팔렸다…\"3Q 기대작, 149$ 버즈2\"</td>\n",
       "      <td>머니투데이</td>\n",
       "      <td>경제&gt;유통 | IT_과학&gt;모바일 | 경제&gt;자동차</td>\n",
       "      <td>2021/09/03</td>\n",
       "      <td>변휘|기자|</td>\n",
       "    </tr>\n",
       "    <tr>\n",
       "      <th>2</th>\n",
       "      <td>코스피 장중 3200 돌파</td>\n",
       "      <td>아시아경제</td>\n",
       "      <td>경제&gt;증권_증시 | 경제&gt;유통 | 경제&gt;외환</td>\n",
       "      <td>2021/09/03</td>\n",
       "      <td>황준호</td>\n",
       "    </tr>\n",
       "    <tr>\n",
       "      <th>3</th>\n",
       "      <td>애플, 2분기 ‘에어팟 프로’ 1000만대 이상 팔았다</td>\n",
       "      <td>아시아경제</td>\n",
       "      <td>경제&gt;유통 | IT_과학&gt;모바일 | 경제&gt;자동차</td>\n",
       "      <td>2021/09/03</td>\n",
       "      <td>구은모</td>\n",
       "    </tr>\n",
       "    <tr>\n",
       "      <th>4</th>\n",
       "      <td>[오후 주식시장은]외인 4거래일 연속 순매수...코스피 3,200선 탈환 시도</td>\n",
       "      <td>서울경제</td>\n",
       "      <td>경제&gt;증권_증시 | 경제&gt;외환 | 경제&gt;부동산</td>\n",
       "      <td>2021/09/03</td>\n",
       "      <td>신한나 기자</td>\n",
       "    </tr>\n",
       "    <tr>\n",
       "      <th>5</th>\n",
       "      <td>일본 자동차업체, 전기차 특허 경쟁력 세계 최고수준</td>\n",
       "      <td>내일신문</td>\n",
       "      <td>IT_과학&gt;IT_과학일반 | 경제&gt;자동차 | 국제&gt;일본</td>\n",
       "      <td>2021/09/03</td>\n",
       "      <td>백만호 기자 hopebaik@naeil.com</td>\n",
       "    </tr>\n",
       "    <tr>\n",
       "      <th>6</th>\n",
       "      <td>미국 '반도체 제조 부활' 더딘 출발</td>\n",
       "      <td>내일신문</td>\n",
       "      <td>국제&gt;미국_북미 | 경제&gt;반도체 | 경제&gt;국제경제</td>\n",
       "      <td>2021/09/03</td>\n",
       "      <td>김은광 기자 powerttp@naeil.com</td>\n",
       "    </tr>\n",
       "    <tr>\n",
       "      <th>7</th>\n",
       "      <td>‘폴더블’에 맞불… 애플, 14일 ‘아이폰13’ 공개</td>\n",
       "      <td>문화일보</td>\n",
       "      <td>IT_과학&gt;모바일 | 경제&gt;유통 | 경제&gt;자동차</td>\n",
       "      <td>2021/09/03</td>\n",
       "      <td>이승주</td>\n",
       "    </tr>\n",
       "    <tr>\n",
       "      <th>8</th>\n",
       "      <td>8월 수출 날아오른 반도체, 3분기도 호실적 이어질 듯</td>\n",
       "      <td>문화일보</td>\n",
       "      <td>경제&gt;반도체 | 경제&gt;유통 | 경제&gt;증권_증시</td>\n",
       "      <td>2021/09/03</td>\n",
       "      <td>곽선미</td>\n",
       "    </tr>\n",
       "    <tr>\n",
       "      <th>9</th>\n",
       "      <td>“삼성전자의 새 외부감사인 효과” 안진회계법인 회계감사 매출 ‘쑥’</td>\n",
       "      <td>헤럴드경제</td>\n",
       "      <td>경제&gt;유통 | 경제&gt;반도체 | 경제&gt;증권_증시</td>\n",
       "      <td>2021/09/03</td>\n",
       "      <td>이세진 기자</td>\n",
       "    </tr>\n",
       "  </tbody>\n",
       "</table>\n",
       "</div>"
      ],
      "text/plain": [
       "                                         title  press  \\\n",
       "0              코로나19가 당긴 N잡러의 시대 [최연진의 IT 프리즘]   한국일보   \n",
       "1       에어팟 프로, 2Q 1천만대 팔렸다…\"3Q 기대작, 149$ 버즈2\"  머니투데이   \n",
       "2                               코스피 장중 3200 돌파  아시아경제   \n",
       "3               애플, 2분기 ‘에어팟 프로’ 1000만대 이상 팔았다  아시아경제   \n",
       "4  [오후 주식시장은]외인 4거래일 연속 순매수...코스피 3,200선 탈환 시도   서울경제   \n",
       "5                 일본 자동차업체, 전기차 특허 경쟁력 세계 최고수준   내일신문   \n",
       "6                         미국 '반도체 제조 부활' 더딘 출발   내일신문   \n",
       "7                ‘폴더블’에 맞불… 애플, 14일 ‘아이폰13’ 공개   문화일보   \n",
       "8               8월 수출 날아오른 반도체, 3분기도 호실적 이어질 듯   문화일보   \n",
       "9        “삼성전자의 새 외부감사인 효과” 안진회계법인 회계감사 매출 ‘쑥’  헤럴드경제   \n",
       "\n",
       "                         category        date                       name  \n",
       "0               경제>반도체 | 경제>취업_창업  2021/09/03                        최연진  \n",
       "1      경제>유통 | IT_과학>모바일 | 경제>자동차  2021/09/03                     변휘|기자|  \n",
       "2        경제>증권_증시 | 경제>유통 | 경제>외환  2021/09/03                        황준호  \n",
       "3      경제>유통 | IT_과학>모바일 | 경제>자동차  2021/09/03                        구은모  \n",
       "4       경제>증권_증시 | 경제>외환 | 경제>부동산  2021/09/03                     신한나 기자  \n",
       "5  IT_과학>IT_과학일반 | 경제>자동차 | 국제>일본  2021/09/03  백만호 기자 hopebaik@naeil.com  \n",
       "6     국제>미국_북미 | 경제>반도체 | 경제>국제경제  2021/09/03  김은광 기자 powerttp@naeil.com  \n",
       "7      IT_과학>모바일 | 경제>유통 | 경제>자동차  2021/09/03                        이승주  \n",
       "8       경제>반도체 | 경제>유통 | 경제>증권_증시  2021/09/03                        곽선미  \n",
       "9       경제>유통 | 경제>반도체 | 경제>증권_증시  2021/09/03                     이세진 기자  "
      ]
     },
     "execution_count": 16,
     "metadata": {},
     "output_type": "execute_result"
    }
   ],
   "source": [
    "df = pd.DataFrame(data=contents, columns =['title', 'press', 'category', 'date', 'name'])\n",
    "df"
   ]
  },
  {
   "cell_type": "code",
   "execution_count": 17,
   "id": "64da91ea",
   "metadata": {
    "scrolled": true
   },
   "outputs": [
    {
     "data": {
      "text/html": [
       "<div>\n",
       "<style scoped>\n",
       "    .dataframe tbody tr th:only-of-type {\n",
       "        vertical-align: middle;\n",
       "    }\n",
       "\n",
       "    .dataframe tbody tr th {\n",
       "        vertical-align: top;\n",
       "    }\n",
       "\n",
       "    .dataframe thead th {\n",
       "        text-align: right;\n",
       "    }\n",
       "</style>\n",
       "<table border=\"1\" class=\"dataframe\">\n",
       "  <thead>\n",
       "    <tr style=\"text-align: right;\">\n",
       "      <th></th>\n",
       "      <th>title</th>\n",
       "      <th>press</th>\n",
       "      <th>category</th>\n",
       "      <th>date</th>\n",
       "      <th>name</th>\n",
       "      <th>text</th>\n",
       "    </tr>\n",
       "  </thead>\n",
       "  <tbody>\n",
       "    <tr>\n",
       "      <th>0</th>\n",
       "      <td>코로나19가 당긴 N잡러의 시대 [최연진의 IT 프리즘]</td>\n",
       "      <td>한국일보</td>\n",
       "      <td>경제&gt;반도체 | 경제&gt;취업_창업</td>\n",
       "      <td>2021/09/03</td>\n",
       "      <td>최연진</td>\n",
       "      <td>최근 투자업체에 근무하던 지인이 재미있는 선택을 했다. 회사 업무와 별개로 여러 스...</td>\n",
       "    </tr>\n",
       "    <tr>\n",
       "      <th>1</th>\n",
       "      <td>에어팟 프로, 2Q 1천만대 팔렸다…\"3Q 기대작, 149$ 버즈2\"</td>\n",
       "      <td>머니투데이</td>\n",
       "      <td>경제&gt;유통 | IT_과학&gt;모바일 | 경제&gt;자동차</td>\n",
       "      <td>2021/09/03</td>\n",
       "      <td>변휘|기자|</td>\n",
       "      <td>[머니투데이 변휘 기자] [카운터포인트리서치 '무선 이어폰 시장 보고서'2Q 샤오미...</td>\n",
       "    </tr>\n",
       "    <tr>\n",
       "      <th>2</th>\n",
       "      <td>코스피 장중 3200 돌파</td>\n",
       "      <td>아시아경제</td>\n",
       "      <td>경제&gt;증권_증시 | 경제&gt;유통 | 경제&gt;외환</td>\n",
       "      <td>2021/09/03</td>\n",
       "      <td>황준호</td>\n",
       "      <td>[아시아경제 황준호 기자] 3일 오후 코스피는 외인의 순매수가 지속되는 가운데 장중...</td>\n",
       "    </tr>\n",
       "    <tr>\n",
       "      <th>3</th>\n",
       "      <td>애플, 2분기 ‘에어팟 프로’ 1000만대 이상 팔았다</td>\n",
       "      <td>아시아경제</td>\n",
       "      <td>경제&gt;유통 | IT_과학&gt;모바일 | 경제&gt;자동차</td>\n",
       "      <td>2021/09/03</td>\n",
       "      <td>구은모</td>\n",
       "      <td>[아시아경제 구은모 기자] 글로벌 무선이어폰 시장 점유율 1위인 애플이 올해 2분기...</td>\n",
       "    </tr>\n",
       "    <tr>\n",
       "      <th>4</th>\n",
       "      <td>[오후 주식시장은]외인 4거래일 연속 순매수...코스피 3,200선 탈환 시도</td>\n",
       "      <td>서울경제</td>\n",
       "      <td>경제&gt;증권_증시 | 경제&gt;외환 | 경제&gt;부동산</td>\n",
       "      <td>2021/09/03</td>\n",
       "      <td>신한나 기자</td>\n",
       "      <td>코스피, 외인·기관 동반 매수 나서국내 증시는 외국인 투자자의 매수에 힘입어 상승 ...</td>\n",
       "    </tr>\n",
       "    <tr>\n",
       "      <th>5</th>\n",
       "      <td>일본 자동차업체, 전기차 특허 경쟁력 세계 최고수준</td>\n",
       "      <td>내일신문</td>\n",
       "      <td>IT_과학&gt;IT_과학일반 | 경제&gt;자동차 | 국제&gt;일본</td>\n",
       "      <td>2021/09/03</td>\n",
       "      <td>백만호 기자 hopebaik@naeil.com</td>\n",
       "      <td>전기자동차(EV)기술에서 일본 자동차업체가 앞서가고 있다는 조사결과가 나왔다. 전기...</td>\n",
       "    </tr>\n",
       "    <tr>\n",
       "      <th>6</th>\n",
       "      <td>미국 '반도체 제조 부활' 더딘 출발</td>\n",
       "      <td>내일신문</td>\n",
       "      <td>국제&gt;미국_북미 | 경제&gt;반도체 | 경제&gt;국제경제</td>\n",
       "      <td>2021/09/03</td>\n",
       "      <td>김은광 기자 powerttp@naeil.com</td>\n",
       "      <td>2019년 3분기부터 올해 1분기까지 중국 기술기업 화웨이 스마트폰의 글로벌 점유율...</td>\n",
       "    </tr>\n",
       "    <tr>\n",
       "      <th>7</th>\n",
       "      <td>‘폴더블’에 맞불… 애플, 14일 ‘아이폰13’ 공개</td>\n",
       "      <td>문화일보</td>\n",
       "      <td>IT_과학&gt;모바일 | 경제&gt;유통 | 경제&gt;자동차</td>\n",
       "      <td>2021/09/03</td>\n",
       "      <td>이승주</td>\n",
       "      <td>혈압 등 측정‘애플워치7’도삼성전자의 하반기 전략 폴더블폰인 갤럭시Z폴드3·갤럭시Z...</td>\n",
       "    </tr>\n",
       "    <tr>\n",
       "      <th>8</th>\n",
       "      <td>8월 수출 날아오른 반도체, 3분기도 호실적 이어질 듯</td>\n",
       "      <td>문화일보</td>\n",
       "      <td>경제&gt;반도체 | 경제&gt;유통 | 경제&gt;증권_증시</td>\n",
       "      <td>2021/09/03</td>\n",
       "      <td>곽선미</td>\n",
       "      <td>D램가격 하락 반전 전망도우리나라 반도체 업계가 올해 3분기에 호실적을 기록할 것이...</td>\n",
       "    </tr>\n",
       "    <tr>\n",
       "      <th>9</th>\n",
       "      <td>“삼성전자의 새 외부감사인 효과” 안진회계법인 회계감사 매출 ‘쑥’</td>\n",
       "      <td>헤럴드경제</td>\n",
       "      <td>경제&gt;유통 | 경제&gt;반도체 | 경제&gt;증권_증시</td>\n",
       "      <td>2021/09/03</td>\n",
       "      <td>이세진 기자</td>\n",
       "      <td>지난해부터 국내 시가총액 1위 기업 삼성전자의 외부감사를 맡은 딜로이트 안진회계법인...</td>\n",
       "    </tr>\n",
       "  </tbody>\n",
       "</table>\n",
       "</div>"
      ],
      "text/plain": [
       "                                         title  press  \\\n",
       "0              코로나19가 당긴 N잡러의 시대 [최연진의 IT 프리즘]   한국일보   \n",
       "1       에어팟 프로, 2Q 1천만대 팔렸다…\"3Q 기대작, 149$ 버즈2\"  머니투데이   \n",
       "2                               코스피 장중 3200 돌파  아시아경제   \n",
       "3               애플, 2분기 ‘에어팟 프로’ 1000만대 이상 팔았다  아시아경제   \n",
       "4  [오후 주식시장은]외인 4거래일 연속 순매수...코스피 3,200선 탈환 시도   서울경제   \n",
       "5                 일본 자동차업체, 전기차 특허 경쟁력 세계 최고수준   내일신문   \n",
       "6                         미국 '반도체 제조 부활' 더딘 출발   내일신문   \n",
       "7                ‘폴더블’에 맞불… 애플, 14일 ‘아이폰13’ 공개   문화일보   \n",
       "8               8월 수출 날아오른 반도체, 3분기도 호실적 이어질 듯   문화일보   \n",
       "9        “삼성전자의 새 외부감사인 효과” 안진회계법인 회계감사 매출 ‘쑥’  헤럴드경제   \n",
       "\n",
       "                         category        date                       name  \\\n",
       "0               경제>반도체 | 경제>취업_창업  2021/09/03                        최연진   \n",
       "1      경제>유통 | IT_과학>모바일 | 경제>자동차  2021/09/03                     변휘|기자|   \n",
       "2        경제>증권_증시 | 경제>유통 | 경제>외환  2021/09/03                        황준호   \n",
       "3      경제>유통 | IT_과학>모바일 | 경제>자동차  2021/09/03                        구은모   \n",
       "4       경제>증권_증시 | 경제>외환 | 경제>부동산  2021/09/03                     신한나 기자   \n",
       "5  IT_과학>IT_과학일반 | 경제>자동차 | 국제>일본  2021/09/03  백만호 기자 hopebaik@naeil.com   \n",
       "6     국제>미국_북미 | 경제>반도체 | 경제>국제경제  2021/09/03  김은광 기자 powerttp@naeil.com   \n",
       "7      IT_과학>모바일 | 경제>유통 | 경제>자동차  2021/09/03                        이승주   \n",
       "8       경제>반도체 | 경제>유통 | 경제>증권_증시  2021/09/03                        곽선미   \n",
       "9       경제>유통 | 경제>반도체 | 경제>증권_증시  2021/09/03                     이세진 기자   \n",
       "\n",
       "                                                text  \n",
       "0  최근 투자업체에 근무하던 지인이 재미있는 선택을 했다. 회사 업무와 별개로 여러 스...  \n",
       "1  [머니투데이 변휘 기자] [카운터포인트리서치 '무선 이어폰 시장 보고서'2Q 샤오미...  \n",
       "2  [아시아경제 황준호 기자] 3일 오후 코스피는 외인의 순매수가 지속되는 가운데 장중...  \n",
       "3  [아시아경제 구은모 기자] 글로벌 무선이어폰 시장 점유율 1위인 애플이 올해 2분기...  \n",
       "4  코스피, 외인·기관 동반 매수 나서국내 증시는 외국인 투자자의 매수에 힘입어 상승 ...  \n",
       "5  전기자동차(EV)기술에서 일본 자동차업체가 앞서가고 있다는 조사결과가 나왔다. 전기...  \n",
       "6  2019년 3분기부터 올해 1분기까지 중국 기술기업 화웨이 스마트폰의 글로벌 점유율...  \n",
       "7  혈압 등 측정‘애플워치7’도삼성전자의 하반기 전략 폴더블폰인 갤럭시Z폴드3·갤럭시Z...  \n",
       "8  D램가격 하락 반전 전망도우리나라 반도체 업계가 올해 3분기에 호실적을 기록할 것이...  \n",
       "9  지난해부터 국내 시가총액 1위 기업 삼성전자의 외부감사를 맡은 딜로이트 안진회계법인...  "
      ]
     },
     "execution_count": 17,
     "metadata": {},
     "output_type": "execute_result"
    }
   ],
   "source": [
    "df['text'] = texts\n",
    "df"
   ]
  },
  {
   "cell_type": "code",
   "execution_count": 18,
   "id": "8c7b228b",
   "metadata": {},
   "outputs": [],
   "source": [
    "df.to_excel(\"C:/Develops/save/sample.xls\", header=None,index=False)"
   ]
  },
  {
   "cell_type": "code",
   "execution_count": null,
   "id": "ea885c68",
   "metadata": {},
   "outputs": [],
   "source": []
  },
  {
   "cell_type": "code",
   "execution_count": null,
   "id": "2729efd9",
   "metadata": {},
   "outputs": [],
   "source": []
  },
  {
   "cell_type": "code",
   "execution_count": null,
   "id": "ec23228d",
   "metadata": {},
   "outputs": [],
   "source": []
  },
  {
   "cell_type": "code",
   "execution_count": null,
   "id": "ee147476",
   "metadata": {},
   "outputs": [],
   "source": []
  },
  {
   "cell_type": "code",
   "execution_count": null,
   "id": "c1b6fef3",
   "metadata": {},
   "outputs": [],
   "source": []
  },
  {
   "cell_type": "code",
   "execution_count": null,
   "id": "b816852e",
   "metadata": {},
   "outputs": [],
   "source": []
  },
  {
   "cell_type": "code",
   "execution_count": null,
   "id": "5bd45127",
   "metadata": {},
   "outputs": [],
   "source": [
    "browser.find_elements_by_css_selector('div.modal-footer > button')[0].click()"
   ]
  },
  {
   "cell_type": "code",
   "execution_count": null,
   "id": "bab9b25a",
   "metadata": {},
   "outputs": [],
   "source": []
  },
  {
   "cell_type": "code",
   "execution_count": null,
   "id": "87518fe8",
   "metadata": {},
   "outputs": [],
   "source": []
  },
  {
   "cell_type": "code",
   "execution_count": null,
   "id": "7e7d67fa",
   "metadata": {},
   "outputs": [],
   "source": []
  },
  {
   "cell_type": "code",
   "execution_count": null,
   "id": "6b0cceb7",
   "metadata": {},
   "outputs": [],
   "source": []
  },
  {
   "cell_type": "code",
   "execution_count": null,
   "id": "d2826f99",
   "metadata": {},
   "outputs": [],
   "source": [
    "texts = []\n",
    "for i in range(0,11):\n",
    "    time.sleep(0.5)\n",
    "    browser.find_elements_by_css_selector('span.title-elipsis')[i].click()\n",
    "    text = browser.find_elements_by_css_selector('div.modal-body > div > div.news-view-body')[0].text\n",
    "    texts.append(text)\n",
    "    time.sleep(0.5)\n",
    "    browser.find_element_by_xpath(\"//div[@id='news-detail-modal']/div/div/button\").click()"
   ]
  },
  {
   "cell_type": "code",
   "execution_count": null,
   "id": "dd9cb89b",
   "metadata": {},
   "outputs": [],
   "source": [
    "texts = []\n",
    "browser.find_elements_by_css_selector('span.title-elipsis')[1].click()\n",
    "text = browser.find_elements_by_css_selector('div.modal-body > div > div.news-view-body')[0].text\n",
    "time.sleep(1)\n",
    "texts.append(text)\n",
    "browser.find_element_by_xpath(\"//div[@id='news-detail-modal']/div/div/button\").click()\n",
    "texts"
   ]
  },
  {
   "cell_type": "code",
   "execution_count": null,
   "id": "e2458961",
   "metadata": {},
   "outputs": [],
   "source": [
    "texts"
   ]
  },
  {
   "cell_type": "code",
   "execution_count": null,
   "id": "b09626c4",
   "metadata": {},
   "outputs": [],
   "source": [
    "texts = []\n",
    "for i in range(0,11):\n",
    "    time.sleep(0.5)\n",
    "    browser.find_elements_by_css_selector('span.title-elipsis')[i].click()\n",
    "    text = browser.find_elements_by_css_selector('div.modal-body > div > div.news-view-body')[0].text\n",
    "    texts.append(text)\n",
    "#     browser.execute_script(\"window.scrollTo(0, document.body.scrollHeight)\")\n",
    "    time.sleep(0.5)\n",
    "    browser.find_element_by_xpath(\"//div[@id='news-detail-modal']/div/div/button\").click()\n",
    "#     WebDriverWait(browser, 1)\n",
    "#     WebDriverWait(browser, 3).until(EC.element_to_be_clickable((By.CSS_SELECTOR, 'div.modal-footer > button')))\n",
    "#     browser.find_elements_by_css_selector('div.modal-footer > button')[0].click()\n",
    "texts"
   ]
  },
  {
   "cell_type": "code",
   "execution_count": null,
   "id": "208f77fd",
   "metadata": {},
   "outputs": [],
   "source": []
  },
  {
   "cell_type": "code",
   "execution_count": null,
   "id": "5da00164",
   "metadata": {},
   "outputs": [],
   "source": [
    "texts"
   ]
  },
  {
   "cell_type": "code",
   "execution_count": null,
   "id": "202cb6a2",
   "metadata": {},
   "outputs": [],
   "source": [
    "html = browser.page_source\n",
    "soup = BeautifulSoup(html, 'html.parser')"
   ]
  },
  {
   "cell_type": "code",
   "execution_count": null,
   "id": "06480e42",
   "metadata": {},
   "outputs": [],
   "source": [
    "wholes = soup.select('div.news-inner')"
   ]
  },
  {
   "cell_type": "code",
   "execution_count": null,
   "id": "2da807a6",
   "metadata": {},
   "outputs": [],
   "source": [
    "contents = list() # [제목, 언론사, 분류, 날짜, 기자이름, 기사내용]\n",
    "for whole in wholes:\n",
    "    title = whole.select('span.title-elipsis')\n",
    "    press =  whole.select('div.info > div > a')\n",
    "    category = whole.select('div.info > div > span.bullet-keyword')\n",
    "    date_name = whole.select('div.info > p')\n",
    "    contents.append([title[0].text.strip(), press[0].text.strip(), category[0].text.strip(), date_name[0].text.strip(), date_name[1].text.strip()])"
   ]
  },
  {
   "cell_type": "code",
   "execution_count": null,
   "id": "df04bb98",
   "metadata": {},
   "outputs": [],
   "source": [
    "contents[1]"
   ]
  },
  {
   "cell_type": "code",
   "execution_count": null,
   "id": "0f8a5a51",
   "metadata": {},
   "outputs": [],
   "source": []
  },
  {
   "cell_type": "code",
   "execution_count": null,
   "id": "e4fed7d3",
   "metadata": {},
   "outputs": [],
   "source": [
    "texts = []\n",
    "for i in range(0,3):\n",
    "    time.sleep(0.5)\n",
    "    browser.find_elements_by_css_selector('span.title-elipsis')[i].click()\n",
    "    text = browser.find_elements_by_css_selector('div.news-view-body')[0].text\n",
    "    texts.append(text)\n",
    "    time.sleep(0.5)\n",
    "    browser.find_element_by_xpath(\"//div[@id='news-detail-modal']/div/div/button\").click()\n",
    "#     browser.find_elements_by_css_selector('div.modal-footer > button')[0].click()"
   ]
  },
  {
   "cell_type": "code",
   "execution_count": null,
   "id": "7d95fc1d",
   "metadata": {},
   "outputs": [],
   "source": [
    "texts"
   ]
  },
  {
   "cell_type": "code",
   "execution_count": null,
   "id": "7e360bf5",
   "metadata": {},
   "outputs": [],
   "source": [
    "texts = []"
   ]
  },
  {
   "cell_type": "code",
   "execution_count": null,
   "id": "1d72dbce",
   "metadata": {},
   "outputs": [],
   "source": [
    "texts = []\n",
    "for i in range(0, 11):\n",
    "    browser.find_elements_by_css_selector('span.title-elipsis')[i].click()\n",
    "    time.sleep(1)\n",
    "    text = browser.find_elements_by_css_selector('div.news-view-body')[0].text\n",
    "    texts.append(text)\n",
    "    browser.find_elements_by_css_selector('div.modal-footer > button')[0].click()\n",
    "texts"
   ]
  },
  {
   "cell_type": "code",
   "execution_count": null,
   "id": "507c6746",
   "metadata": {},
   "outputs": [],
   "source": [
    "texts[5]"
   ]
  },
  {
   "cell_type": "code",
   "execution_count": null,
   "id": "a6a9f285",
   "metadata": {},
   "outputs": [],
   "source": [
    "texts = []"
   ]
  },
  {
   "cell_type": "code",
   "execution_count": null,
   "id": "af543848",
   "metadata": {},
   "outputs": [],
   "source": [
    "browser.find_elements_by_css_selector('span.title-elipsis')[0].click()"
   ]
  },
  {
   "cell_type": "code",
   "execution_count": null,
   "id": "c7a8acaf",
   "metadata": {},
   "outputs": [],
   "source": [
    "text = browser.find_elements_by_css_selector('div.news-view-body')[0].text"
   ]
  },
  {
   "cell_type": "code",
   "execution_count": null,
   "id": "fa296a01",
   "metadata": {},
   "outputs": [],
   "source": [
    "texts.append(text)"
   ]
  },
  {
   "cell_type": "code",
   "execution_count": null,
   "id": "9b3893b4",
   "metadata": {},
   "outputs": [],
   "source": [
    "browser.find_elements_by_css_selector('div.modal-footer > button')[0].click()"
   ]
  },
  {
   "cell_type": "code",
   "execution_count": null,
   "id": "cfbe7ffc",
   "metadata": {},
   "outputs": [],
   "source": [
    "texts"
   ]
  },
  {
   "cell_type": "code",
   "execution_count": null,
   "id": "1da1c49b",
   "metadata": {},
   "outputs": [],
   "source": []
  },
  {
   "cell_type": "code",
   "execution_count": null,
   "id": "6ea6f849",
   "metadata": {},
   "outputs": [],
   "source": [
    "browser.find_elements_by_css_selector('span.title-elipsis')[60].click()"
   ]
  },
  {
   "cell_type": "code",
   "execution_count": null,
   "id": "d082fa2a",
   "metadata": {},
   "outputs": [],
   "source": [
    "text = browser.find_elements_by_css_selector('div.news-view-body')[0].text\n",
    "texts.append(text.replace('\\n', ''))"
   ]
  },
  {
   "cell_type": "code",
   "execution_count": null,
   "id": "1997c633",
   "metadata": {},
   "outputs": [],
   "source": [
    "browser.find_element_by_xpath(\"//div[@id='news-detail-modal']/div/div/button\").click()"
   ]
  },
  {
   "cell_type": "code",
   "execution_count": null,
   "id": "5786540e",
   "metadata": {},
   "outputs": [],
   "source": [
    "browser.find_elements_by_css_selector('div.modal-footer > button')[0].click()"
   ]
  },
  {
   "cell_type": "code",
   "execution_count": null,
   "id": "e563d949",
   "metadata": {},
   "outputs": [],
   "source": [
    "texts[2]"
   ]
  },
  {
   "cell_type": "code",
   "execution_count": null,
   "id": "cb7c46ea",
   "metadata": {},
   "outputs": [],
   "source": [
    "modal-close"
   ]
  },
  {
   "cell_type": "code",
   "execution_count": null,
   "id": "da4e1b09",
   "metadata": {},
   "outputs": [],
   "source": []
  },
  {
   "cell_type": "code",
   "execution_count": null,
   "id": "32163e27",
   "metadata": {},
   "outputs": [],
   "source": []
  },
  {
   "cell_type": "code",
   "execution_count": null,
   "id": "08886c10",
   "metadata": {},
   "outputs": [],
   "source": [
    "div.modal-footer > button.btn"
   ]
  },
  {
   "cell_type": "code",
   "execution_count": null,
   "id": "68a4e40a",
   "metadata": {},
   "outputs": [],
   "source": [
    "soup.select('div.news-view-body')\n",
    "div.modal-footer > button.btn"
   ]
  },
  {
   "cell_type": "code",
   "execution_count": null,
   "id": "8b225b1d",
   "metadata": {},
   "outputs": [],
   "source": []
  },
  {
   "cell_type": "code",
   "execution_count": null,
   "id": "f6e4f154",
   "metadata": {},
   "outputs": [],
   "source": []
  }
 ],
 "metadata": {
  "kernelspec": {
   "display_name": "Python 3",
   "language": "python",
   "name": "python3"
  },
  "language_info": {
   "codemirror_mode": {
    "name": "ipython",
    "version": 3
   },
   "file_extension": ".py",
   "mimetype": "text/x-python",
   "name": "python",
   "nbconvert_exporter": "python",
   "pygments_lexer": "ipython3",
   "version": "3.8.8"
  }
 },
 "nbformat": 4,
 "nbformat_minor": 5
}
