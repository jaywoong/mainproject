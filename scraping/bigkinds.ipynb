{
 "cells": [
  {
   "cell_type": "code",
   "execution_count": 62,
   "id": "58fd8512",
   "metadata": {},
   "outputs": [
    {
     "name": "stdout",
     "output_type": "stream",
     "text": [
      "Requirement already satisfied: selenium in c:\\users\\user\\anaconda3\\lib\\site-packages (3.141.0)\n",
      "Requirement already satisfied: urllib3 in c:\\users\\user\\anaconda3\\lib\\site-packages (from selenium) (1.26.4)\n",
      "Collecting chromedriver_autoinstaller\n",
      "  Downloading chromedriver_autoinstaller-0.2.2-py3-none-any.whl (5.9 kB)\n",
      "Installing collected packages: chromedriver-autoinstaller\n",
      "Successfully installed chromedriver-autoinstaller-0.2.2\n"
     ]
    }
   ],
   "source": [
    "!pip install selenium\n",
    "!pip install chromedriver_autoinstaller"
   ]
  },
  {
   "cell_type": "code",
   "execution_count": 66,
   "id": "16d26dae",
   "metadata": {},
   "outputs": [],
   "source": [
    "from selenium import webdriver\n",
    "from bs4 import BeautifulSoup\n",
    "import requests\n",
    "import pandas as pd\n",
    "import time\n",
    "\n",
    "from selenium.webdriver.chrome.options import Options\n",
    "import chromedriver_autoinstaller"
   ]
  },
  {
   "cell_type": "code",
   "execution_count": 68,
   "id": "38fbc4da",
   "metadata": {},
   "outputs": [],
   "source": [
    "# webdirver 설정, 빅카인즈 사이트 이동\n",
    "\n",
    "driver = webdriver.Chrome('C:\\chromedriver.exe')\n",
    "driver.get('https://www.bigkinds.or.kr/v2/news/index.do')\n",
    "driver.set_window_size(1920,1280)\n"
   ]
  },
  {
   "cell_type": "code",
   "execution_count": 69,
   "id": "6c5add0f",
   "metadata": {},
   "outputs": [],
   "source": [
    "# 검색기간 1주일로 설정\n",
    "\n",
    "driver.find_element_by_xpath('//*[@id=\"collapse-step-1-body\"]/div[3]/div/div[1]/div[1]/a').click()\n",
    "time.sleep(1)\n",
    "driver.find_element_by_xpath('//*[@id=\"srch-tab1\"]/div/div[1]/span[2]').click()"
   ]
  },
  {
   "cell_type": "code",
   "execution_count": 70,
   "id": "3d6ea4b7",
   "metadata": {},
   "outputs": [],
   "source": [
    "# 검색창의 이름을 찾아서 사용자가 검색어 입력\n",
    "\n",
    "# querytxt = input('크롤링할 키워드는 무엇입니까?:')\n",
    "searchbox = driver.find_element_by_id(\"total-search-key\")\n",
    "searchbox.send_keys(\"오리온\")  \n",
    "# searchbox.send_keys('querytxt')\n",
    "searchbox.send_keys(\"\\n\")  # 검색버튼 엔터"
   ]
  },
  {
   "cell_type": "code",
   "execution_count": 71,
   "id": "888e5d1c",
   "metadata": {},
   "outputs": [],
   "source": [
    "# 기사 분류 - 경제로 설정\n",
    "# *주의* 화면을 크게해야 함. 경제 분류가 화면에 보여야 셀레니움이 잡을 수 있음\n",
    "\n",
    "time.sleep(1)\n",
    "driver.find_element_by_xpath('//*[@id=\"filterTab03\"]/li[2]/span').click()\n",
    "\n",
    "# from selenium.webdriver.common.keys import Keys\n",
    "# .send_keys(Keys.ENTER)"
   ]
  },
  {
   "cell_type": "code",
   "execution_count": 72,
   "id": "6608d274",
   "metadata": {},
   "outputs": [],
   "source": [
    "# 기사 100건 씩 출력\n",
    "\n",
    "# driver.find_element_by_xpath('//*[@id=\"select2\"]/option[4]').click()"
   ]
  },
  {
   "cell_type": "code",
   "execution_count": 73,
   "id": "d91ddd16",
   "metadata": {},
   "outputs": [],
   "source": [
    "# html = driver.page_source\n",
    "# soup = BeautifulSoup(html, 'html.parser')"
   ]
  },
  {
   "cell_type": "code",
   "execution_count": 74,
   "id": "568125f4",
   "metadata": {},
   "outputs": [
    {
     "data": {
      "text/plain": [
       "2"
      ]
     },
     "execution_count": 74,
     "metadata": {},
     "output_type": "execute_result"
    }
   ],
   "source": [
    "# 전체 페이지 개수\n",
    "\n",
    "pageNum = soup.select('div.lastNum')\n",
    "totalPage = int(pageNum[0]['data-page'])\n",
    "totalPage"
   ]
  },
  {
   "cell_type": "code",
   "execution_count": 75,
   "id": "65df59cc",
   "metadata": {},
   "outputs": [
    {
     "name": "stdout",
     "output_type": "stream",
     "text": [
      "----- Current Page : 1 ------\n",
      "----- Current Page : 2 ------\n",
      "Crawling succeed\n"
     ]
    },
    {
     "data": {
      "text/plain": [
       "17"
      ]
     },
     "execution_count": 75,
     "metadata": {},
     "output_type": "execute_result"
    }
   ],
   "source": [
    "contents = []\n",
    "\n",
    "# 현재 페이지\n",
    "curPage = 1\n",
    "\n",
    "while curPage <= totalPage:\n",
    "    # bs4 초기화\n",
    "    soup = BeautifulSoup(driver.page_source, 'html.parser')\n",
    "    # 기사 리스트\n",
    "    articles = soup.select('div.news-inner')\n",
    "    # 페이지 번호 출력\n",
    "    print('----- Current Page : {}'.format(curPage), '------')\n",
    "\n",
    "    # 세부 데이터\n",
    "    for article in articles:\n",
    "        title = article.select_one('span.title-elipsis').text.strip()\n",
    "        press =  article.select_one('div.info > div > a').text.strip()\n",
    "        category = article.select_one('div.info > div > span.bullet-keyword').text.strip()\n",
    "        date = article.select_one('div.info > p').text.strip()\n",
    "        contents.append([title, press, category, date])\n",
    "        \n",
    "    # 기사 전문 \n",
    "#     for i in range(0, 100):            \n",
    "#         driver.find_elements_by_css_selector('span.title-elipsis')[i].click()\n",
    "#         time.sleep(1)                \n",
    "#         text = driver.find_elements_by_css_selector('div.news-view-body')[0].text\n",
    "#         texts.append(text.replace('\\n', ''))\n",
    "#         driver.find_element_by_xpath(\"//div[@id='news-detail-modal']/div/div/button\").click()\n",
    "\n",
    "            \n",
    "    # 페이지 수 증가\n",
    "    curPage += 1\n",
    "    if curPage > totalPage:\n",
    "        print('Crawling succeed')\n",
    "        break\n",
    "        \n",
    "    # 페이지 이동 클릭\n",
    "    driver.implicitly_wait(3)      \n",
    "    nextbtn = driver.find_element_by_xpath('//*[@id=\"news-results-tab\"]/div[6]/div[1]/div/div/div/div[4]/a')\n",
    "    driver.execute_script(\"arguments[0].click();\", nextbtn)\n",
    "    \n",
    "    # bs4 인스턴스 삭제\n",
    "    del soup\n",
    "    time.sleep(1.5)\n",
    " # 브라우저 종료\n",
    "driver.close() \n",
    "\n",
    "len(contents)"
   ]
  },
  {
   "cell_type": "code",
   "execution_count": 80,
   "id": "613e6a7a",
   "metadata": {},
   "outputs": [],
   "source": [
    "df = pd.DataFrame(data=contents, columns =['title', 'press', 'category', 'date'])\n",
    "df.to_excel(\"C:/Develops/save/1.xlsx\", index=False)\n",
    "# df.to_excel(\"C:/Develops/save/\" + querytext +\".xlsx\", index=False)"
   ]
  },
  {
   "cell_type": "code",
   "execution_count": null,
   "id": "bdc0fa7b",
   "metadata": {},
   "outputs": [],
   "source": []
  },
  {
   "cell_type": "code",
   "execution_count": null,
   "id": "18249b25",
   "metadata": {},
   "outputs": [],
   "source": []
  },
  {
   "cell_type": "markdown",
   "id": "e390cba2",
   "metadata": {},
   "source": [
    "## 클래스, 함수화"
   ]
  },
  {
   "cell_type": "code",
   "execution_count": 64,
   "id": "dea6c063",
   "metadata": {},
   "outputs": [
    {
     "ename": "WebDriverException",
     "evalue": "Message: chrome not reachable\n  (Session info: chrome=93.0.4577.63)\n",
     "output_type": "error",
     "traceback": [
      "\u001b[1;31m---------------------------------------------------------------------------\u001b[0m",
      "\u001b[1;31mWebDriverException\u001b[0m                        Traceback (most recent call last)",
      "\u001b[1;32m<ipython-input-64-9c3840aa43b2>\u001b[0m in \u001b[0;36m<module>\u001b[1;34m\u001b[0m\n\u001b[0;32m     87\u001b[0m     \u001b[0mbaseURL\u001b[0m \u001b[1;33m=\u001b[0m \u001b[1;34m'https://www.bigkinds.or.kr/v2/news/index.do'\u001b[0m\u001b[1;33m\u001b[0m\u001b[1;33m\u001b[0m\u001b[0m\n\u001b[0;32m     88\u001b[0m     \u001b[0mcrawl\u001b[0m \u001b[1;33m=\u001b[0m \u001b[0mCRAWL\u001b[0m\u001b[1;33m(\u001b[0m\u001b[1;33m)\u001b[0m\u001b[1;33m\u001b[0m\u001b[1;33m\u001b[0m\u001b[0m\n\u001b[1;32m---> 89\u001b[1;33m     \u001b[0mcrawl\u001b[0m\u001b[1;33m.\u001b[0m\u001b[0mcrawling\u001b[0m\u001b[1;33m(\u001b[0m\u001b[0mbaseURL\u001b[0m\u001b[1;33m)\u001b[0m\u001b[1;33m\u001b[0m\u001b[1;33m\u001b[0m\u001b[0m\n\u001b[0m\u001b[0;32m     90\u001b[0m     \u001b[0mcrawl\u001b[0m\u001b[1;33m.\u001b[0m\u001b[0mclosing\u001b[0m\u001b[1;33m(\u001b[0m\u001b[1;33m)\u001b[0m\u001b[1;33m\u001b[0m\u001b[1;33m\u001b[0m\u001b[0m\n",
      "\u001b[1;32m<ipython-input-64-9c3840aa43b2>\u001b[0m in \u001b[0;36mcrawling\u001b[1;34m(self, url)\u001b[0m\n\u001b[0;32m     41\u001b[0m \u001b[1;33m\u001b[0m\u001b[0m\n\u001b[0;32m     42\u001b[0m     \u001b[1;32mdef\u001b[0m \u001b[0mcrawling\u001b[0m\u001b[1;33m(\u001b[0m\u001b[0mself\u001b[0m\u001b[1;33m,\u001b[0m\u001b[0murl\u001b[0m\u001b[1;33m)\u001b[0m\u001b[1;33m:\u001b[0m\u001b[1;33m\u001b[0m\u001b[1;33m\u001b[0m\u001b[0m\n\u001b[1;32m---> 43\u001b[1;33m         \u001b[0mself\u001b[0m\u001b[1;33m.\u001b[0m\u001b[0mgetTotalPage\u001b[0m\u001b[1;33m(\u001b[0m\u001b[0murl\u001b[0m\u001b[1;33m)\u001b[0m\u001b[1;33m\u001b[0m\u001b[1;33m\u001b[0m\u001b[0m\n\u001b[0m\u001b[0;32m     44\u001b[0m         \u001b[0mtotalPage\u001b[0m \u001b[1;33m=\u001b[0m \u001b[0mint\u001b[0m\u001b[1;33m(\u001b[0m\u001b[0mself\u001b[0m\u001b[1;33m.\u001b[0m\u001b[0mtotalPage\u001b[0m\u001b[1;33m)\u001b[0m  \u001b[1;31m# 크롤링할 전체 페이지수\u001b[0m\u001b[1;33m\u001b[0m\u001b[1;33m\u001b[0m\u001b[0m\n\u001b[0;32m     45\u001b[0m         \u001b[0mprint\u001b[0m\u001b[1;33m(\u001b[0m\u001b[1;34m'total Pages : '\u001b[0m\u001b[1;33m,\u001b[0m\u001b[0mtotalPage\u001b[0m\u001b[1;33m)\u001b[0m\u001b[1;33m\u001b[0m\u001b[1;33m\u001b[0m\u001b[0m\n",
      "\u001b[1;32m<ipython-input-64-9c3840aa43b2>\u001b[0m in \u001b[0;36mgetTotalPage\u001b[1;34m(self, url)\u001b[0m\n\u001b[0;32m     20\u001b[0m \u001b[1;33m\u001b[0m\u001b[0m\n\u001b[0;32m     21\u001b[0m     \u001b[1;32mdef\u001b[0m \u001b[0mgetTotalPage\u001b[0m\u001b[1;33m(\u001b[0m\u001b[0mself\u001b[0m\u001b[1;33m,\u001b[0m\u001b[0murl\u001b[0m\u001b[1;33m)\u001b[0m\u001b[1;33m:\u001b[0m\u001b[1;33m\u001b[0m\u001b[1;33m\u001b[0m\u001b[0m\n\u001b[1;32m---> 22\u001b[1;33m         \u001b[0mself\u001b[0m\u001b[1;33m.\u001b[0m\u001b[0mgetBaseURL\u001b[0m\u001b[1;33m(\u001b[0m\u001b[0murl\u001b[0m\u001b[1;33m)\u001b[0m\u001b[1;33m\u001b[0m\u001b[1;33m\u001b[0m\u001b[0m\n\u001b[0m\u001b[0;32m     23\u001b[0m \u001b[1;33m\u001b[0m\u001b[0m\n\u001b[0;32m     24\u001b[0m         \u001b[1;31m# 검색창의 이름을 찾아서 사용자가 검색어 입력\u001b[0m\u001b[1;33m\u001b[0m\u001b[1;33m\u001b[0m\u001b[1;33m\u001b[0m\u001b[0m\n",
      "\u001b[1;32m<ipython-input-64-9c3840aa43b2>\u001b[0m in \u001b[0;36mgetBaseURL\u001b[1;34m(self, url)\u001b[0m\n\u001b[0;32m     14\u001b[0m \u001b[1;33m\u001b[0m\u001b[0m\n\u001b[0;32m     15\u001b[0m         \u001b[1;31m# 검색기간 1주일로 설정\u001b[0m\u001b[1;33m\u001b[0m\u001b[1;33m\u001b[0m\u001b[1;33m\u001b[0m\u001b[0m\n\u001b[1;32m---> 16\u001b[1;33m         \u001b[0mdriver\u001b[0m\u001b[1;33m.\u001b[0m\u001b[0mfind_element_by_xpath\u001b[0m\u001b[1;33m(\u001b[0m\u001b[1;34m'//*[@id=\"collapse-step-1-body\"]/div[3]/div/div[1]/div[1]/a'\u001b[0m\u001b[1;33m)\u001b[0m\u001b[1;33m.\u001b[0m\u001b[0mclick\u001b[0m\u001b[1;33m(\u001b[0m\u001b[1;33m)\u001b[0m\u001b[1;33m\u001b[0m\u001b[1;33m\u001b[0m\u001b[0m\n\u001b[0m\u001b[0;32m     17\u001b[0m         \u001b[0mtime\u001b[0m\u001b[1;33m.\u001b[0m\u001b[0msleep\u001b[0m\u001b[1;33m(\u001b[0m\u001b[1;36m1\u001b[0m\u001b[1;33m)\u001b[0m\u001b[1;33m\u001b[0m\u001b[1;33m\u001b[0m\u001b[0m\n\u001b[0;32m     18\u001b[0m         \u001b[0mdriver\u001b[0m\u001b[1;33m.\u001b[0m\u001b[0mfind_element_by_xpath\u001b[0m\u001b[1;33m(\u001b[0m\u001b[1;34m'//*[@id=\"srch-tab1\"]/div/div[1]/span[2]'\u001b[0m\u001b[1;33m)\u001b[0m\u001b[1;33m.\u001b[0m\u001b[0mclick\u001b[0m\u001b[1;33m(\u001b[0m\u001b[1;33m)\u001b[0m\u001b[1;33m\u001b[0m\u001b[1;33m\u001b[0m\u001b[0m\n",
      "\u001b[1;32m~\\anaconda3\\lib\\site-packages\\selenium\\webdriver\\remote\\webdriver.py\u001b[0m in \u001b[0;36mfind_element_by_xpath\u001b[1;34m(self, xpath)\u001b[0m\n\u001b[0;32m    392\u001b[0m             \u001b[0melement\u001b[0m \u001b[1;33m=\u001b[0m \u001b[0mdriver\u001b[0m\u001b[1;33m.\u001b[0m\u001b[0mfind_element_by_xpath\u001b[0m\u001b[1;33m(\u001b[0m\u001b[1;34m'//div/td[1]'\u001b[0m\u001b[1;33m)\u001b[0m\u001b[1;33m\u001b[0m\u001b[1;33m\u001b[0m\u001b[0m\n\u001b[0;32m    393\u001b[0m         \"\"\"\n\u001b[1;32m--> 394\u001b[1;33m         \u001b[1;32mreturn\u001b[0m \u001b[0mself\u001b[0m\u001b[1;33m.\u001b[0m\u001b[0mfind_element\u001b[0m\u001b[1;33m(\u001b[0m\u001b[0mby\u001b[0m\u001b[1;33m=\u001b[0m\u001b[0mBy\u001b[0m\u001b[1;33m.\u001b[0m\u001b[0mXPATH\u001b[0m\u001b[1;33m,\u001b[0m \u001b[0mvalue\u001b[0m\u001b[1;33m=\u001b[0m\u001b[0mxpath\u001b[0m\u001b[1;33m)\u001b[0m\u001b[1;33m\u001b[0m\u001b[1;33m\u001b[0m\u001b[0m\n\u001b[0m\u001b[0;32m    395\u001b[0m \u001b[1;33m\u001b[0m\u001b[0m\n\u001b[0;32m    396\u001b[0m     \u001b[1;32mdef\u001b[0m \u001b[0mfind_elements_by_xpath\u001b[0m\u001b[1;33m(\u001b[0m\u001b[0mself\u001b[0m\u001b[1;33m,\u001b[0m \u001b[0mxpath\u001b[0m\u001b[1;33m)\u001b[0m\u001b[1;33m:\u001b[0m\u001b[1;33m\u001b[0m\u001b[1;33m\u001b[0m\u001b[0m\n",
      "\u001b[1;32m~\\anaconda3\\lib\\site-packages\\selenium\\webdriver\\remote\\webdriver.py\u001b[0m in \u001b[0;36mfind_element\u001b[1;34m(self, by, value)\u001b[0m\n\u001b[0;32m    974\u001b[0m                 \u001b[0mby\u001b[0m \u001b[1;33m=\u001b[0m \u001b[0mBy\u001b[0m\u001b[1;33m.\u001b[0m\u001b[0mCSS_SELECTOR\u001b[0m\u001b[1;33m\u001b[0m\u001b[1;33m\u001b[0m\u001b[0m\n\u001b[0;32m    975\u001b[0m                 \u001b[0mvalue\u001b[0m \u001b[1;33m=\u001b[0m \u001b[1;34m'[name=\"%s\"]'\u001b[0m \u001b[1;33m%\u001b[0m \u001b[0mvalue\u001b[0m\u001b[1;33m\u001b[0m\u001b[1;33m\u001b[0m\u001b[0m\n\u001b[1;32m--> 976\u001b[1;33m         return self.execute(Command.FIND_ELEMENT, {\n\u001b[0m\u001b[0;32m    977\u001b[0m             \u001b[1;34m'using'\u001b[0m\u001b[1;33m:\u001b[0m \u001b[0mby\u001b[0m\u001b[1;33m,\u001b[0m\u001b[1;33m\u001b[0m\u001b[1;33m\u001b[0m\u001b[0m\n\u001b[0;32m    978\u001b[0m             'value': value})['value']\n",
      "\u001b[1;32m~\\anaconda3\\lib\\site-packages\\selenium\\webdriver\\remote\\webdriver.py\u001b[0m in \u001b[0;36mexecute\u001b[1;34m(self, driver_command, params)\u001b[0m\n\u001b[0;32m    319\u001b[0m         \u001b[0mresponse\u001b[0m \u001b[1;33m=\u001b[0m \u001b[0mself\u001b[0m\u001b[1;33m.\u001b[0m\u001b[0mcommand_executor\u001b[0m\u001b[1;33m.\u001b[0m\u001b[0mexecute\u001b[0m\u001b[1;33m(\u001b[0m\u001b[0mdriver_command\u001b[0m\u001b[1;33m,\u001b[0m \u001b[0mparams\u001b[0m\u001b[1;33m)\u001b[0m\u001b[1;33m\u001b[0m\u001b[1;33m\u001b[0m\u001b[0m\n\u001b[0;32m    320\u001b[0m         \u001b[1;32mif\u001b[0m \u001b[0mresponse\u001b[0m\u001b[1;33m:\u001b[0m\u001b[1;33m\u001b[0m\u001b[1;33m\u001b[0m\u001b[0m\n\u001b[1;32m--> 321\u001b[1;33m             \u001b[0mself\u001b[0m\u001b[1;33m.\u001b[0m\u001b[0merror_handler\u001b[0m\u001b[1;33m.\u001b[0m\u001b[0mcheck_response\u001b[0m\u001b[1;33m(\u001b[0m\u001b[0mresponse\u001b[0m\u001b[1;33m)\u001b[0m\u001b[1;33m\u001b[0m\u001b[1;33m\u001b[0m\u001b[0m\n\u001b[0m\u001b[0;32m    322\u001b[0m             response['value'] = self._unwrap_value(\n\u001b[0;32m    323\u001b[0m                 response.get('value', None))\n",
      "\u001b[1;32m~\\anaconda3\\lib\\site-packages\\selenium\\webdriver\\remote\\errorhandler.py\u001b[0m in \u001b[0;36mcheck_response\u001b[1;34m(self, response)\u001b[0m\n\u001b[0;32m    240\u001b[0m                 \u001b[0malert_text\u001b[0m \u001b[1;33m=\u001b[0m \u001b[0mvalue\u001b[0m\u001b[1;33m[\u001b[0m\u001b[1;34m'alert'\u001b[0m\u001b[1;33m]\u001b[0m\u001b[1;33m.\u001b[0m\u001b[0mget\u001b[0m\u001b[1;33m(\u001b[0m\u001b[1;34m'text'\u001b[0m\u001b[1;33m)\u001b[0m\u001b[1;33m\u001b[0m\u001b[1;33m\u001b[0m\u001b[0m\n\u001b[0;32m    241\u001b[0m             \u001b[1;32mraise\u001b[0m \u001b[0mexception_class\u001b[0m\u001b[1;33m(\u001b[0m\u001b[0mmessage\u001b[0m\u001b[1;33m,\u001b[0m \u001b[0mscreen\u001b[0m\u001b[1;33m,\u001b[0m \u001b[0mstacktrace\u001b[0m\u001b[1;33m,\u001b[0m \u001b[0malert_text\u001b[0m\u001b[1;33m)\u001b[0m\u001b[1;33m\u001b[0m\u001b[1;33m\u001b[0m\u001b[0m\n\u001b[1;32m--> 242\u001b[1;33m         \u001b[1;32mraise\u001b[0m \u001b[0mexception_class\u001b[0m\u001b[1;33m(\u001b[0m\u001b[0mmessage\u001b[0m\u001b[1;33m,\u001b[0m \u001b[0mscreen\u001b[0m\u001b[1;33m,\u001b[0m \u001b[0mstacktrace\u001b[0m\u001b[1;33m)\u001b[0m\u001b[1;33m\u001b[0m\u001b[1;33m\u001b[0m\u001b[0m\n\u001b[0m\u001b[0;32m    243\u001b[0m \u001b[1;33m\u001b[0m\u001b[0m\n\u001b[0;32m    244\u001b[0m     \u001b[1;32mdef\u001b[0m \u001b[0m_value_or_default\u001b[0m\u001b[1;33m(\u001b[0m\u001b[0mself\u001b[0m\u001b[1;33m,\u001b[0m \u001b[0mobj\u001b[0m\u001b[1;33m,\u001b[0m \u001b[0mkey\u001b[0m\u001b[1;33m,\u001b[0m \u001b[0mdefault\u001b[0m\u001b[1;33m)\u001b[0m\u001b[1;33m:\u001b[0m\u001b[1;33m\u001b[0m\u001b[1;33m\u001b[0m\u001b[0m\n",
      "\u001b[1;31mWebDriverException\u001b[0m: Message: chrome not reachable\n  (Session info: chrome=93.0.4577.63)\n"
     ]
    }
   ],
   "source": [
    "class CRAWL:\n",
    "    def __init__(self):\n",
    "        self.options = Options()\n",
    "        self.options.add_argument('headless'); # headless는 화면이나 페이지 이동을 표시하지 않고 동작하는 모드\n",
    "        chromedriver_autoinstaller.install()\n",
    "        self.driver = webdriver.Chrome(options=self.options) # 브라우저 창 안보이기\n",
    "        self.totalPage = 1 # 전체 페이지수\n",
    "        \n",
    "        \n",
    "    def getBaseURL(self,url):\n",
    "        self.driver.implicitly_wait(5)  # 크롬 브라우저 내부 대기\n",
    "        self.driver.set_window_size(1920,1280) # 브라우저 사이즈\n",
    "        self.driver.get(url)\n",
    "        \n",
    "        # 검색기간 1주일로 설정\n",
    "        driver.find_element_by_xpath('//*[@id=\"collapse-step-1-body\"]/div[3]/div/div[1]/div[1]/a').click()\n",
    "        time.sleep(1)\n",
    "        driver.find_element_by_xpath('//*[@id=\"srch-tab1\"]/div/div[1]/span[2]').click()\n",
    "        \n",
    "\n",
    "    def getTotalPage(self,url):\n",
    "        self.getBaseURL(url)\n",
    "        \n",
    "        # 검색창의 이름을 찾아서 사용자가 검색어 입력\n",
    "        # query_txt = input('크롤링할 키워드는 무엇입니까?:')\n",
    "        searchbox = driver.find_element_by_id(\"total-search-key\")\n",
    "        searchbox.send_keys(\"오리온\")  \n",
    "        searchbox.send_keys(\"\\n\")  # 검색버튼 엔터\n",
    "        \n",
    "        # 경제 기사만 선택\n",
    "        time.sleep(1)\n",
    "        driver.find_element_by_xpath('//*[@id=\"filterTab03\"]/li[2]/span').click()\n",
    "\n",
    "        soup = BeautifulSoup(self.driver.page_source, 'html.parser')\n",
    "        \n",
    "        pageNum = soup.select('div.lastNum')\n",
    "        self.totalPage  = int(pageNum[0]['data-page'])\n",
    "        \n",
    "        del soup\n",
    "        \n",
    "    \n",
    "    def crawling(self,url):\n",
    "        self.getTotalPage(url)\n",
    "        totalPage = int(self.totalPage)  # 크롤링할 전체 페이지수\n",
    "        print('total Pages : ',totalPage)\n",
    "        curPage = 1  # 현재 페이지\n",
    "        \n",
    "        contents = []\n",
    "        texts = []\n",
    "        while curPage <= totalPage:\n",
    "            # bs4 초기화\n",
    "            soup = BeautifulSoup(driver.page_source, 'html.parser')\n",
    "            # 기사 리스트\n",
    "            articles = soup.select('div.news-inner')\n",
    "            # 페이지 번호 출력\n",
    "            print('----- Current Page : {}'.format(curPage), '------')\n",
    "\n",
    "            # 세부 데이터\n",
    "            for article in articles:\n",
    "                title = article.select_one('span.title-elipsis').text.strip()\n",
    "                press =  article.select_one('div.info > div > a').text.strip()\n",
    "                category = article.select_one('div.info > div > span.bullet-keyword').text.strip()\n",
    "                date = article.select_one('div.info > p').text.strip()\n",
    "                \n",
    "                contents.append([title, press, category, date])\n",
    "            \n",
    "            # 기사 전문 \n",
    "#             for i in range(0, 100):\n",
    "#                 driver.find_elements_by_css_selector('span.title-elipsis')[i].click()\n",
    "#                 time.sleep(1)\n",
    "#                 text = driver.find_elements_by_css_selector('div.news-view-body')[0].text\n",
    "#                 texts.append(text.replace('\\n', ''))\n",
    "#                 driver.find_element_by_xpath(\"//div[@id='news-detail-modal']/div/div/button\").click()\n",
    "\n",
    "            # 페이지 수 증가\n",
    "            curPage += 1\n",
    "            if curPage > totalPage:\n",
    "                print('Crawling succeed')\n",
    "                break\n",
    "\n",
    "            # 페이지 이동 클릭\n",
    "            driver.implicitly_wait(3)      \n",
    "            nextbtn = driver.find_element_by_xpath('//*[@id=\"news-results-tab\"]/div[6]/div[1]/div/div/div/div[4]/a')\n",
    "            driver.execute_script(\"arguments[0].click();\", nextbtn)\n",
    "\n",
    "            # bs4 인스턴스 삭제\n",
    "            del soup\n",
    "            time.sleep(2)\n",
    "            \n",
    "            \n",
    "    def closing(self):    \n",
    "        self.driver.close()  # 브라우저 종료  \n",
    "    \n",
    "    \n",
    "    \n",
    "if __name__ == \"__main__\":\n",
    "    baseURL = 'https://www.bigkinds.or.kr/v2/news/index.do'\n",
    "    crawl = CRAWL()\n",
    "    crawl.crawling(baseURL)\n",
    "    crawl.closing()\n"
   ]
  },
  {
   "cell_type": "code",
   "execution_count": null,
   "id": "378442f9",
   "metadata": {},
   "outputs": [],
   "source": []
  },
  {
   "cell_type": "code",
   "execution_count": null,
   "id": "be1ccb96",
   "metadata": {},
   "outputs": [],
   "source": []
  },
  {
   "cell_type": "code",
   "execution_count": null,
   "id": "c0b6cbc5",
   "metadata": {},
   "outputs": [],
   "source": []
  },
  {
   "cell_type": "code",
   "execution_count": 65,
   "id": "d0a2cc5d",
   "metadata": {},
   "outputs": [],
   "source": [
    "# contents = [] \n",
    "\n",
    "# for i in range(pageNum):\n",
    "#     # 전체 기사들\n",
    "#     articles = driver.find_elements_by_css_selector('div.news-inner')\n",
    "\n",
    "#     for article in articles:\n",
    "#         title = article.find_elements_by_xpath('//*[@id=\"news-results\"]/div[1]/div/div[2]/a/div/strong/span').text\n",
    "#         press =  article.find_elements_by_css_selector('div.info > div > a').text\n",
    "#         category = article.find_elements_by_css_selector('div.info > div > span.bullet-keyword').text\n",
    "#         date = article.find_elements_by_css_selector('div.info > p').text\n",
    "#         contents.append([title, press, category, date])\n",
    "   \n",
    "#     try:\n",
    "#         driver.implicitly_wait(3) # seconds\n",
    "#         nextbtn = driver.find_element_by_xpath('//*[@id=\"news-results-tab\"]/div[6]/div[1]/div/div/div/div[4]/a')\n",
    "#         driver.execute_script(\"arguments[0].click();\", nextbtn)\n",
    "#         time.sleep(1.5)\n",
    "#     except:\n",
    "#         print(\"데이터 수집 완료.\")\n",
    "#         break\n",
    "    \n",
    "# len(contents)\n"
   ]
  },
  {
   "cell_type": "markdown",
   "id": "1f40c2f2",
   "metadata": {},
   "source": [
    "+ 최근 1주일\n",
    "1. 빅카인즈 경제 기사 키워드당 100개만 기져오기\n",
    "2. 매일경제 + 한국경제 기사 가져오기"
   ]
  },
  {
   "cell_type": "code",
   "execution_count": null,
   "id": "33db7a9b",
   "metadata": {},
   "outputs": [],
   "source": []
  },
  {
   "cell_type": "code",
   "execution_count": null,
   "id": "e63fa66c",
   "metadata": {},
   "outputs": [],
   "source": [
    "# 다음 페이지 넘기기\n",
    "\n",
    "# nextbtn = driver.find_element_by_xpath('//*[@id=\"news-results-tab\"]/div[6]/div[1]/div/div/div/div[4]/a')\n",
    "# browser.execute_script(\"arguments[0].click();\", nextbtn)\n"
   ]
  },
  {
   "cell_type": "code",
   "execution_count": null,
   "id": "c5c16eef",
   "metadata": {},
   "outputs": [],
   "source": [
    "# [제목, 언론사, 분류, 날짜, 기자이름, 기사내용]\n",
    "\n",
    "# contents = [] \n",
    "# for article in articles:\n",
    "#     title = article.select('span.title-elipsis')\n",
    "#     press =  article.select('div.info > div > a')\n",
    "#     category = article.select('div.info > div > span.bullet-keyword')\n",
    "#     date = article.select('div.info > p')\n",
    "#     contents.append([title[0].text.strip(), press[0].text.strip(), category[0].text.strip(), date[0].text.strip(), date[1].text.strip()])\n",
    "\n",
    "# len(contents)"
   ]
  },
  {
   "cell_type": "code",
   "execution_count": null,
   "id": "bd1e5a9c",
   "metadata": {},
   "outputs": [],
   "source": [
    "# 기사 전문 \n",
    "\n",
    "# texts = []\n",
    "# for i in range(0, 100):\n",
    "#     driver.find_elements_by_css_selector('span.title-elipsis')[i].click()\n",
    "#     time.sleep(1)\n",
    "#     text = driver.find_elements_by_css_selector('div.news-view-body')[0].text\n",
    "#     texts.append(text.replace('\\n', ''))\n",
    "#     driver.find_element_by_xpath(\"//div[@id='news-detail-modal']/div/div/button\").click()\n",
    "\n",
    "# len(texts)"
   ]
  },
  {
   "cell_type": "code",
   "execution_count": null,
   "id": "abf78ae7",
   "metadata": {},
   "outputs": [],
   "source": [
    "df = pd.DataFrame(data=contents, columns =['title', 'press', 'category', 'date', 'name'])"
   ]
  },
  {
   "cell_type": "code",
   "execution_count": null,
   "id": "0f8a5a51",
   "metadata": {},
   "outputs": [],
   "source": []
  }
 ],
 "metadata": {
  "kernelspec": {
   "display_name": "Python 3",
   "language": "python",
   "name": "python3"
  },
  "language_info": {
   "codemirror_mode": {
    "name": "ipython",
    "version": 3
   },
   "file_extension": ".py",
   "mimetype": "text/x-python",
   "name": "python",
   "nbconvert_exporter": "python",
   "pygments_lexer": "ipython3",
   "version": "3.8.8"
  }
 },
 "nbformat": 4,
 "nbformat_minor": 5
}
