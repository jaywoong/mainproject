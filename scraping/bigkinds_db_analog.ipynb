{
 "cells": [
  {
   "cell_type": "code",
   "execution_count": 84,
   "id": "16c4c859",
   "metadata": {},
   "outputs": [],
   "source": [
    "import pandas as pd\n",
    "import numpy as np\n",
    "import openpyxl"
   ]
  },
  {
   "cell_type": "code",
   "execution_count": 89,
   "id": "f232a6c4",
   "metadata": {},
   "outputs": [],
   "source": [
    "import pandas as pd\n",
    "import sqlite3\n",
    "from datetime import datetime\n",
    "\n",
    "def preprocessing(txt):\n",
    "    file = pd.read_excel('C:/Users/User/Desktop/new/data/{}.xlsx'.format(txt))\n",
    "    file = file[['제목', '언론사', '통합 분류1', '일자', '본문']]\n",
    "    file.columns = ['title','press','category','date','text']\n",
    "    file['date'] = file['date'].apply(lambda _: str(_))\n",
    "    for i in range(len(file)):\n",
    "        file['date'][i] = datetime.strptime(file['date'][i], '%Y%m%d').strftime('%Y/%m/%d')\n",
    "    file.to_excel('C:/Users/User/Desktop/new/{}.xlsx'.format(txt),index=False)\n",
    "\n",
    "    \n",
    "def loadData(txt):  # 엑셀데이터 db에 저장\n",
    "    file = pd.read_excel('C:/Users/User/Desktop/new/{}.xlsx'.format(txt))\n",
    "    file.to_sql('{}_news'.format(txt), conn, if_exists='append', index=False)  # 기업마다 다른 테이블로 저장\n",
    "    print('{} inserted to DB.'.format(txt))\n",
    "\n",
    "if __name__ == \"__main__\":\n",
    "    conn = sqlite3.connect('bigkinds.db')\n",
    "    c = conn.cursor()\n",
    "    txts = ['기업명']\n",
    "    for txt in txts:\n",
    "        preprocessing(txt)\n",
    "        loadData(txt)"
   ]
  }
 ],
 "metadata": {
  "kernelspec": {
   "display_name": "Python 3",
   "language": "python",
   "name": "python3"
  },
  "language_info": {
   "codemirror_mode": {
    "name": "ipython",
    "version": 3
   },
   "file_extension": ".py",
   "mimetype": "text/x-python",
   "name": "python",
   "nbconvert_exporter": "python",
   "pygments_lexer": "ipython3",
   "version": "3.8.8"
  }
 },
 "nbformat": 4,
 "nbformat_minor": 5
}
