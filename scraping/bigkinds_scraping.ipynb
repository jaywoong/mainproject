{
 "cells": [
  {
   "cell_type": "code",
   "execution_count": 2,
   "id": "58fd8512",
   "metadata": {},
   "outputs": [
    {
     "name": "stdout",
     "output_type": "stream",
     "text": [
      "Requirement already satisfied: selenium in c:\\users\\user\\anaconda3\\lib\\site-packages (3.141.0)\n",
      "Requirement already satisfied: urllib3 in c:\\users\\user\\anaconda3\\lib\\site-packages (from selenium) (1.26.4)\n"
     ]
    }
   ],
   "source": [
    "!pip install selenium"
   ]
  },
  {
   "cell_type": "code",
   "execution_count": 17,
   "id": "16d26dae",
   "metadata": {},
   "outputs": [],
   "source": [
    "from selenium import webdriver\n",
    "from bs4 import BeautifulSoup\n",
    "import requests\n",
    "import pandas as pd\n",
    "import time"
   ]
  },
  {
   "cell_type": "code",
   "execution_count": 47,
   "id": "38fbc4da",
   "metadata": {},
   "outputs": [],
   "source": [
    "# webdirver 설정, 빅카인즈 사이트 이동\n",
    "driver = webdriver.Chrome('C:\\chromedriver.exe')\n",
    "driver.implicitly_wait(2)\n",
    "driver.set_window_size(1500,1200)  #(1280,800)\n",
    "driver.get('https://www.bigkinds.or.kr/v2/news/index.do')\n",
    "\n",
    "# 검색기간 1주일로 설정\n",
    "driver.find_element_by_xpath('//*[@id=\"collapse-step-1-body\"]/div[3]/div/div[1]/div[1]/a').click()\n",
    "time.sleep(2)\n",
    "driver.find_element_by_xpath('//*[@id=\"srch-tab1\"]/div/div[1]/span[2]').click()"
   ]
  },
  {
   "cell_type": "code",
   "execution_count": 48,
   "id": "3d6ea4b7",
   "metadata": {},
   "outputs": [
    {
     "name": "stdout",
     "output_type": "stream",
     "text": [
      "크롤링할 키워드는 무엇입니까?:오리온\n"
     ]
    }
   ],
   "source": [
    "# 검색어 입력\n",
    "querytxt = input('크롤링할 키워드는 무엇입니까?:')\n",
    "searchbox = driver.find_element_by_id(\"total-search-key\")\n",
    "searchbox.send_keys(querytxt)\n",
    "searchbox.send_keys(\"\\n\")  # 검색버튼 엔터\n",
    "time.sleep(3)"
   ]
  },
  {
   "cell_type": "code",
   "execution_count": 49,
   "id": "888e5d1c",
   "metadata": {},
   "outputs": [],
   "source": [
    "# 기사 분류 -> 경제로 설정\n",
    "# *주의* 화면을 크게해야 함. 경제 분류가 화면에 보여야 셀레니움이 잡을 수 있음\n",
    "driver.find_element_by_xpath('//*[@id=\"filterTab03\"]/li[2]/span').click()\n",
    "time.sleep(3)\n",
    "\n",
    "# 기사 100건 씩 출력\n",
    "driver.find_element_by_xpath('//*[@id=\"select2\"]/option[4]').click()\n",
    "time.sleep(2)\n",
    "\n",
    "# 전체 페이지 개수\n",
    "totalPage = driver.find_element_by_xpath('//*[@id=\"news-results-tab\"]/div[6]/div[2]/div/div/div/div/div[3]/div').text\n",
    "totalPage = int(totalPage)\n",
    "totalPage"
   ]
  },
  {
   "cell_type": "code",
   "execution_count": 53,
   "id": "fded6712",
   "metadata": {},
   "outputs": [
    {
     "name": "stdout",
     "output_type": "stream",
     "text": [
      "----- Current Page : 1 ------\n",
      "Crawling succeed\n"
     ]
    },
    {
     "data": {
      "text/plain": [
       "44"
      ]
     },
     "execution_count": 53,
     "metadata": {},
     "output_type": "execute_result"
    }
   ],
   "source": [
    "contents = []\n",
    "texts=[]\n",
    "curPage = 1\n",
    "\n",
    "while curPage <= totalPage:\n",
    "    # bs4 초기화\n",
    "    soup = BeautifulSoup(driver.page_source, 'html.parser')\n",
    "    # 기사 리스트\n",
    "    articles = soup.select('div.news-inner')\n",
    "    # 페이지 번호 출력\n",
    "    print('Current Page : {}'.format(curPage))\n",
    "\n",
    "    # 세부 데이터\n",
    "    for article in articles:\n",
    "        title = article.select_one('span.title-elipsis').text.strip()\n",
    "        press =  article.select_one('div.info > div > a').text.strip()\n",
    "        category = article.select_one('div.info > div > span.bullet-keyword').text.strip()\n",
    "        date = article.select_one('div.info > p').text.strip()\n",
    "        contents.append([title, press, category, date])\n",
    "        \n",
    "    # 기사 전문 \n",
    "    for i in range(len(articles)):            \n",
    "        driver.find_elements_by_css_selector('span.title-elipsis')[i].click()\n",
    "        time.sleep(1)                \n",
    "        text = driver.find_elements_by_css_selector('div.news-view-body')[0].text\n",
    "        texts.append(text.replace('\\n', ''))\n",
    "        \n",
    "        driver.find_element_by_xpath(\"//div[@id='news-detail-modal']/div/div/button\").click()\n",
    "        time.sleep(1)\n",
    "            \n",
    "    # 페이지 수 증가\n",
    "    curPage += 1\n",
    "    if curPage > totalPage:\n",
    "        print('Crawling succeed!')\n",
    "        break\n",
    "        \n",
    "    # 페이지 이동 클릭\n",
    "    driver.implicitly_wait(3)      \n",
    "    nextbtn = driver.find_element_by_xpath('//*[@id=\"news-results-tab\"]/div[6]/div[1]/div/div/div/div[4]/a')\n",
    "    driver.execute_script(\"arguments[0].click();\", nextbtn)\n",
    "    \n",
    "    # bs4 인스턴스 삭제\n",
    "    del soup\n",
    "    time.sleep(2)\n",
    "    \n",
    "# 브라우저 종료\n",
    "driver.close() \n",
    "\n",
    "len(contents)"
   ]
  },
  {
   "cell_type": "code",
   "execution_count": 55,
   "id": "832b86b5",
   "metadata": {},
   "outputs": [],
   "source": [
    "df = pd.DataFrame(data=contents, columns =['title', 'press', 'category', 'date'])\n",
    "#df['text'] = texts\n",
    "# 파일 경로 지정\n",
    "# df.to_excel(\"C:/Develops/save/1.xlsx\", index=False)\n",
    "df.to_excel(\"C:/Develops/finalprac/\" + querytxt +\".xlsx\", index=False)"
   ]
  },
  {
   "cell_type": "markdown",
   "id": "0a6a9c91",
   "metadata": {},
   "source": [
    "## 클래스, 함수화"
   ]
  },
  {
   "cell_type": "code",
   "execution_count": 14,
   "id": "e6d43056",
   "metadata": {},
   "outputs": [],
   "source": [
    "from selenium import webdriver\n",
    "from bs4 import BeautifulSoup\n",
    "import requests\n",
    "import pandas as pd\n",
    "import time\n",
    "from selenium.webdriver.chrome.options import Options"
   ]
  },
  {
   "cell_type": "code",
   "execution_count": 64,
   "id": "11e154ef",
   "metadata": {},
   "outputs": [
    {
     "name": "stdout",
     "output_type": "stream",
     "text": [
      "Total Pages :  1\n",
      "Current Page : 1\n",
      "Crawling succeed\n"
     ]
    }
   ],
   "source": [
    "class CRAWL:\n",
    "    def __init__(self):\n",
    "        self.options = Options()\n",
    "        # headless는 화면이나 페이지 이동을 표시하지 않고 동작하는 모드 (브라우저 창 안보이기)\n",
    "        #self.options.add_argument('headless')\n",
    "        self.driver = webdriver.Chrome('C:\\chromedriver.exe', options=self.options) \n",
    "\n",
    "        \n",
    "    def getURL(self,url):\n",
    "        # 빅카인즈 사이트 이동\n",
    "        self.driver.implicitly_wait(2)\n",
    "        self.driver.set_window_size(1300,800)\n",
    "        self.driver.get(url)\n",
    "        # 검색기간 1주일로 설정\n",
    "        self.driver.find_element_by_xpath('//*[@id=\"collapse-step-1-body\"]/div[3]/div/div[1]/div[1]/a').click()\n",
    "        time.sleep(2)\n",
    "        self.driver.find_element_by_xpath('//*[@id=\"srch-tab1\"]/div/div[1]/span[2]').click()\n",
    "        time.sleep(2)\n",
    "\n",
    "\n",
    "    def getPage(self, url, querytxt):\n",
    "        self.getURL(url)\n",
    "        # 검색어 입력\n",
    "        searchbox = self.driver.find_element_by_id(\"total-search-key\")\n",
    "        searchbox.send_keys(querytxt)  \n",
    "        searchbox.send_keys(\"\\n\")  # 검색버튼 엔터\n",
    "        time.sleep(2)    \n",
    "        # 기사 분류 -> 경제로 설정\n",
    "        self.driver.find_element_by_xpath('//*[@id=\"filterTab03\"]/li[2]/span').click()\n",
    "        time.sleep(3)\n",
    "        # 기사 100건 씩 출력\n",
    "        self.driver.find_element_by_xpath('//*[@id=\"select2\"]/option[4]').click()\n",
    "        time.sleep(3)\n",
    "        # 전체 페이지 개수\n",
    "        soup = BeautifulSoup(self.driver.page_source, 'html.parser')\n",
    "        pageNum = soup.select('div.lastNum')[0].text\n",
    "        self.totalPage  = int(pageNum)\n",
    "        del soup\n",
    "        \n",
    "    \n",
    "    def crawling(self, url, querytxt):\n",
    "        self.getPage(url, querytxt)\n",
    "        print('Total Pages : ', self.totalPage)\n",
    "        curPage = 1  # 현재 페이지\n",
    "        self.contents = []\n",
    "        self.texts = []\n",
    "        while curPage <= self.totalPage:\n",
    "            # bs4 초기화\n",
    "            soup = BeautifulSoup(self.driver.page_source, 'html.parser')\n",
    "            # 기사 리스트\n",
    "            articles = soup.select('div.news-inner')\n",
    "            # 페이지 번호 출력\n",
    "            print('Current Page : {}'.format(curPage))\n",
    "            # 세부 데이터\n",
    "            for article in articles:\n",
    "                title = article.select_one('span.title-elipsis').text.strip()\n",
    "                press =  article.select_one('div.info > div > a.provider').text.strip()\n",
    "                category = article.select_one('div.info > div > span.bullet-keyword').text.strip()\n",
    "                date = article.select_one('div.info > p.name').text.strip()\n",
    "                self.contents.append([title, press, category, date])  \n",
    "            # 기사 전문 \n",
    "            for i in range(len(articles)):            \n",
    "                self.driver.find_elements_by_css_selector('span.title-elipsis')[i].click()\n",
    "                time.sleep(2)                \n",
    "                text = self.driver.find_elements_by_css_selector('div.news-view-body')[0].text\n",
    "                self.texts.append(text.replace('\\n', ''))\n",
    "                self.driver.find_element_by_xpath(\"//div[@id='news-detail-modal']/div/div/button\").click()\n",
    "                time.sleep(2)\n",
    "            # 페이지 수 증가\n",
    "            curPage += 1\n",
    "            if curPage > self.totalPage:\n",
    "                print('Crawling succeed')\n",
    "                break    \n",
    "            # 페이지 이동 클릭\n",
    "            self.driver.implicitly_wait(3)      \n",
    "            nextbtn = self.driver.find_element_by_xpath('//*[@id=\"news-results-tab\"]/div[6]/div[1]/div/div/div/div[4]/a')\n",
    "            self.driver.execute_script(\"arguments[0].click();\", nextbtn)\n",
    "            # bs4 인스턴스 삭제\n",
    "            del soup\n",
    "            time.sleep(2)\n",
    "            \n",
    "            \n",
    "    def saving(self, querytxt):\n",
    "        # 브라우저 종료\n",
    "        self.driver.close()\n",
    "        self.df = pd.DataFrame(data=self.contents, columns =['title', 'press', 'category', 'date'])\n",
    "        self.df['text'] = self.texts\n",
    "        self.df.to_excel(\"C:/Develops/finalprac/\" + querytxt +\".xlsx\", index=False)\n",
    "\n",
    "    \n",
    "\n",
    "if __name__ == \"__main__\":\n",
    "    url = 'https://www.bigkinds.or.kr/v2/news/index.do'\n",
    "    querytxt = '오리온'\n",
    "    crawl = CRAWL()\n",
    "    crawl.crawling(url, querytxt)\n",
    "    crawl.saving(querytxt)\n"
   ]
  },
  {
   "cell_type": "code",
   "execution_count": null,
   "id": "b827f3a3",
   "metadata": {},
   "outputs": [],
   "source": []
  },
  {
   "cell_type": "markdown",
   "id": "1f40c2f2",
   "metadata": {},
   "source": [
    "+ 최근 1주일\n",
    "1. 빅카인즈 경제 기사 키워드당 100개만 기져오기\n",
    "2. 매일경제 + 한국경제 기사 가져오기"
   ]
  },
  {
   "cell_type": "code",
   "execution_count": null,
   "id": "c5c16eef",
   "metadata": {},
   "outputs": [],
   "source": [
    "# [제목, 언론사, 분류, 날짜, 기자이름, 기사내용]\n",
    "\n",
    "# contents = [] \n",
    "# for article in articles:\n",
    "#     title = article.select('span.title-elipsis')\n",
    "#     press =  article.select('div.info > div > a')\n",
    "#     category = article.select('div.info > div > span.bullet-keyword')\n",
    "#     date = article.select('div.info > p')\n",
    "#     contents.append([title[0].text.strip(), press[0].text.strip(), category[0].text.strip(), date[0].text.strip(), date[1].text.strip()])\n",
    "\n",
    "# len(contents)"
   ]
  },
  {
   "cell_type": "code",
   "execution_count": null,
   "id": "bd1e5a9c",
   "metadata": {},
   "outputs": [],
   "source": [
    "# 기사 전문 \n",
    "\n",
    "# texts = []\n",
    "# for i in range(0, 100):\n",
    "#     driver.find_elements_by_css_selector('span.title-elipsis')[i].click()\n",
    "#     time.sleep(1)\n",
    "#     text = driver.find_elements_by_css_selector('div.news-view-body')[0].text\n",
    "#     texts.append(text.replace('\\n', ''))\n",
    "#     driver.find_element_by_xpath(\"//div[@id='news-detail-modal']/div/div/button\").click()\n",
    "\n",
    "# len(texts)"
   ]
  },
  {
   "cell_type": "code",
   "execution_count": 7,
   "id": "e63fa66c",
   "metadata": {},
   "outputs": [],
   "source": [
    "# 다음 페이지 넘기기\n",
    "\n",
    "# nextbtn = driver.find_element_by_xpath('//*[@id=\"news-results-tab\"]/div[6]/div[1]/div/div/div/div[4]/a')\n",
    "# browser.execute_script(\"arguments[0].click();\", nextbtn)\n"
   ]
  },
  {
   "cell_type": "code",
   "execution_count": null,
   "id": "ca6a6825",
   "metadata": {},
   "outputs": [],
   "source": []
  }
 ],
 "metadata": {
  "kernelspec": {
   "display_name": "Python 3",
   "language": "python",
   "name": "python3"
  },
  "language_info": {
   "codemirror_mode": {
    "name": "ipython",
    "version": 3
   },
   "file_extension": ".py",
   "mimetype": "text/x-python",
   "name": "python",
   "nbconvert_exporter": "python",
   "pygments_lexer": "ipython3",
   "version": "3.8.8"
  }
 },
 "nbformat": 4,
 "nbformat_minor": 5
}
