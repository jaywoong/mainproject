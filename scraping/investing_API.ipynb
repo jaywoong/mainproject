{
 "cells": [
  {
   "cell_type": "markdown",
   "id": "85f8e905",
   "metadata": {},
   "source": [
    "ATR\tNASDAQ\tS&P\tCBOE\tExchange rate\tfutures2y\tfutures10y\ty"
   ]
  },
  {
   "cell_type": "code",
   "execution_count": 1,
   "id": "7481285c",
   "metadata": {},
   "outputs": [],
   "source": [
    "import FinanceDataReader as fdr"
   ]
  },
  {
   "cell_type": "code",
   "execution_count": 2,
   "id": "4292af68",
   "metadata": {},
   "outputs": [],
   "source": [
    "from datetime import date, timedelta\n",
    "\n",
    "today = date.today().strftime('%Y%m%d')\n",
    "yesterday = (date.today()-timedelta(1)).strftime('%Y%m%d')"
   ]
  },
  {
   "cell_type": "code",
   "execution_count": 3,
   "id": "cbaa56e3",
   "metadata": {},
   "outputs": [
    {
     "data": {
      "text/plain": [
       "'20210927'"
      ]
     },
     "execution_count": 3,
     "metadata": {},
     "output_type": "execute_result"
    }
   ],
   "source": [
    "yesterday"
   ]
  },
  {
   "cell_type": "code",
   "execution_count": 4,
   "id": "1af5701b",
   "metadata": {},
   "outputs": [
    {
     "data": {
      "text/plain": [
       "'2021-09-27'"
      ]
     },
     "execution_count": 4,
     "metadata": {},
     "output_type": "execute_result"
    }
   ],
   "source": [
    "(date.today()-timedelta(1)).strftime('%Y-%m-%d')"
   ]
  },
  {
   "cell_type": "code",
   "execution_count": 5,
   "id": "52ba02f6",
   "metadata": {},
   "outputs": [
    {
     "data": {
      "text/html": [
       "<div>\n",
       "<style scoped>\n",
       "    .dataframe tbody tr th:only-of-type {\n",
       "        vertical-align: middle;\n",
       "    }\n",
       "\n",
       "    .dataframe tbody tr th {\n",
       "        vertical-align: top;\n",
       "    }\n",
       "\n",
       "    .dataframe thead th {\n",
       "        text-align: right;\n",
       "    }\n",
       "</style>\n",
       "<table border=\"1\" class=\"dataframe\">\n",
       "  <thead>\n",
       "    <tr style=\"text-align: right;\">\n",
       "      <th></th>\n",
       "      <th>NASDAQCOM</th>\n",
       "    </tr>\n",
       "    <tr>\n",
       "      <th>DATE</th>\n",
       "      <th></th>\n",
       "    </tr>\n",
       "  </thead>\n",
       "  <tbody>\n",
       "    <tr>\n",
       "      <th>2021-09-21</th>\n",
       "      <td>14746.40</td>\n",
       "    </tr>\n",
       "    <tr>\n",
       "      <th>2021-09-22</th>\n",
       "      <td>14896.85</td>\n",
       "    </tr>\n",
       "    <tr>\n",
       "      <th>2021-09-23</th>\n",
       "      <td>15052.24</td>\n",
       "    </tr>\n",
       "    <tr>\n",
       "      <th>2021-09-24</th>\n",
       "      <td>15047.70</td>\n",
       "    </tr>\n",
       "  </tbody>\n",
       "</table>\n",
       "</div>"
      ],
      "text/plain": [
       "            NASDAQCOM\n",
       "DATE                 \n",
       "2021-09-21   14746.40\n",
       "2021-09-22   14896.85\n",
       "2021-09-23   15052.24\n",
       "2021-09-24   15047.70"
      ]
     },
     "execution_count": 5,
     "metadata": {},
     "output_type": "execute_result"
    }
   ],
   "source": [
    "nasdaq = fdr.DataReader('NASDAQCOM', start='2021-09-21', data_source='fred')\n",
    "nasdaq"
   ]
  },
  {
   "cell_type": "code",
   "execution_count": 6,
   "id": "c46434f6",
   "metadata": {},
   "outputs": [
    {
     "data": {
      "text/html": [
       "<div>\n",
       "<style scoped>\n",
       "    .dataframe tbody tr th:only-of-type {\n",
       "        vertical-align: middle;\n",
       "    }\n",
       "\n",
       "    .dataframe tbody tr th {\n",
       "        vertical-align: top;\n",
       "    }\n",
       "\n",
       "    .dataframe thead th {\n",
       "        text-align: right;\n",
       "    }\n",
       "</style>\n",
       "<table border=\"1\" class=\"dataframe\">\n",
       "  <thead>\n",
       "    <tr style=\"text-align: right;\">\n",
       "      <th></th>\n",
       "      <th>Close</th>\n",
       "      <th>Open</th>\n",
       "      <th>High</th>\n",
       "      <th>Low</th>\n",
       "      <th>Volume</th>\n",
       "      <th>Change</th>\n",
       "    </tr>\n",
       "    <tr>\n",
       "      <th>Date</th>\n",
       "      <th></th>\n",
       "      <th></th>\n",
       "      <th></th>\n",
       "      <th></th>\n",
       "      <th></th>\n",
       "      <th></th>\n",
       "    </tr>\n",
       "  </thead>\n",
       "  <tbody>\n",
       "    <tr>\n",
       "      <th>2021-09-27</th>\n",
       "      <td>4443.11</td>\n",
       "      <td>4442.12</td>\n",
       "      <td>4457.3</td>\n",
       "      <td>4436.19</td>\n",
       "      <td>0.0</td>\n",
       "      <td>-0.0028</td>\n",
       "    </tr>\n",
       "  </tbody>\n",
       "</table>\n",
       "</div>"
      ],
      "text/plain": [
       "              Close     Open    High      Low  Volume  Change\n",
       "Date                                                         \n",
       "2021-09-27  4443.11  4442.12  4457.3  4436.19     0.0 -0.0028"
      ]
     },
     "execution_count": 6,
     "metadata": {},
     "output_type": "execute_result"
    }
   ],
   "source": [
    "sp500 = fdr.DataReader('US500', yesterday, today)\n",
    "sp500"
   ]
  },
  {
   "cell_type": "code",
   "execution_count": 7,
   "id": "c3db9d64",
   "metadata": {},
   "outputs": [
    {
     "data": {
      "text/html": [
       "<div>\n",
       "<style scoped>\n",
       "    .dataframe tbody tr th:only-of-type {\n",
       "        vertical-align: middle;\n",
       "    }\n",
       "\n",
       "    .dataframe tbody tr th {\n",
       "        vertical-align: top;\n",
       "    }\n",
       "\n",
       "    .dataframe thead th {\n",
       "        text-align: right;\n",
       "    }\n",
       "</style>\n",
       "<table border=\"1\" class=\"dataframe\">\n",
       "  <thead>\n",
       "    <tr style=\"text-align: right;\">\n",
       "      <th></th>\n",
       "      <th>S&amp;P</th>\n",
       "    </tr>\n",
       "    <tr>\n",
       "      <th>Date</th>\n",
       "      <th></th>\n",
       "    </tr>\n",
       "  </thead>\n",
       "  <tbody>\n",
       "    <tr>\n",
       "      <th>2021-09-27</th>\n",
       "      <td>4443.11</td>\n",
       "    </tr>\n",
       "  </tbody>\n",
       "</table>\n",
       "</div>"
      ],
      "text/plain": [
       "                S&P\n",
       "Date               \n",
       "2021-09-27  4443.11"
      ]
     },
     "execution_count": 7,
     "metadata": {},
     "output_type": "execute_result"
    }
   ],
   "source": [
    "sp500 = sp500[['Close']].rename(columns={'Close':'S&P'})\n",
    "sp500"
   ]
  },
  {
   "cell_type": "code",
   "execution_count": 8,
   "id": "e34dc6fa",
   "metadata": {},
   "outputs": [
    {
     "data": {
      "text/html": [
       "<div>\n",
       "<style scoped>\n",
       "    .dataframe tbody tr th:only-of-type {\n",
       "        vertical-align: middle;\n",
       "    }\n",
       "\n",
       "    .dataframe tbody tr th {\n",
       "        vertical-align: top;\n",
       "    }\n",
       "\n",
       "    .dataframe thead th {\n",
       "        text-align: right;\n",
       "    }\n",
       "</style>\n",
       "<table border=\"1\" class=\"dataframe\">\n",
       "  <thead>\n",
       "    <tr style=\"text-align: right;\">\n",
       "      <th></th>\n",
       "      <th>Close</th>\n",
       "      <th>Open</th>\n",
       "      <th>High</th>\n",
       "      <th>Low</th>\n",
       "      <th>Volume</th>\n",
       "      <th>Change</th>\n",
       "    </tr>\n",
       "    <tr>\n",
       "      <th>Date</th>\n",
       "      <th></th>\n",
       "      <th></th>\n",
       "      <th></th>\n",
       "      <th></th>\n",
       "      <th></th>\n",
       "      <th></th>\n",
       "    </tr>\n",
       "  </thead>\n",
       "  <tbody>\n",
       "    <tr>\n",
       "      <th>2021-09-27</th>\n",
       "      <td>18.76</td>\n",
       "      <td>17.78</td>\n",
       "      <td>19.32</td>\n",
       "      <td>17.74</td>\n",
       "      <td>0.0</td>\n",
       "      <td>0.0569</td>\n",
       "    </tr>\n",
       "    <tr>\n",
       "      <th>2021-09-28</th>\n",
       "      <td>18.76</td>\n",
       "      <td>18.76</td>\n",
       "      <td>18.76</td>\n",
       "      <td>18.76</td>\n",
       "      <td>0.0</td>\n",
       "      <td>0.0000</td>\n",
       "    </tr>\n",
       "  </tbody>\n",
       "</table>\n",
       "</div>"
      ],
      "text/plain": [
       "            Close   Open   High    Low  Volume  Change\n",
       "Date                                                  \n",
       "2021-09-27  18.76  17.78  19.32  17.74     0.0  0.0569\n",
       "2021-09-28  18.76  18.76  18.76  18.76     0.0  0.0000"
      ]
     },
     "execution_count": 8,
     "metadata": {},
     "output_type": "execute_result"
    }
   ],
   "source": [
    "cboe = fdr.DataReader('VIX', yesterday, today) # S&P 500 VIX\n",
    "cboe.head()"
   ]
  },
  {
   "cell_type": "code",
   "execution_count": 9,
   "id": "09b8f308",
   "metadata": {},
   "outputs": [
    {
     "data": {
      "text/html": [
       "<div>\n",
       "<style scoped>\n",
       "    .dataframe tbody tr th:only-of-type {\n",
       "        vertical-align: middle;\n",
       "    }\n",
       "\n",
       "    .dataframe tbody tr th {\n",
       "        vertical-align: top;\n",
       "    }\n",
       "\n",
       "    .dataframe thead th {\n",
       "        text-align: right;\n",
       "    }\n",
       "</style>\n",
       "<table border=\"1\" class=\"dataframe\">\n",
       "  <thead>\n",
       "    <tr style=\"text-align: right;\">\n",
       "      <th></th>\n",
       "      <th>CBOE</th>\n",
       "    </tr>\n",
       "    <tr>\n",
       "      <th>Date</th>\n",
       "      <th></th>\n",
       "    </tr>\n",
       "  </thead>\n",
       "  <tbody>\n",
       "    <tr>\n",
       "      <th>2021-09-27</th>\n",
       "      <td>18.76</td>\n",
       "    </tr>\n",
       "    <tr>\n",
       "      <th>2021-09-28</th>\n",
       "      <td>18.76</td>\n",
       "    </tr>\n",
       "  </tbody>\n",
       "</table>\n",
       "</div>"
      ],
      "text/plain": [
       "             CBOE\n",
       "Date             \n",
       "2021-09-27  18.76\n",
       "2021-09-28  18.76"
      ]
     },
     "execution_count": 9,
     "metadata": {},
     "output_type": "execute_result"
    }
   ],
   "source": [
    "cboe = cboe[['Close']]\n",
    "cboe.rename(columns={'Close':'CBOE'})"
   ]
  },
  {
   "cell_type": "code",
   "execution_count": 10,
   "id": "ca9c83e6",
   "metadata": {
    "scrolled": true
   },
   "outputs": [
    {
     "data": {
      "text/html": [
       "<div>\n",
       "<style scoped>\n",
       "    .dataframe tbody tr th:only-of-type {\n",
       "        vertical-align: middle;\n",
       "    }\n",
       "\n",
       "    .dataframe tbody tr th {\n",
       "        vertical-align: top;\n",
       "    }\n",
       "\n",
       "    .dataframe thead th {\n",
       "        text-align: right;\n",
       "    }\n",
       "</style>\n",
       "<table border=\"1\" class=\"dataframe\">\n",
       "  <thead>\n",
       "    <tr style=\"text-align: right;\">\n",
       "      <th></th>\n",
       "      <th>Close</th>\n",
       "      <th>Open</th>\n",
       "      <th>High</th>\n",
       "      <th>Low</th>\n",
       "      <th>Change</th>\n",
       "    </tr>\n",
       "    <tr>\n",
       "      <th>Date</th>\n",
       "      <th></th>\n",
       "      <th></th>\n",
       "      <th></th>\n",
       "      <th></th>\n",
       "      <th></th>\n",
       "    </tr>\n",
       "  </thead>\n",
       "  <tbody>\n",
       "    <tr>\n",
       "      <th>2021-09-27</th>\n",
       "      <td>1177.94</td>\n",
       "      <td>1179.95</td>\n",
       "      <td>1182.46</td>\n",
       "      <td>1173.98</td>\n",
       "      <td>-0.0015</td>\n",
       "    </tr>\n",
       "    <tr>\n",
       "      <th>2021-09-28</th>\n",
       "      <td>1181.79</td>\n",
       "      <td>1178.28</td>\n",
       "      <td>1183.89</td>\n",
       "      <td>1178.28</td>\n",
       "      <td>0.0033</td>\n",
       "    </tr>\n",
       "  </tbody>\n",
       "</table>\n",
       "</div>"
      ],
      "text/plain": [
       "              Close     Open     High      Low  Change\n",
       "Date                                                  \n",
       "2021-09-27  1177.94  1179.95  1182.46  1173.98 -0.0015\n",
       "2021-09-28  1181.79  1178.28  1183.89  1178.28  0.0033"
      ]
     },
     "execution_count": 10,
     "metadata": {},
     "output_type": "execute_result"
    }
   ],
   "source": [
    "rate = fdr.DataReader('USD/KRW', yesterday, today)\n",
    "rate"
   ]
  },
  {
   "cell_type": "code",
   "execution_count": 11,
   "id": "67a79ebc",
   "metadata": {},
   "outputs": [
    {
     "data": {
      "text/html": [
       "<div>\n",
       "<style scoped>\n",
       "    .dataframe tbody tr th:only-of-type {\n",
       "        vertical-align: middle;\n",
       "    }\n",
       "\n",
       "    .dataframe tbody tr th {\n",
       "        vertical-align: top;\n",
       "    }\n",
       "\n",
       "    .dataframe thead th {\n",
       "        text-align: right;\n",
       "    }\n",
       "</style>\n",
       "<table border=\"1\" class=\"dataframe\">\n",
       "  <thead>\n",
       "    <tr style=\"text-align: right;\">\n",
       "      <th></th>\n",
       "      <th>Date</th>\n",
       "      <th>Close</th>\n",
       "      <th>Open</th>\n",
       "      <th>High</th>\n",
       "      <th>Low</th>\n",
       "      <th>Change</th>\n",
       "    </tr>\n",
       "  </thead>\n",
       "  <tbody>\n",
       "    <tr>\n",
       "      <th>0</th>\n",
       "      <td>2021-09-27</td>\n",
       "      <td>1177.94</td>\n",
       "      <td>1179.95</td>\n",
       "      <td>1182.46</td>\n",
       "      <td>1173.98</td>\n",
       "      <td>-0.0015</td>\n",
       "    </tr>\n",
       "    <tr>\n",
       "      <th>1</th>\n",
       "      <td>2021-09-28</td>\n",
       "      <td>1181.79</td>\n",
       "      <td>1178.28</td>\n",
       "      <td>1183.89</td>\n",
       "      <td>1178.28</td>\n",
       "      <td>0.0033</td>\n",
       "    </tr>\n",
       "  </tbody>\n",
       "</table>\n",
       "</div>"
      ],
      "text/plain": [
       "        Date    Close     Open     High      Low  Change\n",
       "0 2021-09-27  1177.94  1179.95  1182.46  1173.98 -0.0015\n",
       "1 2021-09-28  1181.79  1178.28  1183.89  1178.28  0.0033"
      ]
     },
     "execution_count": 11,
     "metadata": {},
     "output_type": "execute_result"
    }
   ],
   "source": [
    "tmp = rate.reset_index()\n",
    "tmp"
   ]
  },
  {
   "cell_type": "markdown",
   "id": "5b33165e",
   "metadata": {},
   "source": [
    "# 함수화"
   ]
  },
  {
   "cell_type": "code",
   "execution_count": 12,
   "id": "35f9a8ad",
   "metadata": {},
   "outputs": [
    {
     "name": "stdout",
     "output_type": "stream",
     "text": [
      "                 sp   cboe  exchangerate\n",
      "date                                    \n",
      "2021-09-27  4443.11  18.76       1177.94\n",
      "2021-09-28      NaN  18.76       1181.79\n"
     ]
    }
   ],
   "source": [
    "import pandas as pd\n",
    "import sqlite3\n",
    "import FinanceDataReader as fdr\n",
    "from datetime import date, timedelta\n",
    "\n",
    "\n",
    "class INVESTING:\n",
    "    def getDate(self):\n",
    "        self.end = date.today().strftime('%Y%m%d')  # 오늘\n",
    "        self.start = (date.today() - timedelta(1)).strftime('%Y%m%d')  # 어제\n",
    "\n",
    "    def getStock(self):\n",
    "        self.sp500 = fdr.DataReader('US500', yesterday, today)\n",
    "        self.sp500 = self.sp500[['Close']]\n",
    "\n",
    "        self.cboe = fdr.DataReader('VIX', yesterday, today)\n",
    "        self.cboe = self.cboe[['Close']]\n",
    "\n",
    "        self.rate = fdr.DataReader('USD/KRW', yesterday, today)\n",
    "        self.rate  = self.rate[['Close']]\n",
    "\n",
    "    def saving(self):\n",
    "        self.df = pd.concat([self.sp500, self.cboe, self.rate], axis=1)\n",
    "        self.df_invest = self.df.reset_index()\n",
    "        self.df_invest.columns=['date', 'sp', 'cboe', 'exchangerate']\n",
    "        self.df_invest = self.df_invest.set_index('date')\n",
    "        print(self.df_invest)\n",
    "#         self.df.to_sql('samsung', conn, if_exists='append')\n",
    "#         conn.commit()  # db에 저장\n",
    "\n",
    "\n",
    "\n",
    "if __name__ == \"__main__\":\n",
    "    \n",
    "    invest = INVESTING()\n",
    "    invest.getDate()\n",
    "    invest.getStock()\n",
    "    invest.saving()"
   ]
  },
  {
   "cell_type": "code",
   "execution_count": null,
   "id": "d710184f",
   "metadata": {},
   "outputs": [],
   "source": []
  }
 ],
 "metadata": {
  "kernelspec": {
   "display_name": "Python 3",
   "language": "python",
   "name": "python3"
  },
  "language_info": {
   "codemirror_mode": {
    "name": "ipython",
    "version": 3
   },
   "file_extension": ".py",
   "mimetype": "text/x-python",
   "name": "python",
   "nbconvert_exporter": "python",
   "pygments_lexer": "ipython3",
   "version": "3.8.8"
  }
 },
 "nbformat": 4,
 "nbformat_minor": 5
}
