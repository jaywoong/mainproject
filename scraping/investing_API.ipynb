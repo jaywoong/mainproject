{
 "cells": [
  {
   "cell_type": "markdown",
   "id": "85f8e905",
   "metadata": {},
   "source": [
    "ATR\tNASDAQ\tS&P\tCBOE\tExchange rate\tfutures2y\tfutures10y\ty"
   ]
  },
  {
   "cell_type": "code",
   "execution_count": 1,
   "id": "7481285c",
   "metadata": {},
   "outputs": [],
   "source": [
    "import FinanceDataReader as fdr"
   ]
  },
  {
   "cell_type": "code",
   "execution_count": 2,
   "id": "4292af68",
   "metadata": {},
   "outputs": [],
   "source": [
    "from datetime import date, timedelta\n",
    "\n",
    "today = date.today().strftime('%Y%m%d')\n",
    "yesterday = (date.today()-timedelta(1)).strftime('%Y%m%d')"
   ]
  },
  {
   "cell_type": "code",
   "execution_count": 3,
   "id": "cbaa56e3",
   "metadata": {},
   "outputs": [
    {
     "data": {
      "text/plain": [
       "'20210928'"
      ]
     },
     "execution_count": 3,
     "metadata": {},
     "output_type": "execute_result"
    }
   ],
   "source": [
    "yesterday"
   ]
  },
  {
   "cell_type": "code",
   "execution_count": 4,
   "id": "1af5701b",
   "metadata": {},
   "outputs": [
    {
     "data": {
      "text/plain": [
       "'2021-09-28'"
      ]
     },
     "execution_count": 4,
     "metadata": {},
     "output_type": "execute_result"
    }
   ],
   "source": [
    "(date.today()-timedelta(1)).strftime('%Y-%m-%d')"
   ]
  },
  {
   "cell_type": "code",
   "execution_count": 5,
   "id": "52ba02f6",
   "metadata": {},
   "outputs": [
    {
     "data": {
      "text/html": [
       "<div>\n",
       "<style scoped>\n",
       "    .dataframe tbody tr th:only-of-type {\n",
       "        vertical-align: middle;\n",
       "    }\n",
       "\n",
       "    .dataframe tbody tr th {\n",
       "        vertical-align: top;\n",
       "    }\n",
       "\n",
       "    .dataframe thead th {\n",
       "        text-align: right;\n",
       "    }\n",
       "</style>\n",
       "<table border=\"1\" class=\"dataframe\">\n",
       "  <thead>\n",
       "    <tr style=\"text-align: right;\">\n",
       "      <th></th>\n",
       "      <th>NASDAQCOM</th>\n",
       "    </tr>\n",
       "    <tr>\n",
       "      <th>DATE</th>\n",
       "      <th></th>\n",
       "    </tr>\n",
       "  </thead>\n",
       "  <tbody>\n",
       "    <tr>\n",
       "      <th>2021-09-21</th>\n",
       "      <td>14746.40</td>\n",
       "    </tr>\n",
       "    <tr>\n",
       "      <th>2021-09-22</th>\n",
       "      <td>14896.85</td>\n",
       "    </tr>\n",
       "    <tr>\n",
       "      <th>2021-09-23</th>\n",
       "      <td>15052.24</td>\n",
       "    </tr>\n",
       "    <tr>\n",
       "      <th>2021-09-24</th>\n",
       "      <td>15047.70</td>\n",
       "    </tr>\n",
       "    <tr>\n",
       "      <th>2021-09-27</th>\n",
       "      <td>14969.97</td>\n",
       "    </tr>\n",
       "  </tbody>\n",
       "</table>\n",
       "</div>"
      ],
      "text/plain": [
       "            NASDAQCOM\n",
       "DATE                 \n",
       "2021-09-21   14746.40\n",
       "2021-09-22   14896.85\n",
       "2021-09-23   15052.24\n",
       "2021-09-24   15047.70\n",
       "2021-09-27   14969.97"
      ]
     },
     "execution_count": 5,
     "metadata": {},
     "output_type": "execute_result"
    }
   ],
   "source": [
    "nasdaq = fdr.DataReader('NASDAQCOM', start='2021-09-21', data_source='fred')\n",
    "nasdaq"
   ]
  },
  {
   "cell_type": "code",
   "execution_count": 6,
   "id": "c46434f6",
   "metadata": {},
   "outputs": [
    {
     "data": {
      "text/html": [
       "<div>\n",
       "<style scoped>\n",
       "    .dataframe tbody tr th:only-of-type {\n",
       "        vertical-align: middle;\n",
       "    }\n",
       "\n",
       "    .dataframe tbody tr th {\n",
       "        vertical-align: top;\n",
       "    }\n",
       "\n",
       "    .dataframe thead th {\n",
       "        text-align: right;\n",
       "    }\n",
       "</style>\n",
       "<table border=\"1\" class=\"dataframe\">\n",
       "  <thead>\n",
       "    <tr style=\"text-align: right;\">\n",
       "      <th></th>\n",
       "      <th>Close</th>\n",
       "      <th>Open</th>\n",
       "      <th>High</th>\n",
       "      <th>Low</th>\n",
       "      <th>Volume</th>\n",
       "      <th>Change</th>\n",
       "    </tr>\n",
       "    <tr>\n",
       "      <th>Date</th>\n",
       "      <th></th>\n",
       "      <th></th>\n",
       "      <th></th>\n",
       "      <th></th>\n",
       "      <th></th>\n",
       "      <th></th>\n",
       "    </tr>\n",
       "  </thead>\n",
       "  <tbody>\n",
       "    <tr>\n",
       "      <th>2021-09-28</th>\n",
       "      <td>4352.63</td>\n",
       "      <td>4419.54</td>\n",
       "      <td>4419.54</td>\n",
       "      <td>4346.33</td>\n",
       "      <td>0.0</td>\n",
       "      <td>-0.0204</td>\n",
       "    </tr>\n",
       "  </tbody>\n",
       "</table>\n",
       "</div>"
      ],
      "text/plain": [
       "              Close     Open     High      Low  Volume  Change\n",
       "Date                                                          \n",
       "2021-09-28  4352.63  4419.54  4419.54  4346.33     0.0 -0.0204"
      ]
     },
     "execution_count": 6,
     "metadata": {},
     "output_type": "execute_result"
    }
   ],
   "source": [
    "sp500 = fdr.DataReader('US500', yesterday, today)\n",
    "sp500"
   ]
  },
  {
   "cell_type": "code",
   "execution_count": 7,
   "id": "c3db9d64",
   "metadata": {},
   "outputs": [
    {
     "data": {
      "text/html": [
       "<div>\n",
       "<style scoped>\n",
       "    .dataframe tbody tr th:only-of-type {\n",
       "        vertical-align: middle;\n",
       "    }\n",
       "\n",
       "    .dataframe tbody tr th {\n",
       "        vertical-align: top;\n",
       "    }\n",
       "\n",
       "    .dataframe thead th {\n",
       "        text-align: right;\n",
       "    }\n",
       "</style>\n",
       "<table border=\"1\" class=\"dataframe\">\n",
       "  <thead>\n",
       "    <tr style=\"text-align: right;\">\n",
       "      <th></th>\n",
       "      <th>S&amp;P</th>\n",
       "    </tr>\n",
       "    <tr>\n",
       "      <th>Date</th>\n",
       "      <th></th>\n",
       "    </tr>\n",
       "  </thead>\n",
       "  <tbody>\n",
       "    <tr>\n",
       "      <th>2021-09-28</th>\n",
       "      <td>4352.63</td>\n",
       "    </tr>\n",
       "  </tbody>\n",
       "</table>\n",
       "</div>"
      ],
      "text/plain": [
       "                S&P\n",
       "Date               \n",
       "2021-09-28  4352.63"
      ]
     },
     "execution_count": 7,
     "metadata": {},
     "output_type": "execute_result"
    }
   ],
   "source": [
    "sp500 = sp500[['Close']].rename(columns={'Close':'S&P'})\n",
    "sp500"
   ]
  },
  {
   "cell_type": "code",
   "execution_count": 8,
   "id": "e34dc6fa",
   "metadata": {},
   "outputs": [
    {
     "data": {
      "text/html": [
       "<div>\n",
       "<style scoped>\n",
       "    .dataframe tbody tr th:only-of-type {\n",
       "        vertical-align: middle;\n",
       "    }\n",
       "\n",
       "    .dataframe tbody tr th {\n",
       "        vertical-align: top;\n",
       "    }\n",
       "\n",
       "    .dataframe thead th {\n",
       "        text-align: right;\n",
       "    }\n",
       "</style>\n",
       "<table border=\"1\" class=\"dataframe\">\n",
       "  <thead>\n",
       "    <tr style=\"text-align: right;\">\n",
       "      <th></th>\n",
       "      <th>Close</th>\n",
       "      <th>Open</th>\n",
       "      <th>High</th>\n",
       "      <th>Low</th>\n",
       "      <th>Volume</th>\n",
       "      <th>Change</th>\n",
       "    </tr>\n",
       "    <tr>\n",
       "      <th>Date</th>\n",
       "      <th></th>\n",
       "      <th></th>\n",
       "      <th></th>\n",
       "      <th></th>\n",
       "      <th></th>\n",
       "      <th></th>\n",
       "    </tr>\n",
       "  </thead>\n",
       "  <tbody>\n",
       "    <tr>\n",
       "      <th>2021-09-28</th>\n",
       "      <td>23.25</td>\n",
       "      <td>18.76</td>\n",
       "      <td>24.82</td>\n",
       "      <td>18.76</td>\n",
       "      <td>0.0</td>\n",
       "      <td>0.2393</td>\n",
       "    </tr>\n",
       "    <tr>\n",
       "      <th>2021-09-29</th>\n",
       "      <td>23.25</td>\n",
       "      <td>23.25</td>\n",
       "      <td>23.25</td>\n",
       "      <td>23.25</td>\n",
       "      <td>0.0</td>\n",
       "      <td>0.0000</td>\n",
       "    </tr>\n",
       "  </tbody>\n",
       "</table>\n",
       "</div>"
      ],
      "text/plain": [
       "            Close   Open   High    Low  Volume  Change\n",
       "Date                                                  \n",
       "2021-09-28  23.25  18.76  24.82  18.76     0.0  0.2393\n",
       "2021-09-29  23.25  23.25  23.25  23.25     0.0  0.0000"
      ]
     },
     "execution_count": 8,
     "metadata": {},
     "output_type": "execute_result"
    }
   ],
   "source": [
    "cboe = fdr.DataReader('VIX', yesterday, today) # S&P 500 VIX\n",
    "cboe.head()"
   ]
  },
  {
   "cell_type": "code",
   "execution_count": 9,
   "id": "09b8f308",
   "metadata": {},
   "outputs": [
    {
     "data": {
      "text/html": [
       "<div>\n",
       "<style scoped>\n",
       "    .dataframe tbody tr th:only-of-type {\n",
       "        vertical-align: middle;\n",
       "    }\n",
       "\n",
       "    .dataframe tbody tr th {\n",
       "        vertical-align: top;\n",
       "    }\n",
       "\n",
       "    .dataframe thead th {\n",
       "        text-align: right;\n",
       "    }\n",
       "</style>\n",
       "<table border=\"1\" class=\"dataframe\">\n",
       "  <thead>\n",
       "    <tr style=\"text-align: right;\">\n",
       "      <th></th>\n",
       "      <th>CBOE</th>\n",
       "    </tr>\n",
       "    <tr>\n",
       "      <th>Date</th>\n",
       "      <th></th>\n",
       "    </tr>\n",
       "  </thead>\n",
       "  <tbody>\n",
       "    <tr>\n",
       "      <th>2021-09-28</th>\n",
       "      <td>23.25</td>\n",
       "    </tr>\n",
       "    <tr>\n",
       "      <th>2021-09-29</th>\n",
       "      <td>23.25</td>\n",
       "    </tr>\n",
       "  </tbody>\n",
       "</table>\n",
       "</div>"
      ],
      "text/plain": [
       "             CBOE\n",
       "Date             \n",
       "2021-09-28  23.25\n",
       "2021-09-29  23.25"
      ]
     },
     "execution_count": 9,
     "metadata": {},
     "output_type": "execute_result"
    }
   ],
   "source": [
    "cboe = cboe[['Close']]\n",
    "cboe.rename(columns={'Close':'CBOE'})"
   ]
  },
  {
   "cell_type": "code",
   "execution_count": 10,
   "id": "ca9c83e6",
   "metadata": {
    "scrolled": true
   },
   "outputs": [
    {
     "data": {
      "text/html": [
       "<div>\n",
       "<style scoped>\n",
       "    .dataframe tbody tr th:only-of-type {\n",
       "        vertical-align: middle;\n",
       "    }\n",
       "\n",
       "    .dataframe tbody tr th {\n",
       "        vertical-align: top;\n",
       "    }\n",
       "\n",
       "    .dataframe thead th {\n",
       "        text-align: right;\n",
       "    }\n",
       "</style>\n",
       "<table border=\"1\" class=\"dataframe\">\n",
       "  <thead>\n",
       "    <tr style=\"text-align: right;\">\n",
       "      <th></th>\n",
       "      <th>Close</th>\n",
       "      <th>Open</th>\n",
       "      <th>High</th>\n",
       "      <th>Low</th>\n",
       "      <th>Change</th>\n",
       "    </tr>\n",
       "    <tr>\n",
       "      <th>Date</th>\n",
       "      <th></th>\n",
       "      <th></th>\n",
       "      <th></th>\n",
       "      <th></th>\n",
       "      <th></th>\n",
       "    </tr>\n",
       "  </thead>\n",
       "  <tbody>\n",
       "    <tr>\n",
       "      <th>2021-09-28</th>\n",
       "      <td>1187.16</td>\n",
       "      <td>1177.09</td>\n",
       "      <td>1188.67</td>\n",
       "      <td>1176.37</td>\n",
       "      <td>0.0078</td>\n",
       "    </tr>\n",
       "    <tr>\n",
       "      <th>2021-09-29</th>\n",
       "      <td>1184.75</td>\n",
       "      <td>1187.94</td>\n",
       "      <td>1188.50</td>\n",
       "      <td>1184.24</td>\n",
       "      <td>-0.0020</td>\n",
       "    </tr>\n",
       "  </tbody>\n",
       "</table>\n",
       "</div>"
      ],
      "text/plain": [
       "              Close     Open     High      Low  Change\n",
       "Date                                                  \n",
       "2021-09-28  1187.16  1177.09  1188.67  1176.37  0.0078\n",
       "2021-09-29  1184.75  1187.94  1188.50  1184.24 -0.0020"
      ]
     },
     "execution_count": 10,
     "metadata": {},
     "output_type": "execute_result"
    }
   ],
   "source": [
    "rate = fdr.DataReader('USD/KRW', yesterday, today)\n",
    "rate"
   ]
  },
  {
   "cell_type": "code",
   "execution_count": 11,
   "id": "67a79ebc",
   "metadata": {},
   "outputs": [
    {
     "data": {
      "text/html": [
       "<div>\n",
       "<style scoped>\n",
       "    .dataframe tbody tr th:only-of-type {\n",
       "        vertical-align: middle;\n",
       "    }\n",
       "\n",
       "    .dataframe tbody tr th {\n",
       "        vertical-align: top;\n",
       "    }\n",
       "\n",
       "    .dataframe thead th {\n",
       "        text-align: right;\n",
       "    }\n",
       "</style>\n",
       "<table border=\"1\" class=\"dataframe\">\n",
       "  <thead>\n",
       "    <tr style=\"text-align: right;\">\n",
       "      <th></th>\n",
       "      <th>Date</th>\n",
       "      <th>Close</th>\n",
       "      <th>Open</th>\n",
       "      <th>High</th>\n",
       "      <th>Low</th>\n",
       "      <th>Change</th>\n",
       "    </tr>\n",
       "  </thead>\n",
       "  <tbody>\n",
       "    <tr>\n",
       "      <th>0</th>\n",
       "      <td>2021-09-28</td>\n",
       "      <td>1187.16</td>\n",
       "      <td>1177.09</td>\n",
       "      <td>1188.67</td>\n",
       "      <td>1176.37</td>\n",
       "      <td>0.0078</td>\n",
       "    </tr>\n",
       "    <tr>\n",
       "      <th>1</th>\n",
       "      <td>2021-09-29</td>\n",
       "      <td>1184.75</td>\n",
       "      <td>1187.94</td>\n",
       "      <td>1188.50</td>\n",
       "      <td>1184.24</td>\n",
       "      <td>-0.0020</td>\n",
       "    </tr>\n",
       "  </tbody>\n",
       "</table>\n",
       "</div>"
      ],
      "text/plain": [
       "        Date    Close     Open     High      Low  Change\n",
       "0 2021-09-28  1187.16  1177.09  1188.67  1176.37  0.0078\n",
       "1 2021-09-29  1184.75  1187.94  1188.50  1184.24 -0.0020"
      ]
     },
     "execution_count": 11,
     "metadata": {},
     "output_type": "execute_result"
    }
   ],
   "source": [
    "tmp = rate.reset_index()\n",
    "tmp"
   ]
  },
  {
   "cell_type": "markdown",
   "id": "5b33165e",
   "metadata": {},
   "source": [
    "# 함수화"
   ]
  },
  {
   "cell_type": "code",
   "execution_count": 12,
   "id": "35f9a8ad",
   "metadata": {},
   "outputs": [
    {
     "name": "stdout",
     "output_type": "stream",
     "text": [
      "                 sp   cboe  exchangerate\n",
      "date                                    \n",
      "2021-09-28  4352.63  23.25       1187.16\n",
      "2021-09-29      NaN  23.25       1184.83\n"
     ]
    }
   ],
   "source": [
    "import pandas as pd\n",
    "import sqlite3\n",
    "import FinanceDataReader as fdr\n",
    "from datetime import date, timedelta\n",
    "\n",
    "\n",
    "class INVESTING:\n",
    "    def getDate(self):\n",
    "        self.end = date.today().strftime('%Y%m%d')  # 오늘\n",
    "        self.start = (date.today() - timedelta(1)).strftime('%Y%m%d')  # 어제\n",
    "\n",
    "    def getStock(self):\n",
    "        self.sp500 = fdr.DataReader('US500', yesterday, today)\n",
    "        self.sp500 = self.sp500[['Close']]\n",
    "\n",
    "        self.cboe = fdr.DataReader('VIX', yesterday, today)\n",
    "        self.cboe = self.cboe[['Close']]\n",
    "\n",
    "        self.rate = fdr.DataReader('USD/KRW', yesterday, today)\n",
    "        self.rate  = self.rate[['Close']]\n",
    "\n",
    "    def saving(self):\n",
    "        self.df = pd.concat([self.sp500, self.cboe, self.rate], axis=1)\n",
    "        self.df_invest = self.df.reset_index()\n",
    "        self.df_invest.columns=['date', 'sp', 'cboe', 'exchangerate']\n",
    "        self.df_invest = self.df_invest.set_index('date')\n",
    "        print(self.df_invest)\n",
    "#         self.df.to_sql('samsung', conn, if_exists='append')\n",
    "#         conn.commit()  # db에 저장\n",
    "\n",
    "\n",
    "\n",
    "if __name__ == \"__main__\":\n",
    "    \n",
    "    invest = INVESTING()\n",
    "    invest.getDate()\n",
    "    invest.getStock()\n",
    "    invest.saving()"
   ]
  }
 ],
 "metadata": {
  "kernelspec": {
   "display_name": "Python 3",
   "language": "python",
   "name": "python3"
  },
  "language_info": {
   "codemirror_mode": {
    "name": "ipython",
    "version": 3
   },
   "file_extension": ".py",
   "mimetype": "text/x-python",
   "name": "python",
   "nbconvert_exporter": "python",
   "pygments_lexer": "ipython3",
   "version": "3.8.8"
  }
 },
 "nbformat": 4,
 "nbformat_minor": 5
}
