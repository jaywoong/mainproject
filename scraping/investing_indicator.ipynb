{
 "cells": [
  {
   "cell_type": "markdown",
   "id": "91e7f805",
   "metadata": {},
   "source": [
    "####  columns =['NASDAQ','S&P','CBOE','Exchange rate','futures2y','futures10y']"
   ]
  },
  {
   "cell_type": "code",
   "execution_count": 1,
   "id": "c030f069",
   "metadata": {},
   "outputs": [
    {
     "name": "stdout",
     "output_type": "stream",
     "text": [
      "Requirement already satisfied: selenium in c:\\users\\user\\anaconda3\\lib\\site-packages (3.141.0)\n",
      "Requirement already satisfied: urllib3 in c:\\users\\user\\anaconda3\\lib\\site-packages (from selenium) (1.26.4)\n"
     ]
    }
   ],
   "source": [
    "!pip install selenium"
   ]
  },
  {
   "cell_type": "code",
   "execution_count": 2,
   "id": "2d9015cb",
   "metadata": {},
   "outputs": [],
   "source": [
    "from selenium import webdriver\n",
    "from bs4 import BeautifulSoup\n",
    "import requests\n",
    "import pandas as pd\n",
    "import time"
   ]
  },
  {
   "cell_type": "code",
   "execution_count": 4,
   "id": "c4477214",
   "metadata": {},
   "outputs": [],
   "source": [
    "content = []"
   ]
  },
  {
   "cell_type": "markdown",
   "id": "0dbad331",
   "metadata": {},
   "source": [
    "# 2년 만기 미국채 선물"
   ]
  },
  {
   "cell_type": "code",
   "execution_count": 40,
   "id": "6d932ec7",
   "metadata": {},
   "outputs": [],
   "source": [
    "# webdirver 설정\n",
    "\n",
    "driver = webdriver.Chrome('C:\\chromedriver.exe')\n",
    "driver.get('https://kr.investing.com/rates-bonds/us-2-yr-t-note-historical-data')\n",
    "driver.set_window_size(1080,1080)"
   ]
  },
  {
   "cell_type": "code",
   "execution_count": 41,
   "id": "ffe13580",
   "metadata": {},
   "outputs": [],
   "source": [
    "html = driver.page_source\n",
    "soup = BeautifulSoup(html, 'html.parser')"
   ]
  },
  {
   "cell_type": "code",
   "execution_count": 44,
   "id": "c3e90e54",
   "metadata": {},
   "outputs": [
    {
     "data": {
      "text/plain": [
       "'110.09'"
      ]
     },
     "execution_count": 44,
     "metadata": {},
     "output_type": "execute_result"
    }
   ],
   "source": [
    "us2yr = soup.select('#curr_table > tbody > tr:nth-child(1) > td:nth-child(2)')\n",
    "us2yr[0].text.strip()"
   ]
  },
  {
   "cell_type": "code",
   "execution_count": 45,
   "id": "ba324375",
   "metadata": {},
   "outputs": [],
   "source": [
    "del soup\n",
    "driver.close()"
   ]
  },
  {
   "cell_type": "markdown",
   "id": "e227a19e",
   "metadata": {},
   "source": [
    "# 10년 만기 미국채 선물"
   ]
  },
  {
   "cell_type": "code",
   "execution_count": 2,
   "id": "3ecb9365",
   "metadata": {},
   "outputs": [],
   "source": [
    "driver = webdriver.Chrome('C:\\chromedriver.exe')\n",
    "driver.get('https://kr.investing.com/rates-bonds/us-10-yr-t-note-historical-data')\n",
    "driver.set_window_size(1080,1080)"
   ]
  },
  {
   "cell_type": "code",
   "execution_count": 3,
   "id": "8a9da911",
   "metadata": {},
   "outputs": [],
   "source": [
    "html = driver.page_source\n",
    "soup = BeautifulSoup(html, 'html.parser')"
   ]
  },
  {
   "cell_type": "code",
   "execution_count": 9,
   "id": "d1f8198d",
   "metadata": {},
   "outputs": [],
   "source": [
    "us10yr = soup.select('#curr_table > tbody > tr:nth-child(1) > td:nth-child(2)')\n",
    "us10yr = us10yr[0].text.strip()"
   ]
  },
  {
   "cell_type": "code",
   "execution_count": 10,
   "id": "5b0df77e",
   "metadata": {},
   "outputs": [
    {
     "data": {
      "text/plain": [
       "str"
      ]
     },
     "execution_count": 10,
     "metadata": {},
     "output_type": "execute_result"
    }
   ],
   "source": [
    "type(us10yr)"
   ]
  },
  {
   "cell_type": "code",
   "execution_count": 50,
   "id": "ecae45e1",
   "metadata": {},
   "outputs": [],
   "source": [
    "del soup\n",
    "driver.close()"
   ]
  },
  {
   "cell_type": "markdown",
   "id": "32ba873d",
   "metadata": {},
   "source": [
    "# 함수화"
   ]
  },
  {
   "cell_type": "code",
   "execution_count": 1,
   "id": "d88ec646",
   "metadata": {},
   "outputs": [],
   "source": [
    "from selenium import webdriver\n",
    "from bs4 import BeautifulSoup\n",
    "import pandas as pd\n",
    "import time\n",
    "\n",
    "class INVESTINGCRAWL:\n",
    "    def __init__(self):\n",
    "        self.contents = []\n",
    "    \n",
    "    def crawling(self,url):\n",
    "        self.driver = webdriver.Chrome('C:\\chromedriver.exe')\n",
    "        self.driver.get(url)\n",
    "        #self.driver.set_window_size(720,720) \n",
    "        #self.driver.execute_script(\"window.scrollTo(0, 700)\")\n",
    "        \n",
    "        self.soup = BeautifulSoup(self.driver.page_source, 'html.parser')\n",
    "        self.index = self.soup.select('#last_last')\n",
    "        #self.index = self.soup.select('#curr_table > tbody > tr:nth-child(1) > td:nth-child(2)')\n",
    "        self.contents.append([self.index[0].text.strip()])\n",
    "        \n",
    "        del self.soup\n",
    "        self.driver.quit()\n",
    "        \n",
    "        \n",
    "    def saving(self):\n",
    "        self.df = pd.DataFrame(data=self.contents, index=['futures2y', 'futures10y']).transpose()\n",
    "        self.df.to_excel(\"C:/Develops/Indicator\"  +\".xlsx\", index=False)\n",
    "        \n",
    "    \n",
    "\n",
    "if __name__ == \"__main__\":\n",
    "    crawl = INVESTINGCRAWL()\n",
    "    us2yr ='https://kr.investing.com/rates-bonds/us-2-yr-t-note-historical-data'\n",
    "    crawl.crawling(us2yr)\n",
    "    us10yr = 'https://kr.investing.com/rates-bonds/us-10-yr-t-note-historical-data'\n",
    "    crawl.crawling(us10yr)\n",
    "    crawl.saving()\n",
    "\n"
   ]
  },
  {
   "cell_type": "code",
   "execution_count": null,
   "id": "d56cdc97",
   "metadata": {},
   "outputs": [],
   "source": []
  },
  {
   "cell_type": "code",
   "execution_count": null,
   "id": "43be573e",
   "metadata": {},
   "outputs": [],
   "source": []
  }
 ],
 "metadata": {
  "kernelspec": {
   "display_name": "Python 3",
   "language": "python",
   "name": "python3"
  },
  "language_info": {
   "codemirror_mode": {
    "name": "ipython",
    "version": 3
   },
   "file_extension": ".py",
   "mimetype": "text/x-python",
   "name": "python",
   "nbconvert_exporter": "python",
   "pygments_lexer": "ipython3",
   "version": "3.8.8"
  }
 },
 "nbformat": 4,
 "nbformat_minor": 5
}
