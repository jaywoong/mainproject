{
 "cells": [
  {
   "cell_type": "markdown",
   "id": "91e7f805",
   "metadata": {},
   "source": [
    "####  columns =['NASDAQ','S&P','CBOE','ExchangeRate','futures2y','futures10y']"
   ]
  },
  {
   "cell_type": "code",
   "execution_count": 1,
   "id": "c030f069",
   "metadata": {},
   "outputs": [
    {
     "name": "stdout",
     "output_type": "stream",
     "text": [
      "Requirement already satisfied: selenium in c:\\users\\user\\anaconda3\\lib\\site-packages (3.141.0)\n",
      "Requirement already satisfied: urllib3 in c:\\users\\user\\anaconda3\\lib\\site-packages (from selenium) (1.26.4)\n"
     ]
    }
   ],
   "source": [
    "!pip install selenium"
   ]
  },
  {
   "cell_type": "code",
   "execution_count": 4,
   "id": "2d9015cb",
   "metadata": {},
   "outputs": [],
   "source": [
    "from selenium import webdriver\n",
    "from bs4 import BeautifulSoup\n",
    "import requests\n",
    "import pandas as pd\n",
    "import time"
   ]
  },
  {
   "cell_type": "code",
   "execution_count": 5,
   "id": "c4477214",
   "metadata": {},
   "outputs": [],
   "source": [
    "content = []"
   ]
  },
  {
   "cell_type": "markdown",
   "id": "0dbad331",
   "metadata": {},
   "source": [
    "# 2년 만기 미국채 선물"
   ]
  },
  {
   "cell_type": "code",
   "execution_count": 15,
   "id": "6d932ec7",
   "metadata": {},
   "outputs": [],
   "source": [
    "# webdirver 설정\n",
    "\n",
    "driver = webdriver.Chrome('C:\\chromedriver.exe')\n",
    "driver.get('https://kr.investing.com/rates-bonds/us-2-yr-t-note-historical-data')\n",
    "driver.set_window_size(1080,1080)"
   ]
  },
  {
   "cell_type": "code",
   "execution_count": 16,
   "id": "ffe13580",
   "metadata": {},
   "outputs": [],
   "source": [
    "html = driver.page_source\n",
    "soup = BeautifulSoup(html, 'html.parser')"
   ]
  },
  {
   "cell_type": "code",
   "execution_count": 17,
   "id": "c3e90e54",
   "metadata": {},
   "outputs": [],
   "source": [
    "us2yr = soup.select('#curr_table > tbody > tr:nth-child(1) > td:nth-child(2)')\n",
    "us2yr[0].text.strip()\n",
    "content.append(us2yr[0].text.strip())"
   ]
  },
  {
   "cell_type": "code",
   "execution_count": 18,
   "id": "ba324375",
   "metadata": {},
   "outputs": [],
   "source": [
    "del soup\n",
    "driver.close()"
   ]
  },
  {
   "cell_type": "markdown",
   "id": "e227a19e",
   "metadata": {},
   "source": [
    "# 10년 만기 미국채 선물"
   ]
  },
  {
   "cell_type": "code",
   "execution_count": 19,
   "id": "3ecb9365",
   "metadata": {},
   "outputs": [],
   "source": [
    "driver = webdriver.Chrome('C:\\chromedriver.exe')\n",
    "driver.get('https://kr.investing.com/rates-bonds/us-10-yr-t-note-historical-data')\n",
    "driver.set_window_size(1080,1080)"
   ]
  },
  {
   "cell_type": "code",
   "execution_count": 20,
   "id": "8a9da911",
   "metadata": {},
   "outputs": [],
   "source": [
    "html = driver.page_source\n",
    "soup = BeautifulSoup(html, 'html.parser')"
   ]
  },
  {
   "cell_type": "code",
   "execution_count": 21,
   "id": "d1f8198d",
   "metadata": {},
   "outputs": [],
   "source": [
    "us10yr = soup.select('#curr_table > tbody > tr:nth-child(1) > td:nth-child(2)')\n",
    "us10yr[0].text.strip()\n",
    "content.append(us10yr[0].text.strip())"
   ]
  },
  {
   "cell_type": "code",
   "execution_count": 22,
   "id": "ecae45e1",
   "metadata": {},
   "outputs": [],
   "source": [
    "del soup\n",
    "driver.close()"
   ]
  },
  {
   "cell_type": "markdown",
   "id": "64a0fd3e",
   "metadata": {},
   "source": [
    "### 날짜 인덱스 부여"
   ]
  },
  {
   "cell_type": "code",
   "execution_count": 23,
   "id": "9527c1e7",
   "metadata": {},
   "outputs": [
    {
     "data": {
      "text/plain": [
       "['109.98', '131.53']"
      ]
     },
     "execution_count": 23,
     "metadata": {},
     "output_type": "execute_result"
    }
   ],
   "source": [
    "content"
   ]
  },
  {
   "cell_type": "code",
   "execution_count": 72,
   "id": "fbab0832",
   "metadata": {},
   "outputs": [
    {
     "data": {
      "text/plain": [
       "DatetimeIndex(['2021-09-28'], dtype='datetime64[ns]', freq=None)"
      ]
     },
     "execution_count": 72,
     "metadata": {},
     "output_type": "execute_result"
    }
   ],
   "source": [
    "from datetime import date, datetime, timedelta\n",
    "\n",
    "#date = datetime.today().replace(hour=0, minute=0, second=0)\n",
    "#date = pd.DatetimeIndex([date.strftime('%Y-%m-%d %H:%M:%S')])\n",
    "date = pd.DatetimeIndex([datetime.today().date()])\n",
    "date"
   ]
  },
  {
   "cell_type": "code",
   "execution_count": 73,
   "id": "9747fa10",
   "metadata": {},
   "outputs": [
    {
     "data": {
      "text/html": [
       "<div>\n",
       "<style scoped>\n",
       "    .dataframe tbody tr th:only-of-type {\n",
       "        vertical-align: middle;\n",
       "    }\n",
       "\n",
       "    .dataframe tbody tr th {\n",
       "        vertical-align: top;\n",
       "    }\n",
       "\n",
       "    .dataframe thead th {\n",
       "        text-align: right;\n",
       "    }\n",
       "</style>\n",
       "<table border=\"1\" class=\"dataframe\">\n",
       "  <thead>\n",
       "    <tr style=\"text-align: right;\">\n",
       "      <th></th>\n",
       "      <th>futures2y</th>\n",
       "      <th>futures10y</th>\n",
       "    </tr>\n",
       "  </thead>\n",
       "  <tbody>\n",
       "    <tr>\n",
       "      <th>2021-09-28</th>\n",
       "      <td>109.98</td>\n",
       "      <td>131.53</td>\n",
       "    </tr>\n",
       "  </tbody>\n",
       "</table>\n",
       "</div>"
      ],
      "text/plain": [
       "           futures2y futures10y\n",
       "2021-09-28    109.98     131.53"
      ]
     },
     "execution_count": 73,
     "metadata": {},
     "output_type": "execute_result"
    }
   ],
   "source": [
    "import pandas as pd\n",
    "\n",
    "df = pd.DataFrame([content], date, ['futures2y','futures10y'])\n",
    "df"
   ]
  },
  {
   "cell_type": "code",
   "execution_count": 75,
   "id": "9ec950d9",
   "metadata": {},
   "outputs": [
    {
     "data": {
      "text/html": [
       "<div>\n",
       "<style scoped>\n",
       "    .dataframe tbody tr th:only-of-type {\n",
       "        vertical-align: middle;\n",
       "    }\n",
       "\n",
       "    .dataframe tbody tr th {\n",
       "        vertical-align: top;\n",
       "    }\n",
       "\n",
       "    .dataframe thead th {\n",
       "        text-align: right;\n",
       "    }\n",
       "</style>\n",
       "<table border=\"1\" class=\"dataframe\">\n",
       "  <thead>\n",
       "    <tr style=\"text-align: right;\">\n",
       "      <th></th>\n",
       "      <th>date</th>\n",
       "      <th>futures2y</th>\n",
       "      <th>futures10y</th>\n",
       "    </tr>\n",
       "  </thead>\n",
       "  <tbody>\n",
       "    <tr>\n",
       "      <th>0</th>\n",
       "      <td>2021-09-28</td>\n",
       "      <td>109.98</td>\n",
       "      <td>131.53</td>\n",
       "    </tr>\n",
       "  </tbody>\n",
       "</table>\n",
       "</div>"
      ],
      "text/plain": [
       "        date futures2y futures10y\n",
       "0 2021-09-28    109.98     131.53"
      ]
     },
     "execution_count": 75,
     "metadata": {},
     "output_type": "execute_result"
    }
   ],
   "source": [
    "df = df.reset_index().rename(columns={'index': 'date'})\n",
    "df"
   ]
  },
  {
   "cell_type": "code",
   "execution_count": 71,
   "id": "160e3987",
   "metadata": {},
   "outputs": [
    {
     "data": {
      "text/html": [
       "<div>\n",
       "<style scoped>\n",
       "    .dataframe tbody tr th:only-of-type {\n",
       "        vertical-align: middle;\n",
       "    }\n",
       "\n",
       "    .dataframe tbody tr th {\n",
       "        vertical-align: top;\n",
       "    }\n",
       "\n",
       "    .dataframe thead th {\n",
       "        text-align: right;\n",
       "    }\n",
       "</style>\n",
       "<table border=\"1\" class=\"dataframe\">\n",
       "  <thead>\n",
       "    <tr style=\"text-align: right;\">\n",
       "      <th></th>\n",
       "      <th>futures2y</th>\n",
       "      <th>futures10y</th>\n",
       "    </tr>\n",
       "    <tr>\n",
       "      <th>date</th>\n",
       "      <th></th>\n",
       "      <th></th>\n",
       "    </tr>\n",
       "  </thead>\n",
       "  <tbody>\n",
       "    <tr>\n",
       "      <th>2021-09-28</th>\n",
       "      <td>109.98</td>\n",
       "      <td>131.53</td>\n",
       "    </tr>\n",
       "  </tbody>\n",
       "</table>\n",
       "</div>"
      ],
      "text/plain": [
       "           futures2y futures10y\n",
       "date                           \n",
       "2021-09-28    109.98     131.53"
      ]
     },
     "execution_count": 71,
     "metadata": {},
     "output_type": "execute_result"
    }
   ],
   "source": [
    "df_crawl = df_new.set_index('date')\n",
    "df_crawl"
   ]
  },
  {
   "cell_type": "markdown",
   "id": "32ba873d",
   "metadata": {},
   "source": [
    "# 함수화"
   ]
  },
  {
   "cell_type": "code",
   "execution_count": 62,
   "id": "d88ec646",
   "metadata": {},
   "outputs": [
    {
     "name": "stdout",
     "output_type": "stream",
     "text": [
      "           futures2y futures10y\n",
      "2021-09-28    109.97     131.42\n"
     ]
    }
   ],
   "source": [
    "from selenium import webdriver\n",
    "from bs4 import BeautifulSoup\n",
    "import pandas as pd\n",
    "from datetime import date, datetime, timedelta\n",
    "\n",
    "\n",
    "date\n",
    "\n",
    "class INDEXCRAWL:\n",
    "    def __init__(self):\n",
    "        self.contents = []\n",
    "    \n",
    "    def crawling(self,url):\n",
    "        self.driver = webdriver.Chrome('C:\\chromedriver.exe')\n",
    "        self.driver.get(url)\n",
    "        self.driver.set_window_size(720,720) \n",
    "        #self.driver.execute_script(\"window.scrollTo(0, 700)\")\n",
    "        \n",
    "        self.soup = BeautifulSoup(self.driver.page_source, 'html.parser')\n",
    "        self.index = self.soup.select('#last_last')\n",
    "        #self.index = self.soup.select('#curr_table > tbody > tr:nth-child(1) > td:nth-child(2)')\n",
    "        self.contents.append(self.index[0].text.strip())\n",
    "        \n",
    "        del self.soup\n",
    "        self.driver.quit()\n",
    "        \n",
    "        \n",
    "    def saving(self):\n",
    "        self.date = pd.DatetimeIndex([datetime.today().date()])\n",
    "        self.df = pd.DataFrame([self.contents], self.date, ['futures2y','futures10y'])\n",
    "        print(self.df)\n",
    "        \n",
    "    \n",
    "\n",
    "if __name__ == \"__main__\":\n",
    "    crawl = INDEXCRAWL()\n",
    "    us2yr ='https://kr.investing.com/rates-bonds/us-2-yr-t-note-historical-data'\n",
    "    crawl.crawling(us2yr)\n",
    "    us10yr = 'https://kr.investing.com/rates-bonds/us-10-yr-t-note-historical-data'\n",
    "    crawl.crawling(us10yr)\n",
    "    crawl.saving()\n"
   ]
  }
 ],
 "metadata": {
  "kernelspec": {
   "display_name": "Python 3",
   "language": "python",
   "name": "python3"
  },
  "language_info": {
   "codemirror_mode": {
    "name": "ipython",
    "version": 3
   },
   "file_extension": ".py",
   "mimetype": "text/x-python",
   "name": "python",
   "nbconvert_exporter": "python",
   "pygments_lexer": "ipython3",
   "version": "3.8.8"
  }
 },
 "nbformat": 4,
 "nbformat_minor": 5
}
