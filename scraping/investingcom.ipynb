{
 "cells": [
  {
   "cell_type": "markdown",
   "id": "85f8e905",
   "metadata": {},
   "source": [
    "> INVESTING.COM 에서  NASDAQ, S&P, CBOE, 환율, 2년 만기 미국채 선물, 10년 만기 미국채 선물 가져오기"
   ]
  },
  {
   "cell_type": "markdown",
   "id": "56cc6981",
   "metadata": {},
   "source": [
    "# API"
   ]
  },
  {
   "cell_type": "code",
   "execution_count": 1,
   "id": "7481285c",
   "metadata": {},
   "outputs": [],
   "source": [
    "import FinanceDataReader as fdr\n",
    "from datetime import date, timedelta"
   ]
  },
  {
   "cell_type": "code",
   "execution_count": 2,
   "id": "4292af68",
   "metadata": {},
   "outputs": [],
   "source": [
    "today = date.today().strftime('%Y%m%d')\n",
    "yesterday = (date.today()-timedelta(1)).strftime('%Y%m%d')"
   ]
  },
  {
   "cell_type": "code",
   "execution_count": 3,
   "id": "52ba02f6",
   "metadata": {},
   "outputs": [
    {
     "data": {
      "text/html": [
       "<div>\n",
       "<style scoped>\n",
       "    .dataframe tbody tr th:only-of-type {\n",
       "        vertical-align: middle;\n",
       "    }\n",
       "\n",
       "    .dataframe tbody tr th {\n",
       "        vertical-align: top;\n",
       "    }\n",
       "\n",
       "    .dataframe thead th {\n",
       "        text-align: right;\n",
       "    }\n",
       "</style>\n",
       "<table border=\"1\" class=\"dataframe\">\n",
       "  <thead>\n",
       "    <tr style=\"text-align: right;\">\n",
       "      <th></th>\n",
       "      <th>NASDAQCOM</th>\n",
       "    </tr>\n",
       "    <tr>\n",
       "      <th>DATE</th>\n",
       "      <th></th>\n",
       "    </tr>\n",
       "  </thead>\n",
       "  <tbody>\n",
       "    <tr>\n",
       "      <th>2021-09-28</th>\n",
       "      <td>14546.68</td>\n",
       "    </tr>\n",
       "    <tr>\n",
       "      <th>2021-09-29</th>\n",
       "      <td>14512.44</td>\n",
       "    </tr>\n",
       "    <tr>\n",
       "      <th>2021-09-30</th>\n",
       "      <td>14448.58</td>\n",
       "    </tr>\n",
       "  </tbody>\n",
       "</table>\n",
       "</div>"
      ],
      "text/plain": [
       "            NASDAQCOM\n",
       "DATE                 \n",
       "2021-09-28   14546.68\n",
       "2021-09-29   14512.44\n",
       "2021-09-30   14448.58"
      ]
     },
     "execution_count": 3,
     "metadata": {},
     "output_type": "execute_result"
    }
   ],
   "source": [
    "nasdaq = fdr.DataReader('NASDAQCOM', start='2021-09-28', data_source='fred')\n",
    "nasdaq"
   ]
  },
  {
   "cell_type": "code",
   "execution_count": 4,
   "id": "c46434f6",
   "metadata": {},
   "outputs": [
    {
     "data": {
      "text/html": [
       "<div>\n",
       "<style scoped>\n",
       "    .dataframe tbody tr th:only-of-type {\n",
       "        vertical-align: middle;\n",
       "    }\n",
       "\n",
       "    .dataframe tbody tr th {\n",
       "        vertical-align: top;\n",
       "    }\n",
       "\n",
       "    .dataframe thead th {\n",
       "        text-align: right;\n",
       "    }\n",
       "</style>\n",
       "<table border=\"1\" class=\"dataframe\">\n",
       "  <thead>\n",
       "    <tr style=\"text-align: right;\">\n",
       "      <th></th>\n",
       "      <th>Close</th>\n",
       "      <th>Open</th>\n",
       "      <th>High</th>\n",
       "      <th>Low</th>\n",
       "      <th>Volume</th>\n",
       "      <th>Change</th>\n",
       "    </tr>\n",
       "    <tr>\n",
       "      <th>Date</th>\n",
       "      <th></th>\n",
       "      <th></th>\n",
       "      <th></th>\n",
       "      <th></th>\n",
       "      <th></th>\n",
       "      <th></th>\n",
       "    </tr>\n",
       "  </thead>\n",
       "  <tbody>\n",
       "    <tr>\n",
       "      <th>2021-10-01</th>\n",
       "      <td>4357.05</td>\n",
       "      <td>4317.16</td>\n",
       "      <td>4375.19</td>\n",
       "      <td>4288.52</td>\n",
       "      <td>0.0</td>\n",
       "      <td>0.0115</td>\n",
       "    </tr>\n",
       "  </tbody>\n",
       "</table>\n",
       "</div>"
      ],
      "text/plain": [
       "              Close     Open     High      Low  Volume  Change\n",
       "Date                                                          \n",
       "2021-10-01  4357.05  4317.16  4375.19  4288.52     0.0  0.0115"
      ]
     },
     "execution_count": 4,
     "metadata": {},
     "output_type": "execute_result"
    }
   ],
   "source": [
    "sp500 = fdr.DataReader('US500', yesterday, today)\n",
    "sp500"
   ]
  },
  {
   "cell_type": "code",
   "execution_count": 5,
   "id": "e34dc6fa",
   "metadata": {},
   "outputs": [
    {
     "data": {
      "text/html": [
       "<div>\n",
       "<style scoped>\n",
       "    .dataframe tbody tr th:only-of-type {\n",
       "        vertical-align: middle;\n",
       "    }\n",
       "\n",
       "    .dataframe tbody tr th {\n",
       "        vertical-align: top;\n",
       "    }\n",
       "\n",
       "    .dataframe thead th {\n",
       "        text-align: right;\n",
       "    }\n",
       "</style>\n",
       "<table border=\"1\" class=\"dataframe\">\n",
       "  <thead>\n",
       "    <tr style=\"text-align: right;\">\n",
       "      <th></th>\n",
       "      <th>Close</th>\n",
       "      <th>Open</th>\n",
       "      <th>High</th>\n",
       "      <th>Low</th>\n",
       "      <th>Volume</th>\n",
       "      <th>Change</th>\n",
       "    </tr>\n",
       "    <tr>\n",
       "      <th>Date</th>\n",
       "      <th></th>\n",
       "      <th></th>\n",
       "      <th></th>\n",
       "      <th></th>\n",
       "      <th></th>\n",
       "      <th></th>\n",
       "    </tr>\n",
       "  </thead>\n",
       "  <tbody>\n",
       "    <tr>\n",
       "      <th>2021-10-01</th>\n",
       "      <td>21.15</td>\n",
       "      <td>23.14</td>\n",
       "      <td>24.89</td>\n",
       "      <td>20.64</td>\n",
       "      <td>0.0</td>\n",
       "      <td>-0.086</td>\n",
       "    </tr>\n",
       "  </tbody>\n",
       "</table>\n",
       "</div>"
      ],
      "text/plain": [
       "            Close   Open   High    Low  Volume  Change\n",
       "Date                                                  \n",
       "2021-10-01  21.15  23.14  24.89  20.64     0.0  -0.086"
      ]
     },
     "execution_count": 5,
     "metadata": {},
     "output_type": "execute_result"
    }
   ],
   "source": [
    "cboe = fdr.DataReader('VIX', yesterday, today) # S&P 500 VIX\n",
    "cboe"
   ]
  },
  {
   "cell_type": "code",
   "execution_count": 6,
   "id": "ca9c83e6",
   "metadata": {
    "scrolled": true
   },
   "outputs": [
    {
     "data": {
      "text/html": [
       "<div>\n",
       "<style scoped>\n",
       "    .dataframe tbody tr th:only-of-type {\n",
       "        vertical-align: middle;\n",
       "    }\n",
       "\n",
       "    .dataframe tbody tr th {\n",
       "        vertical-align: top;\n",
       "    }\n",
       "\n",
       "    .dataframe thead th {\n",
       "        text-align: right;\n",
       "    }\n",
       "</style>\n",
       "<table border=\"1\" class=\"dataframe\">\n",
       "  <thead>\n",
       "    <tr style=\"text-align: right;\">\n",
       "      <th></th>\n",
       "      <th>Close</th>\n",
       "      <th>Open</th>\n",
       "      <th>High</th>\n",
       "      <th>Low</th>\n",
       "      <th>Change</th>\n",
       "    </tr>\n",
       "    <tr>\n",
       "      <th>Date</th>\n",
       "      <th></th>\n",
       "      <th></th>\n",
       "      <th></th>\n",
       "      <th></th>\n",
       "      <th></th>\n",
       "    </tr>\n",
       "  </thead>\n",
       "  <tbody>\n",
       "    <tr>\n",
       "      <th>2021-10-01</th>\n",
       "      <td>1180.35</td>\n",
       "      <td>1184.78</td>\n",
       "      <td>1189.05</td>\n",
       "      <td>1179.2</td>\n",
       "      <td>-0.0033</td>\n",
       "    </tr>\n",
       "  </tbody>\n",
       "</table>\n",
       "</div>"
      ],
      "text/plain": [
       "              Close     Open     High     Low  Change\n",
       "Date                                                 \n",
       "2021-10-01  1180.35  1184.78  1189.05  1179.2 -0.0033"
      ]
     },
     "execution_count": 6,
     "metadata": {},
     "output_type": "execute_result"
    }
   ],
   "source": [
    "rate = fdr.DataReader('USD/KRW', yesterday, today)\n",
    "rate"
   ]
  },
  {
   "cell_type": "code",
   "execution_count": 7,
   "id": "67a79ebc",
   "metadata": {},
   "outputs": [
    {
     "data": {
      "text/html": [
       "<div>\n",
       "<style scoped>\n",
       "    .dataframe tbody tr th:only-of-type {\n",
       "        vertical-align: middle;\n",
       "    }\n",
       "\n",
       "    .dataframe tbody tr th {\n",
       "        vertical-align: top;\n",
       "    }\n",
       "\n",
       "    .dataframe thead th {\n",
       "        text-align: right;\n",
       "    }\n",
       "</style>\n",
       "<table border=\"1\" class=\"dataframe\">\n",
       "  <thead>\n",
       "    <tr style=\"text-align: right;\">\n",
       "      <th></th>\n",
       "      <th>Date</th>\n",
       "      <th>Close</th>\n",
       "      <th>Open</th>\n",
       "      <th>High</th>\n",
       "      <th>Low</th>\n",
       "      <th>Change</th>\n",
       "    </tr>\n",
       "  </thead>\n",
       "  <tbody>\n",
       "    <tr>\n",
       "      <th>0</th>\n",
       "      <td>2021-10-01</td>\n",
       "      <td>1180.35</td>\n",
       "      <td>1184.78</td>\n",
       "      <td>1189.05</td>\n",
       "      <td>1179.2</td>\n",
       "      <td>-0.0033</td>\n",
       "    </tr>\n",
       "  </tbody>\n",
       "</table>\n",
       "</div>"
      ],
      "text/plain": [
       "        Date    Close     Open     High     Low  Change\n",
       "0 2021-10-01  1180.35  1184.78  1189.05  1179.2 -0.0033"
      ]
     },
     "execution_count": 7,
     "metadata": {},
     "output_type": "execute_result"
    }
   ],
   "source": [
    "tmp = rate.reset_index()\n",
    "tmp"
   ]
  },
  {
   "cell_type": "markdown",
   "id": "5b33165e",
   "metadata": {},
   "source": [
    "## 함수화"
   ]
  },
  {
   "cell_type": "code",
   "execution_count": 8,
   "id": "35f9a8ad",
   "metadata": {
    "scrolled": true
   },
   "outputs": [
    {
     "name": "stdout",
     "output_type": "stream",
     "text": [
      "                 sp   cboe  exchangerate\n",
      "date                                    \n",
      "2021-10-01  4357.05  21.15       1180.35\n"
     ]
    }
   ],
   "source": [
    "import pandas as pd\n",
    "import sqlite3\n",
    "import FinanceDataReader as fdr\n",
    "from datetime import date, timedelta\n",
    "\n",
    "\n",
    "class INVESTING:\n",
    "    def getDate(self):\n",
    "        self.end = date.today().strftime('%Y%m%d')  # 오늘\n",
    "        self.start = (date.today() - timedelta(1)).strftime('%Y%m%d')  # 어제\n",
    "\n",
    "    def getStock(self):\n",
    "        self.sp500 = fdr.DataReader('US500', yesterday, today)\n",
    "        self.sp500 = self.sp500[['Close']]\n",
    "\n",
    "        self.cboe = fdr.DataReader('VIX', yesterday, today)\n",
    "        self.cboe = self.cboe[['Close']]\n",
    "\n",
    "        self.rate = fdr.DataReader('USD/KRW', yesterday, today)\n",
    "        self.rate  = self.rate[['Close']]\n",
    "\n",
    "    def saving(self):\n",
    "        self.df = pd.concat([self.sp500, self.cboe, self.rate], axis=1)\n",
    "        self.df_invest = self.df.reset_index()\n",
    "        self.df_invest.columns=['date', 'sp', 'cboe', 'exchangerate']\n",
    "        self.df_invest = self.df_invest.set_index('date')\n",
    "        print(self.df_invest)\n",
    "#         self.df.to_sql('samsung', conn, if_exists='append')\n",
    "#         conn.commit()  # db에 저장\n",
    "\n",
    "\n",
    "if __name__ == \"__main__\":\n",
    "    \n",
    "    invest = INVESTING()\n",
    "    invest.getDate()\n",
    "    invest.getStock()\n",
    "    invest.saving()"
   ]
  },
  {
   "cell_type": "markdown",
   "id": "e6ef4d9a",
   "metadata": {},
   "source": [
    "# Scraping"
   ]
  },
  {
   "cell_type": "code",
   "execution_count": 9,
   "id": "fc0f25d7",
   "metadata": {},
   "outputs": [],
   "source": [
    "# !pip install selenium\n",
    "\n",
    "from selenium import webdriver\n",
    "from bs4 import BeautifulSoup\n",
    "import requests\n",
    "import pandas as pd\n",
    "import time"
   ]
  },
  {
   "cell_type": "markdown",
   "id": "5ae2a085",
   "metadata": {},
   "source": [
    "### 2년 만기 미국채 선물"
   ]
  },
  {
   "cell_type": "code",
   "execution_count": 10,
   "id": "cf639d38",
   "metadata": {},
   "outputs": [],
   "source": [
    "content = []"
   ]
  },
  {
   "cell_type": "code",
   "execution_count": 11,
   "id": "02a49239",
   "metadata": {},
   "outputs": [],
   "source": [
    "# webdirver 설정\n",
    "\n",
    "driver = webdriver.Chrome('C:\\chromedriver.exe')\n",
    "driver.get('https://kr.investing.com/rates-bonds/us-2-yr-t-note-historical-data')\n",
    "driver.set_window_size(1080,1080)\n",
    "html = driver.page_source\n",
    "soup = BeautifulSoup(html, 'html.parser')\n",
    "\n",
    "us2yr = soup.select('#curr_table > tbody > tr:nth-child(1) > td:nth-child(2)')\n",
    "us2yr[0].text.strip()\n",
    "content.append(us2yr[0].text.strip())\n",
    "\n",
    "del soup\n",
    "driver.close()"
   ]
  },
  {
   "cell_type": "markdown",
   "id": "5749bea4",
   "metadata": {},
   "source": [
    "### 10년 만기 미국채 선물"
   ]
  },
  {
   "cell_type": "code",
   "execution_count": 12,
   "id": "17431d57",
   "metadata": {},
   "outputs": [],
   "source": [
    "driver = webdriver.Chrome('C:\\chromedriver.exe')\n",
    "driver.get('https://kr.investing.com/rates-bonds/us-10-yr-t-note-historical-data')\n",
    "driver.set_window_size(1080,1080)\n",
    "html = driver.page_source\n",
    "soup = BeautifulSoup(html, 'html.parser')\n",
    "\n",
    "us10yr = soup.select('#curr_table > tbody > tr:nth-child(1) > td:nth-child(2)')\n",
    "us10yr[0].text.strip()\n",
    "content.append(us10yr[0].text.strip())\n",
    "\n",
    "del soup\n",
    "driver.close()"
   ]
  },
  {
   "cell_type": "code",
   "execution_count": 13,
   "id": "47f172aa",
   "metadata": {},
   "outputs": [
    {
     "data": {
      "text/plain": [
       "['110.08', '132.20']"
      ]
     },
     "execution_count": 13,
     "metadata": {},
     "output_type": "execute_result"
    }
   ],
   "source": [
    "content"
   ]
  },
  {
   "cell_type": "markdown",
   "id": "6ec381e0",
   "metadata": {},
   "source": [
    "### 날짜 인덱스 부여"
   ]
  },
  {
   "cell_type": "code",
   "execution_count": 14,
   "id": "05fe1e97",
   "metadata": {},
   "outputs": [
    {
     "data": {
      "text/plain": [
       "DatetimeIndex(['2021-10-02'], dtype='datetime64[ns]', freq=None)"
      ]
     },
     "execution_count": 14,
     "metadata": {},
     "output_type": "execute_result"
    }
   ],
   "source": [
    "from datetime import date, datetime, timedelta\n",
    "\n",
    "#date = datetime.today().replace(hour=0, minute=0, second=0)\n",
    "#date = pd.DatetimeIndex([date.strftime('%Y-%m-%d %H:%M:%S')])\n",
    "date = pd.DatetimeIndex([datetime.today().date()])\n",
    "date"
   ]
  },
  {
   "cell_type": "code",
   "execution_count": 15,
   "id": "a85d6b01",
   "metadata": {},
   "outputs": [
    {
     "data": {
      "text/html": [
       "<div>\n",
       "<style scoped>\n",
       "    .dataframe tbody tr th:only-of-type {\n",
       "        vertical-align: middle;\n",
       "    }\n",
       "\n",
       "    .dataframe tbody tr th {\n",
       "        vertical-align: top;\n",
       "    }\n",
       "\n",
       "    .dataframe thead th {\n",
       "        text-align: right;\n",
       "    }\n",
       "</style>\n",
       "<table border=\"1\" class=\"dataframe\">\n",
       "  <thead>\n",
       "    <tr style=\"text-align: right;\">\n",
       "      <th></th>\n",
       "      <th>futures2y</th>\n",
       "      <th>futures10y</th>\n",
       "    </tr>\n",
       "    <tr>\n",
       "      <th>date</th>\n",
       "      <th></th>\n",
       "      <th></th>\n",
       "    </tr>\n",
       "  </thead>\n",
       "  <tbody>\n",
       "    <tr>\n",
       "      <th>2021-10-02</th>\n",
       "      <td>110.08</td>\n",
       "      <td>132.20</td>\n",
       "    </tr>\n",
       "  </tbody>\n",
       "</table>\n",
       "</div>"
      ],
      "text/plain": [
       "           futures2y futures10y\n",
       "date                           \n",
       "2021-10-02    110.08     132.20"
      ]
     },
     "execution_count": 15,
     "metadata": {},
     "output_type": "execute_result"
    }
   ],
   "source": [
    "df = pd.DataFrame([content], date, ['futures2y','futures10y'])\n",
    "df = df.reset_index().rename(columns={'index': 'date'})\n",
    "df = df.set_index('date')\n",
    "df"
   ]
  },
  {
   "cell_type": "markdown",
   "id": "545e10dc",
   "metadata": {},
   "source": [
    "## 함수화"
   ]
  },
  {
   "cell_type": "code",
   "execution_count": 16,
   "id": "4537e451",
   "metadata": {},
   "outputs": [
    {
     "name": "stdout",
     "output_type": "stream",
     "text": [
      "           futures2y futures10y\n",
      "2021-10-02    110.08     132.20\n"
     ]
    }
   ],
   "source": [
    "from selenium import webdriver\n",
    "from bs4 import BeautifulSoup\n",
    "import pandas as pd\n",
    "from datetime import date, datetime, timedelta\n",
    "\n",
    "\n",
    "class INDEXCRAWL:\n",
    "    def __init__(self):\n",
    "        self.contents = []\n",
    "    \n",
    "    def crawling(self,url):\n",
    "        self.driver = webdriver.Chrome('C:\\chromedriver.exe')\n",
    "        self.driver.get(url)\n",
    "        self.driver.set_window_size(720,720) \n",
    "        #self.driver.execute_script(\"window.scrollTo(0, 700)\")\n",
    "        \n",
    "        self.soup = BeautifulSoup(self.driver.page_source, 'html.parser')\n",
    "        self.index = self.soup.select('#last_last')\n",
    "        #self.index = self.soup.select('#curr_table > tbody > tr:nth-child(1) > td:nth-child(2)')\n",
    "        self.contents.append(self.index[0].text.strip())\n",
    "        \n",
    "        del self.soup\n",
    "        self.driver.quit()\n",
    "        \n",
    "        \n",
    "    def saving(self):\n",
    "        self.date = pd.DatetimeIndex([datetime.today().date()])\n",
    "        self.df = pd.DataFrame([self.contents], self.date, ['futures2y','futures10y'])\n",
    "        print(self.df)\n",
    "        \n",
    "    \n",
    "\n",
    "if __name__ == \"__main__\":\n",
    "    crawl = INDEXCRAWL()\n",
    "    us2yr ='https://kr.investing.com/rates-bonds/us-2-yr-t-note-historical-data'\n",
    "    crawl.crawling(us2yr)\n",
    "    us10yr = 'https://kr.investing.com/rates-bonds/us-10-yr-t-note-historical-data'\n",
    "    crawl.crawling(us10yr)\n",
    "    crawl.saving()"
   ]
  }
 ],
 "metadata": {
  "kernelspec": {
   "display_name": "Python 3",
   "language": "python",
   "name": "python3"
  },
  "language_info": {
   "codemirror_mode": {
    "name": "ipython",
    "version": 3
   },
   "file_extension": ".py",
   "mimetype": "text/x-python",
   "name": "python",
   "nbconvert_exporter": "python",
   "pygments_lexer": "ipython3",
   "version": "3.8.8"
  }
 },
 "nbformat": 4,
 "nbformat_minor": 5
}
