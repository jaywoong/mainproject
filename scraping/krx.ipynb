{
 "cells": [
  {
   "cell_type": "markdown",
   "id": "4c475ea1",
   "metadata": {},
   "source": [
    "- KRX 에서 종가, 거래량, PER, PBR, 투자자별 거래실적 가져오기\n",
    "- 어제 데이터 가져오기 "
   ]
  },
  {
   "cell_type": "code",
   "execution_count": 1,
   "id": "3ffaa3cd",
   "metadata": {},
   "outputs": [],
   "source": [
    "#!pip install pykrx\n",
    "from pykrx import stock"
   ]
  },
  {
   "cell_type": "code",
   "execution_count": 2,
   "id": "4013cd2a",
   "metadata": {},
   "outputs": [
    {
     "name": "stdout",
     "output_type": "stream",
     "text": [
      "50 ['삼성전자', 'SK하이닉스', 'LG화학', 'LG전자', 'LG이노텍', '삼성에스디에스', '삼성전기', '삼성생명', '삼성화재', 'SK텔레콤', 'KT', '현대건설', '삼성엔지니어링', '대한항공', '현대차', '기아', '오리온', 'CJ제일제당', '오뚜기', '미래에셋증권', '한국금융지주', 'NH투자증권', 'LG생활건강', '아모레퍼시픽', '아모레G', '강원랜드', '호텔신라', 'KB금융', '신한지주', '하나금융지주', '롯데쇼핑', '이마트', '신세계', 'GS리테일', 'NAVER', '카카오', 'CJ ENM', '스튜디오드래곤', '삼성바이오로직스', '셀트리온', '한미약품', '엔씨소프트', '넷마블', '한화솔루션', 'LS', 'POSCO', '고려아연', 'S-Oil', 'SK이노베이션', 'HMM']\n"
     ]
    }
   ],
   "source": [
    "stocknames= []\n",
    "codes = ['005930', '000660', '051910', '066570', '011070', '018260', '009150', '032830',\n",
    "             '000810', '017670', '030200', '000720', '028050', '003490', '005380', '000270', \n",
    "             '271560', '097950', '007310', '006800', '071050', '005940', '051900', '090430', \n",
    "             '002790', '035250', '008770', '105560', '055550', '086790', '023530', '139480', \n",
    "             '004170', '007070', '035420', '035720', '035760', '253450', '207940', '068270',\n",
    "             '128940', '036570', '251270', '009830', '006260', '005490', '010130', '010950', \n",
    "             '096770', '011200']\n",
    "for code in codes:\n",
    "    stockname = stock.get_market_ticker_name(code)\n",
    "    stocknames.append(stockname)\n",
    "print(len(stocknames), stocknames)\n"
   ]
  },
  {
   "cell_type": "code",
   "execution_count": 3,
   "id": "6a412d42",
   "metadata": {},
   "outputs": [],
   "source": [
    "# 날짜\n",
    "from datetime import date, timedelta\n",
    "\n",
    "today = date.today().strftime('%Y%m%d')\n",
    "yesterday = (date.today() - timedelta(1)).strftime('%Y%m%d')\n",
    "bfyday = (date.today() - timedelta(2)).strftime('%Y%m%d')\n",
    "bffyday = (date.today() - timedelta(3)).strftime('%Y%m%d')"
   ]
  },
  {
   "cell_type": "code",
   "execution_count": 21,
   "id": "832ffd43",
   "metadata": {},
   "outputs": [
    {
     "data": {
      "text/plain": [
       "'20211006'"
      ]
     },
     "execution_count": 21,
     "metadata": {},
     "output_type": "execute_result"
    }
   ],
   "source": [
    "yesterday "
   ]
  },
  {
   "cell_type": "markdown",
   "id": "81429c10",
   "metadata": {},
   "source": [
    "# 거래량"
   ]
  },
  {
   "cell_type": "code",
   "execution_count": 4,
   "id": "5519f35d",
   "metadata": {},
   "outputs": [
    {
     "data": {
      "text/html": [
       "<div>\n",
       "<style scoped>\n",
       "    .dataframe tbody tr th:only-of-type {\n",
       "        vertical-align: middle;\n",
       "    }\n",
       "\n",
       "    .dataframe tbody tr th {\n",
       "        vertical-align: top;\n",
       "    }\n",
       "\n",
       "    .dataframe thead th {\n",
       "        text-align: right;\n",
       "    }\n",
       "</style>\n",
       "<table border=\"1\" class=\"dataframe\">\n",
       "  <thead>\n",
       "    <tr style=\"text-align: right;\">\n",
       "      <th></th>\n",
       "      <th>시가</th>\n",
       "      <th>고가</th>\n",
       "      <th>저가</th>\n",
       "      <th>종가</th>\n",
       "      <th>거래량</th>\n",
       "    </tr>\n",
       "    <tr>\n",
       "      <th>날짜</th>\n",
       "      <th></th>\n",
       "      <th></th>\n",
       "      <th></th>\n",
       "      <th></th>\n",
       "      <th></th>\n",
       "    </tr>\n",
       "  </thead>\n",
       "  <tbody>\n",
       "    <tr>\n",
       "      <th>2021-10-05</th>\n",
       "      <td>73000</td>\n",
       "      <td>73000</td>\n",
       "      <td>71400</td>\n",
       "      <td>72200</td>\n",
       "      <td>24013921</td>\n",
       "    </tr>\n",
       "    <tr>\n",
       "      <th>2021-10-06</th>\n",
       "      <td>72600</td>\n",
       "      <td>72800</td>\n",
       "      <td>71200</td>\n",
       "      <td>71300</td>\n",
       "      <td>18956962</td>\n",
       "    </tr>\n",
       "  </tbody>\n",
       "</table>\n",
       "</div>"
      ],
      "text/plain": [
       "               시가     고가     저가     종가       거래량\n",
       "날짜                                              \n",
       "2021-10-05  73000  73000  71400  72200  24013921\n",
       "2021-10-06  72600  72800  71200  71300  18956962"
      ]
     },
     "execution_count": 4,
     "metadata": {},
     "output_type": "execute_result"
    }
   ],
   "source": [
    "# 개별종목 시세 추이\n",
    "df = stock.get_market_ohlcv_by_date(bffyday,yesterday, ticker=\"005930\")\n",
    "df"
   ]
  },
  {
   "cell_type": "markdown",
   "id": "8f1e7e8e",
   "metadata": {},
   "source": [
    "#### atr  : 전일종가,고가,저가 중 차이가 큰 값을 구하기"
   ]
  },
  {
   "cell_type": "code",
   "execution_count": 5,
   "id": "35f37837",
   "metadata": {
    "scrolled": true
   },
   "outputs": [
    {
     "data": {
      "text/html": [
       "<div>\n",
       "<style scoped>\n",
       "    .dataframe tbody tr th:only-of-type {\n",
       "        vertical-align: middle;\n",
       "    }\n",
       "\n",
       "    .dataframe tbody tr th {\n",
       "        vertical-align: top;\n",
       "    }\n",
       "\n",
       "    .dataframe thead th {\n",
       "        text-align: right;\n",
       "    }\n",
       "</style>\n",
       "<table border=\"1\" class=\"dataframe\">\n",
       "  <thead>\n",
       "    <tr style=\"text-align: right;\">\n",
       "      <th></th>\n",
       "      <th>high</th>\n",
       "      <th>low</th>\n",
       "      <th>close</th>\n",
       "      <th>volume</th>\n",
       "      <th>atr</th>\n",
       "    </tr>\n",
       "    <tr>\n",
       "      <th>날짜</th>\n",
       "      <th></th>\n",
       "      <th></th>\n",
       "      <th></th>\n",
       "      <th></th>\n",
       "      <th></th>\n",
       "    </tr>\n",
       "  </thead>\n",
       "  <tbody>\n",
       "    <tr>\n",
       "      <th>2021-10-05</th>\n",
       "      <td>73000</td>\n",
       "      <td>71400</td>\n",
       "      <td>72200</td>\n",
       "      <td>24013921</td>\n",
       "      <td></td>\n",
       "    </tr>\n",
       "    <tr>\n",
       "      <th>2021-10-06</th>\n",
       "      <td>72800</td>\n",
       "      <td>71200</td>\n",
       "      <td>71300</td>\n",
       "      <td>18956962</td>\n",
       "      <td></td>\n",
       "    </tr>\n",
       "  </tbody>\n",
       "</table>\n",
       "</div>"
      ],
      "text/plain": [
       "             high    low  close    volume atr\n",
       "날짜                                           \n",
       "2021-10-05  73000  71400  72200  24013921    \n",
       "2021-10-06  72800  71200  71300  18956962    "
      ]
     },
     "execution_count": 5,
     "metadata": {},
     "output_type": "execute_result"
    }
   ],
   "source": [
    "df_atr = df.rename(index={'날짜':'Date'}).drop(columns=\"시가\", axis=1)\n",
    "df_atr.columns= ['high', 'low','close','volume']\n",
    "df_atr[\"atr\"] = \"\"\n",
    "df_atr"
   ]
  },
  {
   "cell_type": "code",
   "execution_count": 6,
   "id": "06bb852b",
   "metadata": {},
   "outputs": [
    {
     "data": {
      "text/html": [
       "<div>\n",
       "<style scoped>\n",
       "    .dataframe tbody tr th:only-of-type {\n",
       "        vertical-align: middle;\n",
       "    }\n",
       "\n",
       "    .dataframe tbody tr th {\n",
       "        vertical-align: top;\n",
       "    }\n",
       "\n",
       "    .dataframe thead th {\n",
       "        text-align: right;\n",
       "    }\n",
       "</style>\n",
       "<table border=\"1\" class=\"dataframe\">\n",
       "  <thead>\n",
       "    <tr style=\"text-align: right;\">\n",
       "      <th></th>\n",
       "      <th>high</th>\n",
       "      <th>low</th>\n",
       "      <th>close</th>\n",
       "      <th>volume</th>\n",
       "      <th>atr</th>\n",
       "    </tr>\n",
       "    <tr>\n",
       "      <th>날짜</th>\n",
       "      <th></th>\n",
       "      <th></th>\n",
       "      <th></th>\n",
       "      <th></th>\n",
       "      <th></th>\n",
       "    </tr>\n",
       "  </thead>\n",
       "  <tbody>\n",
       "    <tr>\n",
       "      <th>2021-10-05</th>\n",
       "      <td>73000</td>\n",
       "      <td>71400</td>\n",
       "      <td>72200</td>\n",
       "      <td>24013921</td>\n",
       "      <td></td>\n",
       "    </tr>\n",
       "    <tr>\n",
       "      <th>2021-10-06</th>\n",
       "      <td>72800</td>\n",
       "      <td>71200</td>\n",
       "      <td>71300</td>\n",
       "      <td>18956962</td>\n",
       "      <td>1700</td>\n",
       "    </tr>\n",
       "  </tbody>\n",
       "</table>\n",
       "</div>"
      ],
      "text/plain": [
       "             high    low  close    volume   atr\n",
       "날짜                                             \n",
       "2021-10-05  73000  71400  72200  24013921      \n",
       "2021-10-06  72800  71200  71300  18956962  1700"
      ]
     },
     "execution_count": 6,
     "metadata": {},
     "output_type": "execute_result"
    }
   ],
   "source": [
    "lst = []\n",
    "atr = []\n",
    "# 0->날짜, 1->종가, 2->고가, 3->저가\n",
    "# 0->고가, 1->저가, 2->종가\n",
    "for i in range(len(df_atr)-1):\n",
    "    a = df_atr.iloc[i,0] - df_atr.iloc[i,1]  # 고가-저가\n",
    "    b = df_atr.iloc[i,0] - df_atr.iloc[i+1,2]  # 고가-전날종가\n",
    "    c = df_atr.iloc[i,1] - df_atr.iloc[i+1,2]  # 저가-전날종가\n",
    "    lst = [abs(a),abs(b),abs(c)]\n",
    "    atr.append(max(lst))\n",
    "df_atr.iloc[1,4] = atr\n",
    "df_atr"
   ]
  },
  {
   "cell_type": "code",
   "execution_count": 7,
   "id": "858b31c8",
   "metadata": {},
   "outputs": [
    {
     "data": {
      "text/plain": [
       "(numpy.int32, list)"
      ]
     },
     "execution_count": 7,
     "metadata": {},
     "output_type": "execute_result"
    }
   ],
   "source": [
    "type(max(lst)), type(atr)"
   ]
  },
  {
   "cell_type": "code",
   "execution_count": 8,
   "id": "fe93f1a9",
   "metadata": {},
   "outputs": [
    {
     "name": "stdout",
     "output_type": "stream",
     "text": [
      "            close    volume   atr\n",
      "날짜                               \n",
      "2021-10-06  71300  18956962  1700\n"
     ]
    }
   ],
   "source": [
    "df_atr = df_atr[1:]\n",
    "print(df_atr[['close','volume','atr']])"
   ]
  },
  {
   "cell_type": "markdown",
   "id": "945f7c31",
   "metadata": {},
   "source": [
    "# PER, PBR"
   ]
  },
  {
   "cell_type": "code",
   "execution_count": 9,
   "id": "657ca144",
   "metadata": {},
   "outputs": [
    {
     "data": {
      "text/html": [
       "<div>\n",
       "<style scoped>\n",
       "    .dataframe tbody tr th:only-of-type {\n",
       "        vertical-align: middle;\n",
       "    }\n",
       "\n",
       "    .dataframe tbody tr th {\n",
       "        vertical-align: top;\n",
       "    }\n",
       "\n",
       "    .dataframe thead th {\n",
       "        text-align: right;\n",
       "    }\n",
       "</style>\n",
       "<table border=\"1\" class=\"dataframe\">\n",
       "  <thead>\n",
       "    <tr style=\"text-align: right;\">\n",
       "      <th></th>\n",
       "      <th>BPS</th>\n",
       "      <th>PER</th>\n",
       "      <th>PBR</th>\n",
       "      <th>EPS</th>\n",
       "      <th>DIV</th>\n",
       "      <th>DPS</th>\n",
       "    </tr>\n",
       "    <tr>\n",
       "      <th>날짜</th>\n",
       "      <th></th>\n",
       "      <th></th>\n",
       "      <th></th>\n",
       "      <th></th>\n",
       "      <th></th>\n",
       "      <th></th>\n",
       "    </tr>\n",
       "  </thead>\n",
       "  <tbody>\n",
       "    <tr>\n",
       "      <th>2021-10-06</th>\n",
       "      <td>39406</td>\n",
       "      <td>18.56</td>\n",
       "      <td>1.81</td>\n",
       "      <td>3841</td>\n",
       "      <td>4.2</td>\n",
       "      <td>2994</td>\n",
       "    </tr>\n",
       "  </tbody>\n",
       "</table>\n",
       "</div>"
      ],
      "text/plain": [
       "              BPS    PER   PBR   EPS  DIV   DPS\n",
       "날짜                                             \n",
       "2021-10-06  39406  18.56  1.81  3841  4.2  2994"
      ]
     },
     "execution_count": 9,
     "metadata": {},
     "output_type": "execute_result"
    }
   ],
   "source": [
    "# PER, PBR\n",
    "\n",
    "df_per = stock.get_market_fundamental_by_date(yesterday, yesterday, \"005930\")  # 어제 데이터 가져오기\n",
    "df_per"
   ]
  },
  {
   "cell_type": "code",
   "execution_count": 10,
   "id": "7e923f4e",
   "metadata": {},
   "outputs": [
    {
     "data": {
      "text/html": [
       "<div>\n",
       "<style scoped>\n",
       "    .dataframe tbody tr th:only-of-type {\n",
       "        vertical-align: middle;\n",
       "    }\n",
       "\n",
       "    .dataframe tbody tr th {\n",
       "        vertical-align: top;\n",
       "    }\n",
       "\n",
       "    .dataframe thead th {\n",
       "        text-align: right;\n",
       "    }\n",
       "</style>\n",
       "<table border=\"1\" class=\"dataframe\">\n",
       "  <thead>\n",
       "    <tr style=\"text-align: right;\">\n",
       "      <th></th>\n",
       "      <th>PER</th>\n",
       "      <th>PBR</th>\n",
       "    </tr>\n",
       "    <tr>\n",
       "      <th>날짜</th>\n",
       "      <th></th>\n",
       "      <th></th>\n",
       "    </tr>\n",
       "  </thead>\n",
       "  <tbody>\n",
       "    <tr>\n",
       "      <th>2021-10-06</th>\n",
       "      <td>18.56</td>\n",
       "      <td>1.81</td>\n",
       "    </tr>\n",
       "  </tbody>\n",
       "</table>\n",
       "</div>"
      ],
      "text/plain": [
       "              PER   PBR\n",
       "날짜                     \n",
       "2021-10-06  18.56  1.81"
      ]
     },
     "execution_count": 10,
     "metadata": {},
     "output_type": "execute_result"
    }
   ],
   "source": [
    "df_per = df_per[['PER', 'PBR']]\n",
    "df_per"
   ]
  },
  {
   "cell_type": "markdown",
   "id": "717cc4e4",
   "metadata": {},
   "source": [
    "# 거래실적  \n",
    "#### 업데이트 늦음"
   ]
  },
  {
   "cell_type": "code",
   "execution_count": 11,
   "id": "61d1bcaa",
   "metadata": {},
   "outputs": [
    {
     "data": {
      "text/html": [
       "<div>\n",
       "<style scoped>\n",
       "    .dataframe tbody tr th:only-of-type {\n",
       "        vertical-align: middle;\n",
       "    }\n",
       "\n",
       "    .dataframe tbody tr th {\n",
       "        vertical-align: top;\n",
       "    }\n",
       "\n",
       "    .dataframe thead th {\n",
       "        text-align: right;\n",
       "    }\n",
       "</style>\n",
       "<table border=\"1\" class=\"dataframe\">\n",
       "  <thead>\n",
       "    <tr style=\"text-align: right;\">\n",
       "      <th></th>\n",
       "      <th>기관합계</th>\n",
       "      <th>기타법인</th>\n",
       "      <th>개인</th>\n",
       "      <th>외국인합계</th>\n",
       "      <th>전체</th>\n",
       "    </tr>\n",
       "    <tr>\n",
       "      <th>날짜</th>\n",
       "      <th></th>\n",
       "      <th></th>\n",
       "      <th></th>\n",
       "      <th></th>\n",
       "      <th></th>\n",
       "    </tr>\n",
       "  </thead>\n",
       "  <tbody>\n",
       "    <tr>\n",
       "      <th>2021-10-06</th>\n",
       "      <td>-25002783100</td>\n",
       "      <td>2975716600</td>\n",
       "      <td>98910041100</td>\n",
       "      <td>-76882974600</td>\n",
       "      <td>0</td>\n",
       "    </tr>\n",
       "  </tbody>\n",
       "</table>\n",
       "</div>"
      ],
      "text/plain": [
       "                   기관합계        기타법인           개인        외국인합계  전체\n",
       "날짜                                                               \n",
       "2021-10-06 -25002783100  2975716600  98910041100 -76882974600   0"
      ]
     },
     "execution_count": 11,
     "metadata": {},
     "output_type": "execute_result"
    }
   ],
   "source": [
    "# 투자자별 거래실적\n",
    "\n",
    "df_value = stock.get_market_trading_value_by_date(yesterday, yesterday, \"005930\")\n",
    "df_value"
   ]
  },
  {
   "cell_type": "code",
   "execution_count": 13,
   "id": "6f677394",
   "metadata": {},
   "outputs": [
    {
     "data": {
      "text/plain": [
       "Index(['기관합계', '기타법인', '개인', '외국인합계', '전체'], dtype='object')"
      ]
     },
     "execution_count": 13,
     "metadata": {},
     "output_type": "execute_result"
    }
   ],
   "source": [
    "df_value.columns"
   ]
  },
  {
   "cell_type": "code",
   "execution_count": 14,
   "id": "4aea64b7",
   "metadata": {},
   "outputs": [
    {
     "data": {
      "text/html": [
       "<div>\n",
       "<style scoped>\n",
       "    .dataframe tbody tr th:only-of-type {\n",
       "        vertical-align: middle;\n",
       "    }\n",
       "\n",
       "    .dataframe tbody tr th {\n",
       "        vertical-align: top;\n",
       "    }\n",
       "\n",
       "    .dataframe thead th {\n",
       "        text-align: right;\n",
       "    }\n",
       "</style>\n",
       "<table border=\"1\" class=\"dataframe\">\n",
       "  <thead>\n",
       "    <tr style=\"text-align: right;\">\n",
       "      <th></th>\n",
       "      <th>기관합계</th>\n",
       "      <th>기타법인</th>\n",
       "      <th>개인</th>\n",
       "      <th>외국인합계</th>\n",
       "    </tr>\n",
       "    <tr>\n",
       "      <th>날짜</th>\n",
       "      <th></th>\n",
       "      <th></th>\n",
       "      <th></th>\n",
       "      <th></th>\n",
       "    </tr>\n",
       "  </thead>\n",
       "  <tbody>\n",
       "    <tr>\n",
       "      <th>2021-10-06</th>\n",
       "      <td>-25002783100</td>\n",
       "      <td>2975716600</td>\n",
       "      <td>98910041100</td>\n",
       "      <td>-76882974600</td>\n",
       "    </tr>\n",
       "  </tbody>\n",
       "</table>\n",
       "</div>"
      ],
      "text/plain": [
       "                   기관합계        기타법인           개인        외국인합계\n",
       "날짜                                                           \n",
       "2021-10-06 -25002783100  2975716600  98910041100 -76882974600"
      ]
     },
     "execution_count": 14,
     "metadata": {},
     "output_type": "execute_result"
    }
   ],
   "source": [
    "df_value= df_value.drop(['전체'], axis = 1)\n",
    "df_value"
   ]
  },
  {
   "cell_type": "code",
   "execution_count": 12,
   "id": "722ff392",
   "metadata": {},
   "outputs": [
    {
     "data": {
      "text/html": [
       "<div>\n",
       "<style scoped>\n",
       "    .dataframe tbody tr th:only-of-type {\n",
       "        vertical-align: middle;\n",
       "    }\n",
       "\n",
       "    .dataframe tbody tr th {\n",
       "        vertical-align: top;\n",
       "    }\n",
       "\n",
       "    .dataframe thead th {\n",
       "        text-align: right;\n",
       "    }\n",
       "</style>\n",
       "<table border=\"1\" class=\"dataframe\">\n",
       "  <thead>\n",
       "    <tr style=\"text-align: right;\">\n",
       "      <th></th>\n",
       "      <th>기관합계</th>\n",
       "      <th>기타법인</th>\n",
       "      <th>개인</th>\n",
       "      <th>외국인합계</th>\n",
       "      <th>전체</th>\n",
       "    </tr>\n",
       "    <tr>\n",
       "      <th>날짜</th>\n",
       "      <th></th>\n",
       "      <th></th>\n",
       "      <th></th>\n",
       "      <th></th>\n",
       "      <th></th>\n",
       "    </tr>\n",
       "  </thead>\n",
       "  <tbody>\n",
       "    <tr>\n",
       "      <th>2021-10-07</th>\n",
       "      <td>99892861200</td>\n",
       "      <td>-180317200</td>\n",
       "      <td>90663441900</td>\n",
       "      <td>-190375985900</td>\n",
       "      <td>0</td>\n",
       "    </tr>\n",
       "  </tbody>\n",
       "</table>\n",
       "</div>"
      ],
      "text/plain": [
       "                   기관합계       기타법인           개인         외국인합계  전체\n",
       "날짜                                                               \n",
       "2021-10-07  99892861200 -180317200  90663441900 -190375985900   0"
      ]
     },
     "execution_count": 12,
     "metadata": {},
     "output_type": "execute_result"
    }
   ],
   "source": [
    "df_v = stock.get_market_trading_value_by_date(today, today, \"005930\")  # 오늘 데이터\n",
    "df_v"
   ]
  },
  {
   "cell_type": "markdown",
   "id": "da72b732",
   "metadata": {},
   "source": [
    "# 컬럼 수정"
   ]
  },
  {
   "cell_type": "code",
   "execution_count": 15,
   "id": "ce3da807",
   "metadata": {},
   "outputs": [
    {
     "data": {
      "text/html": [
       "<div>\n",
       "<style scoped>\n",
       "    .dataframe tbody tr th:only-of-type {\n",
       "        vertical-align: middle;\n",
       "    }\n",
       "\n",
       "    .dataframe tbody tr th {\n",
       "        vertical-align: top;\n",
       "    }\n",
       "\n",
       "    .dataframe thead th {\n",
       "        text-align: right;\n",
       "    }\n",
       "</style>\n",
       "<table border=\"1\" class=\"dataframe\">\n",
       "  <thead>\n",
       "    <tr style=\"text-align: right;\">\n",
       "      <th></th>\n",
       "      <th>high</th>\n",
       "      <th>low</th>\n",
       "      <th>close</th>\n",
       "      <th>volume</th>\n",
       "      <th>atr</th>\n",
       "      <th>PER</th>\n",
       "      <th>PBR</th>\n",
       "      <th>기관합계</th>\n",
       "      <th>기타법인</th>\n",
       "      <th>개인</th>\n",
       "      <th>외국인합계</th>\n",
       "    </tr>\n",
       "    <tr>\n",
       "      <th>날짜</th>\n",
       "      <th></th>\n",
       "      <th></th>\n",
       "      <th></th>\n",
       "      <th></th>\n",
       "      <th></th>\n",
       "      <th></th>\n",
       "      <th></th>\n",
       "      <th></th>\n",
       "      <th></th>\n",
       "      <th></th>\n",
       "      <th></th>\n",
       "    </tr>\n",
       "  </thead>\n",
       "  <tbody>\n",
       "    <tr>\n",
       "      <th>2021-10-06</th>\n",
       "      <td>72800</td>\n",
       "      <td>71200</td>\n",
       "      <td>71300</td>\n",
       "      <td>18956962</td>\n",
       "      <td>1700</td>\n",
       "      <td>18.56</td>\n",
       "      <td>1.81</td>\n",
       "      <td>-25002783100</td>\n",
       "      <td>2975716600</td>\n",
       "      <td>98910041100</td>\n",
       "      <td>-76882974600</td>\n",
       "    </tr>\n",
       "  </tbody>\n",
       "</table>\n",
       "</div>"
      ],
      "text/plain": [
       "             high    low  close    volume   atr    PER   PBR         기관합계  \\\n",
       "날짜                                                                          \n",
       "2021-10-06  72800  71200  71300  18956962  1700  18.56  1.81 -25002783100   \n",
       "\n",
       "                  기타법인           개인        외국인합계  \n",
       "날짜                                                \n",
       "2021-10-06  2975716600  98910041100 -76882974600  "
      ]
     },
     "execution_count": 15,
     "metadata": {},
     "output_type": "execute_result"
    }
   ],
   "source": [
    "import pandas as pd\n",
    "\n",
    "df = pd.concat([df_atr, df_per, df_value],axis=1)\n",
    "df"
   ]
  },
  {
   "cell_type": "code",
   "execution_count": 16,
   "id": "51c484ac",
   "metadata": {},
   "outputs": [
    {
     "data": {
      "text/html": [
       "<div>\n",
       "<style scoped>\n",
       "    .dataframe tbody tr th:only-of-type {\n",
       "        vertical-align: middle;\n",
       "    }\n",
       "\n",
       "    .dataframe tbody tr th {\n",
       "        vertical-align: top;\n",
       "    }\n",
       "\n",
       "    .dataframe thead th {\n",
       "        text-align: right;\n",
       "    }\n",
       "</style>\n",
       "<table border=\"1\" class=\"dataframe\">\n",
       "  <thead>\n",
       "    <tr style=\"text-align: right;\">\n",
       "      <th></th>\n",
       "      <th>Date</th>\n",
       "      <th>high</th>\n",
       "      <th>low</th>\n",
       "      <th>close</th>\n",
       "      <th>volume</th>\n",
       "      <th>atr</th>\n",
       "      <th>PER</th>\n",
       "      <th>PBR</th>\n",
       "      <th>기관합계</th>\n",
       "      <th>기타법인</th>\n",
       "      <th>개인</th>\n",
       "      <th>외국인합계</th>\n",
       "    </tr>\n",
       "  </thead>\n",
       "  <tbody>\n",
       "    <tr>\n",
       "      <th>0</th>\n",
       "      <td>2021-10-06</td>\n",
       "      <td>72800</td>\n",
       "      <td>71200</td>\n",
       "      <td>71300</td>\n",
       "      <td>18956962</td>\n",
       "      <td>1700</td>\n",
       "      <td>18.56</td>\n",
       "      <td>1.81</td>\n",
       "      <td>-25002783100</td>\n",
       "      <td>2975716600</td>\n",
       "      <td>98910041100</td>\n",
       "      <td>-76882974600</td>\n",
       "    </tr>\n",
       "  </tbody>\n",
       "</table>\n",
       "</div>"
      ],
      "text/plain": [
       "        Date   high    low  close    volume   atr    PER   PBR         기관합계  \\\n",
       "0 2021-10-06  72800  71200  71300  18956962  1700  18.56  1.81 -25002783100   \n",
       "\n",
       "         기타법인           개인        외국인합계  \n",
       "0  2975716600  98910041100 -76882974600  "
      ]
     },
     "execution_count": 16,
     "metadata": {},
     "output_type": "execute_result"
    }
   ],
   "source": [
    "df = df.reset_index()\n",
    "df_new = df.rename(columns={'날짜': 'Date'})\n",
    "df_new"
   ]
  },
  {
   "cell_type": "markdown",
   "id": "92e821a3",
   "metadata": {},
   "source": [
    "# 함수화"
   ]
  },
  {
   "cell_type": "code",
   "execution_count": 35,
   "id": "5e5ddfd4",
   "metadata": {},
   "outputs": [
    {
     "name": "stdout",
     "output_type": "stream",
     "text": [
      "                y    volume   atr    per   pbr  institution        corp  \\\n",
      "date                                                                      \n",
      "2021-10-06  71300  18956962  1700  18.56  1.81 -25002783100  2975716600   \n",
      "\n",
      "                 retail      foreign  \n",
      "date                                  \n",
      "2021-10-06  98910041100 -76882974600  \n"
     ]
    }
   ],
   "source": [
    "from pykrx import stock\n",
    "import pandas as pd\n",
    "\n",
    "class UpdateDB:\n",
    "    def __init__(self):\n",
    "        self.yday = (date.today() - timedelta(1)).strftime('%Y%m%d')\n",
    "        self.bfyday = (date.today() - timedelta(2)).strftime('%Y%m%d')\n",
    "        self.bffyday = (date.today() - timedelta(3)).strftime('%Y%m%d')\n",
    "\n",
    "    def getKRX(self, code):\n",
    "        self.stockname = stock.get_market_ticker_name(code)\n",
    "        def getATR():\n",
    "            df_a = stock.get_market_ohlcv_by_date(self.bffyday, self.yday, code)\n",
    "            df_atr = df_a.rename(index={'날짜': 'Date'}).drop(columns=\"시가\", axis=1)\n",
    "            df_atr.columns = ['high', 'low', 'close', 'volume']\n",
    "            df_atr[\"atr\"] = \"\"\n",
    "            lst = []\n",
    "            atr = []\n",
    "            for i in range(len(df_atr) - 1):\n",
    "                a = df_atr.iloc[i, 0] - df_atr.iloc[i, 1]  # 고가-저가\n",
    "                b = df_atr.iloc[i, 0] - df_atr.iloc[i + 1, 2]  # 고가-전날종가\n",
    "                c = df_atr.iloc[i, 1] - df_atr.iloc[i + 1, 2]  # 저가-전날종가\n",
    "                lst = [abs(a), abs(b), abs(c)]\n",
    "                atr.append(max(lst))\n",
    "            df_atr.iloc[1, 4] = atr\n",
    "            df_atr = df_atr[1:]\n",
    "            return df_atr[['close','volume','atr']]\n",
    "        self.ohlcv = getATR()\n",
    "        self.funda = stock.get_market_fundamental_by_date(self.yday, self.yday, code)[['PER', 'PBR']]\n",
    "        self.value = stock.get_market_trading_value_by_date(self.yday, self.yday, code).drop(['전체'], axis=1)\n",
    "\n",
    "        self.df = pd.concat([self.ohlcv, self.funda, self.value], axis=1)\n",
    "        self.df_krx = self.df.reset_index()\n",
    "        self.df_krx.columns=['date','y','volume', 'atr', 'per', 'pbr', 'institution', 'corp', 'retail', 'foreign']\n",
    "        self.df_krx = self.df_krx.set_index('date')\n",
    "        return self.df_krx\n",
    "\n",
    "\n",
    "if __name__ == \"__main__\":\n",
    "\n",
    "    updatedb = UpdateDB()\n",
    "    updatedb.getKRX('005930')"
   ]
  },
  {
   "cell_type": "code",
   "execution_count": null,
   "id": "62a52a6c",
   "metadata": {},
   "outputs": [],
   "source": []
  }
 ],
 "metadata": {
  "kernelspec": {
   "display_name": "Python 3",
   "language": "python",
   "name": "python3"
  },
  "language_info": {
   "codemirror_mode": {
    "name": "ipython",
    "version": 3
   },
   "file_extension": ".py",
   "mimetype": "text/x-python",
   "name": "python",
   "nbconvert_exporter": "python",
   "pygments_lexer": "ipython3",
   "version": "3.8.8"
  }
 },
 "nbformat": 4,
 "nbformat_minor": 5
}
