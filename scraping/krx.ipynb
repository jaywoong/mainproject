{
 "cells": [
  {
   "cell_type": "markdown",
   "id": "4c475ea1",
   "metadata": {},
   "source": [
    "> KRX 에서 종가, 거래량, PER, PBR, 투자자별 거래실적 가져오기"
   ]
  },
  {
   "cell_type": "code",
   "execution_count": 15,
   "id": "3ffaa3cd",
   "metadata": {},
   "outputs": [],
   "source": [
    "#!pip install pykrx\n",
    "from pykrx import stock"
   ]
  },
  {
   "cell_type": "code",
   "execution_count": 3,
   "id": "011d2380",
   "metadata": {},
   "outputs": [
    {
     "name": "stdout",
     "output_type": "stream",
     "text": [
      "['095570', '006840', '027410', '282330', '138930', '001460'] 938\n"
     ]
    },
    {
     "data": {
      "text/plain": [
       "'삼성전자'"
      ]
     },
     "execution_count": 3,
     "metadata": {},
     "output_type": "execute_result"
    }
   ],
   "source": [
    "# KOSPI \n",
    "stock_code = stock.get_market_ticker_list(market=\"KOSPI\")\n",
    "print(stock_code[:6], len(stock_code)) # 종목 개수\n",
    "\n",
    "# 종목명 반환\n",
    "stock_name = stock.get_market_ticker_name(\"005930\")\n",
    "stock_name"
   ]
  },
  {
   "cell_type": "code",
   "execution_count": 4,
   "id": "6a412d42",
   "metadata": {},
   "outputs": [],
   "source": [
    "# 날짜\n",
    "from datetime import date, timedelta\n",
    "\n",
    "today = date.today().strftime('%Y%m%d')\n",
    "yesterday = (date.today() - timedelta(1)).strftime('%Y%m%d')\n",
    "beforeyday = (date.today() - timedelta(2)).strftime('%Y%m%d')"
   ]
  },
  {
   "cell_type": "markdown",
   "id": "81429c10",
   "metadata": {},
   "source": [
    "# 거래량"
   ]
  },
  {
   "cell_type": "code",
   "execution_count": 5,
   "id": "5519f35d",
   "metadata": {},
   "outputs": [
    {
     "data": {
      "text/html": [
       "<div>\n",
       "<style scoped>\n",
       "    .dataframe tbody tr th:only-of-type {\n",
       "        vertical-align: middle;\n",
       "    }\n",
       "\n",
       "    .dataframe tbody tr th {\n",
       "        vertical-align: top;\n",
       "    }\n",
       "\n",
       "    .dataframe thead th {\n",
       "        text-align: right;\n",
       "    }\n",
       "</style>\n",
       "<table border=\"1\" class=\"dataframe\">\n",
       "  <thead>\n",
       "    <tr style=\"text-align: right;\">\n",
       "      <th></th>\n",
       "      <th>시가</th>\n",
       "      <th>고가</th>\n",
       "      <th>저가</th>\n",
       "      <th>종가</th>\n",
       "      <th>거래량</th>\n",
       "    </tr>\n",
       "    <tr>\n",
       "      <th>날짜</th>\n",
       "      <th></th>\n",
       "      <th></th>\n",
       "      <th></th>\n",
       "      <th></th>\n",
       "      <th></th>\n",
       "    </tr>\n",
       "  </thead>\n",
       "  <tbody>\n",
       "    <tr>\n",
       "      <th>2021-09-30</th>\n",
       "      <td>74300</td>\n",
       "      <td>74800</td>\n",
       "      <td>73700</td>\n",
       "      <td>74100</td>\n",
       "      <td>19919361</td>\n",
       "    </tr>\n",
       "    <tr>\n",
       "      <th>2021-10-01</th>\n",
       "      <td>73900</td>\n",
       "      <td>74000</td>\n",
       "      <td>72900</td>\n",
       "      <td>73200</td>\n",
       "      <td>15704195</td>\n",
       "    </tr>\n",
       "  </tbody>\n",
       "</table>\n",
       "</div>"
      ],
      "text/plain": [
       "               시가     고가     저가     종가       거래량\n",
       "날짜                                              \n",
       "2021-09-30  74300  74800  73700  74100  19919361\n",
       "2021-10-01  73900  74000  72900  73200  15704195"
      ]
     },
     "execution_count": 5,
     "metadata": {},
     "output_type": "execute_result"
    }
   ],
   "source": [
    "# 개별종목 시세 추이\n",
    "df = stock.get_market_ohlcv_by_date(beforeyday,today, ticker=\"005930\")\n",
    "df"
   ]
  },
  {
   "cell_type": "markdown",
   "id": "8f1e7e8e",
   "metadata": {},
   "source": [
    "#### atr  : 전일종가,고가,저가 중 차이가 큰 값을 구하기"
   ]
  },
  {
   "cell_type": "code",
   "execution_count": 6,
   "id": "35f37837",
   "metadata": {},
   "outputs": [
    {
     "data": {
      "text/html": [
       "<div>\n",
       "<style scoped>\n",
       "    .dataframe tbody tr th:only-of-type {\n",
       "        vertical-align: middle;\n",
       "    }\n",
       "\n",
       "    .dataframe tbody tr th {\n",
       "        vertical-align: top;\n",
       "    }\n",
       "\n",
       "    .dataframe thead th {\n",
       "        text-align: right;\n",
       "    }\n",
       "</style>\n",
       "<table border=\"1\" class=\"dataframe\">\n",
       "  <thead>\n",
       "    <tr style=\"text-align: right;\">\n",
       "      <th></th>\n",
       "      <th>high</th>\n",
       "      <th>low</th>\n",
       "      <th>close</th>\n",
       "      <th>volume</th>\n",
       "      <th>atr</th>\n",
       "    </tr>\n",
       "    <tr>\n",
       "      <th>날짜</th>\n",
       "      <th></th>\n",
       "      <th></th>\n",
       "      <th></th>\n",
       "      <th></th>\n",
       "      <th></th>\n",
       "    </tr>\n",
       "  </thead>\n",
       "  <tbody>\n",
       "    <tr>\n",
       "      <th>2021-09-30</th>\n",
       "      <td>74800</td>\n",
       "      <td>73700</td>\n",
       "      <td>74100</td>\n",
       "      <td>19919361</td>\n",
       "      <td></td>\n",
       "    </tr>\n",
       "    <tr>\n",
       "      <th>2021-10-01</th>\n",
       "      <td>74000</td>\n",
       "      <td>72900</td>\n",
       "      <td>73200</td>\n",
       "      <td>15704195</td>\n",
       "      <td></td>\n",
       "    </tr>\n",
       "  </tbody>\n",
       "</table>\n",
       "</div>"
      ],
      "text/plain": [
       "             high    low  close    volume atr\n",
       "날짜                                           \n",
       "2021-09-30  74800  73700  74100  19919361    \n",
       "2021-10-01  74000  72900  73200  15704195    "
      ]
     },
     "execution_count": 6,
     "metadata": {},
     "output_type": "execute_result"
    }
   ],
   "source": [
    "df_atr = df.rename(index={'날짜':'Date'}).drop(columns=\"시가\", axis=1)\n",
    "df_atr.columns= ['high', 'low','close','volume']\n",
    "df_atr[\"atr\"] = \"\"\n",
    "df_atr"
   ]
  },
  {
   "cell_type": "code",
   "execution_count": 7,
   "id": "06bb852b",
   "metadata": {},
   "outputs": [
    {
     "data": {
      "text/html": [
       "<div>\n",
       "<style scoped>\n",
       "    .dataframe tbody tr th:only-of-type {\n",
       "        vertical-align: middle;\n",
       "    }\n",
       "\n",
       "    .dataframe tbody tr th {\n",
       "        vertical-align: top;\n",
       "    }\n",
       "\n",
       "    .dataframe thead th {\n",
       "        text-align: right;\n",
       "    }\n",
       "</style>\n",
       "<table border=\"1\" class=\"dataframe\">\n",
       "  <thead>\n",
       "    <tr style=\"text-align: right;\">\n",
       "      <th></th>\n",
       "      <th>high</th>\n",
       "      <th>low</th>\n",
       "      <th>close</th>\n",
       "      <th>volume</th>\n",
       "      <th>atr</th>\n",
       "    </tr>\n",
       "    <tr>\n",
       "      <th>날짜</th>\n",
       "      <th></th>\n",
       "      <th></th>\n",
       "      <th></th>\n",
       "      <th></th>\n",
       "      <th></th>\n",
       "    </tr>\n",
       "  </thead>\n",
       "  <tbody>\n",
       "    <tr>\n",
       "      <th>2021-09-30</th>\n",
       "      <td>74800</td>\n",
       "      <td>73700</td>\n",
       "      <td>74100</td>\n",
       "      <td>19919361</td>\n",
       "      <td></td>\n",
       "    </tr>\n",
       "    <tr>\n",
       "      <th>2021-10-01</th>\n",
       "      <td>74000</td>\n",
       "      <td>72900</td>\n",
       "      <td>73200</td>\n",
       "      <td>15704195</td>\n",
       "      <td>1600</td>\n",
       "    </tr>\n",
       "  </tbody>\n",
       "</table>\n",
       "</div>"
      ],
      "text/plain": [
       "             high    low  close    volume   atr\n",
       "날짜                                             \n",
       "2021-09-30  74800  73700  74100  19919361      \n",
       "2021-10-01  74000  72900  73200  15704195  1600"
      ]
     },
     "execution_count": 7,
     "metadata": {},
     "output_type": "execute_result"
    }
   ],
   "source": [
    "lst = []\n",
    "atr = []\n",
    "# 0->날짜, 1->종가, 2->고가, 3->저가\n",
    "# 0->고가, 1->저가, 2->종가\n",
    "for i in range(len(df_atr)-1):\n",
    "    a = df_atr.iloc[i,0] - df_atr.iloc[i,1]  # 고가-저가\n",
    "    b = df_atr.iloc[i,0] - df_atr.iloc[i+1,2]  # 고가-전날종가\n",
    "    c = df_atr.iloc[i,1] - df_atr.iloc[i+1,2]  # 저가-전날종가\n",
    "    lst = [abs(a),abs(b),abs(c)]\n",
    "    atr.append(max(lst))\n",
    "df_atr.iloc[1,4] = atr\n",
    "df_atr"
   ]
  },
  {
   "cell_type": "markdown",
   "id": "945f7c31",
   "metadata": {},
   "source": [
    "# PER, PBR"
   ]
  },
  {
   "cell_type": "code",
   "execution_count": 8,
   "id": "657ca144",
   "metadata": {},
   "outputs": [
    {
     "data": {
      "text/html": [
       "<div>\n",
       "<style scoped>\n",
       "    .dataframe tbody tr th:only-of-type {\n",
       "        vertical-align: middle;\n",
       "    }\n",
       "\n",
       "    .dataframe tbody tr th {\n",
       "        vertical-align: top;\n",
       "    }\n",
       "\n",
       "    .dataframe thead th {\n",
       "        text-align: right;\n",
       "    }\n",
       "</style>\n",
       "<table border=\"1\" class=\"dataframe\">\n",
       "  <thead>\n",
       "    <tr style=\"text-align: right;\">\n",
       "      <th></th>\n",
       "      <th>BPS</th>\n",
       "      <th>PER</th>\n",
       "      <th>PBR</th>\n",
       "      <th>EPS</th>\n",
       "      <th>DIV</th>\n",
       "      <th>DPS</th>\n",
       "    </tr>\n",
       "    <tr>\n",
       "      <th>날짜</th>\n",
       "      <th></th>\n",
       "      <th></th>\n",
       "      <th></th>\n",
       "      <th></th>\n",
       "      <th></th>\n",
       "      <th></th>\n",
       "    </tr>\n",
       "  </thead>\n",
       "  <tbody>\n",
       "    <tr>\n",
       "      <th>2021-10-01</th>\n",
       "      <td>39406</td>\n",
       "      <td>19.06</td>\n",
       "      <td>1.86</td>\n",
       "      <td>3841</td>\n",
       "      <td>4.09</td>\n",
       "      <td>2994</td>\n",
       "    </tr>\n",
       "  </tbody>\n",
       "</table>\n",
       "</div>"
      ],
      "text/plain": [
       "              BPS    PER   PBR   EPS   DIV   DPS\n",
       "날짜                                              \n",
       "2021-10-01  39406  19.06  1.86  3841  4.09  2994"
      ]
     },
     "execution_count": 8,
     "metadata": {},
     "output_type": "execute_result"
    }
   ],
   "source": [
    "# PER, PBR\n",
    "\n",
    "df_per = stock.get_market_fundamental_by_date(yesterday, today, \"005930\")\n",
    "df_per"
   ]
  },
  {
   "cell_type": "code",
   "execution_count": 9,
   "id": "7e923f4e",
   "metadata": {},
   "outputs": [
    {
     "data": {
      "text/html": [
       "<div>\n",
       "<style scoped>\n",
       "    .dataframe tbody tr th:only-of-type {\n",
       "        vertical-align: middle;\n",
       "    }\n",
       "\n",
       "    .dataframe tbody tr th {\n",
       "        vertical-align: top;\n",
       "    }\n",
       "\n",
       "    .dataframe thead th {\n",
       "        text-align: right;\n",
       "    }\n",
       "</style>\n",
       "<table border=\"1\" class=\"dataframe\">\n",
       "  <thead>\n",
       "    <tr style=\"text-align: right;\">\n",
       "      <th></th>\n",
       "      <th>PER</th>\n",
       "      <th>PBR</th>\n",
       "    </tr>\n",
       "    <tr>\n",
       "      <th>날짜</th>\n",
       "      <th></th>\n",
       "      <th></th>\n",
       "    </tr>\n",
       "  </thead>\n",
       "  <tbody>\n",
       "    <tr>\n",
       "      <th>2021-10-01</th>\n",
       "      <td>19.06</td>\n",
       "      <td>1.86</td>\n",
       "    </tr>\n",
       "  </tbody>\n",
       "</table>\n",
       "</div>"
      ],
      "text/plain": [
       "              PER   PBR\n",
       "날짜                     \n",
       "2021-10-01  19.06  1.86"
      ]
     },
     "execution_count": 9,
     "metadata": {},
     "output_type": "execute_result"
    }
   ],
   "source": [
    "df_per = df_per[['PER', 'PBR']]\n",
    "df_per"
   ]
  },
  {
   "cell_type": "markdown",
   "id": "717cc4e4",
   "metadata": {},
   "source": [
    "# 거래실적  \n",
    "#### 업데이트 늦음"
   ]
  },
  {
   "cell_type": "code",
   "execution_count": 10,
   "id": "61d1bcaa",
   "metadata": {},
   "outputs": [
    {
     "data": {
      "text/html": [
       "<div>\n",
       "<style scoped>\n",
       "    .dataframe tbody tr th:only-of-type {\n",
       "        vertical-align: middle;\n",
       "    }\n",
       "\n",
       "    .dataframe tbody tr th {\n",
       "        vertical-align: top;\n",
       "    }\n",
       "\n",
       "    .dataframe thead th {\n",
       "        text-align: right;\n",
       "    }\n",
       "</style>\n",
       "<table border=\"1\" class=\"dataframe\">\n",
       "  <thead>\n",
       "    <tr style=\"text-align: right;\">\n",
       "      <th></th>\n",
       "      <th>기관합계</th>\n",
       "      <th>기타법인</th>\n",
       "      <th>개인</th>\n",
       "      <th>외국인합계</th>\n",
       "      <th>전체</th>\n",
       "    </tr>\n",
       "    <tr>\n",
       "      <th>날짜</th>\n",
       "      <th></th>\n",
       "      <th></th>\n",
       "      <th></th>\n",
       "      <th></th>\n",
       "      <th></th>\n",
       "    </tr>\n",
       "  </thead>\n",
       "  <tbody>\n",
       "    <tr>\n",
       "      <th>2021-10-01</th>\n",
       "      <td>-160317703400</td>\n",
       "      <td>1783387400</td>\n",
       "      <td>215103170300</td>\n",
       "      <td>-56568854300</td>\n",
       "      <td>0</td>\n",
       "    </tr>\n",
       "  </tbody>\n",
       "</table>\n",
       "</div>"
      ],
      "text/plain": [
       "                    기관합계        기타법인            개인        외국인합계  전체\n",
       "날짜                                                                 \n",
       "2021-10-01 -160317703400  1783387400  215103170300 -56568854300   0"
      ]
     },
     "execution_count": 10,
     "metadata": {},
     "output_type": "execute_result"
    }
   ],
   "source": [
    "# 투자자별 거래실적\n",
    "\n",
    "df_value = stock.get_market_trading_value_by_date(yesterday,today, \"005930\")\n",
    "df_value"
   ]
  },
  {
   "cell_type": "code",
   "execution_count": 11,
   "id": "4aea64b7",
   "metadata": {},
   "outputs": [
    {
     "data": {
      "text/html": [
       "<div>\n",
       "<style scoped>\n",
       "    .dataframe tbody tr th:only-of-type {\n",
       "        vertical-align: middle;\n",
       "    }\n",
       "\n",
       "    .dataframe tbody tr th {\n",
       "        vertical-align: top;\n",
       "    }\n",
       "\n",
       "    .dataframe thead th {\n",
       "        text-align: right;\n",
       "    }\n",
       "</style>\n",
       "<table border=\"1\" class=\"dataframe\">\n",
       "  <thead>\n",
       "    <tr style=\"text-align: right;\">\n",
       "      <th></th>\n",
       "      <th>기관합계</th>\n",
       "      <th>기타법인</th>\n",
       "      <th>개인</th>\n",
       "      <th>외국인합계</th>\n",
       "    </tr>\n",
       "    <tr>\n",
       "      <th>날짜</th>\n",
       "      <th></th>\n",
       "      <th></th>\n",
       "      <th></th>\n",
       "      <th></th>\n",
       "    </tr>\n",
       "  </thead>\n",
       "  <tbody>\n",
       "    <tr>\n",
       "      <th>2021-10-01</th>\n",
       "      <td>-160317703400</td>\n",
       "      <td>1783387400</td>\n",
       "      <td>215103170300</td>\n",
       "      <td>-56568854300</td>\n",
       "    </tr>\n",
       "  </tbody>\n",
       "</table>\n",
       "</div>"
      ],
      "text/plain": [
       "                    기관합계        기타법인            개인        외국인합계\n",
       "날짜                                                             \n",
       "2021-10-01 -160317703400  1783387400  215103170300 -56568854300"
      ]
     },
     "execution_count": 11,
     "metadata": {},
     "output_type": "execute_result"
    }
   ],
   "source": [
    "df_value= df_value.drop(['전체'], axis = 1)\n",
    "df_value"
   ]
  },
  {
   "cell_type": "markdown",
   "id": "da72b732",
   "metadata": {},
   "source": [
    "# 컬럼 수정"
   ]
  },
  {
   "cell_type": "code",
   "execution_count": 12,
   "id": "ce3da807",
   "metadata": {},
   "outputs": [
    {
     "data": {
      "text/html": [
       "<div>\n",
       "<style scoped>\n",
       "    .dataframe tbody tr th:only-of-type {\n",
       "        vertical-align: middle;\n",
       "    }\n",
       "\n",
       "    .dataframe tbody tr th {\n",
       "        vertical-align: top;\n",
       "    }\n",
       "\n",
       "    .dataframe thead th {\n",
       "        text-align: right;\n",
       "    }\n",
       "</style>\n",
       "<table border=\"1\" class=\"dataframe\">\n",
       "  <thead>\n",
       "    <tr style=\"text-align: right;\">\n",
       "      <th></th>\n",
       "      <th>high</th>\n",
       "      <th>low</th>\n",
       "      <th>close</th>\n",
       "      <th>volume</th>\n",
       "      <th>atr</th>\n",
       "      <th>PER</th>\n",
       "      <th>PBR</th>\n",
       "      <th>기관합계</th>\n",
       "      <th>기타법인</th>\n",
       "      <th>개인</th>\n",
       "      <th>외국인합계</th>\n",
       "    </tr>\n",
       "    <tr>\n",
       "      <th>날짜</th>\n",
       "      <th></th>\n",
       "      <th></th>\n",
       "      <th></th>\n",
       "      <th></th>\n",
       "      <th></th>\n",
       "      <th></th>\n",
       "      <th></th>\n",
       "      <th></th>\n",
       "      <th></th>\n",
       "      <th></th>\n",
       "      <th></th>\n",
       "    </tr>\n",
       "  </thead>\n",
       "  <tbody>\n",
       "    <tr>\n",
       "      <th>2021-09-30</th>\n",
       "      <td>74800</td>\n",
       "      <td>73700</td>\n",
       "      <td>74100</td>\n",
       "      <td>19919361</td>\n",
       "      <td></td>\n",
       "      <td>NaN</td>\n",
       "      <td>NaN</td>\n",
       "      <td>NaN</td>\n",
       "      <td>NaN</td>\n",
       "      <td>NaN</td>\n",
       "      <td>NaN</td>\n",
       "    </tr>\n",
       "    <tr>\n",
       "      <th>2021-10-01</th>\n",
       "      <td>74000</td>\n",
       "      <td>72900</td>\n",
       "      <td>73200</td>\n",
       "      <td>15704195</td>\n",
       "      <td>1600</td>\n",
       "      <td>19.06</td>\n",
       "      <td>1.86</td>\n",
       "      <td>-1.603177e+11</td>\n",
       "      <td>1.783387e+09</td>\n",
       "      <td>2.151032e+11</td>\n",
       "      <td>-5.656885e+10</td>\n",
       "    </tr>\n",
       "  </tbody>\n",
       "</table>\n",
       "</div>"
      ],
      "text/plain": [
       "             high    low  close    volume   atr    PER   PBR          기관합계  \\\n",
       "날짜                                                                           \n",
       "2021-09-30  74800  73700  74100  19919361          NaN   NaN           NaN   \n",
       "2021-10-01  74000  72900  73200  15704195  1600  19.06  1.86 -1.603177e+11   \n",
       "\n",
       "                    기타법인            개인         외국인합계  \n",
       "날짜                                                    \n",
       "2021-09-30           NaN           NaN           NaN  \n",
       "2021-10-01  1.783387e+09  2.151032e+11 -5.656885e+10  "
      ]
     },
     "execution_count": 12,
     "metadata": {},
     "output_type": "execute_result"
    }
   ],
   "source": [
    "import pandas as pd\n",
    "\n",
    "df = pd.concat([df_atr, df_per, df_value],axis=1)\n",
    "df"
   ]
  },
  {
   "cell_type": "code",
   "execution_count": 13,
   "id": "51c484ac",
   "metadata": {},
   "outputs": [
    {
     "data": {
      "text/html": [
       "<div>\n",
       "<style scoped>\n",
       "    .dataframe tbody tr th:only-of-type {\n",
       "        vertical-align: middle;\n",
       "    }\n",
       "\n",
       "    .dataframe tbody tr th {\n",
       "        vertical-align: top;\n",
       "    }\n",
       "\n",
       "    .dataframe thead th {\n",
       "        text-align: right;\n",
       "    }\n",
       "</style>\n",
       "<table border=\"1\" class=\"dataframe\">\n",
       "  <thead>\n",
       "    <tr style=\"text-align: right;\">\n",
       "      <th></th>\n",
       "      <th>Date</th>\n",
       "      <th>high</th>\n",
       "      <th>low</th>\n",
       "      <th>close</th>\n",
       "      <th>volume</th>\n",
       "      <th>atr</th>\n",
       "      <th>PER</th>\n",
       "      <th>PBR</th>\n",
       "      <th>기관합계</th>\n",
       "      <th>기타법인</th>\n",
       "      <th>개인</th>\n",
       "      <th>외국인합계</th>\n",
       "    </tr>\n",
       "  </thead>\n",
       "  <tbody>\n",
       "    <tr>\n",
       "      <th>0</th>\n",
       "      <td>2021-09-30</td>\n",
       "      <td>74800</td>\n",
       "      <td>73700</td>\n",
       "      <td>74100</td>\n",
       "      <td>19919361</td>\n",
       "      <td></td>\n",
       "      <td>NaN</td>\n",
       "      <td>NaN</td>\n",
       "      <td>NaN</td>\n",
       "      <td>NaN</td>\n",
       "      <td>NaN</td>\n",
       "      <td>NaN</td>\n",
       "    </tr>\n",
       "    <tr>\n",
       "      <th>1</th>\n",
       "      <td>2021-10-01</td>\n",
       "      <td>74000</td>\n",
       "      <td>72900</td>\n",
       "      <td>73200</td>\n",
       "      <td>15704195</td>\n",
       "      <td>1600</td>\n",
       "      <td>19.06</td>\n",
       "      <td>1.86</td>\n",
       "      <td>-1.603177e+11</td>\n",
       "      <td>1.783387e+09</td>\n",
       "      <td>2.151032e+11</td>\n",
       "      <td>-5.656885e+10</td>\n",
       "    </tr>\n",
       "  </tbody>\n",
       "</table>\n",
       "</div>"
      ],
      "text/plain": [
       "        Date   high    low  close    volume   atr    PER   PBR          기관합계  \\\n",
       "0 2021-09-30  74800  73700  74100  19919361          NaN   NaN           NaN   \n",
       "1 2021-10-01  74000  72900  73200  15704195  1600  19.06  1.86 -1.603177e+11   \n",
       "\n",
       "           기타법인            개인         외국인합계  \n",
       "0           NaN           NaN           NaN  \n",
       "1  1.783387e+09  2.151032e+11 -5.656885e+10  "
      ]
     },
     "execution_count": 13,
     "metadata": {},
     "output_type": "execute_result"
    }
   ],
   "source": [
    "df = df.reset_index()\n",
    "df_new = df.rename(columns={'날짜': 'Date'})\n",
    "df_new"
   ]
  },
  {
   "cell_type": "markdown",
   "id": "92e821a3",
   "metadata": {},
   "source": [
    "# 함수화"
   ]
  },
  {
   "cell_type": "code",
   "execution_count": 14,
   "id": "5e5ddfd4",
   "metadata": {},
   "outputs": [
    {
     "name": "stdout",
     "output_type": "stream",
     "text": [
      "             high    low      y    volume    per   pbr   institution  \\\n",
      "date                                                                   \n",
      "2021-10-01  74000  72900  73200  15704195  19.06  1.86 -160317703400   \n",
      "\n",
      "                  corp        retail      foreign  \n",
      "date                                               \n",
      "2021-10-01  1783387400  215103170300 -56568854300  \n"
     ]
    }
   ],
   "source": [
    "from pykrx import stock\n",
    "import pandas as pd\n",
    "\n",
    "class KRX:\n",
    "    def getDate(self):\n",
    "        self.end = date.today().strftime('%Y%m%d')  # 오늘\n",
    "        self.start = (date.today() - timedelta(1)).strftime('%Y%m%d')  # 어제\n",
    "\n",
    "    def getStock(self, code):\n",
    "        self.ohlcv = stock.get_market_ohlcv_by_date(self.start, self.end, code).drop(['시가'], axis=1)\n",
    "        self.funda = stock.get_market_fundamental_by_date(self.start, self.end, code)[['PER', 'PBR']]\n",
    "        self.value = stock.get_market_trading_value_by_date(self.start, self.end, code).drop(['전체'], axis=1)\n",
    "\n",
    "    def saving(self):\n",
    "        self.df = pd.concat([self.ohlcv, self.funda, self.value], axis=1)\n",
    "        self.df_krx = self.df.reset_index()\n",
    "        self.df_krx.columns=['date', 'high','low','y','volume', 'per', 'pbr', 'institution', 'corp', 'retail', 'foreign']\n",
    "        #self.df_krx = self.df_krx.set_index(drop=True)\n",
    "        self.df_krx = self.df_krx.set_index('date')\n",
    "        print(self.df_krx)\n",
    "#         self.df_krx.to_sql('samsung', conn, if_exists='append') # 테이블명\n",
    "#         conn.commit()  # db에 저장\n",
    "\n",
    "if __name__ == \"__main__\":\n",
    "    \n",
    "    code = \"005930\"  # 종목코드\n",
    "    krx = KRX()\n",
    "    krx.getDate()\n",
    "    krx.getStock(code)\n",
    "    krx.saving()"
   ]
  }
 ],
 "metadata": {
  "kernelspec": {
   "display_name": "Python 3",
   "language": "python",
   "name": "python3"
  },
  "language_info": {
   "codemirror_mode": {
    "name": "ipython",
    "version": 3
   },
   "file_extension": ".py",
   "mimetype": "text/x-python",
   "name": "python",
   "nbconvert_exporter": "python",
   "pygments_lexer": "ipython3",
   "version": "3.8.8"
  }
 },
 "nbformat": 4,
 "nbformat_minor": 5
}
