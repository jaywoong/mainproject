{
 "cells": [
  {
   "cell_type": "code",
   "execution_count": 1,
   "id": "3ffaa3cd",
   "metadata": {},
   "outputs": [
    {
     "name": "stdout",
     "output_type": "stream",
     "text": [
      "Requirement already satisfied: pykrx in c:\\users\\user\\anaconda3\\lib\\site-packages (1.0.19)\n",
      "Requirement already satisfied: xlrd in c:\\users\\user\\anaconda3\\lib\\site-packages (from pykrx) (2.0.1)\n",
      "Requirement already satisfied: requests in c:\\users\\user\\anaconda3\\lib\\site-packages (from pykrx) (2.25.1)\n",
      "Requirement already satisfied: deprecated in c:\\users\\user\\anaconda3\\lib\\site-packages (from pykrx) (1.2.13)\n",
      "Requirement already satisfied: datetime in c:\\users\\user\\anaconda3\\lib\\site-packages (from pykrx) (4.3)\n",
      "Requirement already satisfied: numpy in c:\\users\\user\\anaconda3\\lib\\site-packages (from pykrx) (1.19.5)\n",
      "Requirement already satisfied: pandas in c:\\users\\user\\anaconda3\\lib\\site-packages (from pykrx) (1.2.4)\n",
      "Requirement already satisfied: zope.interface in c:\\users\\user\\anaconda3\\lib\\site-packages (from datetime->pykrx) (5.3.0)\n",
      "Requirement already satisfied: pytz in c:\\users\\user\\anaconda3\\lib\\site-packages (from datetime->pykrx) (2021.1)\n",
      "Requirement already satisfied: wrapt<2,>=1.10 in c:\\users\\user\\anaconda3\\lib\\site-packages (from deprecated->pykrx) (1.12.1)\n",
      "Requirement already satisfied: python-dateutil>=2.7.3 in c:\\users\\user\\anaconda3\\lib\\site-packages (from pandas->pykrx) (2.8.1)\n",
      "Requirement already satisfied: six>=1.5 in c:\\users\\user\\anaconda3\\lib\\site-packages (from python-dateutil>=2.7.3->pandas->pykrx) (1.15.0)\n",
      "Requirement already satisfied: idna<3,>=2.5 in c:\\users\\user\\anaconda3\\lib\\site-packages (from requests->pykrx) (2.10)\n",
      "Requirement already satisfied: chardet<5,>=3.0.2 in c:\\users\\user\\anaconda3\\lib\\site-packages (from requests->pykrx) (4.0.0)\n",
      "Requirement already satisfied: urllib3<1.27,>=1.21.1 in c:\\users\\user\\anaconda3\\lib\\site-packages (from requests->pykrx) (1.26.4)\n",
      "Requirement already satisfied: certifi>=2017.4.17 in c:\\users\\user\\anaconda3\\lib\\site-packages (from requests->pykrx) (2020.12.5)\n",
      "Requirement already satisfied: setuptools in c:\\users\\user\\anaconda3\\lib\\site-packages (from zope.interface->datetime->pykrx) (52.0.0.post20210125)\n"
     ]
    }
   ],
   "source": [
    "!pip install pykrx"
   ]
  },
  {
   "cell_type": "code",
   "execution_count": 1,
   "id": "76aaf6c6",
   "metadata": {},
   "outputs": [],
   "source": [
    "from pykrx import stock"
   ]
  },
  {
   "cell_type": "code",
   "execution_count": 2,
   "id": "011d2380",
   "metadata": {},
   "outputs": [
    {
     "data": {
      "text/plain": [
       "(['095570', '006840', '027410', '282330', '138930', '001460'], 938)"
      ]
     },
     "execution_count": 2,
     "metadata": {},
     "output_type": "execute_result"
    }
   ],
   "source": [
    "# KOSPI \n",
    "stock_code = stock.get_market_ticker_list(market=\"KOSPI\")\n",
    "(stock_code[:6], len(stock_code))\n",
    "\n",
    "# 937개의 종목 있음"
   ]
  },
  {
   "cell_type": "code",
   "execution_count": 3,
   "id": "46e67f6e",
   "metadata": {},
   "outputs": [
    {
     "data": {
      "text/plain": [
       "'삼성전자'"
      ]
     },
     "execution_count": 3,
     "metadata": {},
     "output_type": "execute_result"
    }
   ],
   "source": [
    "# 종목명 반환\n",
    "stock_name = stock.get_market_ticker_name(\"005930\")\n",
    "stock_name"
   ]
  },
  {
   "cell_type": "code",
   "execution_count": 4,
   "id": "6a412d42",
   "metadata": {},
   "outputs": [],
   "source": [
    "from datetime import date, timedelta\n",
    "\n",
    "today = date.today().strftime('%Y%m%d')\n",
    "yesterday = (date.today() - timedelta(1)).strftime('%Y%m%d')"
   ]
  },
  {
   "cell_type": "markdown",
   "id": "81429c10",
   "metadata": {},
   "source": [
    "# 거래량"
   ]
  },
  {
   "cell_type": "code",
   "execution_count": 6,
   "id": "5519f35d",
   "metadata": {},
   "outputs": [
    {
     "data": {
      "text/html": [
       "<div>\n",
       "<style scoped>\n",
       "    .dataframe tbody tr th:only-of-type {\n",
       "        vertical-align: middle;\n",
       "    }\n",
       "\n",
       "    .dataframe tbody tr th {\n",
       "        vertical-align: top;\n",
       "    }\n",
       "\n",
       "    .dataframe thead th {\n",
       "        text-align: right;\n",
       "    }\n",
       "</style>\n",
       "<table border=\"1\" class=\"dataframe\">\n",
       "  <thead>\n",
       "    <tr style=\"text-align: right;\">\n",
       "      <th></th>\n",
       "      <th>시가</th>\n",
       "      <th>고가</th>\n",
       "      <th>저가</th>\n",
       "      <th>종가</th>\n",
       "      <th>거래량</th>\n",
       "    </tr>\n",
       "    <tr>\n",
       "      <th>날짜</th>\n",
       "      <th></th>\n",
       "      <th></th>\n",
       "      <th></th>\n",
       "      <th></th>\n",
       "      <th></th>\n",
       "    </tr>\n",
       "  </thead>\n",
       "  <tbody>\n",
       "    <tr>\n",
       "      <th>2021-09-29</th>\n",
       "      <td>74800</td>\n",
       "      <td>75300</td>\n",
       "      <td>73800</td>\n",
       "      <td>73900</td>\n",
       "      <td>16280132</td>\n",
       "    </tr>\n",
       "  </tbody>\n",
       "</table>\n",
       "</div>"
      ],
      "text/plain": [
       "               시가     고가     저가     종가       거래량\n",
       "날짜                                              \n",
       "2021-09-29  74800  75300  73800  73900  16280132"
      ]
     },
     "execution_count": 6,
     "metadata": {},
     "output_type": "execute_result"
    }
   ],
   "source": [
    "# 개별종목 시세 추이\n",
    "\n",
    "df_volume = stock.get_market_ohlcv_by_date(fromdate=yesterday, todate=today, ticker=\"005930\")\n",
    "df_volume"
   ]
  },
  {
   "cell_type": "code",
   "execution_count": 7,
   "id": "91392eb5",
   "metadata": {},
   "outputs": [
    {
     "data": {
      "text/plain": [
       "DatetimeIndex(['2021-09-29'], dtype='datetime64[ns]', name='날짜', freq=None)"
      ]
     },
     "execution_count": 7,
     "metadata": {},
     "output_type": "execute_result"
    }
   ],
   "source": [
    "df_volume.index"
   ]
  },
  {
   "cell_type": "code",
   "execution_count": 8,
   "id": "35f37837",
   "metadata": {},
   "outputs": [
    {
     "data": {
      "text/html": [
       "<div>\n",
       "<style scoped>\n",
       "    .dataframe tbody tr th:only-of-type {\n",
       "        vertical-align: middle;\n",
       "    }\n",
       "\n",
       "    .dataframe tbody tr th {\n",
       "        vertical-align: top;\n",
       "    }\n",
       "\n",
       "    .dataframe thead th {\n",
       "        text-align: right;\n",
       "    }\n",
       "</style>\n",
       "<table border=\"1\" class=\"dataframe\">\n",
       "  <thead>\n",
       "    <tr style=\"text-align: right;\">\n",
       "      <th></th>\n",
       "      <th>시가</th>\n",
       "      <th>고가</th>\n",
       "      <th>저가</th>\n",
       "      <th>종가</th>\n",
       "      <th>거래량</th>\n",
       "    </tr>\n",
       "    <tr>\n",
       "      <th>날짜</th>\n",
       "      <th></th>\n",
       "      <th></th>\n",
       "      <th></th>\n",
       "      <th></th>\n",
       "      <th></th>\n",
       "    </tr>\n",
       "  </thead>\n",
       "  <tbody>\n",
       "    <tr>\n",
       "      <th>2021-09-29</th>\n",
       "      <td>74800</td>\n",
       "      <td>75300</td>\n",
       "      <td>73800</td>\n",
       "      <td>73900</td>\n",
       "      <td>16280132</td>\n",
       "    </tr>\n",
       "  </tbody>\n",
       "</table>\n",
       "</div>"
      ],
      "text/plain": [
       "               시가     고가     저가     종가       거래량\n",
       "날짜                                              \n",
       "2021-09-29  74800  75300  73800  73900  16280132"
      ]
     },
     "execution_count": 8,
     "metadata": {},
     "output_type": "execute_result"
    }
   ],
   "source": [
    "df_volume = df_volume.rename(index={'날짜':'Date'})\n",
    "df_volume"
   ]
  },
  {
   "cell_type": "code",
   "execution_count": 9,
   "id": "64a7a174",
   "metadata": {},
   "outputs": [
    {
     "data": {
      "text/plain": [
       "16280132"
      ]
     },
     "execution_count": 9,
     "metadata": {},
     "output_type": "execute_result"
    }
   ],
   "source": [
    "df_volume['거래량'][0]"
   ]
  },
  {
   "cell_type": "code",
   "execution_count": 10,
   "id": "114d5fc4",
   "metadata": {},
   "outputs": [
    {
     "data": {
      "text/plain": [
       "16280132"
      ]
     },
     "execution_count": 10,
     "metadata": {},
     "output_type": "execute_result"
    }
   ],
   "source": [
    "df_volume = df_volume[['거래량']]\n",
    "df_volume.iloc[0, 0]"
   ]
  },
  {
   "cell_type": "markdown",
   "id": "945f7c31",
   "metadata": {},
   "source": [
    "# PER, PBR"
   ]
  },
  {
   "cell_type": "code",
   "execution_count": 11,
   "id": "657ca144",
   "metadata": {},
   "outputs": [
    {
     "data": {
      "text/html": [
       "<div>\n",
       "<style scoped>\n",
       "    .dataframe tbody tr th:only-of-type {\n",
       "        vertical-align: middle;\n",
       "    }\n",
       "\n",
       "    .dataframe tbody tr th {\n",
       "        vertical-align: top;\n",
       "    }\n",
       "\n",
       "    .dataframe thead th {\n",
       "        text-align: right;\n",
       "    }\n",
       "</style>\n",
       "<table border=\"1\" class=\"dataframe\">\n",
       "  <thead>\n",
       "    <tr style=\"text-align: right;\">\n",
       "      <th></th>\n",
       "      <th>BPS</th>\n",
       "      <th>PER</th>\n",
       "      <th>PBR</th>\n",
       "      <th>EPS</th>\n",
       "      <th>DIV</th>\n",
       "      <th>DPS</th>\n",
       "    </tr>\n",
       "    <tr>\n",
       "      <th>날짜</th>\n",
       "      <th></th>\n",
       "      <th></th>\n",
       "      <th></th>\n",
       "      <th></th>\n",
       "      <th></th>\n",
       "      <th></th>\n",
       "    </tr>\n",
       "  </thead>\n",
       "  <tbody>\n",
       "    <tr>\n",
       "      <th>2021-09-29</th>\n",
       "      <td>39406</td>\n",
       "      <td>19.24</td>\n",
       "      <td>1.88</td>\n",
       "      <td>3841</td>\n",
       "      <td>4.05</td>\n",
       "      <td>2994</td>\n",
       "    </tr>\n",
       "  </tbody>\n",
       "</table>\n",
       "</div>"
      ],
      "text/plain": [
       "              BPS    PER   PBR   EPS   DIV   DPS\n",
       "날짜                                              \n",
       "2021-09-29  39406  19.24  1.88  3841  4.05  2994"
      ]
     },
     "execution_count": 11,
     "metadata": {},
     "output_type": "execute_result"
    }
   ],
   "source": [
    "# PER, PBR\n",
    "\n",
    "df_per = stock.get_market_fundamental_by_date(today, today, \"005930\")\n",
    "df_per"
   ]
  },
  {
   "cell_type": "code",
   "execution_count": 12,
   "id": "bdc41fc6",
   "metadata": {},
   "outputs": [
    {
     "data": {
      "text/plain": [
       "19.24"
      ]
     },
     "execution_count": 12,
     "metadata": {},
     "output_type": "execute_result"
    }
   ],
   "source": [
    "df_per['PER'][0]"
   ]
  },
  {
   "cell_type": "code",
   "execution_count": 13,
   "id": "7e923f4e",
   "metadata": {},
   "outputs": [
    {
     "data": {
      "text/html": [
       "<div>\n",
       "<style scoped>\n",
       "    .dataframe tbody tr th:only-of-type {\n",
       "        vertical-align: middle;\n",
       "    }\n",
       "\n",
       "    .dataframe tbody tr th {\n",
       "        vertical-align: top;\n",
       "    }\n",
       "\n",
       "    .dataframe thead th {\n",
       "        text-align: right;\n",
       "    }\n",
       "</style>\n",
       "<table border=\"1\" class=\"dataframe\">\n",
       "  <thead>\n",
       "    <tr style=\"text-align: right;\">\n",
       "      <th></th>\n",
       "      <th>PER</th>\n",
       "      <th>PBR</th>\n",
       "    </tr>\n",
       "    <tr>\n",
       "      <th>날짜</th>\n",
       "      <th></th>\n",
       "      <th></th>\n",
       "    </tr>\n",
       "  </thead>\n",
       "  <tbody>\n",
       "    <tr>\n",
       "      <th>2021-09-29</th>\n",
       "      <td>19.24</td>\n",
       "      <td>1.88</td>\n",
       "    </tr>\n",
       "  </tbody>\n",
       "</table>\n",
       "</div>"
      ],
      "text/plain": [
       "              PER   PBR\n",
       "날짜                     \n",
       "2021-09-29  19.24  1.88"
      ]
     },
     "execution_count": 13,
     "metadata": {},
     "output_type": "execute_result"
    }
   ],
   "source": [
    "df_per = df_per[['PER', 'PBR']]\n",
    "df_per"
   ]
  },
  {
   "cell_type": "markdown",
   "id": "717cc4e4",
   "metadata": {},
   "source": [
    "# 거래실적  \n",
    "#### 업데이트 늦음"
   ]
  },
  {
   "cell_type": "code",
   "execution_count": 22,
   "id": "61d1bcaa",
   "metadata": {},
   "outputs": [
    {
     "data": {
      "text/html": [
       "<div>\n",
       "<style scoped>\n",
       "    .dataframe tbody tr th:only-of-type {\n",
       "        vertical-align: middle;\n",
       "    }\n",
       "\n",
       "    .dataframe tbody tr th {\n",
       "        vertical-align: top;\n",
       "    }\n",
       "\n",
       "    .dataframe thead th {\n",
       "        text-align: right;\n",
       "    }\n",
       "</style>\n",
       "<table border=\"1\" class=\"dataframe\">\n",
       "  <thead>\n",
       "    <tr style=\"text-align: right;\">\n",
       "      <th></th>\n",
       "      <th>기관합계</th>\n",
       "      <th>기타법인</th>\n",
       "      <th>개인</th>\n",
       "      <th>외국인합계</th>\n",
       "      <th>전체</th>\n",
       "    </tr>\n",
       "    <tr>\n",
       "      <th>날짜</th>\n",
       "      <th></th>\n",
       "      <th></th>\n",
       "      <th></th>\n",
       "      <th></th>\n",
       "      <th></th>\n",
       "    </tr>\n",
       "  </thead>\n",
       "  <tbody>\n",
       "    <tr>\n",
       "      <th>2021-09-28</th>\n",
       "      <td>-263853662600</td>\n",
       "      <td>1742100500</td>\n",
       "      <td>304148979200</td>\n",
       "      <td>-42037417100</td>\n",
       "      <td>0</td>\n",
       "    </tr>\n",
       "  </tbody>\n",
       "</table>\n",
       "</div>"
      ],
      "text/plain": [
       "                    기관합계        기타법인            개인        외국인합계  전체\n",
       "날짜                                                                 \n",
       "2021-09-28 -263853662600  1742100500  304148979200 -42037417100   0"
      ]
     },
     "execution_count": 22,
     "metadata": {},
     "output_type": "execute_result"
    }
   ],
   "source": [
    "# 투자자별 거래실적\n",
    "\n",
    "df_value = stock.get_market_trading_value_by_date(yesterday,today, \"005930\")\n",
    "df_value\n"
   ]
  },
  {
   "cell_type": "code",
   "execution_count": 23,
   "id": "4aea64b7",
   "metadata": {},
   "outputs": [
    {
     "data": {
      "text/html": [
       "<div>\n",
       "<style scoped>\n",
       "    .dataframe tbody tr th:only-of-type {\n",
       "        vertical-align: middle;\n",
       "    }\n",
       "\n",
       "    .dataframe tbody tr th {\n",
       "        vertical-align: top;\n",
       "    }\n",
       "\n",
       "    .dataframe thead th {\n",
       "        text-align: right;\n",
       "    }\n",
       "</style>\n",
       "<table border=\"1\" class=\"dataframe\">\n",
       "  <thead>\n",
       "    <tr style=\"text-align: right;\">\n",
       "      <th></th>\n",
       "      <th>기관합계</th>\n",
       "      <th>기타법인</th>\n",
       "      <th>개인</th>\n",
       "      <th>외국인합계</th>\n",
       "    </tr>\n",
       "    <tr>\n",
       "      <th>날짜</th>\n",
       "      <th></th>\n",
       "      <th></th>\n",
       "      <th></th>\n",
       "      <th></th>\n",
       "    </tr>\n",
       "  </thead>\n",
       "  <tbody>\n",
       "    <tr>\n",
       "      <th>2021-09-28</th>\n",
       "      <td>-263853662600</td>\n",
       "      <td>1742100500</td>\n",
       "      <td>304148979200</td>\n",
       "      <td>-42037417100</td>\n",
       "    </tr>\n",
       "  </tbody>\n",
       "</table>\n",
       "</div>"
      ],
      "text/plain": [
       "                    기관합계        기타법인            개인        외국인합계\n",
       "날짜                                                             \n",
       "2021-09-28 -263853662600  1742100500  304148979200 -42037417100"
      ]
     },
     "execution_count": 23,
     "metadata": {},
     "output_type": "execute_result"
    }
   ],
   "source": [
    "df_value.drop(['전체'], axis = 1)"
   ]
  },
  {
   "cell_type": "code",
   "execution_count": 24,
   "id": "9f10d707",
   "metadata": {},
   "outputs": [
    {
     "data": {
      "text/plain": [
       "array([[-263853662600,    1742100500,  304148979200,  -42037417100,\n",
       "                    0]], dtype=int64)"
      ]
     },
     "execution_count": 24,
     "metadata": {},
     "output_type": "execute_result"
    }
   ],
   "source": [
    "df_value.loc[:,:].values"
   ]
  },
  {
   "cell_type": "code",
   "execution_count": 25,
   "id": "3766ee39",
   "metadata": {},
   "outputs": [
    {
     "data": {
      "text/plain": [
       "(-263853662600, 1742100500, 304148979200, -42037417100)"
      ]
     },
     "execution_count": 25,
     "metadata": {},
     "output_type": "execute_result"
    }
   ],
   "source": [
    "df_value['기관합계'][0] ,df_value['기타법인'][0] ,df_value['개인'][0] ,df_value['외국인합계'][0]"
   ]
  },
  {
   "cell_type": "markdown",
   "id": "da72b732",
   "metadata": {},
   "source": [
    "# 합치기"
   ]
  },
  {
   "cell_type": "code",
   "execution_count": 26,
   "id": "ce3da807",
   "metadata": {},
   "outputs": [
    {
     "data": {
      "text/html": [
       "<div>\n",
       "<style scoped>\n",
       "    .dataframe tbody tr th:only-of-type {\n",
       "        vertical-align: middle;\n",
       "    }\n",
       "\n",
       "    .dataframe tbody tr th {\n",
       "        vertical-align: top;\n",
       "    }\n",
       "\n",
       "    .dataframe thead th {\n",
       "        text-align: right;\n",
       "    }\n",
       "</style>\n",
       "<table border=\"1\" class=\"dataframe\">\n",
       "  <thead>\n",
       "    <tr style=\"text-align: right;\">\n",
       "      <th></th>\n",
       "      <th>거래량</th>\n",
       "      <th>PER</th>\n",
       "      <th>PBR</th>\n",
       "      <th>기관합계</th>\n",
       "      <th>기타법인</th>\n",
       "      <th>개인</th>\n",
       "      <th>외국인합계</th>\n",
       "      <th>전체</th>\n",
       "    </tr>\n",
       "    <tr>\n",
       "      <th>날짜</th>\n",
       "      <th></th>\n",
       "      <th></th>\n",
       "      <th></th>\n",
       "      <th></th>\n",
       "      <th></th>\n",
       "      <th></th>\n",
       "      <th></th>\n",
       "      <th></th>\n",
       "    </tr>\n",
       "  </thead>\n",
       "  <tbody>\n",
       "    <tr>\n",
       "      <th>2021-09-28</th>\n",
       "      <td>NaN</td>\n",
       "      <td>NaN</td>\n",
       "      <td>NaN</td>\n",
       "      <td>-2.638537e+11</td>\n",
       "      <td>1.742100e+09</td>\n",
       "      <td>3.041490e+11</td>\n",
       "      <td>-4.203742e+10</td>\n",
       "      <td>0.0</td>\n",
       "    </tr>\n",
       "    <tr>\n",
       "      <th>2021-09-29</th>\n",
       "      <td>16280132.0</td>\n",
       "      <td>19.24</td>\n",
       "      <td>1.88</td>\n",
       "      <td>NaN</td>\n",
       "      <td>NaN</td>\n",
       "      <td>NaN</td>\n",
       "      <td>NaN</td>\n",
       "      <td>NaN</td>\n",
       "    </tr>\n",
       "  </tbody>\n",
       "</table>\n",
       "</div>"
      ],
      "text/plain": [
       "                   거래량    PER   PBR          기관합계          기타법인            개인  \\\n",
       "날짜                                                                              \n",
       "2021-09-28         NaN    NaN   NaN -2.638537e+11  1.742100e+09  3.041490e+11   \n",
       "2021-09-29  16280132.0  19.24  1.88           NaN           NaN           NaN   \n",
       "\n",
       "                   외국인합계   전체  \n",
       "날짜                             \n",
       "2021-09-28 -4.203742e+10  0.0  \n",
       "2021-09-29           NaN  NaN  "
      ]
     },
     "execution_count": 26,
     "metadata": {},
     "output_type": "execute_result"
    }
   ],
   "source": [
    "import pandas as pd\n",
    "\n",
    "df = pd.concat([df_volume, df_per, df_value],axis=1)\n",
    "df"
   ]
  },
  {
   "cell_type": "code",
   "execution_count": 19,
   "id": "51c484ac",
   "metadata": {},
   "outputs": [
    {
     "data": {
      "text/html": [
       "<div>\n",
       "<style scoped>\n",
       "    .dataframe tbody tr th:only-of-type {\n",
       "        vertical-align: middle;\n",
       "    }\n",
       "\n",
       "    .dataframe tbody tr th {\n",
       "        vertical-align: top;\n",
       "    }\n",
       "\n",
       "    .dataframe thead th {\n",
       "        text-align: right;\n",
       "    }\n",
       "</style>\n",
       "<table border=\"1\" class=\"dataframe\">\n",
       "  <thead>\n",
       "    <tr style=\"text-align: right;\">\n",
       "      <th></th>\n",
       "      <th>날짜</th>\n",
       "      <th>거래량</th>\n",
       "      <th>PER</th>\n",
       "      <th>PBR</th>\n",
       "      <th>기관합계</th>\n",
       "      <th>기타법인</th>\n",
       "      <th>개인</th>\n",
       "      <th>외국인합계</th>\n",
       "      <th>전체</th>\n",
       "    </tr>\n",
       "  </thead>\n",
       "  <tbody>\n",
       "    <tr>\n",
       "      <th>0</th>\n",
       "      <td>2021-09-28</td>\n",
       "      <td>NaN</td>\n",
       "      <td>NaN</td>\n",
       "      <td>NaN</td>\n",
       "      <td>-2.638537e+11</td>\n",
       "      <td>1.742100e+09</td>\n",
       "      <td>3.041490e+11</td>\n",
       "      <td>-4.203742e+10</td>\n",
       "      <td>0.0</td>\n",
       "    </tr>\n",
       "    <tr>\n",
       "      <th>1</th>\n",
       "      <td>2021-09-29</td>\n",
       "      <td>16280132.0</td>\n",
       "      <td>19.24</td>\n",
       "      <td>1.88</td>\n",
       "      <td>NaN</td>\n",
       "      <td>NaN</td>\n",
       "      <td>NaN</td>\n",
       "      <td>NaN</td>\n",
       "      <td>NaN</td>\n",
       "    </tr>\n",
       "  </tbody>\n",
       "</table>\n",
       "</div>"
      ],
      "text/plain": [
       "          날짜         거래량    PER   PBR          기관합계          기타법인  \\\n",
       "0 2021-09-28         NaN    NaN   NaN -2.638537e+11  1.742100e+09   \n",
       "1 2021-09-29  16280132.0  19.24  1.88           NaN           NaN   \n",
       "\n",
       "             개인         외국인합계   전체  \n",
       "0  3.041490e+11 -4.203742e+10  0.0  \n",
       "1           NaN           NaN  NaN  "
      ]
     },
     "execution_count": 19,
     "metadata": {},
     "output_type": "execute_result"
    }
   ],
   "source": [
    "df = df.reset_index()\n",
    "df"
   ]
  },
  {
   "cell_type": "code",
   "execution_count": 20,
   "id": "8c56b566",
   "metadata": {},
   "outputs": [],
   "source": [
    "df_new = df.rename(columns={'날짜': 'Date'})"
   ]
  },
  {
   "cell_type": "code",
   "execution_count": 21,
   "id": "0a31176e",
   "metadata": {},
   "outputs": [
    {
     "data": {
      "text/html": [
       "<div>\n",
       "<style scoped>\n",
       "    .dataframe tbody tr th:only-of-type {\n",
       "        vertical-align: middle;\n",
       "    }\n",
       "\n",
       "    .dataframe tbody tr th {\n",
       "        vertical-align: top;\n",
       "    }\n",
       "\n",
       "    .dataframe thead th {\n",
       "        text-align: right;\n",
       "    }\n",
       "</style>\n",
       "<table border=\"1\" class=\"dataframe\">\n",
       "  <thead>\n",
       "    <tr style=\"text-align: right;\">\n",
       "      <th></th>\n",
       "      <th>Date</th>\n",
       "      <th>거래량</th>\n",
       "      <th>PER</th>\n",
       "      <th>PBR</th>\n",
       "      <th>기관합계</th>\n",
       "      <th>기타법인</th>\n",
       "      <th>개인</th>\n",
       "      <th>외국인합계</th>\n",
       "      <th>전체</th>\n",
       "    </tr>\n",
       "  </thead>\n",
       "  <tbody>\n",
       "    <tr>\n",
       "      <th>0</th>\n",
       "      <td>2021-09-28</td>\n",
       "      <td>NaN</td>\n",
       "      <td>NaN</td>\n",
       "      <td>NaN</td>\n",
       "      <td>-2.638537e+11</td>\n",
       "      <td>1.742100e+09</td>\n",
       "      <td>3.041490e+11</td>\n",
       "      <td>-4.203742e+10</td>\n",
       "      <td>0.0</td>\n",
       "    </tr>\n",
       "    <tr>\n",
       "      <th>1</th>\n",
       "      <td>2021-09-29</td>\n",
       "      <td>16280132.0</td>\n",
       "      <td>19.24</td>\n",
       "      <td>1.88</td>\n",
       "      <td>NaN</td>\n",
       "      <td>NaN</td>\n",
       "      <td>NaN</td>\n",
       "      <td>NaN</td>\n",
       "      <td>NaN</td>\n",
       "    </tr>\n",
       "  </tbody>\n",
       "</table>\n",
       "</div>"
      ],
      "text/plain": [
       "        Date         거래량    PER   PBR          기관합계          기타법인  \\\n",
       "0 2021-09-28         NaN    NaN   NaN -2.638537e+11  1.742100e+09   \n",
       "1 2021-09-29  16280132.0  19.24  1.88           NaN           NaN   \n",
       "\n",
       "             개인         외국인합계   전체  \n",
       "0  3.041490e+11 -4.203742e+10  0.0  \n",
       "1           NaN           NaN  NaN  "
      ]
     },
     "execution_count": 21,
     "metadata": {},
     "output_type": "execute_result"
    }
   ],
   "source": [
    "df_new"
   ]
  },
  {
   "cell_type": "markdown",
   "id": "92e821a3",
   "metadata": {},
   "source": [
    "# 함수화"
   ]
  },
  {
   "cell_type": "code",
   "execution_count": 23,
   "id": "5e5ddfd4",
   "metadata": {},
   "outputs": [
    {
     "name": "stdout",
     "output_type": "stream",
     "text": [
      "                volume    per   pbr   institution         corp        retail  \\\n",
      "date                                                                           \n",
      "2021-09-27         NaN  20.23  1.97 -4.307357e+09 -886134700.0 -9.521063e+10   \n",
      "2021-09-28  12670863.0  19.86  1.94           NaN          NaN           NaN   \n",
      "\n",
      "                 foreign  \n",
      "date                      \n",
      "2021-09-27  1.004041e+11  \n",
      "2021-09-28           NaN  \n"
     ]
    }
   ],
   "source": [
    "from pykrx import stock\n",
    "import pandas as pd\n",
    "\n",
    "class KRX:\n",
    "    def getDate(self):\n",
    "        self.end = date.today().strftime('%Y%m%d')  # 오늘\n",
    "        self.start = (date.today() - timedelta(1)).strftime('%Y%m%d')  # 어제\n",
    "\n",
    "    def getStock(self, code):\n",
    "        self.volume = stock.get_market_ohlcv_by_date(self.start, self.end, code)\n",
    "        self.volume = self.volume[['거래량']]\n",
    "        self.per = stock.get_market_fundamental_by_date(self.start, self.end, code)\n",
    "        self.per = self.per[['PER', 'PBR']]\n",
    "        self.v = stock.get_market_trading_value_by_date(self.start, self.end, code)\n",
    "        self.value = self.v.drop(['전체'], axis=1)\n",
    "\n",
    "    def saving(self):\n",
    "        self.df = pd.concat([self.volume, self.per, self.value], axis=1)\n",
    "        self.df_krx = self.df.reset_index()\n",
    "        self.df_krx.columns=['date', 'volume', 'per', 'pbr', 'institution', 'corp', 'retail', 'foreign']\n",
    "        #self.df_krx = self.df_krx.set_index(drop=True)\n",
    "        self.df_krx = self.df_krx.set_index('date')\n",
    "        print(self.df_krx)\n",
    "#         self.df_krx.to_sql('samsung', conn, if_exists='append') # 테이블명\n",
    "#         conn.commit()  # db에 저장\n",
    "\n",
    "if __name__ == \"__main__\":\n",
    "    \n",
    "    code = \"005930\"  # 종목코드\n",
    "    krx = KRX()\n",
    "    krx.getDate()\n",
    "    krx.getStock(code)\n",
    "    krx.saving()"
   ]
  }
 ],
 "metadata": {
  "kernelspec": {
   "display_name": "Python 3",
   "language": "python",
   "name": "python3"
  },
  "language_info": {
   "codemirror_mode": {
    "name": "ipython",
    "version": 3
   },
   "file_extension": ".py",
   "mimetype": "text/x-python",
   "name": "python",
   "nbconvert_exporter": "python",
   "pygments_lexer": "ipython3",
   "version": "3.8.8"
  }
 },
 "nbformat": 4,
 "nbformat_minor": 5
}
