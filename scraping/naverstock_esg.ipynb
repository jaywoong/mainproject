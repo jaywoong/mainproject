{
 "cells": [
  {
   "cell_type": "code",
   "execution_count": null,
   "id": "dcdbb2a6",
   "metadata": {},
   "outputs": [],
   "source": [
    "!pip install selenium"
   ]
  },
  {
   "cell_type": "code",
   "execution_count": 1,
   "id": "b3d27530",
   "metadata": {},
   "outputs": [],
   "source": [
    "from selenium import webdriver\n",
    "from bs4 import BeautifulSoup\n",
    "import requests\n",
    "import pandas as pd\n",
    "import time"
   ]
  },
  {
   "cell_type": "code",
   "execution_count": 2,
   "id": "a11b3230",
   "metadata": {},
   "outputs": [],
   "source": [
    "url = 'https://m.stock.naver.com/index.html#/domestic/stock/005930/finance/ESG'\n",
    "driver = webdriver.Chrome('C:\\chromedriver.exe')\n",
    "driver.get(url)"
   ]
  },
  {
   "cell_type": "code",
   "execution_count": 3,
   "id": "ca9e9f20",
   "metadata": {},
   "outputs": [],
   "source": [
    "html= driver.page_source\n",
    "soup = BeautifulSoup(html, 'html.parser')"
   ]
  },
  {
   "cell_type": "code",
   "execution_count": 13,
   "id": "493a9044",
   "metadata": {},
   "outputs": [
    {
     "data": {
      "text/plain": [
       "28"
      ]
     },
     "execution_count": 13,
     "metadata": {},
     "output_type": "execute_result"
    }
   ],
   "source": [
    "results = soup.select('div.NonFinanceGraph_barDesc__3JwKr')\n",
    "len(results)"
   ]
  },
  {
   "cell_type": "code",
   "execution_count": 14,
   "id": "d1c6979f",
   "metadata": {},
   "outputs": [
    {
     "data": {
      "text/plain": [
       "(<div class=\"NonFinanceGraph_barDesc__3JwKr\">삼성전자 6.3 tCO₂</div>,\n",
       " <div class=\"NonFinanceGraph_barDesc__3JwKr\">업종 평균 7.8 tCO₂</div>,\n",
       " <div class=\"NonFinanceGraph_barDesc__3JwKr\">업종 평균 8.0배</div>)"
      ]
     },
     "execution_count": 14,
     "metadata": {},
     "output_type": "execute_result"
    }
   ],
   "source": [
    "results[0], results[1], results[27]"
   ]
  },
  {
   "cell_type": "code",
   "execution_count": 15,
   "id": "b64b787c",
   "metadata": {},
   "outputs": [
    {
     "data": {
      "text/plain": [
       "14"
      ]
     },
     "execution_count": 15,
     "metadata": {},
     "output_type": "execute_result"
    }
   ],
   "source": [
    "titles = soup.select('strong.NonFinanceGraph_title__2Ngxx')\n",
    "len(titles)"
   ]
  },
  {
   "cell_type": "code",
   "execution_count": 16,
   "id": "a0c75a4f",
   "metadata": {},
   "outputs": [
    {
     "data": {
      "text/plain": [
       "(<strong class=\"NonFinanceGraph_title__2Ngxx\">온실가스 배출량</strong>,\n",
       " <strong class=\"NonFinanceGraph_title__2Ngxx\">에너지 사용량</strong>,\n",
       " <strong class=\"NonFinanceGraph_title__2Ngxx\">임원/직원 보수 비율</strong>)"
      ]
     },
     "execution_count": 16,
     "metadata": {},
     "output_type": "execute_result"
    }
   ],
   "source": [
    "titles[0], titles[1], titles[13]"
   ]
  },
  {
   "cell_type": "code",
   "execution_count": 17,
   "id": "8a62c5f4",
   "metadata": {},
   "outputs": [
    {
     "data": {
      "text/plain": [
       "14"
      ]
     },
     "execution_count": 17,
     "metadata": {},
     "output_type": "execute_result"
    }
   ],
   "source": [
    "tags = soup.select(\"li.NonFinanceGraph_item__1iY8U\")\n",
    "len(tags)"
   ]
  },
  {
   "cell_type": "code",
   "execution_count": 18,
   "id": "fb3cddfc",
   "metadata": {},
   "outputs": [
    {
     "data": {
      "text/plain": [
       "<li class=\"NonFinanceGraph_item__1iY8U\"><div class=\"NonFinanceGraph_info__ge73A\"><strong class=\"NonFinanceGraph_title__2Ngxx\">온실가스 배출량</strong><div class=\"text\"><span class=\"NonFinanceGraph_num__1ZcKE\">6.3</span><span class=\"NonFinanceGraph_unit__2xFFK\"> tCO₂</span></div><span class=\"NonFinanceGraph_textSale__1uQ8a\">매출1억 기준</span></div><div class=\"NonFinanceGraph_infoGraph__1xyXT\"><div class=\"graph\"><div class=\"NonFinanceGraph_bar__2cHh9\" style=\"width: 80.7692%;\"></div><div class=\"NonFinanceGraph_barDesc__3JwKr\">삼성전자 6.3 tCO₂</div></div><div class=\"graph NonFinanceGraph_graphAverage__UliK6\"><div class=\"NonFinanceGraph_bar__2cHh9\" style=\"width: 100%;\"></div><div class=\"NonFinanceGraph_barDesc__3JwKr\">업종 평균 7.8 tCO₂</div></div></div></li>"
      ]
     },
     "execution_count": 18,
     "metadata": {},
     "output_type": "execute_result"
    }
   ],
   "source": [
    "tags[0]"
   ]
  },
  {
   "cell_type": "code",
   "execution_count": 22,
   "id": "fadb4343",
   "metadata": {},
   "outputs": [
    {
     "data": {
      "text/plain": [
       "'온실가스 배출량'"
      ]
     },
     "execution_count": 22,
     "metadata": {},
     "output_type": "execute_result"
    }
   ],
   "source": [
    "title = tags[0].select('strong.NonFinanceGraph_title__2Ngxx')\n",
    "title[0].text.strip()"
   ]
  },
  {
   "cell_type": "code",
   "execution_count": 23,
   "id": "99d81851",
   "metadata": {},
   "outputs": [
    {
     "data": {
      "text/plain": [
       "'삼성전자 6.3 tCO₂'"
      ]
     },
     "execution_count": 23,
     "metadata": {},
     "output_type": "execute_result"
    }
   ],
   "source": [
    "value = tags[0].select('div.NonFinanceGraph_barDesc__3JwKr').text.strip()\n",
    "value[0].text.strip()"
   ]
  },
  {
   "cell_type": "code",
   "execution_count": 29,
   "id": "da44c10c",
   "metadata": {},
   "outputs": [
    {
     "data": {
      "text/plain": [
       "'업종 평균 8.0배'"
      ]
     },
     "execution_count": 29,
     "metadata": {},
     "output_type": "execute_result"
    }
   ],
   "source": [
    "value[1].text.strip()"
   ]
  },
  {
   "cell_type": "code",
   "execution_count": 32,
   "id": "03135e49",
   "metadata": {},
   "outputs": [],
   "source": [
    "contents = []\n",
    "for tag in tags:\n",
    "    title = tag.select('strong.NonFinanceGraph_title__2Ngxx')\n",
    "    value = tag.select('div.NonFinanceGraph_barDesc__3JwKr')\n",
    "    contents.append([title[0].text.strip(), value[0].text.strip(), value[1].text.strip()])"
   ]
  },
  {
   "cell_type": "code",
   "execution_count": 33,
   "id": "c719a272",
   "metadata": {},
   "outputs": [
    {
     "name": "stdout",
     "output_type": "stream",
     "text": [
      "           title            value           average\n",
      "0       온실가스 배출량    삼성전자 6.3 tCO₂    업종 평균 7.8 tCO₂\n",
      "1        에너지 사용량  삼성전자 2.1469 TOE  업종 평균 7.2602 TOE\n",
      "2       미세먼지 배출량    삼성전자 47.0 ton    업종 평균 14.6 ton\n",
      "3        용수 재활용률       삼성전자 14.5%       업종 평균 16.1%\n",
      "4       폐기물 재활용률       삼성전자 94.3%       업종 평균 71.9%\n",
      "5       직원 평균 연봉    삼성전자 10,743만원     업종 평균 5,482만원\n",
      "6       비정규직 고용률        삼성전자 0.6%        업종 평균 3.4%\n",
      "7            기부금     삼성전자 0.1860%     업종 평균 0.0905%\n",
      "8     직원 평균 근속년수       삼성전자 12.1년        업종 평균 6.1년\n",
      "9        사외이사 비율       삼성전자 60.0%       업종 평균 35.2%\n",
      "10      최대주주 지분율        삼성전자 8.5%       업종 평균 24.5%\n",
      "11      이사회의 독립성       분리기업 11.6%        겸임기업 88.4%\n",
      "12  사내등기임원 평균 보수   삼성전자 300,400만원    업종 평균 46,902만원\n",
      "13   임원/직원 보수 비율       삼성전자 28.0배        업종 평균 8.0배\n"
     ]
    }
   ],
   "source": [
    "df = pd.DataFrame(contents, columns=['title', 'value', 'average'])\n",
    "print(df)"
   ]
  },
  {
   "cell_type": "code",
   "execution_count": 35,
   "id": "3e2382fb",
   "metadata": {},
   "outputs": [],
   "source": [
    "df.to_excel('C:/Develops/save/삼성전자ESG.xlsx', index= False)"
   ]
  },
  {
   "cell_type": "code",
   "execution_count": null,
   "id": "73a31d49",
   "metadata": {},
   "outputs": [],
   "source": []
  }
 ],
 "metadata": {
  "kernelspec": {
   "display_name": "Python 3",
   "language": "python",
   "name": "python3"
  },
  "language_info": {
   "codemirror_mode": {
    "name": "ipython",
    "version": 3
   },
   "file_extension": ".py",
   "mimetype": "text/x-python",
   "name": "python",
   "nbconvert_exporter": "python",
   "pygments_lexer": "ipython3",
   "version": "3.8.8"
  }
 },
 "nbformat": 4,
 "nbformat_minor": 5
}
