{
 "cells": [
  {
   "cell_type": "markdown",
   "id": "85f8e905",
   "metadata": {},
   "source": [
    "> INVESTING.COM 에서  NASDAQ, S&P, CBOE, 환율, 2년 만기 미국채 선물, 10년 만기 미국채 선물 가져오기"
   ]
  },
  {
   "cell_type": "markdown",
   "id": "56cc6981",
   "metadata": {},
   "source": [
    "# API"
   ]
  },
  {
   "cell_type": "code",
   "execution_count": 7,
   "id": "7481285c",
   "metadata": {},
   "outputs": [],
   "source": [
    "import FinanceDataReader as fdr\n",
    "import pandas as pd\n",
    "from datetime import date, timedelta"
   ]
  },
  {
   "cell_type": "code",
   "execution_count": 11,
   "id": "4292af68",
   "metadata": {},
   "outputs": [],
   "source": [
    "toay = date.today().strftime('%Y%m%d')\n",
    "yday = (date.today()-timedelta(1)).strftime('%Y%m%d')\n",
    "bfyday = (date.today() - timedelta(2)).strftime('%Y%m%d')"
   ]
  },
  {
   "cell_type": "code",
   "execution_count": 3,
   "id": "52ba02f6",
   "metadata": {},
   "outputs": [
    {
     "data": {
      "text/html": [
       "<div>\n",
       "<style scoped>\n",
       "    .dataframe tbody tr th:only-of-type {\n",
       "        vertical-align: middle;\n",
       "    }\n",
       "\n",
       "    .dataframe tbody tr th {\n",
       "        vertical-align: top;\n",
       "    }\n",
       "\n",
       "    .dataframe thead th {\n",
       "        text-align: right;\n",
       "    }\n",
       "</style>\n",
       "<table border=\"1\" class=\"dataframe\">\n",
       "  <thead>\n",
       "    <tr style=\"text-align: right;\">\n",
       "      <th></th>\n",
       "      <th>NASDAQCOM</th>\n",
       "    </tr>\n",
       "    <tr>\n",
       "      <th>DATE</th>\n",
       "      <th></th>\n",
       "    </tr>\n",
       "  </thead>\n",
       "  <tbody>\n",
       "    <tr>\n",
       "      <th>2021-09-28</th>\n",
       "      <td>14546.68</td>\n",
       "    </tr>\n",
       "    <tr>\n",
       "      <th>2021-09-29</th>\n",
       "      <td>14512.44</td>\n",
       "    </tr>\n",
       "    <tr>\n",
       "      <th>2021-09-30</th>\n",
       "      <td>14448.58</td>\n",
       "    </tr>\n",
       "    <tr>\n",
       "      <th>2021-10-01</th>\n",
       "      <td>14566.70</td>\n",
       "    </tr>\n",
       "    <tr>\n",
       "      <th>2021-10-04</th>\n",
       "      <td>14255.48</td>\n",
       "    </tr>\n",
       "    <tr>\n",
       "      <th>2021-10-05</th>\n",
       "      <td>14433.83</td>\n",
       "    </tr>\n",
       "  </tbody>\n",
       "</table>\n",
       "</div>"
      ],
      "text/plain": [
       "            NASDAQCOM\n",
       "DATE                 \n",
       "2021-09-28   14546.68\n",
       "2021-09-29   14512.44\n",
       "2021-09-30   14448.58\n",
       "2021-10-01   14566.70\n",
       "2021-10-04   14255.48\n",
       "2021-10-05   14433.83"
      ]
     },
     "execution_count": 3,
     "metadata": {},
     "output_type": "execute_result"
    }
   ],
   "source": [
    "nasdaq = fdr.DataReader('NASDAQCOM', start='2021-09-28', data_source='fred')\n",
    "nasdaq"
   ]
  },
  {
   "cell_type": "code",
   "execution_count": 4,
   "id": "c46434f6",
   "metadata": {},
   "outputs": [
    {
     "data": {
      "text/html": [
       "<div>\n",
       "<style scoped>\n",
       "    .dataframe tbody tr th:only-of-type {\n",
       "        vertical-align: middle;\n",
       "    }\n",
       "\n",
       "    .dataframe tbody tr th {\n",
       "        vertical-align: top;\n",
       "    }\n",
       "\n",
       "    .dataframe thead th {\n",
       "        text-align: right;\n",
       "    }\n",
       "</style>\n",
       "<table border=\"1\" class=\"dataframe\">\n",
       "  <thead>\n",
       "    <tr style=\"text-align: right;\">\n",
       "      <th></th>\n",
       "      <th>Close</th>\n",
       "      <th>Open</th>\n",
       "      <th>High</th>\n",
       "      <th>Low</th>\n",
       "      <th>Volume</th>\n",
       "      <th>Change</th>\n",
       "    </tr>\n",
       "    <tr>\n",
       "      <th>Date</th>\n",
       "      <th></th>\n",
       "      <th></th>\n",
       "      <th></th>\n",
       "      <th></th>\n",
       "      <th></th>\n",
       "      <th></th>\n",
       "    </tr>\n",
       "  </thead>\n",
       "  <tbody>\n",
       "    <tr>\n",
       "      <th>2021-09-27</th>\n",
       "      <td>4443.11</td>\n",
       "      <td>4442.12</td>\n",
       "      <td>4457.30</td>\n",
       "      <td>4436.19</td>\n",
       "      <td>0.0</td>\n",
       "      <td>-0.0028</td>\n",
       "    </tr>\n",
       "    <tr>\n",
       "      <th>2021-09-28</th>\n",
       "      <td>4352.63</td>\n",
       "      <td>4419.54</td>\n",
       "      <td>4419.54</td>\n",
       "      <td>4346.33</td>\n",
       "      <td>0.0</td>\n",
       "      <td>-0.0204</td>\n",
       "    </tr>\n",
       "  </tbody>\n",
       "</table>\n",
       "</div>"
      ],
      "text/plain": [
       "              Close     Open     High      Low  Volume  Change\n",
       "Date                                                          \n",
       "2021-09-27  4443.11  4442.12  4457.30  4436.19     0.0 -0.0028\n",
       "2021-09-28  4352.63  4419.54  4419.54  4346.33     0.0 -0.0204"
      ]
     },
     "execution_count": 4,
     "metadata": {},
     "output_type": "execute_result"
    }
   ],
   "source": [
    "sp500 = fdr.DataReader('US500', \"20210927\", \"20210928\")\n",
    "sp500"
   ]
  },
  {
   "cell_type": "code",
   "execution_count": 12,
   "id": "e34dc6fa",
   "metadata": {},
   "outputs": [
    {
     "name": "stdout",
     "output_type": "stream",
     "text": [
      "저녁에 업데이트 됩니다.\n"
     ]
    },
    {
     "data": {
      "text/html": [
       "<div>\n",
       "<style scoped>\n",
       "    .dataframe tbody tr th:only-of-type {\n",
       "        vertical-align: middle;\n",
       "    }\n",
       "\n",
       "    .dataframe tbody tr th {\n",
       "        vertical-align: top;\n",
       "    }\n",
       "\n",
       "    .dataframe thead th {\n",
       "        text-align: right;\n",
       "    }\n",
       "</style>\n",
       "<table border=\"1\" class=\"dataframe\">\n",
       "  <thead>\n",
       "    <tr style=\"text-align: right;\">\n",
       "      <th></th>\n",
       "      <th>close</th>\n",
       "    </tr>\n",
       "  </thead>\n",
       "  <tbody>\n",
       "  </tbody>\n",
       "</table>\n",
       "</div>"
      ],
      "text/plain": [
       "Empty DataFrame\n",
       "Columns: [close]\n",
       "Index: []"
      ]
     },
     "execution_count": 12,
     "metadata": {},
     "output_type": "execute_result"
    }
   ],
   "source": [
    "try: \n",
    "    cboe = fdr.DataReader('VIX', yday, tday)[['Close']] # S&P 500 VIX\n",
    "except: \n",
    "    print('저녁에 업데이트 됩니다.')\n",
    "    cboe = pd.DataFrame(columns=['close'])\n",
    "cboe"
   ]
  },
  {
   "cell_type": "code",
   "execution_count": 13,
   "id": "ca9c83e6",
   "metadata": {
    "scrolled": true
   },
   "outputs": [
    {
     "data": {
      "text/html": [
       "<div>\n",
       "<style scoped>\n",
       "    .dataframe tbody tr th:only-of-type {\n",
       "        vertical-align: middle;\n",
       "    }\n",
       "\n",
       "    .dataframe tbody tr th {\n",
       "        vertical-align: top;\n",
       "    }\n",
       "\n",
       "    .dataframe thead th {\n",
       "        text-align: right;\n",
       "    }\n",
       "</style>\n",
       "<table border=\"1\" class=\"dataframe\">\n",
       "  <thead>\n",
       "    <tr style=\"text-align: right;\">\n",
       "      <th></th>\n",
       "      <th>Close</th>\n",
       "      <th>Open</th>\n",
       "      <th>High</th>\n",
       "      <th>Low</th>\n",
       "      <th>Change</th>\n",
       "    </tr>\n",
       "    <tr>\n",
       "      <th>Date</th>\n",
       "      <th></th>\n",
       "      <th></th>\n",
       "      <th></th>\n",
       "      <th></th>\n",
       "      <th></th>\n",
       "    </tr>\n",
       "  </thead>\n",
       "  <tbody>\n",
       "    <tr>\n",
       "      <th>2021-10-06</th>\n",
       "      <td>1190.21</td>\n",
       "      <td>1186.69</td>\n",
       "      <td>1197.94</td>\n",
       "      <td>1185.9</td>\n",
       "      <td>0.0031</td>\n",
       "    </tr>\n",
       "  </tbody>\n",
       "</table>\n",
       "</div>"
      ],
      "text/plain": [
       "              Close     Open     High     Low  Change\n",
       "Date                                                 \n",
       "2021-10-06  1190.21  1186.69  1197.94  1185.9  0.0031"
      ]
     },
     "execution_count": 13,
     "metadata": {},
     "output_type": "execute_result"
    }
   ],
   "source": [
    "rate = fdr.DataReader('USD/KRW',  yday, yday)\n",
    "rate"
   ]
  },
  {
   "cell_type": "code",
   "execution_count": 14,
   "id": "67a79ebc",
   "metadata": {},
   "outputs": [
    {
     "data": {
      "text/html": [
       "<div>\n",
       "<style scoped>\n",
       "    .dataframe tbody tr th:only-of-type {\n",
       "        vertical-align: middle;\n",
       "    }\n",
       "\n",
       "    .dataframe tbody tr th {\n",
       "        vertical-align: top;\n",
       "    }\n",
       "\n",
       "    .dataframe thead th {\n",
       "        text-align: right;\n",
       "    }\n",
       "</style>\n",
       "<table border=\"1\" class=\"dataframe\">\n",
       "  <thead>\n",
       "    <tr style=\"text-align: right;\">\n",
       "      <th></th>\n",
       "      <th>Date</th>\n",
       "      <th>Close</th>\n",
       "      <th>Open</th>\n",
       "      <th>High</th>\n",
       "      <th>Low</th>\n",
       "      <th>Change</th>\n",
       "    </tr>\n",
       "  </thead>\n",
       "  <tbody>\n",
       "    <tr>\n",
       "      <th>0</th>\n",
       "      <td>2021-10-06</td>\n",
       "      <td>1190.21</td>\n",
       "      <td>1186.69</td>\n",
       "      <td>1197.94</td>\n",
       "      <td>1185.9</td>\n",
       "      <td>0.0031</td>\n",
       "    </tr>\n",
       "  </tbody>\n",
       "</table>\n",
       "</div>"
      ],
      "text/plain": [
       "        Date    Close     Open     High     Low  Change\n",
       "0 2021-10-06  1190.21  1186.69  1197.94  1185.9  0.0031"
      ]
     },
     "execution_count": 14,
     "metadata": {},
     "output_type": "execute_result"
    }
   ],
   "source": [
    "tmp = rate.reset_index()\n",
    "tmp"
   ]
  },
  {
   "cell_type": "markdown",
   "id": "5b33165e",
   "metadata": {},
   "source": [
    "## 함수화"
   ]
  },
  {
   "cell_type": "code",
   "execution_count": 16,
   "id": "35f9a8ad",
   "metadata": {
    "scrolled": true
   },
   "outputs": [
    {
     "name": "stdout",
     "output_type": "stream",
     "text": [
      "                 sp  cboe  exchangerate\n",
      "date                                   \n",
      "2021-10-06  4363.55  21.0       1190.21\n"
     ]
    }
   ],
   "source": [
    "import pandas as pd\n",
    "import sqlite3\n",
    "import FinanceDataReader as fdr\n",
    "from datetime import date, timedelta\n",
    "\n",
    "class INVESTING:\n",
    "    def getDate(self):\n",
    "        self.yday = (date.today() - timedelta(1)).strftime('%Y%m%d')  # 1일 전\n",
    "        self.bfyday = (date.today() - timedelta(2)).strftime('%Y%m%d')  # 2일 전\n",
    "        \n",
    "    def getStock(self):\n",
    "        self.sp500 = fdr.DataReader('US500',self.yday, self.yday)\n",
    "        self.sp500 = self.sp500[['Close']]\n",
    "\n",
    "        self.cboe = fdr.DataReader('VIX', self.yday, self.yday)\n",
    "        self.cboe = self.cboe[['Close']]\n",
    "\n",
    "        self.rate = fdr.DataReader('USD/KRW', self.yday, self.yday)\n",
    "        self.rate  = self.rate[['Close']]\n",
    "\n",
    "    def saving(self):\n",
    "        self.df = pd.concat([self.sp500, self.cboe, self.rate], axis=1)\n",
    "        self.df_invest = self.df.reset_index()\n",
    "        self.df_invest.columns=['date', 'sp', 'cboe', 'exchangerate']\n",
    "        self.df_invest = self.df_invest.set_index('date')\n",
    "        print(self.df_invest)\n",
    "#         self.df.to_sql('samsung', conn, if_exists='append')\n",
    "#         conn.commit()  # db에 저장\n",
    "\n",
    "if __name__ == \"__main__\":\n",
    "    \n",
    "    invest = INVESTING()\n",
    "    invest.getDate()\n",
    "    invest.getStock()\n",
    "    invest.saving()"
   ]
  },
  {
   "cell_type": "markdown",
   "id": "e6ef4d9a",
   "metadata": {},
   "source": [
    "# Scraping"
   ]
  },
  {
   "cell_type": "code",
   "execution_count": 33,
   "id": "8959b117",
   "metadata": {},
   "outputs": [
    {
     "name": "stdout",
     "output_type": "stream",
     "text": [
      "getINVEST complete.\n",
      "                 sp  cboe  exchangerate\n",
      "date                                   \n",
      "2021-10-06  4363.55  21.0       1190.21\n",
      "crawlINVEST complete.\n",
      "              nasdaq futures2y futures10y\n",
      "date                                     \n",
      "2021-10-06  14,501.9    110.01     131.73\n",
      "                 sp  cboe  exchangerate    nasdaq futures2y futures10y\n",
      "date                                                                  \n",
      "2021-10-06  4363.55  21.0       1190.21  14,501.9    110.01     131.73\n"
     ]
    }
   ],
   "source": [
    "import sqlite3\n",
    "import pandas as pd\n",
    "from bs4 import BeautifulSoup\n",
    "from selenium import webdriver\n",
    "from selenium.webdriver.chrome.options import Options\n",
    "from pykrx import stock\n",
    "import FinanceDataReader as fdr\n",
    "from datetime import date, datetime, timedelta\n",
    "import schedule\n",
    "import time\n",
    "\n",
    "\n",
    "class UpdateDB:\n",
    "    def __init__(self):\n",
    "        self.yday = (date.today() - timedelta(1)).strftime('%Y%m%d')  # 1일 전\n",
    "        self.bfyday = (date.today() - timedelta(2)).strftime('%Y%m%d')  # 2일 전\n",
    "        self.options = Options()\n",
    "        self.options.add_argument('headless')\n",
    "        self.contents = []\n",
    "\n",
    "    def getINVEST(self):  # Investing.com 데이터\n",
    "        self.sp500 = fdr.DataReader('US500', self.yday, self.yday)[['Close']]\n",
    "        self.cboe = fdr.DataReader('VIX', self.yday, self.yday)[['Close']]\n",
    "        self.rate = fdr.DataReader('USD/KRW', self.yday, self.yday)[['Close']]\n",
    "        # 거시경제지표 중 S&P500은 데이터 업데이트가 늦음\n",
    "        df_index = pd.concat([self.sp500, self.cboe, self.rate], axis=1).reset_index()\n",
    "        df_index.columns = ['date', 'sp', 'cboe', 'exchangerate']\n",
    "        self.df_index = df_index.set_index('date')\n",
    "        print('getINVEST complete.')\n",
    "        print(self.df_index)\n",
    "        return self.df_index\n",
    "\n",
    "    def crawlINVEST(self):  # Investing.com 크롤링\n",
    "        self.getINVEST()\n",
    "        self.urls = ['https://kr.investing.com/indices/nasdaq-composite-historical-data','https://kr.investing.com/rates-bonds/us-2-yr-t-note-historical-data', 'https://kr.investing.com/rates-bonds/us-10-yr-t-note-historical-data']\n",
    "        for url in self.urls:\n",
    "            self.driver = webdriver.Chrome('C:\\chromedriver.exe', options=self.options)\n",
    "            self.driver.get(url)\n",
    "            self.soup = BeautifulSoup(self.driver.page_source, 'html.parser')\n",
    "            try:\n",
    "                self.index = self.soup.select('#last_last')\n",
    "            except:\n",
    "                self.driver.execute_script(\"window.scrollTo(0, 700)\")\n",
    "                self.index = self.soup.select('#curr_table > tbody > tr:nth-child(1) > td:nth-child(2)')\n",
    "            self.contents.append(self.index[0].text.strip())\n",
    "            del self.soup\n",
    "            self.driver.quit()\n",
    "        self.dateindex = pd.DatetimeIndex([(date.today() - timedelta(1))])  #datetime.today().date()\n",
    "        df_crawl = pd.DataFrame([self.contents], index= self.dateindex, columns=['nasdaq','futures2y', 'futures10y']).reset_index().rename(columns={'index': 'date'})\n",
    "        self.df_crawl = df_crawl.set_index('date')\n",
    "        print('crawlINVEST complete.')\n",
    "        print(self.df_crawl)\n",
    "        return self.df_crawl\n",
    "\n",
    "    def mergeINVEST(self):\n",
    "        self.crawlINVEST()\n",
    "        self.df_invest = pd.merge(self.df_index, self.df_crawl, on='date')\n",
    "        print(self.df_invest)\n",
    "        return self.df_invest\n",
    "    \n",
    "    \n",
    "if __name__ == \"__main__\":\n",
    "    updatedb = UpdateDB()  # 클래스 선언\n",
    "    updatedb.mergeINVEST()   # sp, cboe, exchangerate, nasdaq, futures2y, futures10y\n"
   ]
  },
  {
   "cell_type": "markdown",
   "id": "5ae2a085",
   "metadata": {},
   "source": [
    "### 2년 만기 미국채 선물"
   ]
  },
  {
   "cell_type": "code",
   "execution_count": null,
   "id": "cf639d38",
   "metadata": {},
   "outputs": [],
   "source": [
    "content = []"
   ]
  },
  {
   "cell_type": "code",
   "execution_count": null,
   "id": "02a49239",
   "metadata": {},
   "outputs": [],
   "source": [
    "# webdirver 설정\n",
    "\n",
    "driver = webdriver.Chrome('C:\\chromedriver.exe')\n",
    "driver.get('https://kr.investing.com/rates-bonds/us-2-yr-t-note-historical-data')\n",
    "driver.set_window_size(1080,1080)\n",
    "html = driver.page_source\n",
    "soup = BeautifulSoup(html, 'html.parser')\n",
    "\n",
    "us2yr = soup.select('#curr_table > tbody > tr:nth-child(1) > td:nth-child(2)')\n",
    "us2yr[0].text.strip()\n",
    "content.append(us2yr[0].text.strip())\n",
    "\n",
    "del soup\n",
    "driver.close()"
   ]
  },
  {
   "cell_type": "markdown",
   "id": "5749bea4",
   "metadata": {},
   "source": [
    "### 10년 만기 미국채 선물"
   ]
  },
  {
   "cell_type": "code",
   "execution_count": null,
   "id": "17431d57",
   "metadata": {},
   "outputs": [],
   "source": [
    "driver = webdriver.Chrome('C:\\chromedriver.exe')\n",
    "driver.get('https://kr.investing.com/rates-bonds/us-10-yr-t-note-historical-data')\n",
    "driver.set_window_size(1080,1080)\n",
    "html = driver.page_source\n",
    "soup = BeautifulSoup(html, 'html.parser')\n",
    "\n",
    "us10yr = soup.select('#curr_table > tbody > tr:nth-child(1) > td:nth-child(2)')\n",
    "us10yr[0].text.strip()\n",
    "content.append(us10yr[0].text.strip())\n",
    "\n",
    "del soup\n",
    "driver.close()"
   ]
  },
  {
   "cell_type": "code",
   "execution_count": null,
   "id": "47f172aa",
   "metadata": {},
   "outputs": [],
   "source": [
    "content"
   ]
  },
  {
   "cell_type": "markdown",
   "id": "6ec381e0",
   "metadata": {},
   "source": [
    "### 날짜 인덱스 부여"
   ]
  },
  {
   "cell_type": "code",
   "execution_count": null,
   "id": "05fe1e97",
   "metadata": {},
   "outputs": [],
   "source": [
    "from datetime import date, datetime, timedelta\n",
    "\n",
    "#date = datetime.today().replace(hour=0, minute=0, second=0)\n",
    "#date = pd.DatetimeIndex([date.strftime('%Y-%m-%d %H:%M:%S')])\n",
    "date = pd.DatetimeIndex([datetime.today().date()])\n",
    "date"
   ]
  },
  {
   "cell_type": "code",
   "execution_count": null,
   "id": "a85d6b01",
   "metadata": {},
   "outputs": [],
   "source": [
    "df = pd.DataFrame([content], date, ['futures2y','futures10y'])\n",
    "df = df.reset_index().rename(columns={'index': 'date'})\n",
    "df = df.set_index('date')\n",
    "df"
   ]
  },
  {
   "cell_type": "markdown",
   "id": "545e10dc",
   "metadata": {},
   "source": [
    "## 함수화"
   ]
  },
  {
   "cell_type": "code",
   "execution_count": null,
   "id": "4537e451",
   "metadata": {},
   "outputs": [],
   "source": [
    "from selenium import webdriver\n",
    "from bs4 import BeautifulSoup\n",
    "import pandas as pd\n",
    "from datetime import date, datetime, timedelta\n",
    "\n",
    "\n",
    "class INDEXCRAWL:\n",
    "    def __init__(self):\n",
    "        self.contents = []\n",
    "    \n",
    "    def crawling(self,url):\n",
    "        self.driver = webdriver.Chrome('C:\\chromedriver.exe')\n",
    "        self.driver.get(url)\n",
    "        self.driver.set_window_size(720,720) \n",
    "        #self.driver.execute_script(\"window.scrollTo(0, 700)\")\n",
    "        \n",
    "        self.soup = BeautifulSoup(self.driver.page_source, 'html.parser')\n",
    "        self.index = self.soup.select('#last_last')\n",
    "        #self.index = self.soup.select('#curr_table > tbody > tr:nth-child(1) > td:nth-child(2)')\n",
    "        self.contents.append(self.index[0].text.strip())\n",
    "        \n",
    "        del self.soup\n",
    "        self.driver.quit()\n",
    "        \n",
    "        \n",
    "    def saving(self):\n",
    "        self.date = pd.DatetimeIndex([datetime.today().date()])\n",
    "        self.df = pd.DataFrame([self.contents], self.date, ['futures2y','futures10y'])\n",
    "        print(self.df)\n",
    "        \n",
    "    \n",
    "\n",
    "if __name__ == \"__main__\":\n",
    "    crawl = INDEXCRAWL()\n",
    "    us2yr ='https://kr.investing.com/rates-bonds/us-2-yr-t-note-historical-data'\n",
    "    crawl.crawling(us2yr)\n",
    "    us10yr = 'https://kr.investing.com/rates-bonds/us-10-yr-t-note-historical-data'\n",
    "    crawl.crawling(us10yr)\n",
    "    crawl.saving()"
   ]
  }
 ],
 "metadata": {
  "kernelspec": {
   "display_name": "Python 3",
   "language": "python",
   "name": "python3"
  },
  "language_info": {
   "codemirror_mode": {
    "name": "ipython",
    "version": 3
   },
   "file_extension": ".py",
   "mimetype": "text/x-python",
   "name": "python",
   "nbconvert_exporter": "python",
   "pygments_lexer": "ipython3",
   "version": "3.8.8"
  }
 },
 "nbformat": 4,
 "nbformat_minor": 5
}
