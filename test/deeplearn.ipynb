{
  "nbformat": 4,
  "nbformat_minor": 0,
  "metadata": {
    "colab": {
      "name": "deeplearn.ipynb",
      "provenance": []
    },
    "kernelspec": {
      "name": "python3",
      "display_name": "Python 3"
    },
    "language_info": {
      "name": "python"
    }
  },
  "cells": [
    {
      "cell_type": "code",
      "metadata": {
        "colab": {
          "base_uri": "https://localhost:8080/"
        },
        "id": "dzhATTc3qK69",
        "outputId": "24e8847f-a90e-4073-ee9a-f18ec528928e"
      },
      "source": [
        "!python -m pip install finance-datareader\n",
        "\n",
        "import os\n",
        "import numpy as np\n",
        "import pandas as pd\n",
        "import tensorflow as tf\n",
        "import FinanceDataReader as fdr\n",
        "from sklearn.preprocessing import MinMaxScaler\n",
        "from sklearn.model_selection import train_test_split"
      ],
      "execution_count": 1,
      "outputs": [
        {
          "output_type": "stream",
          "name": "stdout",
          "text": [
            "Requirement already satisfied: finance-datareader in /usr/local/lib/python3.7/dist-packages (0.9.31)\n",
            "Requirement already satisfied: requests>=2.3.0 in /usr/local/lib/python3.7/dist-packages (from finance-datareader) (2.23.0)\n",
            "Requirement already satisfied: tqdm in /usr/local/lib/python3.7/dist-packages (from finance-datareader) (4.62.0)\n",
            "Requirement already satisfied: pandas>=0.19.2 in /usr/local/lib/python3.7/dist-packages (from finance-datareader) (1.1.5)\n",
            "Requirement already satisfied: lxml in /usr/local/lib/python3.7/dist-packages (from finance-datareader) (4.2.6)\n",
            "Requirement already satisfied: requests-file in /usr/local/lib/python3.7/dist-packages (from finance-datareader) (1.5.1)\n",
            "Requirement already satisfied: python-dateutil>=2.7.3 in /usr/local/lib/python3.7/dist-packages (from pandas>=0.19.2->finance-datareader) (2.8.2)\n",
            "Requirement already satisfied: pytz>=2017.2 in /usr/local/lib/python3.7/dist-packages (from pandas>=0.19.2->finance-datareader) (2018.9)\n",
            "Requirement already satisfied: numpy>=1.15.4 in /usr/local/lib/python3.7/dist-packages (from pandas>=0.19.2->finance-datareader) (1.19.5)\n",
            "Requirement already satisfied: six>=1.5 in /usr/local/lib/python3.7/dist-packages (from python-dateutil>=2.7.3->pandas>=0.19.2->finance-datareader) (1.15.0)\n",
            "Requirement already satisfied: chardet<4,>=3.0.2 in /usr/local/lib/python3.7/dist-packages (from requests>=2.3.0->finance-datareader) (3.0.4)\n",
            "Requirement already satisfied: urllib3!=1.25.0,!=1.25.1,<1.26,>=1.21.1 in /usr/local/lib/python3.7/dist-packages (from requests>=2.3.0->finance-datareader) (1.24.3)\n",
            "Requirement already satisfied: certifi>=2017.4.17 in /usr/local/lib/python3.7/dist-packages (from requests>=2.3.0->finance-datareader) (2021.5.30)\n",
            "Requirement already satisfied: idna<3,>=2.5 in /usr/local/lib/python3.7/dist-packages (from requests>=2.3.0->finance-datareader) (2.10)\n"
          ]
        }
      ]
    },
    {
      "cell_type": "code",
      "metadata": {
        "colab": {
          "base_uri": "https://localhost:8080/",
          "height": 419
        },
        "id": "M0EmgRKDqTYI",
        "outputId": "158eb069-6fc3-4a12-8b8f-162dbc15001e"
      },
      "source": [
        "list_name = './Stock_List.csv'\n",
        "stock_list = pd.read_csv(os.path.join(list_name))\n",
        "stock_list['종목코드'] = stock_list['종목코드'].apply(lambda x : str(x).zfill(6))\n",
        "stock_list"
      ],
      "execution_count": 2,
      "outputs": [
        {
          "output_type": "execute_result",
          "data": {
            "text/html": [
              "<div>\n",
              "<style scoped>\n",
              "    .dataframe tbody tr th:only-of-type {\n",
              "        vertical-align: middle;\n",
              "    }\n",
              "\n",
              "    .dataframe tbody tr th {\n",
              "        vertical-align: top;\n",
              "    }\n",
              "\n",
              "    .dataframe thead th {\n",
              "        text-align: right;\n",
              "    }\n",
              "</style>\n",
              "<table border=\"1\" class=\"dataframe\">\n",
              "  <thead>\n",
              "    <tr style=\"text-align: right;\">\n",
              "      <th></th>\n",
              "      <th>종목명</th>\n",
              "      <th>종목코드</th>\n",
              "      <th>상장시장</th>\n",
              "    </tr>\n",
              "  </thead>\n",
              "  <tbody>\n",
              "    <tr>\n",
              "      <th>0</th>\n",
              "      <td>삼성전자</td>\n",
              "      <td>005930</td>\n",
              "      <td>KOSPI</td>\n",
              "    </tr>\n",
              "    <tr>\n",
              "      <th>1</th>\n",
              "      <td>SK하이닉스</td>\n",
              "      <td>000660</td>\n",
              "      <td>KOSPI</td>\n",
              "    </tr>\n",
              "    <tr>\n",
              "      <th>2</th>\n",
              "      <td>NAVER</td>\n",
              "      <td>035420</td>\n",
              "      <td>KOSPI</td>\n",
              "    </tr>\n",
              "    <tr>\n",
              "      <th>3</th>\n",
              "      <td>카카오</td>\n",
              "      <td>035720</td>\n",
              "      <td>KOSPI</td>\n",
              "    </tr>\n",
              "    <tr>\n",
              "      <th>4</th>\n",
              "      <td>삼성바이오로직스</td>\n",
              "      <td>207940</td>\n",
              "      <td>KOSPI</td>\n",
              "    </tr>\n",
              "    <tr>\n",
              "      <th>...</th>\n",
              "      <td>...</td>\n",
              "      <td>...</td>\n",
              "      <td>...</td>\n",
              "    </tr>\n",
              "    <tr>\n",
              "      <th>371</th>\n",
              "      <td>더네이쳐홀딩스</td>\n",
              "      <td>298540</td>\n",
              "      <td>KOSDAQ</td>\n",
              "    </tr>\n",
              "    <tr>\n",
              "      <th>372</th>\n",
              "      <td>코엔텍</td>\n",
              "      <td>029960</td>\n",
              "      <td>KOSDAQ</td>\n",
              "    </tr>\n",
              "    <tr>\n",
              "      <th>373</th>\n",
              "      <td>원익홀딩스</td>\n",
              "      <td>030530</td>\n",
              "      <td>KOSDAQ</td>\n",
              "    </tr>\n",
              "    <tr>\n",
              "      <th>374</th>\n",
              "      <td>웹케시</td>\n",
              "      <td>053580</td>\n",
              "      <td>KOSDAQ</td>\n",
              "    </tr>\n",
              "    <tr>\n",
              "      <th>375</th>\n",
              "      <td>신흥에스이씨</td>\n",
              "      <td>243840</td>\n",
              "      <td>KOSDAQ</td>\n",
              "    </tr>\n",
              "  </tbody>\n",
              "</table>\n",
              "<p>376 rows × 3 columns</p>\n",
              "</div>"
            ],
            "text/plain": [
              "          종목명    종목코드    상장시장\n",
              "0        삼성전자  005930   KOSPI\n",
              "1      SK하이닉스  000660   KOSPI\n",
              "2       NAVER  035420   KOSPI\n",
              "3         카카오  035720   KOSPI\n",
              "4    삼성바이오로직스  207940   KOSPI\n",
              "..        ...     ...     ...\n",
              "371   더네이쳐홀딩스  298540  KOSDAQ\n",
              "372       코엔텍  029960  KOSDAQ\n",
              "373     원익홀딩스  030530  KOSDAQ\n",
              "374       웹케시  053580  KOSDAQ\n",
              "375    신흥에스이씨  243840  KOSDAQ\n",
              "\n",
              "[376 rows x 3 columns]"
            ]
          },
          "metadata": {},
          "execution_count": 2
        }
      ]
    },
    {
      "cell_type": "code",
      "metadata": {
        "colab": {
          "base_uri": "https://localhost:8080/",
          "height": 450
        },
        "id": "fJ4Oz7-cqVZ6",
        "outputId": "cda979d8-c325-47b6-ffe0-2915a5869001"
      },
      "source": [
        "start_date = '20100101'\n",
        "end_date = '20201231'\n",
        "sample_code = '005930'\n",
        "stock = fdr.DataReader(sample_code, start = start_date, end = end_date)\n",
        "stock"
      ],
      "execution_count": 3,
      "outputs": [
        {
          "output_type": "execute_result",
          "data": {
            "text/html": [
              "<div>\n",
              "<style scoped>\n",
              "    .dataframe tbody tr th:only-of-type {\n",
              "        vertical-align: middle;\n",
              "    }\n",
              "\n",
              "    .dataframe tbody tr th {\n",
              "        vertical-align: top;\n",
              "    }\n",
              "\n",
              "    .dataframe thead th {\n",
              "        text-align: right;\n",
              "    }\n",
              "</style>\n",
              "<table border=\"1\" class=\"dataframe\">\n",
              "  <thead>\n",
              "    <tr style=\"text-align: right;\">\n",
              "      <th></th>\n",
              "      <th>Open</th>\n",
              "      <th>High</th>\n",
              "      <th>Low</th>\n",
              "      <th>Close</th>\n",
              "      <th>Volume</th>\n",
              "      <th>Change</th>\n",
              "    </tr>\n",
              "    <tr>\n",
              "      <th>Date</th>\n",
              "      <th></th>\n",
              "      <th></th>\n",
              "      <th></th>\n",
              "      <th></th>\n",
              "      <th></th>\n",
              "      <th></th>\n",
              "    </tr>\n",
              "  </thead>\n",
              "  <tbody>\n",
              "    <tr>\n",
              "      <th>2010-01-04</th>\n",
              "      <td>16060</td>\n",
              "      <td>16180</td>\n",
              "      <td>16000</td>\n",
              "      <td>16180</td>\n",
              "      <td>239271</td>\n",
              "      <td>0.012516</td>\n",
              "    </tr>\n",
              "    <tr>\n",
              "      <th>2010-01-05</th>\n",
              "      <td>16520</td>\n",
              "      <td>16580</td>\n",
              "      <td>16300</td>\n",
              "      <td>16440</td>\n",
              "      <td>559219</td>\n",
              "      <td>0.016069</td>\n",
              "    </tr>\n",
              "    <tr>\n",
              "      <th>2010-01-06</th>\n",
              "      <td>16580</td>\n",
              "      <td>16820</td>\n",
              "      <td>16520</td>\n",
              "      <td>16820</td>\n",
              "      <td>459755</td>\n",
              "      <td>0.023114</td>\n",
              "    </tr>\n",
              "    <tr>\n",
              "      <th>2010-01-07</th>\n",
              "      <td>16820</td>\n",
              "      <td>16820</td>\n",
              "      <td>16260</td>\n",
              "      <td>16260</td>\n",
              "      <td>443237</td>\n",
              "      <td>-0.033294</td>\n",
              "    </tr>\n",
              "    <tr>\n",
              "      <th>2010-01-08</th>\n",
              "      <td>16400</td>\n",
              "      <td>16420</td>\n",
              "      <td>16120</td>\n",
              "      <td>16420</td>\n",
              "      <td>295798</td>\n",
              "      <td>0.009840</td>\n",
              "    </tr>\n",
              "    <tr>\n",
              "      <th>...</th>\n",
              "      <td>...</td>\n",
              "      <td>...</td>\n",
              "      <td>...</td>\n",
              "      <td>...</td>\n",
              "      <td>...</td>\n",
              "      <td>...</td>\n",
              "    </tr>\n",
              "    <tr>\n",
              "      <th>2020-12-23</th>\n",
              "      <td>72400</td>\n",
              "      <td>74000</td>\n",
              "      <td>72300</td>\n",
              "      <td>73900</td>\n",
              "      <td>19411326</td>\n",
              "      <td>0.022130</td>\n",
              "    </tr>\n",
              "    <tr>\n",
              "      <th>2020-12-24</th>\n",
              "      <td>74100</td>\n",
              "      <td>78800</td>\n",
              "      <td>74000</td>\n",
              "      <td>77800</td>\n",
              "      <td>32502870</td>\n",
              "      <td>0.052774</td>\n",
              "    </tr>\n",
              "    <tr>\n",
              "      <th>2020-12-28</th>\n",
              "      <td>79000</td>\n",
              "      <td>80100</td>\n",
              "      <td>78200</td>\n",
              "      <td>78700</td>\n",
              "      <td>40085044</td>\n",
              "      <td>0.011568</td>\n",
              "    </tr>\n",
              "    <tr>\n",
              "      <th>2020-12-29</th>\n",
              "      <td>78800</td>\n",
              "      <td>78900</td>\n",
              "      <td>77300</td>\n",
              "      <td>78300</td>\n",
              "      <td>30339449</td>\n",
              "      <td>-0.005083</td>\n",
              "    </tr>\n",
              "    <tr>\n",
              "      <th>2020-12-30</th>\n",
              "      <td>77400</td>\n",
              "      <td>81300</td>\n",
              "      <td>77300</td>\n",
              "      <td>81000</td>\n",
              "      <td>29417421</td>\n",
              "      <td>0.034483</td>\n",
              "    </tr>\n",
              "  </tbody>\n",
              "</table>\n",
              "<p>2714 rows × 6 columns</p>\n",
              "</div>"
            ],
            "text/plain": [
              "             Open   High    Low  Close    Volume    Change\n",
              "Date                                                      \n",
              "2010-01-04  16060  16180  16000  16180    239271  0.012516\n",
              "2010-01-05  16520  16580  16300  16440    559219  0.016069\n",
              "2010-01-06  16580  16820  16520  16820    459755  0.023114\n",
              "2010-01-07  16820  16820  16260  16260    443237 -0.033294\n",
              "2010-01-08  16400  16420  16120  16420    295798  0.009840\n",
              "...           ...    ...    ...    ...       ...       ...\n",
              "2020-12-23  72400  74000  72300  73900  19411326  0.022130\n",
              "2020-12-24  74100  78800  74000  77800  32502870  0.052774\n",
              "2020-12-28  79000  80100  78200  78700  40085044  0.011568\n",
              "2020-12-29  78800  78900  77300  78300  30339449 -0.005083\n",
              "2020-12-30  77400  81300  77300  81000  29417421  0.034483\n",
              "\n",
              "[2714 rows x 6 columns]"
            ]
          },
          "metadata": {},
          "execution_count": 3
        }
      ]
    },
    {
      "cell_type": "code",
      "metadata": {
        "id": "nBvTi7ssqy81"
      },
      "source": [
        "scaler = MinMaxScaler()"
      ],
      "execution_count": 4,
      "outputs": []
    },
    {
      "cell_type": "code",
      "metadata": {
        "id": "ck-S2XCeggaZ"
      },
      "source": [
        "scale_cols = ['Open', 'High', 'Low', 'Close', 'Volume']"
      ],
      "execution_count": 5,
      "outputs": []
    },
    {
      "cell_type": "code",
      "metadata": {
        "colab": {
          "base_uri": "https://localhost:8080/"
        },
        "id": "i34mT3_tgkew",
        "outputId": "6b82d879-b7f8-4a1c-a902-e634c262d9ab"
      },
      "source": [
        "scaled = scaler.fit_transform(stock[scale_cols])\n",
        "scaled"
      ],
      "execution_count": 6,
      "outputs": [
        {
          "output_type": "execute_result",
          "data": {
            "text/plain": [
              "array([[0.20329114, 0.19901599, 0.20460358, 0.03827893, 0.00376857],\n",
              "       [0.20911392, 0.20393604, 0.2084399 , 0.0421365 , 0.00880783],\n",
              "       [0.20987342, 0.20688807, 0.2112532 , 0.04777448, 0.00724125],\n",
              "       ...,\n",
              "       [1.        , 0.98523985, 1.        , 0.96587537, 0.63134893],\n",
              "       [0.99746835, 0.9704797 , 0.98849105, 0.95994065, 0.47785351],\n",
              "       [0.97974684, 1.        , 0.98849105, 1.        , 0.46333135]])"
            ]
          },
          "metadata": {},
          "execution_count": 6
        }
      ]
    },
    {
      "cell_type": "code",
      "metadata": {
        "id": "nR3fGo6tg0CA"
      },
      "source": [
        "df = pd.DataFrame(scaled, columns=scale_cols)"
      ],
      "execution_count": 7,
      "outputs": []
    },
    {
      "cell_type": "code",
      "metadata": {
        "id": "uqic_mnxg8PZ"
      },
      "source": [
        "x_train, x_test, y_train, y_test = train_test_split(df.drop('Close', 1), df['Close'], test_size=0.2, random_state=0, shuffle=False)"
      ],
      "execution_count": 8,
      "outputs": []
    },
    {
      "cell_type": "code",
      "metadata": {
        "colab": {
          "base_uri": "https://localhost:8080/"
        },
        "id": "nz2QRQogp0lG",
        "outputId": "5bbd6581-efe3-423d-9de2-3c33e9aa5eb2"
      },
      "source": [
        "x_train.shape, y_train.shape, x_test.shape, y_test.shape"
      ],
      "execution_count": 9,
      "outputs": [
        {
          "output_type": "execute_result",
          "data": {
            "text/plain": [
              "((2171, 4), (2171,), (543, 4), (543,))"
            ]
          },
          "metadata": {},
          "execution_count": 9
        }
      ]
    },
    {
      "cell_type": "code",
      "metadata": {
        "id": "n0BppmEfqY9l"
      },
      "source": [
        "def windowed_dataset(series, window_size, batch_size, shuffle):\n",
        "    series = tf.expand_dims(series, axis=-1)\n",
        "    ds = tf.data.Dataset.from_tensor_slices(series)\n",
        "    ds = ds.window(window_size + 1, shift=1, drop_remainder=True)\n",
        "    ds = ds.flat_map(lambda w: w.batch(window_size + 1))\n",
        "    if shuffle:\n",
        "        ds = ds.shuffle(1000)\n",
        "    ds = ds.map(lambda w: (w[:-1], w[-1]))\n",
        "    return ds.batch(batch_size).prefetch(1)"
      ],
      "execution_count": 10,
      "outputs": []
    },
    {
      "cell_type": "code",
      "metadata": {
        "id": "fJiIEjgXreit"
      },
      "source": [
        "WINDOW_SIZE=20\n",
        "BATCH_SIZE=32"
      ],
      "execution_count": 11,
      "outputs": []
    },
    {
      "cell_type": "code",
      "metadata": {
        "id": "oUPPxsgHBO4x"
      },
      "source": [
        "train_data = windowed_dataset(y_train, WINDOW_SIZE, BATCH_SIZE, True)\n",
        "test_data = windowed_dataset(y_test, WINDOW_SIZE, BATCH_SIZE, False)"
      ],
      "execution_count": 12,
      "outputs": []
    },
    {
      "cell_type": "code",
      "metadata": {
        "colab": {
          "base_uri": "https://localhost:8080/"
        },
        "id": "THkrX8mbBQWZ",
        "outputId": "cee02083-0dc9-4573-b36e-0e71356717cf"
      },
      "source": [
        "for data in train_data.take(1):\n",
        "    print(f'데이터셋(X) 구성(batch_size, window_size, feature갯수): {data[0].shape}')\n",
        "    print(f'데이터셋(Y) 구성(batch_size, window_size, feature갯수): {data[1].shape}')"
      ],
      "execution_count": 13,
      "outputs": [
        {
          "output_type": "stream",
          "name": "stdout",
          "text": [
            "데이터셋(X) 구성(batch_size, window_size, feature갯수): (32, 20, 1)\n",
            "데이터셋(Y) 구성(batch_size, window_size, feature갯수): (32, 1)\n"
          ]
        }
      ]
    },
    {
      "cell_type": "code",
      "metadata": {
        "id": "QWEX5ha6BR8J"
      },
      "source": [
        "from tensorflow.keras.models import Sequential\n",
        "from tensorflow.keras.layers import Dense, LSTM, Conv1D, Lambda\n",
        "from tensorflow.keras.losses import Huber\n",
        "from tensorflow.keras.optimizers import Adam\n",
        "from tensorflow.keras.callbacks import EarlyStopping, ModelCheckpoint\n",
        "\n",
        "\n",
        "model = Sequential([\n",
        "    # 1차원 feature map 생성\n",
        "    Conv1D(filters=32, kernel_size=5,\n",
        "           padding=\"causal\",\n",
        "           activation=\"relu\",\n",
        "           input_shape=[WINDOW_SIZE, 1]),\n",
        "    # LSTM\n",
        "    LSTM(16, activation='tanh'),\n",
        "    Dense(16, activation=\"relu\"),\n",
        "    Dense(1),\n",
        "])"
      ],
      "execution_count": 14,
      "outputs": []
    },
    {
      "cell_type": "code",
      "metadata": {
        "id": "pnhtGKdWBUyR"
      },
      "source": [
        "loss = Huber()\n",
        "optimizer = Adam(0.0005)\n",
        "model.compile(loss=Huber(), optimizer=optimizer, metrics=['mse'])"
      ],
      "execution_count": 15,
      "outputs": []
    },
    {
      "cell_type": "code",
      "metadata": {
        "id": "QAmDqI80BWNp"
      },
      "source": [
        "earlystopping = EarlyStopping(monitor='val_loss', patience=10)\n",
        "filename = os.path.join('tmp', 'ckeckpointer.ckpt')\n",
        "checkpoint = ModelCheckpoint(filename, \n",
        "                             save_weights_only=True, \n",
        "                             save_best_only=True, \n",
        "                             monitor='val_loss', \n",
        "                             verbose=1)"
      ],
      "execution_count": 16,
      "outputs": []
    },
    {
      "cell_type": "code",
      "metadata": {
        "colab": {
          "base_uri": "https://localhost:8080/"
        },
        "id": "Os6VBGuIBXx5",
        "outputId": "48c3c381-87bc-410b-8f08-4590b8bbe0ec"
      },
      "source": [
        "history = model.fit(train_data, \n",
        "                    validation_data=(test_data), \n",
        "                    epochs=30, \n",
        "                    callbacks=[checkpoint, earlystopping])"
      ],
      "execution_count": 17,
      "outputs": [
        {
          "output_type": "stream",
          "name": "stdout",
          "text": [
            "Epoch 1/30\n",
            "68/68 [==============================] - 4s 19ms/step - loss: 0.0082 - mse: 0.0165 - val_loss: 0.0049 - val_mse: 0.0098\n",
            "\n",
            "Epoch 00001: val_loss improved from inf to 0.00488, saving model to tmp/ckeckpointer.ckpt\n",
            "Epoch 2/30\n",
            "68/68 [==============================] - 1s 11ms/step - loss: 4.7359e-04 - mse: 9.4718e-04 - val_loss: 7.1330e-04 - val_mse: 0.0014\n",
            "\n",
            "Epoch 00002: val_loss improved from 0.00488 to 0.00071, saving model to tmp/ckeckpointer.ckpt\n",
            "Epoch 3/30\n",
            "68/68 [==============================] - 1s 12ms/step - loss: 1.1397e-04 - mse: 2.2794e-04 - val_loss: 8.5658e-04 - val_mse: 0.0017\n",
            "\n",
            "Epoch 00003: val_loss did not improve from 0.00071\n",
            "Epoch 4/30\n",
            "68/68 [==============================] - 1s 13ms/step - loss: 1.0270e-04 - mse: 2.0540e-04 - val_loss: 7.2426e-04 - val_mse: 0.0014\n",
            "\n",
            "Epoch 00004: val_loss did not improve from 0.00071\n",
            "Epoch 5/30\n",
            "68/68 [==============================] - 1s 12ms/step - loss: 9.7458e-05 - mse: 1.9492e-04 - val_loss: 8.2735e-04 - val_mse: 0.0017\n",
            "\n",
            "Epoch 00005: val_loss did not improve from 0.00071\n",
            "Epoch 6/30\n",
            "68/68 [==============================] - 1s 12ms/step - loss: 1.0152e-04 - mse: 2.0305e-04 - val_loss: 7.3240e-04 - val_mse: 0.0015\n",
            "\n",
            "Epoch 00006: val_loss did not improve from 0.00071\n",
            "Epoch 7/30\n",
            "68/68 [==============================] - 1s 12ms/step - loss: 9.6880e-05 - mse: 1.9376e-04 - val_loss: 8.1125e-04 - val_mse: 0.0016\n",
            "\n",
            "Epoch 00007: val_loss did not improve from 0.00071\n",
            "Epoch 8/30\n",
            "68/68 [==============================] - 1s 12ms/step - loss: 9.7261e-05 - mse: 1.9452e-04 - val_loss: 6.3148e-04 - val_mse: 0.0013\n",
            "\n",
            "Epoch 00008: val_loss improved from 0.00071 to 0.00063, saving model to tmp/ckeckpointer.ckpt\n",
            "Epoch 9/30\n",
            "68/68 [==============================] - 1s 11ms/step - loss: 9.4778e-05 - mse: 1.8956e-04 - val_loss: 6.5929e-04 - val_mse: 0.0013\n",
            "\n",
            "Epoch 00009: val_loss did not improve from 0.00063\n",
            "Epoch 10/30\n",
            "68/68 [==============================] - 1s 12ms/step - loss: 9.4064e-05 - mse: 1.8813e-04 - val_loss: 6.8591e-04 - val_mse: 0.0014\n",
            "\n",
            "Epoch 00010: val_loss did not improve from 0.00063\n",
            "Epoch 11/30\n",
            "68/68 [==============================] - 1s 11ms/step - loss: 9.3176e-05 - mse: 1.8635e-04 - val_loss: 6.6999e-04 - val_mse: 0.0013\n",
            "\n",
            "Epoch 00011: val_loss did not improve from 0.00063\n",
            "Epoch 12/30\n",
            "68/68 [==============================] - 1s 12ms/step - loss: 9.2210e-05 - mse: 1.8442e-04 - val_loss: 6.2010e-04 - val_mse: 0.0012\n",
            "\n",
            "Epoch 00012: val_loss improved from 0.00063 to 0.00062, saving model to tmp/ckeckpointer.ckpt\n",
            "Epoch 13/30\n",
            "68/68 [==============================] - 1s 12ms/step - loss: 9.2767e-05 - mse: 1.8553e-04 - val_loss: 6.2513e-04 - val_mse: 0.0013\n",
            "\n",
            "Epoch 00013: val_loss did not improve from 0.00062\n",
            "Epoch 14/30\n",
            "68/68 [==============================] - 1s 12ms/step - loss: 9.1320e-05 - mse: 1.8264e-04 - val_loss: 6.4496e-04 - val_mse: 0.0013\n",
            "\n",
            "Epoch 00014: val_loss did not improve from 0.00062\n",
            "Epoch 15/30\n",
            "68/68 [==============================] - 1s 12ms/step - loss: 8.6984e-05 - mse: 1.7397e-04 - val_loss: 5.6749e-04 - val_mse: 0.0011\n",
            "\n",
            "Epoch 00015: val_loss improved from 0.00062 to 0.00057, saving model to tmp/ckeckpointer.ckpt\n",
            "Epoch 16/30\n",
            "68/68 [==============================] - 1s 12ms/step - loss: 8.6732e-05 - mse: 1.7346e-04 - val_loss: 5.5298e-04 - val_mse: 0.0011\n",
            "\n",
            "Epoch 00016: val_loss improved from 0.00057 to 0.00055, saving model to tmp/ckeckpointer.ckpt\n",
            "Epoch 17/30\n",
            "68/68 [==============================] - 1s 12ms/step - loss: 9.1604e-05 - mse: 1.8321e-04 - val_loss: 5.2897e-04 - val_mse: 0.0011\n",
            "\n",
            "Epoch 00017: val_loss improved from 0.00055 to 0.00053, saving model to tmp/ckeckpointer.ckpt\n",
            "Epoch 18/30\n",
            "68/68 [==============================] - 1s 12ms/step - loss: 8.2772e-05 - mse: 1.6554e-04 - val_loss: 5.0466e-04 - val_mse: 0.0010\n",
            "\n",
            "Epoch 00018: val_loss improved from 0.00053 to 0.00050, saving model to tmp/ckeckpointer.ckpt\n",
            "Epoch 19/30\n",
            "68/68 [==============================] - 1s 12ms/step - loss: 8.2921e-05 - mse: 1.6584e-04 - val_loss: 5.9295e-04 - val_mse: 0.0012\n",
            "\n",
            "Epoch 00019: val_loss did not improve from 0.00050\n",
            "Epoch 20/30\n",
            "68/68 [==============================] - 1s 12ms/step - loss: 7.9697e-05 - mse: 1.5939e-04 - val_loss: 5.9434e-04 - val_mse: 0.0012\n",
            "\n",
            "Epoch 00020: val_loss did not improve from 0.00050\n",
            "Epoch 21/30\n",
            "68/68 [==============================] - 1s 12ms/step - loss: 7.7584e-05 - mse: 1.5517e-04 - val_loss: 5.3026e-04 - val_mse: 0.0011\n",
            "\n",
            "Epoch 00021: val_loss did not improve from 0.00050\n",
            "Epoch 22/30\n",
            "68/68 [==============================] - 1s 11ms/step - loss: 7.8439e-05 - mse: 1.5688e-04 - val_loss: 5.8406e-04 - val_mse: 0.0012\n",
            "\n",
            "Epoch 00022: val_loss did not improve from 0.00050\n",
            "Epoch 23/30\n",
            "68/68 [==============================] - 1s 12ms/step - loss: 7.6048e-05 - mse: 1.5210e-04 - val_loss: 4.6091e-04 - val_mse: 9.2181e-04\n",
            "\n",
            "Epoch 00023: val_loss improved from 0.00050 to 0.00046, saving model to tmp/ckeckpointer.ckpt\n",
            "Epoch 24/30\n",
            "68/68 [==============================] - 1s 12ms/step - loss: 7.6278e-05 - mse: 1.5256e-04 - val_loss: 4.3537e-04 - val_mse: 8.7074e-04\n",
            "\n",
            "Epoch 00024: val_loss improved from 0.00046 to 0.00044, saving model to tmp/ckeckpointer.ckpt\n",
            "Epoch 25/30\n",
            "68/68 [==============================] - 1s 12ms/step - loss: 7.5938e-05 - mse: 1.5188e-04 - val_loss: 4.6709e-04 - val_mse: 9.3417e-04\n",
            "\n",
            "Epoch 00025: val_loss did not improve from 0.00044\n",
            "Epoch 26/30\n",
            "68/68 [==============================] - 1s 12ms/step - loss: 6.9882e-05 - mse: 1.3976e-04 - val_loss: 4.8209e-04 - val_mse: 9.6419e-04\n",
            "\n",
            "Epoch 00026: val_loss did not improve from 0.00044\n",
            "Epoch 27/30\n",
            "68/68 [==============================] - 1s 12ms/step - loss: 7.0573e-05 - mse: 1.4115e-04 - val_loss: 4.0207e-04 - val_mse: 8.0414e-04\n",
            "\n",
            "Epoch 00027: val_loss improved from 0.00044 to 0.00040, saving model to tmp/ckeckpointer.ckpt\n",
            "Epoch 28/30\n",
            "68/68 [==============================] - 1s 12ms/step - loss: 7.3253e-05 - mse: 1.4651e-04 - val_loss: 3.8892e-04 - val_mse: 7.7784e-04\n",
            "\n",
            "Epoch 00028: val_loss improved from 0.00040 to 0.00039, saving model to tmp/ckeckpointer.ckpt\n",
            "Epoch 29/30\n",
            "68/68 [==============================] - 1s 11ms/step - loss: 6.9016e-05 - mse: 1.3803e-04 - val_loss: 4.3648e-04 - val_mse: 8.7295e-04\n",
            "\n",
            "Epoch 00029: val_loss did not improve from 0.00039\n",
            "Epoch 30/30\n",
            "68/68 [==============================] - 1s 12ms/step - loss: 6.8795e-05 - mse: 1.3759e-04 - val_loss: 4.2955e-04 - val_mse: 8.5911e-04\n",
            "\n",
            "Epoch 00030: val_loss did not improve from 0.00039\n"
          ]
        }
      ]
    },
    {
      "cell_type": "code",
      "metadata": {
        "colab": {
          "base_uri": "https://localhost:8080/"
        },
        "id": "QeMk91dRBZEh",
        "outputId": "43782986-cb4a-49fe-9437-b6a7f77b0a94"
      },
      "source": [
        "model.load_weights(filename)"
      ],
      "execution_count": 18,
      "outputs": [
        {
          "output_type": "execute_result",
          "data": {
            "text/plain": [
              "<tensorflow.python.training.tracking.util.CheckpointLoadStatus at 0x7f201c459150>"
            ]
          },
          "metadata": {},
          "execution_count": 18
        }
      ]
    },
    {
      "cell_type": "code",
      "metadata": {
        "id": "KG1u4GL2BeGJ"
      },
      "source": [
        "pred = model.predict(test_data)"
      ],
      "execution_count": 19,
      "outputs": []
    },
    {
      "cell_type": "code",
      "metadata": {
        "colab": {
          "base_uri": "https://localhost:8080/"
        },
        "id": "ZwB-DmuSBfia",
        "outputId": "c8155c13-751e-4d34-d693-cb095ddb6a1c"
      },
      "source": [
        "pred.shape"
      ],
      "execution_count": 20,
      "outputs": [
        {
          "output_type": "execute_result",
          "data": {
            "text/plain": [
              "(523, 1)"
            ]
          },
          "metadata": {},
          "execution_count": 20
        }
      ]
    },
    {
      "cell_type": "code",
      "metadata": {
        "colab": {
          "base_uri": "https://localhost:8080/",
          "height": 537
        },
        "id": "YQJy7ajOBgzh",
        "outputId": "02dbbc31-f22d-4a5a-cd8c-6407014fdb84"
      },
      "source": [
        "import matplotlib.pyplot as plt\n",
        "plt.figure(figsize=(12, 9))\n",
        "plt.plot(np.asarray(y_test)[20:], label='actual')\n",
        "plt.plot(pred, label='prediction')\n",
        "plt.legend()\n",
        "plt.show()"
      ],
      "execution_count": 21,
      "outputs": [
        {
          "output_type": "display_data",
          "data": {
            "image/png": "[encoded data removed]",
            "text/plain": [
              "<Figure size 864x648 with 1 Axes>"
            ]
          },
          "metadata": {
            "needs_background": "light"
          }
        }
      ]
    },
    {
      "cell_type": "code",
      "metadata": {
        "id": "d-ww6k5PBiVB"
      },
      "source": [
        ""
      ],
      "execution_count": 21,
      "outputs": []
    }
  ]
}